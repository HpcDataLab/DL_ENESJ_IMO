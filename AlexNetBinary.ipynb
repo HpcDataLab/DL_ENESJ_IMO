{
 "cells": [
  {
   "cell_type": "markdown",
   "id": "15dcfda4",
   "metadata": {},
   "source": [
    "# AlexNet implementation (with PyTorch)\n",
    "Model from: https://pytorch.org/hub/pytorch_vision_alexnet/\n",
    "\n",
    "Training loop from: https://kushaj.medium.com/training-alexnet-with-tips-and-checks-on-how-to-train-cnns-practical-cnns-in-pytorch-1-61daa679c74a"
   ]
  },
  {
   "cell_type": "markdown",
   "id": "da2e53bd",
   "metadata": {},
   "source": [
    "## Import required modules"
   ]
  },
  {
   "cell_type": "code",
   "execution_count": 248,
   "id": "25939272",
   "metadata": {},
   "outputs": [
    {
     "name": "stdout",
     "output_type": "stream",
     "text": [
      "cpu\n"
     ]
    }
   ],
   "source": [
    "import torch\n",
    "from torch import nn, optim\n",
    "from copy import deepcopy\n",
    "from PIL import Image\n",
    "from torchvision import transforms\n",
    "from torchvision.io import read_image\n",
    "import time\n",
    "import os\n",
    "\n",
    "device = torch.device('cuda' if torch.cuda.is_available() else 'cpu')\n",
    "print(device)\n",
    "netsPath = '../nets/'"
   ]
  },
  {
   "cell_type": "code",
   "execution_count": 219,
   "id": "e467ecf1",
   "metadata": {},
   "outputs": [],
   "source": [
    "import random\n",
    "random.seed(1234) # reproducibility seed"
   ]
  },
  {
   "cell_type": "markdown",
   "id": "8cdfe337",
   "metadata": {},
   "source": [
    "## Get model"
   ]
  },
  {
   "cell_type": "markdown",
   "id": "ffe49a12",
   "metadata": {},
   "source": [
    "### Get pretrained model from source"
   ]
  },
  {
   "cell_type": "code",
   "execution_count": 220,
   "id": "e451b6ec",
   "metadata": {},
   "outputs": [
    {
     "data": {
      "text/plain": [
       "AlexNet(\n",
       "  (features): Sequential(\n",
       "    (0): Conv2d(3, 64, kernel_size=(11, 11), stride=(4, 4), padding=(2, 2))\n",
       "    (1): ReLU(inplace=True)\n",
       "    (2): MaxPool2d(kernel_size=3, stride=2, padding=0, dilation=1, ceil_mode=False)\n",
       "    (3): Conv2d(64, 192, kernel_size=(5, 5), stride=(1, 1), padding=(2, 2))\n",
       "    (4): ReLU(inplace=True)\n",
       "    (5): MaxPool2d(kernel_size=3, stride=2, padding=0, dilation=1, ceil_mode=False)\n",
       "    (6): Conv2d(192, 384, kernel_size=(3, 3), stride=(1, 1), padding=(1, 1))\n",
       "    (7): ReLU(inplace=True)\n",
       "    (8): Conv2d(384, 256, kernel_size=(3, 3), stride=(1, 1), padding=(1, 1))\n",
       "    (9): ReLU(inplace=True)\n",
       "    (10): Conv2d(256, 256, kernel_size=(3, 3), stride=(1, 1), padding=(1, 1))\n",
       "    (11): ReLU(inplace=True)\n",
       "    (12): MaxPool2d(kernel_size=3, stride=2, padding=0, dilation=1, ceil_mode=False)\n",
       "  )\n",
       "  (avgpool): AdaptiveAvgPool2d(output_size=(6, 6))\n",
       "  (classifier): Sequential(\n",
       "    (0): Dropout(p=0.5, inplace=False)\n",
       "    (1): Linear(in_features=9216, out_features=4096, bias=True)\n",
       "    (2): ReLU(inplace=True)\n",
       "    (3): Dropout(p=0.5, inplace=False)\n",
       "    (4): Linear(in_features=4096, out_features=4096, bias=True)\n",
       "    (5): ReLU(inplace=True)\n",
       "    (6): Linear(in_features=4096, out_features=1000, bias=True)\n",
       "  )\n",
       ")"
      ]
     },
     "execution_count": 220,
     "metadata": {},
     "output_type": "execute_result"
    }
   ],
   "source": [
    "alexnet = torch.load(netsPath + \"Alexnet_preTrained.pth\")\n",
    "alexnet.eval()"
   ]
  },
  {
   "cell_type": "markdown",
   "id": "1031d94a",
   "metadata": {},
   "source": [
    "## Data transformation"
   ]
  },
  {
   "cell_type": "markdown",
   "id": "33d04866",
   "metadata": {},
   "source": [
    "Set number of classifications labels"
   ]
  },
  {
   "cell_type": "code",
   "execution_count": 221,
   "id": "c67f2d10",
   "metadata": {},
   "outputs": [],
   "source": [
    "labels_list = [\"DME\", \"NORMAL\"]\n",
    "num_labels = len(labels_list)"
   ]
  },
  {
   "cell_type": "code",
   "execution_count": 222,
   "id": "6961ecf3",
   "metadata": {},
   "outputs": [],
   "source": [
    "data_dir = '/volume/OCT/OCT2017/'\n",
    "sets = [\"train\", \"val\", \"test\"]"
   ]
  },
  {
   "cell_type": "code",
   "execution_count": 223,
   "id": "97d33f51",
   "metadata": {},
   "outputs": [],
   "source": [
    "import torchvision.transforms as transforms\n",
    "\n",
    "size = 224 # given by alexnet\n",
    "\n",
    "transform = transforms.Compose([\n",
    "        transforms.Resize((size, size)),\n",
    "        transforms.RandomHorizontalFlip(),\n",
    "        transforms.ToTensor(),\n",
    "        transforms.Normalize(mean=[0.485, 0.456, 0.406], std=[0.229, 0.224, 0.225]),\n",
    "    ])"
   ]
  },
  {
   "cell_type": "code",
   "execution_count": 277,
   "id": "08c60dc5",
   "metadata": {},
   "outputs": [],
   "source": [
    "# Load image form given path and convert into RGB mode\n",
    "def imageToTensor(path, transform=None):\n",
    "    im = read_image(path)\n",
    "    if im.mode != \"RGB\":\n",
    "        im = im.convert(\"RGB\")\n",
    "    if transform:\n",
    "        im = transform(im)\n",
    "    else:\n",
    "        im = transforms.ToTensor()(im)\n",
    "    return im\n",
    "\n",
    "# Load images from path for given labels and apply given transform and split into batches\n",
    "def loadDataset(data_dir, set_name, labels, transform=None, batch_size=None):\n",
    "    images_data = tuple(); labels_data = tuple();\n",
    "    # Load data for each given label\n",
    "    for lab in range(len(labels)):\n",
    "        path = f\"{data_dir}{set_name}/{labels[lab]}/\"\n",
    "        imgs = [imageToTensor(loadImage(f\"{path}/{ima}\")) for ima in os.listdir(path)]\n",
    "        labs = (lab) * len(imgs)\n",
    "        images_data.extend(imgs)\n",
    "        labels_data.extend(labs)\n",
    "    # Split into batches if desired\n",
    "    if batch_size:\n",
    "        ims_size = len(images_data);\n",
    "        data_batches = tuple();\n",
    "        # Split into batches and add batch_size images into each\n",
    "        for batch in range(0, ims_size, batch_size):\n",
    "            data_batches.append((images_data[batch:batch + batch_size], torch.tensor(labels_data[batch:batch + batch_size]))) # each batch have imgs and labels\n",
    "        return data_batches\n",
    "    return images_data, torch.tensor(labels_data)"
   ]
  },
  {
   "cell_type": "code",
   "execution_count": 276,
   "id": "5c091a3e",
   "metadata": {},
   "outputs": [
    {
     "name": "stderr",
     "output_type": "stream",
     "text": [
      "<ipython-input-276-35eb7a3c6fb3>:3: UserWarning: To copy construct from a tensor, it is recommended to use sourceTensor.clone().detach() or sourceTensor.clone().detach().requires_grad_(True), rather than torch.tensor(sourceTensor).\n",
      "  nTen = torch.tensor(tens)\n"
     ]
    },
    {
     "data": {
      "text/plain": [
       "torch.Size([6, 496, 512])"
      ]
     },
     "execution_count": 276,
     "metadata": {},
     "output_type": "execute_result"
    }
   ],
   "source": [
    "#os.listdir(f\"{data_dir}/val/NORMAL\")\n",
    "tens = imageToTensor(f\"{data_dir}/val/NORMAL/NORMAL-4872585-1.jpeg\")"
   ]
  },
  {
   "cell_type": "markdown",
   "id": "f85d80fd",
   "metadata": {},
   "source": [
    "#### Create train and test sets"
   ]
  },
  {
   "cell_type": "code",
   "execution_count": 266,
   "id": "d4b78fc8",
   "metadata": {},
   "outputs": [
    {
     "ename": "TypeError",
     "evalue": "object of type 'generator' has no len()",
     "output_type": "error",
     "traceback": [
      "\u001b[0;31m---------------------------------------------------------------------------\u001b[0m",
      "\u001b[0;31mTypeError\u001b[0m                                 Traceback (most recent call last)",
      "\u001b[0;32m<ipython-input-266-6c5703eec361>\u001b[0m in \u001b[0;36m<module>\u001b[0;34m\u001b[0m\n\u001b[1;32m      2\u001b[0m \u001b[0;34m\u001b[0m\u001b[0m\n\u001b[1;32m      3\u001b[0m \u001b[0;31m#trnX, trnY = loadDataset(data_dir, \"train\", labels_list, transform)\u001b[0m\u001b[0;34m\u001b[0m\u001b[0;34m\u001b[0m\u001b[0;34m\u001b[0m\u001b[0m\n\u001b[0;32m----> 4\u001b[0;31m \u001b[0mvalBatch\u001b[0m \u001b[0;34m=\u001b[0m \u001b[0mloadDataset\u001b[0m\u001b[0;34m(\u001b[0m\u001b[0mdata_dir\u001b[0m\u001b[0;34m,\u001b[0m \u001b[0;34m\"val\"\u001b[0m\u001b[0;34m,\u001b[0m \u001b[0mlabels_list\u001b[0m\u001b[0;34m,\u001b[0m \u001b[0mtransform\u001b[0m\u001b[0;34m,\u001b[0m \u001b[0mbatch_size\u001b[0m\u001b[0;34m=\u001b[0m\u001b[0;36m4\u001b[0m\u001b[0;34m)\u001b[0m\u001b[0;34m\u001b[0m\u001b[0;34m\u001b[0m\u001b[0m\n\u001b[0m\u001b[1;32m      5\u001b[0m \u001b[0;31m#tstX, tstY = loadDataset(data_dir, \"test\", labels_list, transform, batch_size)\u001b[0m\u001b[0;34m\u001b[0m\u001b[0;34m\u001b[0m\u001b[0;34m\u001b[0m\u001b[0m\n",
      "\u001b[0;32m<ipython-input-264-2ca7825c6c48>\u001b[0m in \u001b[0;36mloadDataset\u001b[0;34m(data_dir, set_name, labels, transform, batch_size)\u001b[0m\n\u001b[1;32m     17\u001b[0m         \u001b[0mpath\u001b[0m \u001b[0;34m=\u001b[0m \u001b[0;34mf\"{data_dir}{set_name}/{labels[lab]}/\"\u001b[0m\u001b[0;34m\u001b[0m\u001b[0;34m\u001b[0m\u001b[0m\n\u001b[1;32m     18\u001b[0m         \u001b[0mimgs\u001b[0m \u001b[0;34m=\u001b[0m \u001b[0;34m(\u001b[0m\u001b[0mimageToTensor\u001b[0m\u001b[0;34m(\u001b[0m\u001b[0mloadImage\u001b[0m\u001b[0;34m(\u001b[0m\u001b[0;34mf\"{path}/{ima}\"\u001b[0m\u001b[0;34m)\u001b[0m\u001b[0;34m)\u001b[0m \u001b[0;32mfor\u001b[0m \u001b[0mima\u001b[0m \u001b[0;32min\u001b[0m \u001b[0mos\u001b[0m\u001b[0;34m.\u001b[0m\u001b[0mlistdir\u001b[0m\u001b[0;34m(\u001b[0m\u001b[0mpath\u001b[0m\u001b[0;34m)\u001b[0m\u001b[0;34m)\u001b[0m\u001b[0;34m\u001b[0m\u001b[0;34m\u001b[0m\u001b[0m\n\u001b[0;32m---> 19\u001b[0;31m         \u001b[0mlabs\u001b[0m \u001b[0;34m=\u001b[0m \u001b[0;34m(\u001b[0m\u001b[0mlab\u001b[0m\u001b[0;34m)\u001b[0m \u001b[0;34m*\u001b[0m \u001b[0mlen\u001b[0m\u001b[0;34m(\u001b[0m\u001b[0mimgs\u001b[0m\u001b[0;34m)\u001b[0m\u001b[0;34m\u001b[0m\u001b[0;34m\u001b[0m\u001b[0m\n\u001b[0m\u001b[1;32m     20\u001b[0m         \u001b[0mimages_data\u001b[0m\u001b[0;34m.\u001b[0m\u001b[0mextend\u001b[0m\u001b[0;34m(\u001b[0m\u001b[0mimgs\u001b[0m\u001b[0;34m)\u001b[0m\u001b[0;34m\u001b[0m\u001b[0;34m\u001b[0m\u001b[0m\n\u001b[1;32m     21\u001b[0m         \u001b[0mlabels_data\u001b[0m\u001b[0;34m.\u001b[0m\u001b[0mextend\u001b[0m\u001b[0;34m(\u001b[0m\u001b[0mlabs\u001b[0m\u001b[0;34m)\u001b[0m\u001b[0;34m\u001b[0m\u001b[0;34m\u001b[0m\u001b[0m\n",
      "\u001b[0;31mTypeError\u001b[0m: object of type 'generator' has no len()"
     ]
    }
   ],
   "source": [
    "batch_size = 32 # prefered by alexnet\n",
    "\n",
    "#trnX, trnY = loadDataset(data_dir, \"train\", labels_list, transform)\n",
    "valBatch = loadDataset(data_dir, \"val\", labels_list, transform, batch_size=4)\n",
    "#tstX, tstY = loadDataset(data_dir, \"test\", labels_list, transform, batch_size)"
   ]
  },
  {
   "cell_type": "markdown",
   "id": "d9262d95",
   "metadata": {},
   "source": [
    "Sets shape"
   ]
  },
  {
   "cell_type": "code",
   "execution_count": 226,
   "id": "5d0adbb3",
   "metadata": {},
   "outputs": [
    {
     "name": "stdout",
     "output_type": "stream",
     "text": [
      "Test set size: 16\n",
      "Val set size: 16\n"
     ]
    }
   ],
   "source": [
    "#print(f\"Train set size: {len(trnY)}\")\n",
    "print(f\"Test set size: {len(tstY)}\")\n",
    "print(f\"Val set size: {len(valY)}\")"
   ]
  },
  {
   "cell_type": "code",
   "execution_count": 231,
   "id": "4fe851ec",
   "metadata": {},
   "outputs": [
    {
     "ename": "TypeError",
     "evalue": "unsqueeze(): argument 'input' (position 1) must be Tensor, not list",
     "output_type": "error",
     "traceback": [
      "\u001b[0;31m---------------------------------------------------------------------------\u001b[0m",
      "\u001b[0;31mTypeError\u001b[0m                                 Traceback (most recent call last)",
      "\u001b[0;32m<ipython-input-231-c02acbd05dbe>\u001b[0m in \u001b[0;36m<module>\u001b[0;34m\u001b[0m\n\u001b[1;32m      1\u001b[0m \u001b[0mimoAlexnet\u001b[0m\u001b[0;34m.\u001b[0m\u001b[0meval\u001b[0m\u001b[0;34m(\u001b[0m\u001b[0;34m)\u001b[0m\u001b[0;34m\u001b[0m\u001b[0;34m\u001b[0m\u001b[0m\n\u001b[1;32m      2\u001b[0m \u001b[0minps\u001b[0m \u001b[0;34m=\u001b[0m \u001b[0mvalBatch\u001b[0m\u001b[0;34m[\u001b[0m\u001b[0;36m0\u001b[0m\u001b[0;34m]\u001b[0m\u001b[0;34m[\u001b[0m\u001b[0;36m0\u001b[0m\u001b[0;34m]\u001b[0m\u001b[0;34m\u001b[0m\u001b[0;34m\u001b[0m\u001b[0m\n\u001b[0;32m----> 3\u001b[0;31m \u001b[0minps\u001b[0m \u001b[0;34m=\u001b[0m \u001b[0mtorch\u001b[0m\u001b[0;34m.\u001b[0m\u001b[0munsqueeze\u001b[0m\u001b[0;34m(\u001b[0m\u001b[0minps\u001b[0m\u001b[0;34m,\u001b[0m \u001b[0;36m0\u001b[0m\u001b[0;34m)\u001b[0m\u001b[0;34m\u001b[0m\u001b[0;34m\u001b[0m\u001b[0m\n\u001b[0m\u001b[1;32m      4\u001b[0m \u001b[0minps\u001b[0m\u001b[0;34m\u001b[0m\u001b[0;34m\u001b[0m\u001b[0m\n\u001b[1;32m      5\u001b[0m \u001b[0;31m#inps = torch.cat(inps)\u001b[0m\u001b[0;34m\u001b[0m\u001b[0;34m\u001b[0m\u001b[0;34m\u001b[0m\u001b[0m\n",
      "\u001b[0;31mTypeError\u001b[0m: unsqueeze(): argument 'input' (position 1) must be Tensor, not list"
     ]
    }
   ],
   "source": [
    "imoAlexnet.eval()\n",
    "inps = valBatch[0][0]\n",
    "inps = torch.unsqueeze(inps, 0)\n",
    "inps\n",
    "#inps = torch.cat(inps)\n",
    "#imoAlexnet()"
   ]
  },
  {
   "cell_type": "markdown",
   "id": "26ab29cd",
   "metadata": {},
   "source": [
    "Check labels and images"
   ]
  },
  {
   "cell_type": "code",
   "execution_count": 187,
   "id": "55fcdeeb",
   "metadata": {},
   "outputs": [
    {
     "data": {
      "image/png": "[encoded data removed]",
      "text/plain": [
       "<Figure size 432x288 with 1 Axes>"
      ]
     },
     "metadata": {
      "needs_background": "light"
     },
     "output_type": "display_data"
    }
   ],
   "source": [
    "import numpy as np\n",
    "import matplotlib.pyplot as plt\n",
    "\n",
    "# Our images are normalized so denormalize then and convert them to numpy\n",
    "def imshow(img, title=None):\n",
    "    img = img.numpy().transpose((1, 2, 0))\n",
    "    mean = np.array([0.485, 0.456, 0.406])\n",
    "    std = np.array([0.229, 0.224, 0.225])\n",
    "    img = std*img + mean\n",
    "    img = np.clip(img, 0, 1)\n",
    "    plt.imshow(img)\n",
    "    if title is not None:\n",
    "        plt.title(title)\n",
    "    plt.pause(0.001)\n",
    "    \n",
    "\n",
    "\n",
    "images, labels = valX[-4:], valY[-4:]\n",
    "grid_img = make_grid(images, nrow=4)\n",
    "imshow(grid_img, title = [labels_list[x] for x in labels[-4:]])"
   ]
  },
  {
   "cell_type": "markdown",
   "id": "62d9d73f",
   "metadata": {},
   "source": [
    "## IMO model"
   ]
  },
  {
   "cell_type": "markdown",
   "id": "9b89186c",
   "metadata": {},
   "source": [
    "### Modify architecture"
   ]
  },
  {
   "cell_type": "code",
   "execution_count": 227,
   "id": "86047d5c",
   "metadata": {},
   "outputs": [],
   "source": [
    "def newAlexNet(num_labels):\n",
    "    newAlexnet = deepcopy(alexnet)\n",
    "    lastLayer = newAlexnet.classifier[-1] # get usual last layer\n",
    "    newAlexnet.classifier[-1] = nn.Linear(lastLayer.in_features, num_labels) # modify last layer number of outputs (labels to be classified)\n",
    "    return newAlexnet\n",
    "\n",
    "imoAlexnet = newAlexNet(num_labels)"
   ]
  },
  {
   "cell_type": "markdown",
   "id": "6bf0aa43",
   "metadata": {},
   "source": [
    "### Set hiperparameters"
   ]
  },
  {
   "cell_type": "code",
   "execution_count": 199,
   "id": "4ed59422",
   "metadata": {},
   "outputs": [],
   "source": [
    "learning_rate = 0.001\n",
    "momentum = 0.9\n",
    "epochs = 3"
   ]
  },
  {
   "cell_type": "markdown",
   "id": "6eb57524",
   "metadata": {},
   "source": [
    "### Loss function, optimizer and scheduler"
   ]
  },
  {
   "cell_type": "code",
   "execution_count": 200,
   "id": "78d626d5",
   "metadata": {},
   "outputs": [],
   "source": [
    "loss_fn = nn.CrossEntropyLoss()\n",
    "optimizer = optim.SGD(limoAlexnet.parameters(), lr=learning_rate, momentum=momentum)\n",
    "scheduler = optim.lr_scheduler.ReduceLROnPlateau(optimizer, 'min', verbose=True)"
   ]
  },
  {
   "cell_type": "markdown",
   "id": "0b42d0e3",
   "metadata": {},
   "source": [
    "### Train loop"
   ]
  },
  {
   "cell_type": "code",
   "execution_count": 212,
   "id": "763db441",
   "metadata": {},
   "outputs": [],
   "source": [
    "def train(model, data, criterion, optimizer, scheduler = None, num_epochs=100, seed=None):\n",
    "    n_batches = len(data[\"train\"])\n",
    "    if epochs > n_batches:\n",
    "        raise ValueError(\"Epochs greater than number of batches.\")\n",
    "    \n",
    "    data_len = sum([len(batch) for batch in data[\"train\"]])\n",
    "    \n",
    "    # Get training time\n",
    "    since = time.time()\n",
    "    if seed:\n",
    "        random.seed(seed)\n",
    "    \n",
    "    train_batch_loss = []\n",
    "    train_epoch_loss = []\n",
    "    val_epoch_loss = []\n",
    "    batches = [i for i in range(n_batches)]\n",
    "    \n",
    "    model.to(device)\n",
    "    \n",
    "    for epoch in range(num_epochs):\n",
    "        print('Epoch {}/{}'.format(epoch+1, num_epochs))\n",
    "        print('-'*15)\n",
    "        \n",
    "        valBatch = batches.pop(random.randint(a=0, b=len(batches))) # select a random batch as validation\n",
    "        \n",
    "        #### Train model this epoch ####\n",
    "        model.train()\n",
    "        running_loss = 0; running_corrects = 0; train_cases = 0;\n",
    "\n",
    "        for idx, batch in enumerate(data[\"train\"]):\n",
    "            if idx == valBatch:\n",
    "                continue\n",
    "            inputs = batch[0]\n",
    "            labels = batch[1]\n",
    "            inputs = torch.tensor(inputs).to(device)\n",
    "            labels = labels.to(device)\n",
    "\n",
    "            # zero accumulated gradients\n",
    "            optimizer.zero_grad()\n",
    "\n",
    "            # During train phase we want to remember history for grads\n",
    "            # and during val we do not want history of grads\n",
    "            with torch.set_grad_enabled(True):\n",
    "                outputs = model(inputs)\n",
    "                loss = criterion(outputs, labels)\n",
    "\n",
    "                _, preds = torch.max(outputs, 1)\n",
    "\n",
    "                if idx%200 == 0 or idx == num_batches - 1:\n",
    "                    train_batch_loss.append(loss.item())\n",
    "                    print('Epoch {}: {}/{} steps in progress'.format(epoch+1, idx+1, n_batches-1))\n",
    "\n",
    "                loss.backward()\n",
    "                optimizer.step()\n",
    "\n",
    "            running_loss += loss.item() * inputs.size(0)\n",
    "            running_corrects += torch.sum(preds == labels.data)\n",
    "            train_cases += len(preds)\n",
    "        \n",
    "        epoch_loss = running_loss / train_cases\n",
    "        epoch_acc = running_corrects.double() / train_cases\n",
    "        \n",
    "        train_epoch_loss.append((epoch_loss, epoch_acc))\n",
    "        \n",
    "        print('Train Loss: {:.4f} Acc: {:.4f}'.format(epoch_loss, epoch_acc))\n",
    "        \n",
    "        #### Validate model this epoch ####\n",
    "        model.eval()\n",
    "        \n",
    "        running_loss = 0; running_corrects = 0; val_cases = 0;\n",
    "        \n",
    "        inputs, labels = data[\"train\"][valBatch]\n",
    "        inputs = torch.tensor(inputs).to(device)\n",
    "        labels = labels.to(device)\n",
    "        \n",
    "        outputs = model(inputs)\n",
    "        loss = criterion(outputs, labels)\n",
    "        _, preds = torch.max(outputs, 1)\n",
    "        \n",
    "        val_cases = len(preds)\n",
    "        \n",
    "        epoch_loss = loss.item() * inputs.size(0) / val_cases\n",
    "        epoch_acc = torch.sum(preds == labels.data).double() / val_cases\n",
    "\n",
    "        print('Val Loss: {:.4f} Acc: {:.4f}'.format(epoch_loss, epoch_acc))\n",
    "            \n",
    "        val_epoch_loss.append((epoch_loss, epoch_acc))\n",
    "        if scheduler:\n",
    "            scheduler.step(loss.item())\n",
    "                \n",
    "        \n",
    "    time_elapsed = time.time() - since\n",
    "    print('Training complete in {:.0f}m {:.0f}s'.format(time_elapsed // 60, time_elapsed % 60))\n",
    "    \n",
    "    return model"
   ]
  },
  {
   "cell_type": "markdown",
   "id": "17dce639",
   "metadata": {},
   "source": [
    "### Train model with train set"
   ]
  },
  {
   "cell_type": "code",
   "execution_count": 213,
   "id": "3f6ab1b1",
   "metadata": {},
   "outputs": [
    {
     "name": "stdout",
     "output_type": "stream",
     "text": [
      "Epoch 1/3\n",
      "---------------\n"
     ]
    },
    {
     "ename": "ValueError",
     "evalue": "only one element tensors can be converted to Python scalars",
     "output_type": "error",
     "traceback": [
      "\u001b[0;31m---------------------------------------------------------------------------\u001b[0m",
      "\u001b[0;31mValueError\u001b[0m                                Traceback (most recent call last)",
      "\u001b[0;32m<ipython-input-213-dac5ec0cec07>\u001b[0m in \u001b[0;36m<module>\u001b[0;34m\u001b[0m\n\u001b[0;32m----> 1\u001b[0;31m \u001b[0mtrainedLimoModel\u001b[0m \u001b[0;34m=\u001b[0m \u001b[0mtrain\u001b[0m\u001b[0;34m(\u001b[0m\u001b[0mimoAlexnet\u001b[0m\u001b[0;34m,\u001b[0m \u001b[0;34m{\u001b[0m\u001b[0;34m\"train\"\u001b[0m\u001b[0;34m:\u001b[0m \u001b[0mvalBatch\u001b[0m\u001b[0;34m}\u001b[0m\u001b[0;34m,\u001b[0m \u001b[0mloss_fn\u001b[0m\u001b[0;34m,\u001b[0m \u001b[0moptimizer\u001b[0m\u001b[0;34m,\u001b[0m \u001b[0mscheduler\u001b[0m\u001b[0;34m,\u001b[0m \u001b[0mepochs\u001b[0m\u001b[0;34m,\u001b[0m \u001b[0mseed\u001b[0m\u001b[0;34m=\u001b[0m\u001b[0;36m123\u001b[0m\u001b[0;34m)\u001b[0m\u001b[0;34m\u001b[0m\u001b[0;34m\u001b[0m\u001b[0m\n\u001b[0m",
      "\u001b[0;32m<ipython-input-212-509c1a766982>\u001b[0m in \u001b[0;36mtrain\u001b[0;34m(model, data, criterion, optimizer, scheduler, num_epochs, seed)\u001b[0m\n\u001b[1;32m     33\u001b[0m             \u001b[0minputs\u001b[0m \u001b[0;34m=\u001b[0m \u001b[0mbatch\u001b[0m\u001b[0;34m[\u001b[0m\u001b[0;36m0\u001b[0m\u001b[0;34m]\u001b[0m\u001b[0;34m\u001b[0m\u001b[0;34m\u001b[0m\u001b[0m\n\u001b[1;32m     34\u001b[0m             \u001b[0mlabels\u001b[0m \u001b[0;34m=\u001b[0m \u001b[0mbatch\u001b[0m\u001b[0;34m[\u001b[0m\u001b[0;36m1\u001b[0m\u001b[0;34m]\u001b[0m\u001b[0;34m\u001b[0m\u001b[0;34m\u001b[0m\u001b[0m\n\u001b[0;32m---> 35\u001b[0;31m             \u001b[0minputs\u001b[0m \u001b[0;34m=\u001b[0m \u001b[0mtorch\u001b[0m\u001b[0;34m.\u001b[0m\u001b[0mtensor\u001b[0m\u001b[0;34m(\u001b[0m\u001b[0minputs\u001b[0m\u001b[0;34m)\u001b[0m\u001b[0;34m.\u001b[0m\u001b[0mto\u001b[0m\u001b[0;34m(\u001b[0m\u001b[0mdevice\u001b[0m\u001b[0;34m)\u001b[0m\u001b[0;34m\u001b[0m\u001b[0;34m\u001b[0m\u001b[0m\n\u001b[0m\u001b[1;32m     36\u001b[0m             \u001b[0mlabels\u001b[0m \u001b[0;34m=\u001b[0m \u001b[0mlabels\u001b[0m\u001b[0;34m.\u001b[0m\u001b[0mto\u001b[0m\u001b[0;34m(\u001b[0m\u001b[0mdevice\u001b[0m\u001b[0;34m)\u001b[0m\u001b[0;34m\u001b[0m\u001b[0;34m\u001b[0m\u001b[0m\n\u001b[1;32m     37\u001b[0m \u001b[0;34m\u001b[0m\u001b[0m\n",
      "\u001b[0;31mValueError\u001b[0m: only one element tensors can be converted to Python scalars"
     ]
    }
   ],
   "source": [
    "trainedLimoModel = train(imoAlexnet, {\"train\": valBatch}, loss_fn, optimizer, scheduler, epochs, seed=123)"
   ]
  },
  {
   "cell_type": "markdown",
   "id": "1bb3d917",
   "metadata": {},
   "source": [
    "Evaluate model over test set"
   ]
  },
  {
   "cell_type": "code",
   "execution_count": null,
   "id": "35c4dcbe",
   "metadata": {},
   "outputs": [],
   "source": [
    "trainedLimoModel.eval() # set model to be evaluated (ignore grads)\n",
    "confMatrix = np.zeros((num_labels, num_labels), dtype=int)\n",
    "trainedLimoModel.eval()\n",
    "for batchNum, (inputs, labels) in enumerate(data_loader[\"test\"]):\n",
    "    outputs = trainedLimoModel(inputs)\n",
    "    _, preds = torch.max(outputs, 1)\n",
    "    for i, pred in enumerate(preds):\n",
    "        confMatrix[pred, labels[i]] += 1\n",
    "        \n",
    "testAcc = confMatrix.trace() / confMatrix.sum()\n",
    "print(f'Test set accuracy: {testAcc}')"
   ]
  },
  {
   "cell_type": "markdown",
   "id": "0c9f6fad",
   "metadata": {},
   "source": [
    "Confusion matrix"
   ]
  },
  {
   "cell_type": "code",
   "execution_count": null,
   "id": "4fed8b89",
   "metadata": {},
   "outputs": [],
   "source": [
    "import seaborn as sns\n",
    "x_axis_labels = labels_list # labels for x-axis\n",
    "y_axis_labels = labels_list # labels for y-axis\n",
    "ax = sns.heatmap(confMatrix, cmap=\"Blues\", annot=True, fmt=\"d\", xticklabels=x_axis_labels, yticklabels=y_axis_labels)\n",
    "plt.xlabel(\"Predicted label\")\n",
    "plt.ylabel(\"True label\")\n",
    "plt.title(\"Confusion matrix\");"
   ]
  },
  {
   "cell_type": "code",
   "execution_count": null,
   "id": "78905209",
   "metadata": {},
   "outputs": [],
   "source": [
    "accLabel = {labels_list[lab]: confMatrix[lab, lab] / sum(confMatrix[:, lab]) for lab in range(num_labels)}\n",
    "print(f\"Acc by label: {accLabel}\")"
   ]
  },
  {
   "cell_type": "markdown",
   "id": "8c7b5916",
   "metadata": {},
   "source": [
    "Save model into files (saved models listed in file)"
   ]
  },
  {
   "cell_type": "code",
   "execution_count": null,
   "id": "54e3108b",
   "metadata": {},
   "outputs": [],
   "source": [
    "netVer = len(os.listdir(path))\n",
    "netType = \"alexnet\"\n",
    "netID = \"_\".join([netType, str(netVer)])\n",
    "torch.save(trainedLimoModel, netsPath + netID + \".pth\")"
   ]
  },
  {
   "cell_type": "markdown",
   "id": "7a6d2c6e",
   "metadata": {},
   "source": [
    "Load saved model"
   ]
  },
  {
   "cell_type": "code",
   "execution_count": null,
   "id": "1acb9491",
   "metadata": {},
   "outputs": [],
   "source": [
    "model = torch.load(path + netID + \".pth\")\n",
    "model.eval()"
   ]
  }
 ],
 "metadata": {
  "kernelspec": {
   "display_name": "Python 3",
   "language": "python",
   "name": "python3"
  },
  "language_info": {
   "codemirror_mode": {
    "name": "ipython",
    "version": 3
   },
   "file_extension": ".py",
   "mimetype": "text/x-python",
   "name": "python",
   "nbconvert_exporter": "python",
   "pygments_lexer": "ipython3",
   "version": "3.8.5"
  }
 },
 "nbformat": 4,
 "nbformat_minor": 5
}
