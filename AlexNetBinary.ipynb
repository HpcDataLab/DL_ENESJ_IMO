{
 "cells": [
  {
   "cell_type": "markdown",
   "metadata": {},
   "source": [
    "# AlexNet implementation (with PyTorch)\n",
    "Model from: https://pytorch.org/hub/pytorch_vision_alexnet/\n",
    "\n",
    "Training loop from: https://kushaj.medium.com/training-alexnet-with-tips-and-checks-on-how-to-train-cnns-practical-cnns-in-pytorch-1-61daa679c74a"
   ]
  },
  {
   "cell_type": "markdown",
   "metadata": {},
   "source": [
    "## Import required modules"
   ]
  },
  {
   "cell_type": "code",
   "execution_count": 4,
   "metadata": {},
   "outputs": [
    {
     "name": "stdout",
     "output_type": "stream",
     "text": [
      "cuda\n"
     ]
    }
   ],
   "source": [
    "import torch\n",
    "from torch import nn, optim\n",
    "from copy import deepcopy\n",
    "from PIL import Image\n",
    "from torchvision import transforms\n",
    "from torch.utils.data import DataLoader, Dataset\n",
    "import time\n",
    "import os\n",
    "from glob import glob\n",
    "\n",
    "device = torch.device('cuda' if torch.cuda.is_available() else 'cpu')\n",
    "print(device)\n",
    "netsPath = '../DL_ENESJ_IMO/trained/'"
   ]
  },
  {
   "cell_type": "code",
   "execution_count": 5,
   "metadata": {},
   "outputs": [],
   "source": [
    "import random\n",
    "random.seed(1234) # reproducibility seed"
   ]
  },
  {
   "cell_type": "markdown",
   "metadata": {},
   "source": [
    "## Get model"
   ]
  },
  {
   "cell_type": "markdown",
   "metadata": {},
   "source": [
    "### Get pretrained model from source"
   ]
  },
  {
   "cell_type": "code",
   "execution_count": 3,
   "metadata": {},
   "outputs": [
    {
     "data": {
      "text/plain": [
       "AlexNet(\n",
       "  (features): Sequential(\n",
       "    (0): Conv2d(3, 64, kernel_size=(11, 11), stride=(4, 4), padding=(2, 2))\n",
       "    (1): ReLU(inplace=True)\n",
       "    (2): MaxPool2d(kernel_size=3, stride=2, padding=0, dilation=1, ceil_mode=False)\n",
       "    (3): Conv2d(64, 192, kernel_size=(5, 5), stride=(1, 1), padding=(2, 2))\n",
       "    (4): ReLU(inplace=True)\n",
       "    (5): MaxPool2d(kernel_size=3, stride=2, padding=0, dilation=1, ceil_mode=False)\n",
       "    (6): Conv2d(192, 384, kernel_size=(3, 3), stride=(1, 1), padding=(1, 1))\n",
       "    (7): ReLU(inplace=True)\n",
       "    (8): Conv2d(384, 256, kernel_size=(3, 3), stride=(1, 1), padding=(1, 1))\n",
       "    (9): ReLU(inplace=True)\n",
       "    (10): Conv2d(256, 256, kernel_size=(3, 3), stride=(1, 1), padding=(1, 1))\n",
       "    (11): ReLU(inplace=True)\n",
       "    (12): MaxPool2d(kernel_size=3, stride=2, padding=0, dilation=1, ceil_mode=False)\n",
       "  )\n",
       "  (avgpool): AdaptiveAvgPool2d(output_size=(6, 6))\n",
       "  (classifier): Sequential(\n",
       "    (0): Dropout(p=0.5, inplace=False)\n",
       "    (1): Linear(in_features=9216, out_features=4096, bias=True)\n",
       "    (2): ReLU(inplace=True)\n",
       "    (3): Dropout(p=0.5, inplace=False)\n",
       "    (4): Linear(in_features=4096, out_features=4096, bias=True)\n",
       "    (5): ReLU(inplace=True)\n",
       "    (6): Linear(in_features=4096, out_features=1000, bias=True)\n",
       "  )\n",
       ")"
      ]
     },
     "execution_count": 3,
     "metadata": {},
     "output_type": "execute_result"
    }
   ],
   "source": [
    "alexnet = torch.load(netsPath + \"Alexnet_preTrained.pth\")\n",
    "alexnet.eval()"
   ]
  },
  {
   "cell_type": "markdown",
   "metadata": {},
   "source": [
    "## Data transformation"
   ]
  },
  {
   "cell_type": "markdown",
   "metadata": {},
   "source": [
    "Set number of classifications labels"
   ]
  },
  {
   "cell_type": "code",
   "execution_count": 14,
   "metadata": {},
   "outputs": [],
   "source": [
    "labels_list = [\"DME\", \"NORMAL\"]\n",
    "num_labels = len(labels_list)"
   ]
  },
  {
   "cell_type": "code",
   "execution_count": 15,
   "metadata": {},
   "outputs": [],
   "source": [
    "data_dir = '../../data/OCT/OCT2017/'\n",
    "sets = [\"train\", \"val\", \"test\"]"
   ]
  },
  {
   "cell_type": "code",
   "execution_count": 16,
   "metadata": {},
   "outputs": [],
   "source": [
    "class customImageFolderDataset(Dataset):\n",
    "    \"\"\"Custom Image Loader dataset.\"\"\"\n",
    "    def __init__(self, root, labels=None, transform=None):\n",
    "        \"\"\"\n",
    "        Args:\n",
    "            root (string): Path to the images organized in a particular folder structure.\n",
    "            labels (list): List with the desired labels to be taken from path.\n",
    "            transform: Any Pytorch transform to be applied\n",
    "        \"\"\"\n",
    "        if labels:\n",
    "            # Sort all labels alphabetically\n",
    "            tempLabels = sorted(set(labels))\n",
    "            \n",
    "            # Get all image paths from a directory\n",
    "            self.image_paths = []\n",
    "            for lab in labels:\n",
    "                paths = glob(f\"{root}/{lab}/*\")\n",
    "                if not len(paths):\n",
    "                    print(f\"No data for {lab} label. Removing it\")\n",
    "                    self.tempLabels.remove(lab)\n",
    "                self.image_paths += paths\n",
    "        else:\n",
    "            # Get all image paths from a directory\n",
    "            self.image_paths = glob(f\"{root}/*/*\")\n",
    "            \n",
    "        # Get the labels from the image paths\n",
    "        self.labels = [x.split(\"/\")[-2] for x in self.image_paths]\n",
    "        \n",
    "        # Create a dictionary mapping each label to a index from 0 to len(classes).\n",
    "        self.label_to_idx = {x:i for i,x in enumerate(set(self.labels))}\n",
    "        self.transform = transform\n",
    "        \n",
    "    def __len__(self):\n",
    "        # return length of dataset\n",
    "        return len(self.image_paths)\n",
    "      \n",
    "    def __getitem__(self, idx):\n",
    "        # open and send one image and label\n",
    "        img_name = self.image_paths[idx]\n",
    "        label = self.labels[idx]\n",
    "        image = self.preprocessImage(img_name, transform)\n",
    "        \n",
    "        return image, self.label_to_idx[label]\n",
    "    \n",
    "    # Load image form given path and convert into RGB mode\n",
    "    def preprocessImage(self, path, transform=None):\n",
    "        im = Image.open(path)\n",
    "        if im.mode != \"RGB\":\n",
    "            im = im.convert(\"RGB\")\n",
    "        if transform:\n",
    "            im = transform(im)\n",
    "        return im"
   ]
  },
  {
   "cell_type": "code",
   "execution_count": 17,
   "metadata": {},
   "outputs": [],
   "source": [
    "batch_size = 32 # prefered by alexnet\n",
    "size = 224 # given by alexnet\n",
    "\n",
    "transform = transforms.Compose([\n",
    "        transforms.Resize((size, size)),\n",
    "        transforms.RandomHorizontalFlip(),\n",
    "        transforms.ToTensor(),\n",
    "        transforms.Normalize(mean=[0.485, 0.456, 0.406], std=[0.229, 0.224, 0.225]),\n",
    "    ])"
   ]
  },
  {
   "cell_type": "code",
   "execution_count": 18,
   "metadata": {},
   "outputs": [],
   "source": [
    "image_datasets = {\n",
    "    set_type : customImageFolderDataset(root=data_dir + set_type, labels=labels_list, transform=transform)\n",
    "    for set_type in sets\n",
    "}\n",
    "\n",
    "data_loader = {\n",
    "    x: torch.utils.data.DataLoader(image_datasets[x],\n",
    "                                   batch_size=batch_size,\n",
    "                                   shuffle=True,\n",
    "                                   pin_memory=True) for x in sets\n",
    "}"
   ]
  },
  {
   "cell_type": "markdown",
   "metadata": {},
   "source": [
    "Sets shape"
   ]
  },
  {
   "cell_type": "code",
   "execution_count": 19,
   "metadata": {},
   "outputs": [
    {
     "name": "stdout",
     "output_type": "stream",
     "text": [
      "Set: train. Images: 37663\n",
      "Set: val. Images: 16\n",
      "Set: test. Images: 484\n"
     ]
    }
   ],
   "source": [
    "for set_type in sets:\n",
    "    print(f\"Set: {set_type}. Images: {len(data_loader[set_type].dataset)}\")"
   ]
  },
  {
   "cell_type": "markdown",
   "metadata": {},
   "source": [
    "Check labels and images"
   ]
  },
  {
   "cell_type": "code",
   "execution_count": 20,
   "metadata": {},
   "outputs": [
    {
     "data": {
      "image/png": "[encoded data removed]",
      "text/plain": [
       "<Figure size 432x288 with 1 Axes>"
      ]
     },
     "metadata": {
      "needs_background": "light"
     },
     "output_type": "display_data"
    }
   ],
   "source": [
    "import numpy as np\n",
    "import matplotlib.pyplot as plt\n",
    "from torchvision.utils import make_grid\n",
    "\n",
    "# Our images are normalized so denormalize then and convert them to numpy\n",
    "def imshow(img, title=None):\n",
    "    img = img.numpy().transpose((1, 2, 0))\n",
    "    mean = np.array([0.485, 0.456, 0.406])\n",
    "    std = np.array([0.229, 0.224, 0.225])\n",
    "    img = std*img + mean\n",
    "    img = np.clip(img, 0, 1)\n",
    "    plt.imshow(img)\n",
    "    if title is not None:\n",
    "        plt.title(title)\n",
    "    plt.pause(0.001)\n",
    "    \n",
    "\n",
    "\n",
    "images, labels = next(iter(data_loader['val']))\n",
    "grid_img = make_grid(images[:4], nrow=4)\n",
    "imshow(grid_img, title = [labels_list[x] for x in labels[:4]])"
   ]
  },
  {
   "cell_type": "markdown",
   "metadata": {},
   "source": [
    "## IMO model"
   ]
  },
  {
   "cell_type": "markdown",
   "metadata": {},
   "source": [
    "### Modify architecture"
   ]
  },
  {
   "cell_type": "code",
   "execution_count": 11,
   "metadata": {},
   "outputs": [],
   "source": [
    "def newAlexNet(num_labels):\n",
    "    newAlexnet = deepcopy(alexnet)\n",
    "    lastLayer = newAlexnet.classifier[-1] # get usual last layer\n",
    "    newAlexnet.classifier[-1] = nn.Linear(lastLayer.in_features, num_labels) # modify last layer number of outputs (labels to be classified)\n",
    "    return newAlexnet\n",
    "\n",
    "imoAlexnet = newAlexNet(num_labels)"
   ]
  },
  {
   "cell_type": "markdown",
   "metadata": {},
   "source": [
    "### Set hiperparameters"
   ]
  },
  {
   "cell_type": "code",
   "execution_count": 12,
   "metadata": {},
   "outputs": [],
   "source": [
    "learning_rate = 0.001\n",
    "momentum = 0.9\n",
    "epochs = 10"
   ]
  },
  {
   "cell_type": "markdown",
   "metadata": {},
   "source": [
    "### Loss function, optimizer and scheduler"
   ]
  },
  {
   "cell_type": "code",
   "execution_count": 13,
   "metadata": {},
   "outputs": [],
   "source": [
    "loss_fn = nn.CrossEntropyLoss()\n",
    "optimizer = optim.SGD(imoAlexnet.parameters(), lr=learning_rate, momentum=momentum)\n",
    "#optimizer = optim.Adam(imoAlexnet.parameters(), lr=learning_rate)\n",
    "#optimizer = optim.Adagrad(imoAlexnet.parameters(), lr=learning_rate)\n",
    "#optimizer = optim.Adadelta(imoAlexnet.parameters(), lr=learning_rate)\n",
    "scheduler = optim.lr_scheduler.ReduceLROnPlateau(optimizer, 'min', verbose=True)"
   ]
  },
  {
   "cell_type": "markdown",
   "metadata": {},
   "source": [
    "### Train loop"
   ]
  },
  {
   "cell_type": "code",
   "execution_count": 14,
   "metadata": {},
   "outputs": [],
   "source": [
    "def train(model, data_loader, criterion, optimizer, scheduler = None, num_epochs=100, seed=None):\n",
    "    since = time.time()\n",
    "    if seed:\n",
    "        random.seed(seed)\n",
    "    \n",
    "    train_batch_loss = []\n",
    "    train_epoch_loss = []\n",
    "    val_epoch_loss = []\n",
    "    \n",
    "    model.to(device)\n",
    "    \n",
    "    for epoch in range(num_epochs):\n",
    "        print('Epoch {}/{}'.format(epoch+1, num_epochs))\n",
    "        print('-'*15)\n",
    "        \n",
    "        # You perform validation test after every epoch\n",
    "        for phase in [\"train\", \"val\"]:\n",
    "            if phase == 'train':\n",
    "                model.train()\n",
    "            else:\n",
    "                model.eval()\n",
    "                \n",
    "            running_loss = 0; running_corrects = 0;\n",
    "            \n",
    "            num_batches = int(len(data_loader[phase].dataset) / batch_size)\n",
    "            \n",
    "            for idx, (inputs, labels) in enumerate(data_loader[phase]):\n",
    "                inputs = inputs.to(device)\n",
    "                labels = labels.to(device)\n",
    "                \n",
    "                # zero accumulated gradients\n",
    "                optimizer.zero_grad()\n",
    "                \n",
    "                # During train phase we want to remember history for grads\n",
    "                # and during val we do not want history of grads\n",
    "                with torch.set_grad_enabled(phase == 'train'):\n",
    "                    outputs = model(inputs)\n",
    "                    loss = criterion(outputs, labels)\n",
    "                    \n",
    "                    _, preds = torch.max(outputs, 1)\n",
    "                    \n",
    "                    if idx%200 == 0 or idx == num_batches - 1:\n",
    "                        train_batch_loss.append(loss.item())\n",
    "                        print('Epoch {}: {}/{} steps in progress'.format(epoch+1, idx+1, num_batches))\n",
    "                        \n",
    "                    if phase == 'train':\n",
    "                        loss.backward()\n",
    "                        optimizer.step()\n",
    "                        \n",
    "                running_loss += loss.item() * inputs.size(0)\n",
    "                running_corrects += torch.sum(preds == labels.data)\n",
    "                \n",
    "            epoch_loss = running_loss / len(data_loader[phase].dataset)\n",
    "            epoch_acc = running_corrects.double() / len(data_loader[phase].dataset)\n",
    "            \n",
    "            print('{} Loss: {:.4f} Acc: {:.4f}'.format(phase, epoch_loss, epoch_acc))\n",
    "            \n",
    "            if phase == 'val':\n",
    "                val_epoch_loss.append((epoch_loss, epoch_acc))\n",
    "                if scheduler:\n",
    "                    scheduler.step(loss.item())\n",
    "            else:\n",
    "                train_epoch_loss.append((epoch_loss, epoch_acc))\n",
    "                \n",
    "        print()\n",
    "        \n",
    "    time_elapsed = time.time() - since\n",
    "    print('Training complete in {:.0f}m {:.0f}s'.format(time_elapsed // 60, time_elapsed % 60))\n",
    "    \n",
    "    return model"
   ]
  },
  {
   "cell_type": "markdown",
   "metadata": {},
   "source": [
    "### Train model with train set"
   ]
  },
  {
   "cell_type": "code",
   "execution_count": 15,
   "metadata": {},
   "outputs": [
    {
     "name": "stdout",
     "output_type": "stream",
     "text": [
      "Epoch 1/10\n",
      "---------------\n",
      "Epoch 1: 1/1176 steps in progress\n",
      "Epoch 1: 201/1176 steps in progress\n",
      "Epoch 1: 401/1176 steps in progress\n",
      "Epoch 1: 601/1176 steps in progress\n",
      "Epoch 1: 801/1176 steps in progress\n",
      "Epoch 1: 1001/1176 steps in progress\n",
      "Epoch 1: 1176/1176 steps in progress\n",
      "train Loss: 0.1327 Acc: 0.9537\n",
      "Epoch 1: 1/0 steps in progress\n",
      "val Loss: 0.0034 Acc: 1.0000\n",
      "\n",
      "Epoch 2/10\n",
      "---------------\n",
      "Epoch 2: 1/1176 steps in progress\n",
      "Epoch 2: 201/1176 steps in progress\n",
      "Epoch 2: 401/1176 steps in progress\n",
      "Epoch 2: 601/1176 steps in progress\n",
      "Epoch 2: 801/1176 steps in progress\n",
      "Epoch 2: 1001/1176 steps in progress\n",
      "Epoch 2: 1176/1176 steps in progress\n",
      "train Loss: 0.0798 Acc: 0.9737\n",
      "Epoch 2: 1/0 steps in progress\n",
      "val Loss: 0.0022 Acc: 1.0000\n",
      "\n",
      "Epoch 3/10\n",
      "---------------\n",
      "Epoch 3: 1/1176 steps in progress\n",
      "Epoch 3: 201/1176 steps in progress\n",
      "Epoch 3: 401/1176 steps in progress\n",
      "Epoch 3: 601/1176 steps in progress\n",
      "Epoch 3: 801/1176 steps in progress\n",
      "Epoch 3: 1001/1176 steps in progress\n",
      "Epoch 3: 1176/1176 steps in progress\n",
      "train Loss: 0.0685 Acc: 0.9774\n",
      "Epoch 3: 1/0 steps in progress\n",
      "val Loss: 0.0022 Acc: 1.0000\n",
      "\n",
      "Epoch 4/10\n",
      "---------------\n",
      "Epoch 4: 1/1176 steps in progress\n",
      "Epoch 4: 201/1176 steps in progress\n",
      "Epoch 4: 401/1176 steps in progress\n",
      "Epoch 4: 601/1176 steps in progress\n",
      "Epoch 4: 801/1176 steps in progress\n",
      "Epoch 4: 1001/1176 steps in progress\n",
      "Epoch 4: 1176/1176 steps in progress\n",
      "train Loss: 0.0608 Acc: 0.9797\n",
      "Epoch 4: 1/0 steps in progress\n",
      "val Loss: 0.0008 Acc: 1.0000\n",
      "\n",
      "Epoch 5/10\n",
      "---------------\n",
      "Epoch 5: 1/1176 steps in progress\n",
      "Epoch 5: 201/1176 steps in progress\n",
      "Epoch 5: 401/1176 steps in progress\n",
      "Epoch 5: 601/1176 steps in progress\n",
      "Epoch 5: 801/1176 steps in progress\n",
      "Epoch 5: 1001/1176 steps in progress\n",
      "Epoch 5: 1176/1176 steps in progress\n",
      "train Loss: 0.0551 Acc: 0.9817\n",
      "Epoch 5: 1/0 steps in progress\n",
      "val Loss: 0.0014 Acc: 1.0000\n",
      "\n",
      "Epoch 6/10\n",
      "---------------\n",
      "Epoch 6: 1/1176 steps in progress\n",
      "Epoch 6: 201/1176 steps in progress\n",
      "Epoch 6: 401/1176 steps in progress\n",
      "Epoch 6: 601/1176 steps in progress\n",
      "Epoch 6: 801/1176 steps in progress\n",
      "Epoch 6: 1001/1176 steps in progress\n",
      "Epoch 6: 1176/1176 steps in progress\n",
      "train Loss: 0.0490 Acc: 0.9840\n",
      "Epoch 6: 1/0 steps in progress\n",
      "val Loss: 0.0003 Acc: 1.0000\n",
      "\n",
      "Epoch 7/10\n",
      "---------------\n",
      "Epoch 7: 1/1176 steps in progress\n",
      "Epoch 7: 201/1176 steps in progress\n",
      "Epoch 7: 401/1176 steps in progress\n",
      "Epoch 7: 601/1176 steps in progress\n",
      "Epoch 7: 801/1176 steps in progress\n",
      "Epoch 7: 1001/1176 steps in progress\n",
      "Epoch 7: 1176/1176 steps in progress\n",
      "train Loss: 0.0464 Acc: 0.9846\n",
      "Epoch 7: 1/0 steps in progress\n",
      "val Loss: 0.0008 Acc: 1.0000\n",
      "\n",
      "Epoch 8/10\n",
      "---------------\n",
      "Epoch 8: 1/1176 steps in progress\n",
      "Epoch 8: 201/1176 steps in progress\n",
      "Epoch 8: 401/1176 steps in progress\n",
      "Epoch 8: 601/1176 steps in progress\n",
      "Epoch 8: 801/1176 steps in progress\n",
      "Epoch 8: 1001/1176 steps in progress\n",
      "Epoch 8: 1176/1176 steps in progress\n",
      "train Loss: 0.0436 Acc: 0.9852\n",
      "Epoch 8: 1/0 steps in progress\n",
      "val Loss: 0.0006 Acc: 1.0000\n",
      "\n",
      "Epoch 9/10\n",
      "---------------\n",
      "Epoch 9: 1/1176 steps in progress\n",
      "Epoch 9: 201/1176 steps in progress\n",
      "Epoch 9: 401/1176 steps in progress\n",
      "Epoch 9: 601/1176 steps in progress\n",
      "Epoch 9: 801/1176 steps in progress\n",
      "Epoch 9: 1001/1176 steps in progress\n",
      "Epoch 9: 1176/1176 steps in progress\n",
      "train Loss: 0.0410 Acc: 0.9862\n",
      "Epoch 9: 1/0 steps in progress\n",
      "val Loss: 0.0007 Acc: 1.0000\n",
      "\n",
      "Epoch 10/10\n",
      "---------------\n",
      "Epoch 10: 1/1176 steps in progress\n",
      "Epoch 10: 201/1176 steps in progress\n",
      "Epoch 10: 401/1176 steps in progress\n",
      "Epoch 10: 601/1176 steps in progress\n",
      "Epoch 10: 801/1176 steps in progress\n",
      "Epoch 10: 1001/1176 steps in progress\n",
      "Epoch 10: 1176/1176 steps in progress\n",
      "train Loss: 0.0371 Acc: 0.9872\n",
      "Epoch 10: 1/0 steps in progress\n",
      "val Loss: 0.0005 Acc: 1.0000\n",
      "\n",
      "Training complete in 55m 9s\n"
     ]
    }
   ],
   "source": [
    "trainedImoModel = train(imoAlexnet, data_loader, loss_fn, optimizer, scheduler, epochs, seed=123)"
   ]
  },
  {
   "cell_type": "markdown",
   "metadata": {},
   "source": [
    "Evaluate model over test set"
   ]
  },
  {
   "cell_type": "code",
   "execution_count": 28,
   "metadata": {},
   "outputs": [],
   "source": [
    "def calculateConfusionMatrix(model, labs, data_loader, set_name=None, plot=False):\n",
    "    num_labels = len(labs)\n",
    "    confMatrix = np.zeros((num_labels, num_labels), dtype=int)\n",
    "    model.eval()\n",
    "    for batchNum, (inputs, labels) in enumerate(data_loader[set_name] if set_name else data_loader):\n",
    "        inputs = inputs.to(device)\n",
    "        labels = labels.to(device)\n",
    "        outputs = model(inputs)\n",
    "        _, preds = torch.max(outputs, 1)\n",
    "        for i, pred in enumerate(preds):\n",
    "            confMatrix[pred, labels[i]] += 1\n",
    "        \n",
    "    testAcc = confMatrix.trace() / confMatrix.sum()\n",
    "    if plot:\n",
    "        plotConfusionMatrix(labs, confMatrix)\n",
    "    return testAcc, confMatrix\n",
    "        \n",
    "def plotConfusionMatrix(labels, confMatrix):\n",
    "    import seaborn as sns\n",
    "    x_axis_labels = labels # labels for x-axis\n",
    "    y_axis_labels = labels # labels for y-axis\n",
    "    ax = sns.heatmap(confMatrix, cmap=\"Blues\", annot=True, fmt=\"d\", xticklabels=x_axis_labels, yticklabels=y_axis_labels)\n",
    "    plt.xlabel(\"Predicted label\")\n",
    "    plt.ylabel(\"True label\")\n",
    "    plt.title(\"Confusion matrix\");\n",
    "    plt.show()\n",
    "    \n",
    "\n",
    "def evaluatePerformance(model, labels, data_loader, setName=None):\n",
    "    evals = {}\n",
    "    acc, confMat = calculateConfusionMatrix(model, labels, data_loader, setName, plot=True)\n",
    "    TP = confMat[1][1]\n",
    "    TN = confMat[0][0]\n",
    "    FP = confMat[1][0]\n",
    "    FN = confMat[0][1]\n",
    "    evals[\"Accuracy\"] = acc\n",
    "    evals[\"Sesitivity\"] = TP / (TP + FN)\n",
    "    evals[\"Specificity\"] = TN / (TN + FP)\n",
    "    return evals"
   ]
  },
  {
   "cell_type": "markdown",
   "metadata": {},
   "source": [
    "### Evaluate model"
   ]
  },
  {
   "cell_type": "markdown",
   "metadata": {},
   "source": [
    "#### Train evaluation"
   ]
  },
  {
   "cell_type": "code",
   "execution_count": 17,
   "metadata": {},
   "outputs": [
    {
     "data": {
      "image/png": "[encoded data removed]",
      "text/plain": [
       "<Figure size 432x288 with 2 Axes>"
      ]
     },
     "metadata": {
      "needs_background": "light"
     },
     "output_type": "display_data"
    },
    {
     "name": "stdout",
     "output_type": "stream",
     "text": [
      "Train set accuracy: 0.9907336112364921\n"
     ]
    }
   ],
   "source": [
    "trainedImoModel.eval() # set model to be evaluated (ignore grads)\n",
    "trnAcc, trnConfMatrix = calculateConfusionMatrix(trainedImoModel, labels_list, data_loader, \"train\", plot=True)\n",
    "print(f'Train set accuracy: {trnAcc}')"
   ]
  },
  {
   "cell_type": "code",
   "execution_count": 18,
   "metadata": {},
   "outputs": [
    {
     "name": "stdout",
     "output_type": "stream",
     "text": [
      "Train accuracy by label: {'DME': 0.9927037811134334, 'NORMAL': 0.986164962989073}\n"
     ]
    }
   ],
   "source": [
    "trnAccLabel = {labels_list[lab]: trnConfMatrix[lab, lab] / sum(trnConfMatrix[:, lab]) for lab in range(num_labels)}\n",
    "print(f\"Train accuracy by label: {trnAccLabel}\")"
   ]
  },
  {
   "cell_type": "markdown",
   "metadata": {},
   "source": [
    "#### Test evaluation"
   ]
  },
  {
   "cell_type": "code",
   "execution_count": 22,
   "metadata": {},
   "outputs": [
    {
     "data": {
      "image/png": "[encoded data removed]",
      "text/plain": [
       "<Figure size 432x288 with 2 Axes>"
      ]
     },
     "metadata": {
      "needs_background": "light"
     },
     "output_type": "display_data"
    },
    {
     "name": "stdout",
     "output_type": "stream",
     "text": [
      "Test set accuracy: 1.0\n"
     ]
    }
   ],
   "source": [
    "trainedImoModel.eval() # set model to be evaluated (ignore grads)\n",
    "tstAcc, tstConfMatrix = calculateConfusionMatrix(trainedImoModel, labels_list, data_loader, \"test\", plot=True)\n",
    "print(f'Test set accuracy: {tstAcc}')"
   ]
  },
  {
   "cell_type": "code",
   "execution_count": 23,
   "metadata": {},
   "outputs": [
    {
     "name": "stdout",
     "output_type": "stream",
     "text": [
      "Test accuracy by label: {'DME': 1.0, 'NORMAL': 1.0}\n"
     ]
    }
   ],
   "source": [
    "tstAccLabel = {labels_list[lab]: tstConfMatrix[lab, lab] / sum(tstConfMatrix[:, lab]) for lab in range(num_labels)}\n",
    "print(f\"Test accuracy by label: {tstAccLabel}\")"
   ]
  },
  {
   "cell_type": "markdown",
   "metadata": {},
   "source": [
    "Save model into files (saved models listed in file)"
   ]
  },
  {
   "cell_type": "code",
   "execution_count": 21,
   "metadata": {},
   "outputs": [],
   "source": [
    "netVer = len(os.listdir(netsPath))\n",
    "netType = \"alexnet\"\n",
    "netID = \"_\".join([netType, str(netVer), '_'.join(labels_list)])\n",
    "torch.save(trainedImoModel, netsPath + netID + \".pth\")"
   ]
  },
  {
   "cell_type": "markdown",
   "metadata": {},
   "source": [
    "Load saved model (if needed)"
   ]
  },
  {
   "cell_type": "code",
   "execution_count": null,
   "metadata": {},
   "outputs": [],
   "source": [
    "trainedImoModel = torch.load(netsPath + netID + \".pth\")\n",
    "#trainedImoModel.eval()"
   ]
  },
  {
   "cell_type": "markdown",
   "metadata": {},
   "source": [
    "## Main performance"
   ]
  },
  {
   "cell_type": "code",
   "execution_count": 24,
   "metadata": {},
   "outputs": [],
   "source": [
    "trnEv = \n",
    "tstEv = evaluatePerformance(trainedImoModel, labels_list, data_loader, setName=\"test\")"
   ]
  },
  {
   "cell_type": "code",
   "execution_count": 30,
   "metadata": {},
   "outputs": [
    {
     "name": "stdout",
     "output_type": "stream",
     "text": [
      "train results:\n",
      "\n"
     ]
    },
    {
     "data": {
      "image/png": "[encoded data removed]",
      "text/plain": [
       "<Figure size 432x288 with 2 Axes>"
      ]
     },
     "metadata": {
      "needs_background": "light"
     },
     "output_type": "display_data"
    },
    {
     "name": "stdout",
     "output_type": "stream",
     "text": [
      "Accuracy\t\t:\t\t0.9907\n",
      "\n",
      "Sesitivity\t\t:\t\t0.9857\n",
      "\n",
      "Specificity\t\t:\t\t0.9929\n",
      "\n",
      "test results:\n",
      "\n"
     ]
    },
    {
     "data": {
      "image/png": "[encoded data removed]",
      "text/plain": [
       "<Figure size 432x288 with 2 Axes>"
      ]
     },
     "metadata": {
      "needs_background": "light"
     },
     "output_type": "display_data"
    },
    {
     "name": "stdout",
     "output_type": "stream",
     "text": [
      "Accuracy\t\t:\t\t1.0000\n",
      "\n",
      "Sesitivity\t\t:\t\t1.0000\n",
      "\n",
      "Specificity\t\t:\t\t1.0000\n",
      "\n"
     ]
    }
   ],
   "source": [
    "for typ in [\"train\", \"test\"]:\n",
    "    print(f\"{typ} results:\\n\")\n",
    "    ev = evaluatePerformance(trainedImoModel, labels_list, data_loader, setName=typ)\n",
    "    for key, val in ev.items():\n",
    "            print(\"{}\\t\\t:\\t\\t{:.4f}\".format(key, val), end=\"\\n\\n\")"
   ]
  }
 ],
 "metadata": {
  "kernelspec": {
   "display_name": "Python 3",
   "language": "python",
   "name": "python3"
  },
  "language_info": {
   "codemirror_mode": {
    "name": "ipython",
    "version": 3
   },
   "file_extension": ".py",
   "mimetype": "text/x-python",
   "name": "python",
   "nbconvert_exporter": "python",
   "pygments_lexer": "ipython3",
   "version": "3.8.5"
  }
 },
 "nbformat": 4,
 "nbformat_minor": 5
}
