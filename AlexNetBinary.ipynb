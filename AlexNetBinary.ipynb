{
 "cells": [
  {
   "cell_type": "markdown",
   "id": "15dcfda4",
   "metadata": {},
   "source": [
    "# AlexNet implementation (with PyTorch)\n",
    "Model from: https://pytorch.org/hub/pytorch_vision_alexnet/\n",
    "\n",
    "Training loop from: https://kushaj.medium.com/training-alexnet-with-tips-and-checks-on-how-to-train-cnns-practical-cnns-in-pytorch-1-61daa679c74a"
   ]
  },
  {
   "cell_type": "markdown",
   "id": "da2e53bd",
   "metadata": {},
   "source": [
    "## Import required modules"
   ]
  },
  {
   "cell_type": "code",
   "execution_count": 1,
   "id": "25939272",
   "metadata": {},
   "outputs": [
    {
     "name": "stdout",
     "output_type": "stream",
     "text": [
      "cpu\n"
     ]
    }
   ],
   "source": [
    "import torch\n",
    "from torch import nn, optim\n",
    "from copy import deepcopy\n",
    "from PIL import Image\n",
    "from torchvision import transforms\n",
    "from torch.utils.data import DataLoader, Dataset\n",
    "import time\n",
    "import os\n",
    "from glob import glob\n",
    "\n",
    "device = torch.device('cuda' if torch.cuda.is_available() else 'cpu')\n",
    "print(device)\n",
    "netsPath = '../nets/'"
   ]
  },
  {
   "cell_type": "code",
   "execution_count": 2,
   "id": "e467ecf1",
   "metadata": {},
   "outputs": [],
   "source": [
    "import random\n",
    "random.seed(1234) # reproducibility seed"
   ]
  },
  {
   "cell_type": "markdown",
   "id": "8cdfe337",
   "metadata": {},
   "source": [
    "## Get model"
   ]
  },
  {
   "cell_type": "markdown",
   "id": "ffe49a12",
   "metadata": {},
   "source": [
    "### Get pretrained model from source"
   ]
  },
  {
   "cell_type": "code",
   "execution_count": 3,
   "id": "e451b6ec",
   "metadata": {},
   "outputs": [],
   "source": [
    "alexnet = torch.load(netsPath + \"Alexnet_preTrained.pth\")\n",
    "#alexnet.eval()"
   ]
  },
  {
   "cell_type": "markdown",
   "id": "1031d94a",
   "metadata": {},
   "source": [
    "## Data transformation"
   ]
  },
  {
   "cell_type": "markdown",
   "id": "33d04866",
   "metadata": {},
   "source": [
    "Set number of classifications labels"
   ]
  },
  {
   "cell_type": "code",
   "execution_count": 4,
   "id": "c67f2d10",
   "metadata": {},
   "outputs": [],
   "source": [
    "labels_list = [\"DME\", \"NORMAL\"]\n",
    "num_labels = len(labels_list)"
   ]
  },
  {
   "cell_type": "code",
   "execution_count": 5,
   "id": "6b450cf1",
   "metadata": {},
   "outputs": [],
   "source": [
    "data_dir = '/volume/OCT/OCT2017/'\n",
    "sets = [\"train\", \"val\", \"test\"]"
   ]
  },
  {
   "cell_type": "code",
   "execution_count": 6,
   "id": "51b5fcde",
   "metadata": {},
   "outputs": [],
   "source": [
    "class customImageFolderDataset(Dataset):\n",
    "    \"\"\"Custom Image Loader dataset.\"\"\"\n",
    "    def __init__(self, root, labels=None, transform=None):\n",
    "        \"\"\"\n",
    "        Args:\n",
    "            root (string): Path to the images organized in a particular folder structure.\n",
    "            transform: Any Pytorch transform to be applied\n",
    "        \"\"\"\n",
    "        if labels:\n",
    "            # Sort all labels alphabetically\n",
    "            tempLabels = sorted(set(labels))\n",
    "            \n",
    "            # Get all image paths from a directory\n",
    "            self.image_paths = []\n",
    "            for lab in labels:\n",
    "                paths = glob(f\"{root}/{lab}/*\")\n",
    "                if not len(paths):\n",
    "                    print(f\"No data for {lab} label. Removing it\")\n",
    "                    self.tempLabels.remove(lab)\n",
    "                self.image_paths += paths\n",
    "        else:\n",
    "            # Get all image paths from a directory\n",
    "            self.image_paths = glob(f\"{root}/*/*\")\n",
    "            \n",
    "        # Get the labels from the image paths\n",
    "        self.labels = [x.split(\"/\")[-2] for x in self.image_paths]\n",
    "        \n",
    "        # Create a dictionary mapping each label to a index from 0 to len(classes).\n",
    "        self.label_to_idx = {x:i for i,x in enumerate(set(self.labels))}\n",
    "        self.transform = transform\n",
    "        \n",
    "    def __len__(self):\n",
    "        # return length of dataset\n",
    "        return len(self.image_paths)\n",
    "      \n",
    "    def __getitem__(self, idx):\n",
    "        # open and send one image and label\n",
    "        img_name = self.image_paths[idx]\n",
    "        label = self.labels[idx]\n",
    "        image = self.preprocessImage(img_name, transform)\n",
    "        \n",
    "        return image, self.label_to_idx[label]\n",
    "    \n",
    "    # Load image form given path and convert into RGB mode\n",
    "    def preprocessImage(self, path, transform=None):\n",
    "        im = Image.open(path)\n",
    "        if im.mode != \"RGB\":\n",
    "            im = im.convert(\"RGB\")\n",
    "        if transform:\n",
    "            im = transform(im)\n",
    "        return im"
   ]
  },
  {
   "cell_type": "code",
   "execution_count": 7,
   "id": "3604fc87",
   "metadata": {},
   "outputs": [],
   "source": [
    "batch_size = 32 # prefered by alexnet\n",
    "size = 224 # given by alexnet\n",
    "\n",
    "transform = transforms.Compose([\n",
    "        transforms.Resize((size, size)),\n",
    "        transforms.RandomHorizontalFlip(),\n",
    "        transforms.ToTensor(),\n",
    "        transforms.Normalize(mean=[0.485, 0.456, 0.406], std=[0.229, 0.224, 0.225]),\n",
    "    ])"
   ]
  },
  {
   "cell_type": "code",
   "execution_count": 8,
   "id": "eed624df",
   "metadata": {},
   "outputs": [],
   "source": [
    "image_datasets = {\n",
    "    set_type : customImageFolderDataset(root=data_dir + set_type, labels=labels_list, transform=transform)\n",
    "    for set_type in sets\n",
    "}\n",
    "\n",
    "data_loader = {\n",
    "    x: torch.utils.data.DataLoader(image_datasets[x],\n",
    "                                   batch_size=batch_size,\n",
    "                                   shuffle=True,\n",
    "                                   pin_memory=True) for x in sets\n",
    "}"
   ]
  },
  {
   "cell_type": "markdown",
   "id": "d9262d95",
   "metadata": {},
   "source": [
    "Sets shape"
   ]
  },
  {
   "cell_type": "code",
   "execution_count": 9,
   "id": "5d0adbb3",
   "metadata": {},
   "outputs": [
    {
     "name": "stdout",
     "output_type": "stream",
     "text": [
      "Set: train. Images: 37663\n",
      "Set: val. Images: 16\n",
      "Set: test. Images: 484\n"
     ]
    }
   ],
   "source": [
    "for set_type in sets:\n",
    "    print(f\"Set: {set_type}. Images: {len(data_loader[set_type].dataset)}\")"
   ]
  },
  {
   "cell_type": "markdown",
   "id": "26ab29cd",
   "metadata": {},
   "source": [
    "Check labels and images"
   ]
  },
  {
   "cell_type": "code",
   "execution_count": 10,
   "id": "55fcdeeb",
   "metadata": {},
   "outputs": [
    {
     "data": {
      "image/png": "[encoded data removed]",
      "text/plain": [
       "<Figure size 432x288 with 1 Axes>"
      ]
     },
     "metadata": {
      "needs_background": "light"
     },
     "output_type": "display_data"
    }
   ],
   "source": [
    "import numpy as np\n",
    "import matplotlib.pyplot as plt\n",
    "from torchvision.utils import make_grid\n",
    "\n",
    "# Our images are normalized so denormalize then and convert them to numpy\n",
    "def imshow(img, title=None):\n",
    "    img = img.numpy().transpose((1, 2, 0))\n",
    "    mean = np.array([0.485, 0.456, 0.406])\n",
    "    std = np.array([0.229, 0.224, 0.225])\n",
    "    img = std*img + mean\n",
    "    img = np.clip(img, 0, 1)\n",
    "    plt.imshow(img)\n",
    "    if title is not None:\n",
    "        plt.title(title)\n",
    "    plt.pause(0.001)\n",
    "    \n",
    "\n",
    "\n",
    "images, labels = next(iter(data_loader['val']))\n",
    "grid_img = make_grid(images[:4], nrow=4)\n",
    "imshow(grid_img, title = [labels_list[x] for x in labels[:4]])"
   ]
  },
  {
   "cell_type": "markdown",
   "id": "62d9d73f",
   "metadata": {},
   "source": [
    "## IMO model"
   ]
  },
  {
   "cell_type": "markdown",
   "id": "9b89186c",
   "metadata": {},
   "source": [
    "### Modify architecture"
   ]
  },
  {
   "cell_type": "code",
   "execution_count": 11,
   "id": "86047d5c",
   "metadata": {},
   "outputs": [],
   "source": [
    "def newAlexNet(num_labels):\n",
    "    newAlexnet = deepcopy(alexnet)\n",
    "    lastLayer = newAlexnet.classifier[-1] # get usual last layer\n",
    "    newAlexnet.classifier[-1] = nn.Linear(lastLayer.in_features, num_labels) # modify last layer number of outputs (labels to be classified)\n",
    "    return newAlexnet\n",
    "\n",
    "imoAlexnet = newAlexNet(num_labels)"
   ]
  },
  {
   "cell_type": "markdown",
   "id": "6bf0aa43",
   "metadata": {},
   "source": [
    "### Set hiperparameters"
   ]
  },
  {
   "cell_type": "code",
   "execution_count": 12,
   "id": "4ed59422",
   "metadata": {},
   "outputs": [],
   "source": [
    "learning_rate = 0.001\n",
    "epochs = 10"
   ]
  },
  {
   "cell_type": "markdown",
   "id": "6eb57524",
   "metadata": {},
   "source": [
    "### Loss function, optimizer and scheduler"
   ]
  },
  {
   "cell_type": "code",
   "execution_count": 13,
   "id": "78d626d5",
   "metadata": {},
   "outputs": [],
   "source": [
    "loss_fn = nn.CrossEntropyLoss()\n",
    "#optimizer = optim.SGD(imoAlexnet.parameters(), lr=learning_rate, momentum=momentum)\n",
    "#optimizer = optim.Adam(imoAlexnet.parameters(), lr=learning_rate)\n",
    "#optimizer = optim.Adagrad(imoAlexnet.parameters(), lr=learning_rate)\n",
    "optimizer = optim.Adadelta(imoAlexnet.parameters(), lr=learning_rate)\n",
    "scheduler = optim.lr_scheduler.ReduceLROnPlateau(optimizer, 'min', verbose=True)"
   ]
  },
  {
   "cell_type": "markdown",
   "id": "0b42d0e3",
   "metadata": {},
   "source": [
    "### Train loop"
   ]
  },
  {
   "cell_type": "code",
   "execution_count": 14,
   "id": "763db441",
   "metadata": {},
   "outputs": [],
   "source": [
    "def train(model, data_loader, criterion, optimizer, scheduler = None, num_epochs=100, seed=None):\n",
    "    since = time.time()\n",
    "    if seed:\n",
    "        random.seed(seed)\n",
    "    \n",
    "    train_batch_loss = []\n",
    "    train_epoch_loss = []\n",
    "    val_epoch_loss = []\n",
    "    \n",
    "    model.to(device)\n",
    "    \n",
    "    for epoch in range(num_epochs):\n",
    "        print('Epoch {}/{}'.format(epoch+1, num_epochs))\n",
    "        print('-'*15)\n",
    "        \n",
    "        # You perform validation test after every epoch\n",
    "        for phase in [\"train\", \"val\"]:\n",
    "            if phase == 'train':\n",
    "                model.train()\n",
    "            else:\n",
    "                model.eval()\n",
    "                \n",
    "            running_loss = 0; running_corrects = 0;\n",
    "            \n",
    "            num_batches = int(len(data_loader[phase].dataset) / batch_size)\n",
    "            \n",
    "            for idx, (inputs, labels) in enumerate(data_loader[phase]):\n",
    "                inputs = inputs.to(device)\n",
    "                labels = labels.to(device)\n",
    "                \n",
    "                # zero accumulated gradients\n",
    "                optimizer.zero_grad()\n",
    "                \n",
    "                # During train phase we want to remember history for grads\n",
    "                # and during val we do not want history of grads\n",
    "                with torch.set_grad_enabled(phase == 'train'):\n",
    "                    outputs = model(inputs)\n",
    "                    loss = criterion(outputs, labels)\n",
    "                    \n",
    "                    _, preds = torch.max(outputs, 1)\n",
    "                    \n",
    "                    if idx%200 == 0 or idx == num_batches - 1:\n",
    "                        train_batch_loss.append(loss.item())\n",
    "                        print('Epoch {}: {}/{} steps in progress'.format(epoch+1, idx+1, num_batches))\n",
    "                        \n",
    "                    if phase == 'train':\n",
    "                        loss.backward()\n",
    "                        optimizer.step()\n",
    "                        \n",
    "                running_loss += loss.item() * inputs.size(0)\n",
    "                running_corrects += torch.sum(preds == labels.data)\n",
    "                \n",
    "            epoch_loss = running_loss / len(data_loader[phase].dataset)\n",
    "            epoch_acc = running_corrects.double() / len(data_loader[phase].dataset)\n",
    "            \n",
    "            print('{} Loss: {:.4f} Acc: {:.4f}'.format(phase, epoch_loss, epoch_acc))\n",
    "            \n",
    "            if phase == 'val':\n",
    "                val_epoch_loss.append((epoch_loss, epoch_acc))\n",
    "                if scheduler:\n",
    "                    scheduler.step(loss.item())\n",
    "            else:\n",
    "                train_epoch_loss.append((epoch_loss, epoch_acc))\n",
    "                \n",
    "        print()\n",
    "        \n",
    "    time_elapsed = time.time() - since\n",
    "    print('Training complete in {:.0f}m {:.0f}s'.format(time_elapsed // 60, time_elapsed % 60))\n",
    "    \n",
    "    return model"
   ]
  },
  {
   "cell_type": "markdown",
   "id": "17dce639",
   "metadata": {},
   "source": [
    "### Train model with train set"
   ]
  },
  {
   "cell_type": "code",
   "execution_count": 15,
   "id": "3f6ab1b1",
   "metadata": {},
   "outputs": [
    {
     "name": "stdout",
     "output_type": "stream",
     "text": [
      "Epoch 1/10\n",
      "---------------\n",
      "Epoch 1: 1/1176 steps in progress\n",
      "Epoch 1: 201/1176 steps in progress\n",
      "Epoch 1: 401/1176 steps in progress\n",
      "Epoch 1: 601/1176 steps in progress\n",
      "Epoch 1: 801/1176 steps in progress\n",
      "Epoch 1: 1001/1176 steps in progress\n",
      "Epoch 1: 1176/1176 steps in progress\n",
      "train Loss: 0.3003 Acc: 0.8745\n",
      "Epoch 1: 1/0 steps in progress\n",
      "val Loss: 0.1113 Acc: 0.9375\n",
      "\n",
      "Epoch 2/10\n",
      "---------------\n",
      "Epoch 2: 1/1176 steps in progress\n",
      "Epoch 2: 201/1176 steps in progress\n",
      "Epoch 2: 401/1176 steps in progress\n",
      "Epoch 2: 601/1176 steps in progress\n",
      "Epoch 2: 801/1176 steps in progress\n",
      "Epoch 2: 1001/1176 steps in progress\n",
      "Epoch 2: 1176/1176 steps in progress\n",
      "train Loss: 0.1548 Acc: 0.9455\n",
      "Epoch 2: 1/0 steps in progress\n",
      "val Loss: 0.0498 Acc: 1.0000\n",
      "\n",
      "Epoch 3/10\n",
      "---------------\n",
      "Epoch 3: 1/1176 steps in progress\n",
      "Epoch 3: 201/1176 steps in progress\n",
      "Epoch 3: 401/1176 steps in progress\n",
      "Epoch 3: 601/1176 steps in progress\n",
      "Epoch 3: 801/1176 steps in progress\n",
      "Epoch 3: 1001/1176 steps in progress\n",
      "Epoch 3: 1176/1176 steps in progress\n",
      "train Loss: 0.1298 Acc: 0.9556\n",
      "Epoch 3: 1/0 steps in progress\n",
      "val Loss: 0.0139 Acc: 1.0000\n",
      "\n",
      "Epoch 4/10\n",
      "---------------\n",
      "Epoch 4: 1/1176 steps in progress\n",
      "Epoch 4: 201/1176 steps in progress\n",
      "Epoch 4: 401/1176 steps in progress\n",
      "Epoch 4: 601/1176 steps in progress\n",
      "Epoch 4: 801/1176 steps in progress\n",
      "Epoch 4: 1001/1176 steps in progress\n",
      "Epoch 4: 1176/1176 steps in progress\n",
      "train Loss: 0.1174 Acc: 0.9600\n",
      "Epoch 4: 1/0 steps in progress\n",
      "val Loss: 0.0067 Acc: 1.0000\n",
      "\n",
      "Epoch 5/10\n",
      "---------------\n",
      "Epoch 5: 1/1176 steps in progress\n",
      "Epoch 5: 201/1176 steps in progress\n",
      "Epoch 5: 401/1176 steps in progress\n",
      "Epoch 5: 601/1176 steps in progress\n",
      "Epoch 5: 801/1176 steps in progress\n",
      "Epoch 5: 1001/1176 steps in progress\n",
      "Epoch 5: 1176/1176 steps in progress\n",
      "train Loss: 0.1087 Acc: 0.9632\n",
      "Epoch 5: 1/0 steps in progress\n",
      "val Loss: 0.0033 Acc: 1.0000\n",
      "\n",
      "Epoch 6/10\n",
      "---------------\n",
      "Epoch 6: 1/1176 steps in progress\n",
      "Epoch 6: 201/1176 steps in progress\n",
      "Epoch 6: 401/1176 steps in progress\n",
      "Epoch 6: 601/1176 steps in progress\n",
      "Epoch 6: 801/1176 steps in progress\n",
      "Epoch 6: 1001/1176 steps in progress\n",
      "Epoch 6: 1176/1176 steps in progress\n",
      "train Loss: 0.1028 Acc: 0.9651\n",
      "Epoch 6: 1/0 steps in progress\n",
      "val Loss: 0.0027 Acc: 1.0000\n",
      "\n",
      "Epoch 7/10\n",
      "---------------\n",
      "Epoch 7: 1/1176 steps in progress\n",
      "Epoch 7: 201/1176 steps in progress\n",
      "Epoch 7: 401/1176 steps in progress\n",
      "Epoch 7: 601/1176 steps in progress\n",
      "Epoch 7: 801/1176 steps in progress\n",
      "Epoch 7: 1001/1176 steps in progress\n",
      "Epoch 7: 1176/1176 steps in progress\n",
      "train Loss: 0.0996 Acc: 0.9659\n",
      "Epoch 7: 1/0 steps in progress\n",
      "val Loss: 0.0017 Acc: 1.0000\n",
      "\n",
      "Epoch 8/10\n",
      "---------------\n",
      "Epoch 8: 1/1176 steps in progress\n",
      "Epoch 8: 201/1176 steps in progress\n",
      "Epoch 8: 401/1176 steps in progress\n",
      "Epoch 8: 601/1176 steps in progress\n",
      "Epoch 8: 801/1176 steps in progress\n",
      "Epoch 8: 1001/1176 steps in progress\n",
      "Epoch 8: 1176/1176 steps in progress\n",
      "train Loss: 0.0939 Acc: 0.9678\n",
      "Epoch 8: 1/0 steps in progress\n",
      "val Loss: 0.0015 Acc: 1.0000\n",
      "\n",
      "Epoch 9/10\n",
      "---------------\n",
      "Epoch 9: 1/1176 steps in progress\n",
      "Epoch 9: 201/1176 steps in progress\n",
      "Epoch 9: 401/1176 steps in progress\n",
      "Epoch 9: 601/1176 steps in progress\n",
      "Epoch 9: 801/1176 steps in progress\n",
      "Epoch 9: 1001/1176 steps in progress\n",
      "Epoch 9: 1176/1176 steps in progress\n",
      "train Loss: 0.0907 Acc: 0.9689\n",
      "Epoch 9: 1/0 steps in progress\n",
      "val Loss: 0.0015 Acc: 1.0000\n",
      "\n",
      "Epoch 10/10\n",
      "---------------\n",
      "Epoch 10: 1/1176 steps in progress\n",
      "Epoch 10: 201/1176 steps in progress\n",
      "Epoch 10: 401/1176 steps in progress\n",
      "Epoch 10: 601/1176 steps in progress\n",
      "Epoch 10: 801/1176 steps in progress\n",
      "Epoch 10: 1001/1176 steps in progress\n",
      "Epoch 10: 1176/1176 steps in progress\n",
      "train Loss: 0.0876 Acc: 0.9705\n",
      "Epoch 10: 1/0 steps in progress\n",
      "val Loss: 0.0013 Acc: 1.0000\n",
      "\n",
      "Training complete in 188m 14s\n"
     ]
    }
   ],
   "source": [
    "trainedImoModel = train(imoAlexnet, data_loader, loss_fn, optimizer, scheduler, epochs, seed=123)"
   ]
  },
  {
   "cell_type": "markdown",
   "id": "1bb3d917",
   "metadata": {},
   "source": [
    "Evaluate model over test set"
   ]
  },
  {
   "cell_type": "code",
   "execution_count": 16,
   "id": "a7d739aa",
   "metadata": {},
   "outputs": [],
   "source": [
    "def calculateConfusionMatrix(model, labs, data_loader, set_name, plot=False):\n",
    "    num_labels = len(labs)\n",
    "    confMatrix = np.zeros((num_labels, num_labels), dtype=int)\n",
    "    model.eval()\n",
    "    for batchNum, (inputs, labels) in enumerate(data_loader[set_name]):\n",
    "        outputs = model(inputs)\n",
    "        _, preds = torch.max(outputs, 1)\n",
    "        for i, pred in enumerate(preds):\n",
    "            confMatrix[pred, labels[i]] += 1\n",
    "        \n",
    "    testAcc = confMatrix.trace() / confMatrix.sum()\n",
    "    if plot:\n",
    "        plotConfusionMatrix(labs, confMatrix)\n",
    "    return testAcc, confMatrix\n",
    "        \n",
    "def plotConfusionMatrix(labels, confMatrix):\n",
    "    import seaborn as sns\n",
    "    x_axis_labels = labels # labels for x-axis\n",
    "    y_axis_labels = labels # labels for y-axis\n",
    "    ax = sns.heatmap(confMatrix, cmap=\"Blues\", annot=True, fmt=\"d\", xticklabels=x_axis_labels, yticklabels=y_axis_labels)\n",
    "    plt.xlabel(\"Predicted label\")\n",
    "    plt.ylabel(\"True label\")\n",
    "    plt.title(\"Confusion matrix\");\n",
    "    plt.show()"
   ]
  },
  {
   "cell_type": "markdown",
   "id": "40398187",
   "metadata": {},
   "source": [
    "### Evaluate model"
   ]
  },
  {
   "cell_type": "markdown",
   "id": "f6e13ae3",
   "metadata": {},
   "source": [
    "#### Train evaluation"
   ]
  },
  {
   "cell_type": "code",
   "execution_count": 17,
   "id": "318638f7",
   "metadata": {},
   "outputs": [
    {
     "data": {
      "image/png": "[encoded data removed]",
      "text/plain": [
       "<Figure size 432x288 with 2 Axes>"
      ]
     },
     "metadata": {
      "needs_background": "light"
     },
     "output_type": "display_data"
    },
    {
     "name": "stdout",
     "output_type": "stream",
     "text": [
      "Train set accuracy: 0.9729177176539309\n"
     ]
    }
   ],
   "source": [
    "trainedImoModel.eval() # set model to be evaluated (ignore grads)\n",
    "trnAcc, trnConfMatrix = calculateConfusionMatrix(trainedImoModel, labels_list, data_loader, \"train\", plot=True)\n",
    "print(f'Train set accuracy: {trnAcc}')"
   ]
  },
  {
   "cell_type": "code",
   "execution_count": 18,
   "id": "b0d3dd7e",
   "metadata": {},
   "outputs": [
    {
     "name": "stdout",
     "output_type": "stream",
     "text": [
      "Train accuracy by label: {'DME': 0.9879916397491925, 'NORMAL': 0.937962636587945}\n"
     ]
    }
   ],
   "source": [
    "trnAccLabel = {labels_list[lab]: trnConfMatrix[lab, lab] / sum(trnConfMatrix[:, lab]) for lab in range(num_labels)}\n",
    "print(f\"Train accuracy by label: {trnAccLabel}\")"
   ]
  },
  {
   "cell_type": "markdown",
   "id": "cd3312ae",
   "metadata": {},
   "source": [
    "#### Test evaluation"
   ]
  },
  {
   "cell_type": "code",
   "execution_count": 19,
   "id": "35c4dcbe",
   "metadata": {},
   "outputs": [
    {
     "data": {
      "image/png": "[encoded data removed]",
      "text/plain": [
       "<Figure size 432x288 with 2 Axes>"
      ]
     },
     "metadata": {
      "needs_background": "light"
     },
     "output_type": "display_data"
    },
    {
     "name": "stdout",
     "output_type": "stream",
     "text": [
      "Test set accuracy: 0.9958677685950413\n"
     ]
    }
   ],
   "source": [
    "trainedImoModel.eval() # set model to be evaluated (ignore grads)\n",
    "tstAcc, tstConfMatrix = calculateConfusionMatrix(trainedImoModel, labels_list, data_loader, \"test\", plot=True)\n",
    "print(f'Test set accuracy: {tstAcc}')"
   ]
  },
  {
   "cell_type": "code",
   "execution_count": 20,
   "id": "78905209",
   "metadata": {},
   "outputs": [
    {
     "name": "stdout",
     "output_type": "stream",
     "text": [
      "Test accuracy by label: {'DME': 1.0, 'NORMAL': 0.9917355371900827}\n"
     ]
    }
   ],
   "source": [
    "tstAccLabel = {labels_list[lab]: tstConfMatrix[lab, lab] / sum(tstConfMatrix[:, lab]) for lab in range(num_labels)}\n",
    "print(f\"Test accuracy by label: {tstAccLabel}\")"
   ]
  },
  {
   "cell_type": "markdown",
   "id": "8c7b5916",
   "metadata": {},
   "source": [
    "Save model into files (saved models listed in file)"
   ]
  },
  {
   "cell_type": "code",
   "execution_count": 21,
   "id": "54e3108b",
   "metadata": {},
   "outputs": [],
   "source": [
    "netVer = len(os.listdir(netsPath))\n",
    "netType = \"alexnet\"\n",
    "netID = \"_\".join([netType, str(netVer), '_'.join(labels_list)])\n",
    "torch.save(trainedImoModel, netsPath + netID + \".pth\")"
   ]
  },
  {
   "cell_type": "markdown",
   "id": "7a6d2c6e",
   "metadata": {},
   "source": [
    "Load saved model (if needed)"
   ]
  },
  {
   "cell_type": "code",
   "execution_count": 22,
   "id": "1acb9491",
   "metadata": {},
   "outputs": [
    {
     "ename": "NameError",
     "evalue": "name 'path' is not defined",
     "output_type": "error",
     "traceback": [
      "\u001b[0;31m---------------------------------------------------------------------------\u001b[0m",
      "\u001b[0;31mNameError\u001b[0m                                 Traceback (most recent call last)",
      "\u001b[0;32m<ipython-input-22-3b33dd2c9181>\u001b[0m in \u001b[0;36m<module>\u001b[0;34m\u001b[0m\n\u001b[0;32m----> 1\u001b[0;31m \u001b[0mmodel\u001b[0m \u001b[0;34m=\u001b[0m \u001b[0mtorch\u001b[0m\u001b[0;34m.\u001b[0m\u001b[0mload\u001b[0m\u001b[0;34m(\u001b[0m\u001b[0mpath\u001b[0m \u001b[0;34m+\u001b[0m \u001b[0mnetID\u001b[0m \u001b[0;34m+\u001b[0m \u001b[0;34m\".pth\"\u001b[0m\u001b[0;34m)\u001b[0m\u001b[0;34m\u001b[0m\u001b[0;34m\u001b[0m\u001b[0m\n\u001b[0m\u001b[1;32m      2\u001b[0m \u001b[0mmodel\u001b[0m\u001b[0;34m.\u001b[0m\u001b[0meval\u001b[0m\u001b[0;34m(\u001b[0m\u001b[0;34m)\u001b[0m\u001b[0;34m\u001b[0m\u001b[0;34m\u001b[0m\u001b[0m\n",
      "\u001b[0;31mNameError\u001b[0m: name 'path' is not defined"
     ]
    }
   ],
   "source": [
    "model = torch.load(path + netID + \".pth\")\n",
    "model.eval()"
   ]
  }
 ],
 "metadata": {
  "kernelspec": {
   "display_name": "Python 3",
   "language": "python",
   "name": "python3"
  },
  "language_info": {
   "codemirror_mode": {
    "name": "ipython",
    "version": 3
   },
   "file_extension": ".py",
   "mimetype": "text/x-python",
   "name": "python",
   "nbconvert_exporter": "python",
   "pygments_lexer": "ipython3",
   "version": "3.8.5"
  }
 },
 "nbformat": 4,
 "nbformat_minor": 5
}
