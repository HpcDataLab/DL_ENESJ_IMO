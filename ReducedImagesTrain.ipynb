{
 "cells": [
  {
   "cell_type": "code",
   "execution_count": 15,
   "metadata": {},
   "outputs": [],
   "source": [
    "import tensorflow as tf\n",
    "from tensorflow import keras\n",
    "from keras.layers import Dense, GlobalAveragePooling2D\n",
    "import os\n",
    "import cv2\n",
    "import pickle\n",
    "from tensorflow.keras.optimizers import SGD, Adam\n",
    "from tensorflow.keras.models import Model\n",
    "\n",
    "\n",
    "from imblearn.under_sampling import RandomUnderSampler\n",
    "from keras.utils.np_utils import to_categorical\n",
    "import seaborn as sns\n",
    "import matplotlib.pyplot as plt\n",
    "import numpy as np\n",
    "\n",
    "%load_ext tensorboard"
   ]
  },
  {
   "cell_type": "code",
   "execution_count": 2,
   "metadata": {},
   "outputs": [],
   "source": [
    "dataPath = \"../../data/OCT/OCT2017/\""
   ]
  },
  {
   "cell_type": "code",
   "execution_count": 3,
   "metadata": {},
   "outputs": [
    {
     "name": "stdout",
     "output_type": "stream",
     "text": [
      "Total Number of Classes Detected : 4\n"
     ]
    }
   ],
   "source": [
    "labels_available = os.listdir(os.path.join(dataPath, \"train\"))\n",
    "print(\"Total Number of Classes Detected :\",len(labels_available))\n",
    "\n",
    "labels_list = ['NORMAL',\"CNV\",\"DME\",\"DRUSEN\"]"
   ]
  },
  {
   "cell_type": "code",
   "execution_count": 4,
   "metadata": {},
   "outputs": [
    {
     "name": "stdout",
     "output_type": "stream",
     "text": [
      "NORMAL CNV DME DRUSEN "
     ]
    }
   ],
   "source": [
    "images=[]\n",
    "y_trn=[]\n",
    "for x in labels_list:\n",
    "    xPath = os.path.join(dataPath, \"train\", x)\n",
    "    myPicList = os.listdir(xPath)\n",
    "    for y in myPicList:\n",
    "        images.append(cv2.imread(os.path.join(xPath, y)))\n",
    "        y_trn.append(labels_list.index(x))\n",
    "    print(x ,end=\" \")\n",
    "\n",
    "y_train = to_categorical(y_trn,len(labels_list))"
   ]
  },
  {
   "cell_type": "code",
   "execution_count": 5,
   "metadata": {},
   "outputs": [
    {
     "name": "stdout",
     "output_type": "stream",
     "text": [
      "NORMAL CNV DME DRUSEN "
     ]
    }
   ],
   "source": [
    "x_val=[]\n",
    "y_val=[]\n",
    "for x in labels_list:\n",
    "    xPath = os.path.join(dataPath, \"val\", x)\n",
    "    myPicList = os.listdir(xPath)\n",
    "    for y in myPicList:\n",
    "        x_val.append(cv2.imread(os.path.join(xPath, y)))\n",
    "        y_val.append(labels_list.index(x))\n",
    "    print(x ,end=\" \")\n",
    "\n",
    "y_validation = to_categorical(y_val,len(labels_list))"
   ]
  },
  {
   "cell_type": "code",
   "execution_count": 6,
   "metadata": {},
   "outputs": [
    {
     "name": "stdout",
     "output_type": "stream",
     "text": [
      "NORMAL CNV DME DRUSEN "
     ]
    }
   ],
   "source": [
    "x_tst=[]\n",
    "y_tst=[]\n",
    "for x in labels_list:\n",
    "    xPath = os.path.join(dataPath, \"test\", x)\n",
    "    myPicList = os.listdir(xPath)\n",
    "    for y in myPicList:\n",
    "        x_tst.append(cv2.imread(os.path.join(xPath, y)))\n",
    "        y_tst.append(labels_list.index(x))\n",
    "    print(x ,end=\" \")"
   ]
  },
  {
   "cell_type": "code",
   "execution_count": 65,
   "metadata": {},
   "outputs": [],
   "source": [
    "def resizeIm(im, size):\n",
    "    if im.shape[2] == 1:\n",
    "        im = cv2.cvtColor(im,cv2.COLOR_GRAY2RGB)\n",
    "    return cv2.resize(im, size)\n",
    "\n",
    "def resizeIms(x, size):\n",
    "    return np.array(list(map(lambda im: resizeIm(im, size), x)))"
   ]
  },
  {
   "cell_type": "code",
   "execution_count": 66,
   "metadata": {},
   "outputs": [],
   "source": [
    "class CustomCallback(tf.keras.callbacks.Callback):\n",
    "    def __init__(self,fraction, model):\n",
    "        super(CustomCallback,self).__init__()\n",
    "        self.fraction = fraction\n",
    "        self.train_a = [];\n",
    "        self.val_a =[];\n",
    "        self.logPath = os.path.join(model, \"log.txt\")\n",
    "\n",
    "        if not os.path.isdir(model):\n",
    "            os.mkdir(model)\n",
    "\n",
    "        with open(self.logPath,'w') as f:\n",
    "            f.write('Starting of logging..\\n')\n",
    "\n",
    "        self.fig = plt.figure(figsize=(4,3))\n",
    "        self.ax = plt.subplot(1,1,1)\n",
    "        plt.ion()\n",
    "\n",
    "    def on_train_begin(self,logs=None):\n",
    "        self.fig.show()\n",
    "        self.fig.canvas.draw()\n",
    "\n",
    "    def on_train_end(self,logs=None):\n",
    "        with open(self.logPath,'a') as f:\n",
    "              f.write('End of logging..\\n')\n",
    "    \n",
    "    def on_epoch_begin(self,epoch,logs=None):\n",
    "        lr= tf.keras.backend.get_value(self.model.optimizer.lr)\n",
    "        lr *= self.fraction\n",
    "        tf.keras.backend.set_value(self.model.optimizer.lr,lr)\n",
    "        with open(self.logPath,'a') as f:\n",
    "            f.write('At epoch {:02d}, learning rate changed to {:.4f}\\n'.format(epoch,lr))\n",
    "    \n",
    "    def on_epoch_end(self,epoch,logs=None):\n",
    "        val_acc = logs.get('val_accuracy')\n",
    "        train_acc = logs.get('accuracy')\n",
    "        self.train_a.append(train_acc)\n",
    "        self.val_a.append(val_acc)\n",
    "        with open(self.logPath,'a') as f:\n",
    "            f.write('At epoch {:02d}, training accuracy: {:.3f}, validation accuracy: {:.3f}\\n'.format(epoch,train_acc,val_acc))\n",
    "        self.ax.clear()\n",
    "        self.ax.plot(range(1+epoch),self.train_a,label=\"Training\")\n",
    "        self.ax.plot(range(1+epoch),self.val_a,label=\"Validation\")\n",
    "        self.ax.set_xlabel('Epochs')\n",
    "        self.ax.set_ylabel('Accuracy')\n",
    "        self.ax.legend()\n",
    "        self.fig.canvas.draw()\n",
    "        self.fig.show()"
   ]
  },
  {
   "cell_type": "markdown",
   "metadata": {},
   "source": [
    "## Load models"
   ]
  },
  {
   "cell_type": "code",
   "execution_count": 67,
   "metadata": {},
   "outputs": [],
   "source": [
    "# xception base model\n",
    "from tensorflow.keras.applications.xception import Xception\n",
    "from tensorflow.keras.applications.xception import preprocess_input, decode_predictions\n",
    "xceptionNetModel = Xception(weights='imagenet')\n",
    "\n",
    "# opticnet base model\n",
    "opticNetModel = tf.keras.models.load_model('../Optic_net-4_classes-Kermany2018.hdf5')\n",
    "\n",
    "# resnet base model\n",
    "from tensorflow.keras.applications.resnet50 import ResNet50\n",
    "from tensorflow.keras.applications.resnet50 import preprocess_input, decode_predictions\n",
    "\n",
    "resNetModel = ResNet50(weights='imagenet')"
   ]
  },
  {
   "cell_type": "code",
   "execution_count": 68,
   "metadata": {},
   "outputs": [],
   "source": [
    "def emptyModelGenerator(model):\n",
    "    model = model.lower()\n",
    "    if model == \"resnet\":\n",
    "        x = resNetModel.output\n",
    "        predictions = Dense(len(labels_list), activation='softmax')(x)\n",
    "        newModel = Model(inputs=resNetModel.input, outputs=predictions)\n",
    "        size = (224, 224)\n",
    "    elif model == \"xception\":\n",
    "        x = xceptionNetModel.output\n",
    "        predictions = Dense(len(labels_list), activation='softmax')(x)\n",
    "        newModel = Model(inputs=xceptionNetModel.input, outputs=predictions)\n",
    "        size = (299, 299)\n",
    "    elif model == \"opticnet\":\n",
    "        newModel = tf.keras.models.load_model('../Optic_net-4_classes-Kermany2018.hdf5')\n",
    "        size = (224, 224)\n",
    "    return newModel, size\n",
    "\n",
    "\n",
    "def testPredict(model, size, name=None):\n",
    "    X_test = resizeIms(x_tst, size)\n",
    "    X_test = np.array(X_test)\n",
    "    Y_test = np.array(y_tst)\n",
    "    \n",
    "    prediction = model.predict(X_test)\n",
    "    preds = np.argmax(prediction, axis=1)\n",
    "    acc = sum(preds == Y_test) / len(Y_test)\n",
    "    print(f'Test acc for {name if name else \"model\"}: {acc:.6f}')\n",
    "    \n",
    "\n",
    "def computeConfussionMatrix(predictions, labels):\n",
    "    num_labels = len(labels_list)\n",
    "    cMatrix = np.zeros(shape=(num_labels, num_labels))\n",
    "    for i in len(predictions):\n",
    "        p = int(predictions[i])\n",
    "        t = int(predictions[i])\n",
    "        cMatrix[t, p] += 1\n",
    "    print(cMatrix)\n",
    "    ax = sns.heatmap(cMatrix, cmap=\"Blues\", annot=True, fmt=\"d\", xticklabels=labels_list, yticklabels=labels_list)\n",
    "    plt.xlabel(\"Predicted label\")\n",
    "    plt.ylabel(\"True label\")\n",
    "    plt.title(\"Confusion matrix\")\n",
    "    plt.show();\n",
    "    return cMatrix\n",
    "    \n"
   ]
  },
  {
   "cell_type": "code",
   "execution_count": 69,
   "metadata": {},
   "outputs": [],
   "source": [
    "optim = Adam(learning_rate=0.001)\n",
    "epochs = 30\n",
    "batch_size = 50"
   ]
  },
  {
   "cell_type": "code",
   "execution_count": 71,
   "metadata": {},
   "outputs": [
    {
     "name": "stdout",
     "output_type": "stream",
     "text": [
      "Labels fraction: [0.10115903 0.10044349 0.09834332 0.09668059]\n",
      "Training xception for 0.1% of train size (aka 8348 images)...\n"
     ]
    },
    {
     "name": "stderr",
     "output_type": "stream",
     "text": [
      "<ipython-input-66-797fd00c81c1>:20: UserWarning: Matplotlib is currently using module://ipykernel.pylab.backend_inline, which is a non-GUI backend, so cannot show the figure.\n",
      "  self.fig.show()\n"
     ]
    },
    {
     "name": "stdout",
     "output_type": "stream",
     "text": [
      "Epoch 1/30\n",
      "  6/167 [>.............................] - ETA: 3:18 - loss: 1.3869 - accuracy: 0.1434WARNING:tensorflow:Callback method `on_train_batch_begin` is slow compared to the batch time (batch time: 0.1561s vs `on_train_batch_begin` time: 0.1779s). Check your callbacks.\n",
      "WARNING:tensorflow:Callback method `on_train_batch_end` is slow compared to the batch time (batch time: 0.1561s vs `on_train_batch_end` time: 0.8046s). Check your callbacks.\n",
      "167/167 [==============================] - 134s 770ms/step - loss: 1.3240 - accuracy: 0.5379 - val_loss: 1.2862 - val_accuracy: 0.5000\n"
     ]
    },
    {
     "name": "stderr",
     "output_type": "stream",
     "text": [
      "<ipython-input-66-797fd00c81c1>:48: UserWarning: Matplotlib is currently using module://ipykernel.pylab.backend_inline, which is a non-GUI backend, so cannot show the figure.\n",
      "  self.fig.show()\n"
     ]
    },
    {
     "name": "stdout",
     "output_type": "stream",
     "text": [
      "Epoch 2/30\n",
      "167/167 [==============================] - 128s 765ms/step - loss: 1.1178 - accuracy: 0.7646 - val_loss: 1.2015 - val_accuracy: 0.6250\n",
      "Epoch 3/30\n",
      "167/167 [==============================] - 129s 773ms/step - loss: 0.9766 - accuracy: 0.8686 - val_loss: 1.0372 - val_accuracy: 0.5938\n",
      "Epoch 4/30\n",
      "167/167 [==============================] - 128s 768ms/step - loss: 0.8353 - accuracy: 0.9250 - val_loss: 0.8896 - val_accuracy: 0.9375\n",
      "Epoch 5/30\n",
      "167/167 [==============================] - 129s 771ms/step - loss: 0.7355 - accuracy: 0.9426 - val_loss: 0.7862 - val_accuracy: 0.9375\n",
      "Epoch 6/30\n",
      "167/167 [==============================] - 128s 768ms/step - loss: 0.6618 - accuracy: 0.9457 - val_loss: 0.9326 - val_accuracy: 0.8438\n",
      "Epoch 7/30\n",
      "167/167 [==============================] - 128s 768ms/step - loss: 0.6049 - accuracy: 0.9497 - val_loss: 0.6107 - val_accuracy: 1.0000\n",
      "Epoch 8/30\n",
      "167/167 [==============================] - 128s 767ms/step - loss: 0.5513 - accuracy: 0.9608 - val_loss: 0.5962 - val_accuracy: 0.9688\n",
      "Epoch 9/30\n",
      "167/167 [==============================] - 128s 766ms/step - loss: 0.5125 - accuracy: 0.9580 - val_loss: 0.5964 - val_accuracy: 0.9688\n",
      "Epoch 10/30\n",
      "167/167 [==============================] - 128s 766ms/step - loss: 0.4730 - accuracy: 0.9692 - val_loss: 0.4963 - val_accuracy: 1.0000\n",
      "Epoch 11/30\n",
      "167/167 [==============================] - 128s 767ms/step - loss: 0.4509 - accuracy: 0.9646 - val_loss: 0.4689 - val_accuracy: 1.0000\n",
      "Epoch 12/30\n",
      "167/167 [==============================] - 128s 764ms/step - loss: 0.4245 - accuracy: 0.9676 - val_loss: 0.4458 - val_accuracy: 1.0000\n",
      "Epoch 13/30\n",
      "167/167 [==============================] - 130s 777ms/step - loss: 0.3993 - accuracy: 0.9735 - val_loss: 0.4244 - val_accuracy: 1.0000\n",
      "Epoch 14/30\n",
      "167/167 [==============================] - 128s 765ms/step - loss: 0.3841 - accuracy: 0.9737 - val_loss: 0.4064 - val_accuracy: 1.0000\n",
      "Epoch 15/30\n",
      "167/167 [==============================] - 129s 772ms/step - loss: 0.3586 - accuracy: 0.9798 - val_loss: 0.3902 - val_accuracy: 1.0000\n",
      "Epoch 16/30\n",
      "167/167 [==============================] - 128s 768ms/step - loss: 0.3514 - accuracy: 0.9794 - val_loss: 0.3762 - val_accuracy: 1.0000\n",
      "Epoch 17/30\n",
      "167/167 [==============================] - 129s 771ms/step - loss: 0.3392 - accuracy: 0.9799 - val_loss: 0.3636 - val_accuracy: 1.0000\n",
      "Epoch 18/30\n",
      "167/167 [==============================] - 129s 771ms/step - loss: 0.3281 - accuracy: 0.9820 - val_loss: 0.3526 - val_accuracy: 1.0000\n",
      "Epoch 19/30\n",
      "167/167 [==============================] - 129s 773ms/step - loss: 0.3136 - accuracy: 0.9838 - val_loss: 0.3429 - val_accuracy: 1.0000\n",
      "Epoch 20/30\n",
      "167/167 [==============================] - 128s 765ms/step - loss: 0.3056 - accuracy: 0.9827 - val_loss: 0.3341 - val_accuracy: 1.0000\n",
      "Epoch 21/30\n",
      "167/167 [==============================] - 129s 772ms/step - loss: 0.2992 - accuracy: 0.9839 - val_loss: 0.3264 - val_accuracy: 1.0000\n",
      "Epoch 22/30\n",
      "167/167 [==============================] - 128s 769ms/step - loss: 0.2898 - accuracy: 0.9863 - val_loss: 0.3194 - val_accuracy: 1.0000\n",
      "Epoch 23/30\n",
      "167/167 [==============================] - 130s 776ms/step - loss: 0.2843 - accuracy: 0.9866 - val_loss: 0.3133 - val_accuracy: 1.0000\n",
      "Epoch 24/30\n",
      "167/167 [==============================] - 128s 769ms/step - loss: 0.2740 - accuracy: 0.9876 - val_loss: 0.3078 - val_accuracy: 1.0000\n",
      "Epoch 25/30\n",
      "167/167 [==============================] - 128s 769ms/step - loss: 0.2774 - accuracy: 0.9844 - val_loss: 0.3030 - val_accuracy: 1.0000\n",
      "Epoch 26/30\n",
      "167/167 [==============================] - 130s 775ms/step - loss: 0.2680 - accuracy: 0.9878 - val_loss: 0.2986 - val_accuracy: 1.0000\n",
      "Epoch 27/30\n",
      "167/167 [==============================] - 129s 771ms/step - loss: 0.2641 - accuracy: 0.9878 - val_loss: 0.2945 - val_accuracy: 1.0000\n",
      "Epoch 28/30\n",
      "167/167 [==============================] - 129s 771ms/step - loss: 0.2641 - accuracy: 0.9867 - val_loss: 0.2910 - val_accuracy: 1.0000\n",
      "Epoch 29/30\n",
      "167/167 [==============================] - 129s 770ms/step - loss: 0.2571 - accuracy: 0.9888 - val_loss: 0.2878 - val_accuracy: 1.0000\n",
      "Epoch 30/30\n",
      "167/167 [==============================] - 128s 768ms/step - loss: 0.2535 - accuracy: 0.9884 - val_loss: 0.2849 - val_accuracy: 1.0000\n",
      "INFO:tensorflow:Assets written to: ../xception/xception_30epochs_8348.4 images/assets\n",
      "Test acc for xception: 0.986570\n",
      "Done!\n",
      "--------------------------------------------------\n",
      "\n",
      "Training resnet for 0.1% of train size (aka 8348 images)...\n"
     ]
    },
    {
     "name": "stderr",
     "output_type": "stream",
     "text": [
      "<ipython-input-66-797fd00c81c1>:20: UserWarning: Matplotlib is currently using module://ipykernel.pylab.backend_inline, which is a non-GUI backend, so cannot show the figure.\n",
      "  self.fig.show()\n"
     ]
    },
    {
     "name": "stdout",
     "output_type": "stream",
     "text": [
      "Epoch 1/30\n",
      "  6/167 [>.............................] - ETA: 1:47 - loss: 1.3480 - accuracy: 0.5238WARNING:tensorflow:Callback method `on_train_batch_begin` is slow compared to the batch time (batch time: 0.1001s vs `on_train_batch_begin` time: 0.1612s). Check your callbacks.\n",
      "WARNING:tensorflow:Callback method `on_train_batch_end` is slow compared to the batch time (batch time: 0.1001s vs `on_train_batch_end` time: 0.3243s). Check your callbacks.\n",
      "167/167 [==============================] - 44s 225ms/step - loss: 1.2941 - accuracy: 0.6698 - val_loss: 1.4108 - val_accuracy: 0.2500\n"
     ]
    },
    {
     "name": "stderr",
     "output_type": "stream",
     "text": [
      "<ipython-input-66-797fd00c81c1>:48: UserWarning: Matplotlib is currently using module://ipykernel.pylab.backend_inline, which is a non-GUI backend, so cannot show the figure.\n",
      "  self.fig.show()\n"
     ]
    },
    {
     "name": "stdout",
     "output_type": "stream",
     "text": [
      "Epoch 2/30\n",
      "167/167 [==============================] - 33s 198ms/step - loss: 1.1309 - accuracy: 0.7400 - val_loss: 1.3028 - val_accuracy: 0.5000\n",
      "Epoch 3/30\n",
      "167/167 [==============================] - 33s 199ms/step - loss: 1.0128 - accuracy: 0.7571 - val_loss: 1.3246 - val_accuracy: 0.4375\n",
      "Epoch 4/30\n",
      "167/167 [==============================] - 33s 199ms/step - loss: 0.9142 - accuracy: 0.8140 - val_loss: 1.2566 - val_accuracy: 0.5000\n",
      "Epoch 5/30\n",
      "167/167 [==============================] - 33s 199ms/step - loss: 0.8528 - accuracy: 0.8199 - val_loss: 1.3955 - val_accuracy: 0.4688\n",
      "Epoch 6/30\n",
      "167/167 [==============================] - 33s 199ms/step - loss: 0.7957 - accuracy: 0.8339 - val_loss: 1.0670 - val_accuracy: 0.6875\n",
      "Epoch 7/30\n",
      "167/167 [==============================] - 33s 199ms/step - loss: 0.7341 - accuracy: 0.8547 - val_loss: 1.1764 - val_accuracy: 0.5312\n",
      "Epoch 8/30\n",
      "167/167 [==============================] - 33s 199ms/step - loss: 0.6925 - accuracy: 0.8628 - val_loss: 1.0615 - val_accuracy: 0.6250\n",
      "Epoch 9/30\n",
      "167/167 [==============================] - 33s 199ms/step - loss: 0.6660 - accuracy: 0.8560 - val_loss: 0.8789 - val_accuracy: 0.7500\n",
      "Epoch 10/30\n",
      "167/167 [==============================] - 33s 199ms/step - loss: 0.6231 - accuracy: 0.8640 - val_loss: 0.8894 - val_accuracy: 0.7188\n",
      "Epoch 11/30\n",
      "167/167 [==============================] - 33s 199ms/step - loss: 0.5960 - accuracy: 0.8672 - val_loss: 0.8240 - val_accuracy: 0.7188\n",
      "Epoch 12/30\n",
      "167/167 [==============================] - 33s 199ms/step - loss: 0.5695 - accuracy: 0.8688 - val_loss: 0.7379 - val_accuracy: 0.7500\n",
      "Epoch 13/30\n",
      "167/167 [==============================] - 33s 199ms/step - loss: 0.5284 - accuracy: 0.8808 - val_loss: 0.6658 - val_accuracy: 0.9062\n",
      "Epoch 14/30\n",
      "167/167 [==============================] - 33s 199ms/step - loss: 0.4906 - accuracy: 0.9359 - val_loss: 0.5590 - val_accuracy: 0.9375\n",
      "Epoch 15/30\n",
      "167/167 [==============================] - 33s 199ms/step - loss: 0.4726 - accuracy: 0.9383 - val_loss: 0.5138 - val_accuracy: 1.0000\n",
      "Epoch 16/30\n",
      "167/167 [==============================] - 33s 199ms/step - loss: 0.4540 - accuracy: 0.9414 - val_loss: 0.4949 - val_accuracy: 1.0000\n",
      "Epoch 17/30\n",
      "167/167 [==============================] - 33s 199ms/step - loss: 0.4309 - accuracy: 0.9514 - val_loss: 0.4778 - val_accuracy: 1.0000\n",
      "Epoch 18/30\n",
      "167/167 [==============================] - 33s 199ms/step - loss: 0.4206 - accuracy: 0.9524 - val_loss: 0.4687 - val_accuracy: 0.9688\n",
      "Epoch 19/30\n",
      "167/167 [==============================] - 33s 199ms/step - loss: 0.4015 - accuracy: 0.9560 - val_loss: 0.4539 - val_accuracy: 1.0000\n",
      "Epoch 20/30\n",
      "167/167 [==============================] - 33s 199ms/step - loss: 0.3985 - accuracy: 0.9573 - val_loss: 0.4393 - val_accuracy: 1.0000\n",
      "Epoch 21/30\n",
      "167/167 [==============================] - 33s 199ms/step - loss: 0.3794 - accuracy: 0.9593 - val_loss: 0.4289 - val_accuracy: 1.0000\n",
      "Epoch 22/30\n",
      "167/167 [==============================] - 33s 199ms/step - loss: 0.3680 - accuracy: 0.9668 - val_loss: 0.4196 - val_accuracy: 1.0000\n",
      "Epoch 23/30\n",
      "167/167 [==============================] - 33s 199ms/step - loss: 0.3504 - accuracy: 0.9709 - val_loss: 0.4116 - val_accuracy: 1.0000\n",
      "Epoch 24/30\n",
      "167/167 [==============================] - 33s 199ms/step - loss: 0.3446 - accuracy: 0.9730 - val_loss: 0.4046 - val_accuracy: 1.0000\n",
      "Epoch 25/30\n",
      "167/167 [==============================] - 33s 199ms/step - loss: 0.3311 - accuracy: 0.9740 - val_loss: 0.4093 - val_accuracy: 0.9688\n",
      "Epoch 26/30\n",
      "167/167 [==============================] - 33s 199ms/step - loss: 0.3340 - accuracy: 0.9738 - val_loss: 0.4075 - val_accuracy: 1.0000\n",
      "Epoch 27/30\n",
      "167/167 [==============================] - 33s 199ms/step - loss: 0.3272 - accuracy: 0.9731 - val_loss: 0.3917 - val_accuracy: 1.0000\n",
      "Epoch 28/30\n",
      "167/167 [==============================] - 33s 199ms/step - loss: 0.3212 - accuracy: 0.9766 - val_loss: 0.3861 - val_accuracy: 1.0000\n",
      "Epoch 29/30\n",
      "167/167 [==============================] - 33s 199ms/step - loss: 0.3098 - accuracy: 0.9800 - val_loss: 0.3793 - val_accuracy: 1.0000\n",
      "Epoch 30/30\n",
      "167/167 [==============================] - 33s 199ms/step - loss: 0.3121 - accuracy: 0.9777 - val_loss: 0.3751 - val_accuracy: 1.0000\n",
      "INFO:tensorflow:Assets written to: ../resnet/resnet_30epochs_8348.4 images/assets\n",
      "Test acc for resnet: 0.981405\n",
      "Done!\n",
      "--------------------------------------------------\n",
      "\n",
      "Training opticnet for 0.1% of train size (aka 8348 images)...\n"
     ]
    },
    {
     "name": "stderr",
     "output_type": "stream",
     "text": [
      "<ipython-input-66-797fd00c81c1>:20: UserWarning: Matplotlib is currently using module://ipykernel.pylab.backend_inline, which is a non-GUI backend, so cannot show the figure.\n",
      "  self.fig.show()\n"
     ]
    },
    {
     "name": "stdout",
     "output_type": "stream",
     "text": [
      "Epoch 1/30\n",
      "  6/167 [>.............................] - ETA: 4:55 - loss: 5.4225 - accuracy: 0.1589WARNING:tensorflow:Callback method `on_train_batch_end` is slow compared to the batch time (batch time: 0.4654s vs `on_train_batch_end` time: 1.0615s). Check your callbacks.\n",
      "167/167 [==============================] - 214s 1s/step - loss: 0.9220 - accuracy: 0.7687 - val_loss: 0.0500 - val_accuracy: 0.9688\n"
     ]
    },
    {
     "name": "stderr",
     "output_type": "stream",
     "text": [
      "<ipython-input-66-797fd00c81c1>:48: UserWarning: Matplotlib is currently using module://ipykernel.pylab.backend_inline, which is a non-GUI backend, so cannot show the figure.\n",
      "  self.fig.show()\n"
     ]
    },
    {
     "name": "stdout",
     "output_type": "stream",
     "text": [
      "Epoch 2/30\n",
      "167/167 [==============================] - 198s 1s/step - loss: 0.1633 - accuracy: 0.9510 - val_loss: 0.0621 - val_accuracy: 0.9688\n",
      "Epoch 3/30\n",
      "167/167 [==============================] - 198s 1s/step - loss: 0.1080 - accuracy: 0.9648 - val_loss: 0.0311 - val_accuracy: 1.0000\n",
      "Epoch 4/30\n",
      "167/167 [==============================] - 198s 1s/step - loss: 0.1695 - accuracy: 0.9533 - val_loss: 0.0274 - val_accuracy: 1.0000\n",
      "Epoch 5/30\n",
      "167/167 [==============================] - 198s 1s/step - loss: 0.0701 - accuracy: 0.9772 - val_loss: 0.0309 - val_accuracy: 1.0000\n",
      "Epoch 6/30\n",
      "167/167 [==============================] - 198s 1s/step - loss: 0.0452 - accuracy: 0.9845 - val_loss: 0.0264 - val_accuracy: 1.0000\n",
      "Epoch 7/30\n",
      "167/167 [==============================] - 198s 1s/step - loss: 0.0301 - accuracy: 0.9900 - val_loss: 0.0233 - val_accuracy: 1.0000\n",
      "Epoch 8/30\n",
      "167/167 [==============================] - 198s 1s/step - loss: 0.0237 - accuracy: 0.9912 - val_loss: 0.0044 - val_accuracy: 1.0000\n",
      "Epoch 9/30\n",
      "167/167 [==============================] - 198s 1s/step - loss: 0.0188 - accuracy: 0.9942 - val_loss: 0.0027 - val_accuracy: 1.0000\n",
      "Epoch 10/30\n",
      "167/167 [==============================] - 198s 1s/step - loss: 0.0129 - accuracy: 0.9961 - val_loss: 0.0108 - val_accuracy: 1.0000\n",
      "Epoch 11/30\n",
      "167/167 [==============================] - 198s 1s/step - loss: 0.0067 - accuracy: 0.9981 - val_loss: 1.1925e-04 - val_accuracy: 1.0000\n",
      "Epoch 12/30\n",
      "167/167 [==============================] - 198s 1s/step - loss: 0.0042 - accuracy: 0.9986 - val_loss: 4.8018e-04 - val_accuracy: 1.0000\n",
      "Epoch 13/30\n",
      "167/167 [==============================] - 198s 1s/step - loss: 0.0071 - accuracy: 0.9978 - val_loss: 1.5382e-04 - val_accuracy: 1.0000\n",
      "Epoch 14/30\n",
      "167/167 [==============================] - 198s 1s/step - loss: 0.0018 - accuracy: 0.9996 - val_loss: 1.8347e-04 - val_accuracy: 1.0000\n",
      "Epoch 15/30\n",
      "167/167 [==============================] - 198s 1s/step - loss: 0.0022 - accuracy: 0.9995 - val_loss: 2.0047e-04 - val_accuracy: 1.0000\n",
      "Epoch 16/30\n",
      "167/167 [==============================] - 198s 1s/step - loss: 0.0036 - accuracy: 0.9988 - val_loss: 1.2419e-04 - val_accuracy: 1.0000\n",
      "Epoch 17/30\n",
      "167/167 [==============================] - 198s 1s/step - loss: 0.0012 - accuracy: 0.9996 - val_loss: 3.2084e-04 - val_accuracy: 1.0000\n",
      "Epoch 18/30\n",
      "167/167 [==============================] - 198s 1s/step - loss: 0.0025 - accuracy: 0.9990 - val_loss: 0.0013 - val_accuracy: 1.0000\n",
      "Epoch 19/30\n",
      "167/167 [==============================] - 198s 1s/step - loss: 0.0016 - accuracy: 0.9994 - val_loss: 4.0797e-05 - val_accuracy: 1.0000\n",
      "Epoch 20/30\n",
      "167/167 [==============================] - 198s 1s/step - loss: 0.0022 - accuracy: 0.9990 - val_loss: 4.3958e-05 - val_accuracy: 1.0000\n",
      "Epoch 21/30\n",
      "167/167 [==============================] - 197s 1s/step - loss: 0.0019 - accuracy: 0.9992 - val_loss: 9.9796e-06 - val_accuracy: 1.0000\n",
      "Epoch 22/30\n",
      "167/167 [==============================] - 198s 1s/step - loss: 0.0012 - accuracy: 0.9999 - val_loss: 3.2826e-05 - val_accuracy: 1.0000\n",
      "Epoch 23/30\n",
      "167/167 [==============================] - 198s 1s/step - loss: 0.0021 - accuracy: 0.9993 - val_loss: 2.6785e-05 - val_accuracy: 1.0000\n",
      "Epoch 24/30\n",
      "167/167 [==============================] - 198s 1s/step - loss: 0.0012 - accuracy: 0.9994 - val_loss: 3.3512e-05 - val_accuracy: 1.0000\n",
      "Epoch 25/30\n",
      "167/167 [==============================] - 198s 1s/step - loss: 3.1860e-04 - accuracy: 1.0000 - val_loss: 4.2241e-05 - val_accuracy: 1.0000\n",
      "Epoch 26/30\n",
      "167/167 [==============================] - 198s 1s/step - loss: 9.9021e-04 - accuracy: 0.9994 - val_loss: 1.6193e-05 - val_accuracy: 1.0000\n",
      "Epoch 27/30\n",
      "167/167 [==============================] - 198s 1s/step - loss: 8.3596e-04 - accuracy: 0.9996 - val_loss: 1.0658e-05 - val_accuracy: 1.0000\n",
      "Epoch 28/30\n",
      "167/167 [==============================] - 198s 1s/step - loss: 6.0703e-04 - accuracy: 0.9999 - val_loss: 3.0659e-05 - val_accuracy: 1.0000\n",
      "Epoch 29/30\n",
      "167/167 [==============================] - 198s 1s/step - loss: 2.8846e-04 - accuracy: 0.9999 - val_loss: 1.1563e-05 - val_accuracy: 1.0000\n",
      "Epoch 30/30\n",
      "167/167 [==============================] - 198s 1s/step - loss: 5.1729e-04 - accuracy: 0.9999 - val_loss: 2.1474e-05 - val_accuracy: 1.0000\n",
      "INFO:tensorflow:Assets written to: ../opticnet/opticnet_30epochs_8348.4 images/assets\n",
      "Test acc for opticnet: 0.994835\n",
      "Done!\n",
      "--------------------------------------------------\n",
      "\n",
      "Labels fraction: [0.25069352 0.25362183 0.24735636 0.23572423]\n",
      "Training xception for 0.25% of train size (aka 20871 images)...\n"
     ]
    },
    {
     "name": "stderr",
     "output_type": "stream",
     "text": [
      "<ipython-input-66-797fd00c81c1>:20: UserWarning: Matplotlib is currently using module://ipykernel.pylab.backend_inline, which is a non-GUI backend, so cannot show the figure.\n",
      "  self.fig.show()\n"
     ]
    },
    {
     "name": "stdout",
     "output_type": "stream",
     "text": [
      "Epoch 1/30\n",
      "  6/418 [..............................] - ETA: 8:36 - loss: 1.3819 - accuracy: 0.1506WARNING:tensorflow:Callback method `on_train_batch_begin` is slow compared to the batch time (batch time: 0.1609s vs `on_train_batch_begin` time: 0.1772s). Check your callbacks.\n",
      "WARNING:tensorflow:Callback method `on_train_batch_end` is slow compared to the batch time (batch time: 0.1609s vs `on_train_batch_end` time: 0.8238s). Check your callbacks.\n",
      "418/418 [==============================] - 328s 773ms/step - loss: 1.2378 - accuracy: 0.7900 - val_loss: 1.0977 - val_accuracy: 0.7188\n"
     ]
    },
    {
     "name": "stderr",
     "output_type": "stream",
     "text": [
      "<ipython-input-66-797fd00c81c1>:48: UserWarning: Matplotlib is currently using module://ipykernel.pylab.backend_inline, which is a non-GUI backend, so cannot show the figure.\n",
      "  self.fig.show()\n"
     ]
    },
    {
     "name": "stdout",
     "output_type": "stream",
     "text": [
      "Epoch 2/30\n",
      "418/418 [==============================] - 319s 764ms/step - loss: 0.8100 - accuracy: 0.9285 - val_loss: 0.9220 - val_accuracy: 0.8438\n",
      "Epoch 3/30\n",
      "418/418 [==============================] - 319s 764ms/step - loss: 0.5949 - accuracy: 0.9402 - val_loss: 0.5664 - val_accuracy: 0.9688\n",
      "Epoch 4/30\n",
      "418/418 [==============================] - 319s 764ms/step - loss: 0.4805 - accuracy: 0.9414 - val_loss: 0.4835 - val_accuracy: 0.9688\n",
      "Epoch 5/30\n",
      "418/418 [==============================] - 319s 764ms/step - loss: 0.3890 - accuracy: 0.9519 - val_loss: 0.3696 - val_accuracy: 0.9688\n",
      "Epoch 6/30\n",
      "418/418 [==============================] - 319s 764ms/step - loss: 0.3426 - accuracy: 0.9455 - val_loss: 0.3289 - val_accuracy: 0.9688\n",
      "Epoch 7/30\n",
      "418/418 [==============================] - 319s 763ms/step - loss: 0.2959 - accuracy: 0.9570 - val_loss: 0.4213 - val_accuracy: 0.9375\n",
      "Epoch 8/30\n",
      "418/418 [==============================] - 320s 764ms/step - loss: 0.2596 - accuracy: 0.9620 - val_loss: 0.1950 - val_accuracy: 1.0000\n",
      "Epoch 9/30\n",
      "418/418 [==============================] - 320s 765ms/step - loss: 0.2317 - accuracy: 0.9646 - val_loss: 0.1693 - val_accuracy: 1.0000\n",
      "Epoch 10/30\n",
      "418/418 [==============================] - 320s 765ms/step - loss: 0.1985 - accuracy: 0.9714 - val_loss: 0.1487 - val_accuracy: 1.0000\n",
      "Epoch 11/30\n",
      "418/418 [==============================] - 319s 763ms/step - loss: 0.1858 - accuracy: 0.9716 - val_loss: 0.1327 - val_accuracy: 1.0000\n",
      "Epoch 12/30\n",
      "418/418 [==============================] - 320s 765ms/step - loss: 0.1647 - accuracy: 0.9761 - val_loss: 0.1181 - val_accuracy: 1.0000\n",
      "Epoch 13/30\n",
      "418/418 [==============================] - 319s 764ms/step - loss: 0.1504 - accuracy: 0.9786 - val_loss: 0.1082 - val_accuracy: 1.0000\n",
      "Epoch 14/30\n",
      "418/418 [==============================] - 320s 765ms/step - loss: 0.1384 - accuracy: 0.9808 - val_loss: 0.0977 - val_accuracy: 1.0000\n",
      "Epoch 15/30\n",
      "418/418 [==============================] - 320s 765ms/step - loss: 0.1299 - accuracy: 0.9809 - val_loss: 0.0900 - val_accuracy: 1.0000\n",
      "Epoch 16/30\n",
      "418/418 [==============================] - 319s 764ms/step - loss: 0.1143 - accuracy: 0.9842 - val_loss: 0.0841 - val_accuracy: 1.0000\n",
      "Epoch 17/30\n",
      "418/418 [==============================] - 320s 765ms/step - loss: 0.1056 - accuracy: 0.9860 - val_loss: 0.0774 - val_accuracy: 1.0000\n",
      "Epoch 18/30\n",
      "418/418 [==============================] - 319s 764ms/step - loss: 0.0979 - accuracy: 0.9881 - val_loss: 0.0732 - val_accuracy: 1.0000\n",
      "Epoch 19/30\n",
      "418/418 [==============================] - 320s 764ms/step - loss: 0.0996 - accuracy: 0.9863 - val_loss: 0.0768 - val_accuracy: 1.0000\n",
      "Epoch 20/30\n",
      "418/418 [==============================] - 320s 766ms/step - loss: 0.0905 - accuracy: 0.9889 - val_loss: 0.0647 - val_accuracy: 1.0000\n",
      "Epoch 21/30\n",
      "418/418 [==============================] - 320s 764ms/step - loss: 0.0884 - accuracy: 0.9881 - val_loss: 0.0615 - val_accuracy: 1.0000\n",
      "Epoch 22/30\n",
      "418/418 [==============================] - 320s 766ms/step - loss: 0.0856 - accuracy: 0.9887 - val_loss: 0.0594 - val_accuracy: 1.0000\n",
      "Epoch 23/30\n",
      "418/418 [==============================] - 320s 765ms/step - loss: 0.0834 - accuracy: 0.9891 - val_loss: 0.0567 - val_accuracy: 1.0000\n",
      "Epoch 24/30\n",
      "418/418 [==============================] - 319s 764ms/step - loss: 0.0797 - accuracy: 0.9899 - val_loss: 0.0560 - val_accuracy: 1.0000\n",
      "Epoch 25/30\n",
      "418/418 [==============================] - 320s 765ms/step - loss: 0.0737 - accuracy: 0.9912 - val_loss: 0.0599 - val_accuracy: 1.0000\n",
      "Epoch 26/30\n",
      "418/418 [==============================] - 320s 766ms/step - loss: 0.0743 - accuracy: 0.9906 - val_loss: 0.0533 - val_accuracy: 1.0000\n",
      "Epoch 27/30\n",
      "418/418 [==============================] - 320s 765ms/step - loss: 0.0708 - accuracy: 0.9912 - val_loss: 0.0510 - val_accuracy: 1.0000\n",
      "Epoch 28/30\n",
      "418/418 [==============================] - 320s 765ms/step - loss: 0.0732 - accuracy: 0.9908 - val_loss: 0.0577 - val_accuracy: 1.0000\n",
      "Epoch 29/30\n",
      "418/418 [==============================] - 319s 764ms/step - loss: 0.0724 - accuracy: 0.9908 - val_loss: 0.0509 - val_accuracy: 1.0000\n",
      "Epoch 30/30\n",
      "418/418 [==============================] - 319s 764ms/step - loss: 0.0703 - accuracy: 0.9912 - val_loss: 0.0494 - val_accuracy: 1.0000\n",
      "INFO:tensorflow:Assets written to: ../xception/xception_30epochs_20871.0 images/assets\n",
      "Test acc for xception: 0.987603\n",
      "Done!\n",
      "--------------------------------------------------\n",
      "\n",
      "Training resnet for 0.25% of train size (aka 20871 images)...\n"
     ]
    },
    {
     "name": "stderr",
     "output_type": "stream",
     "text": [
      "<ipython-input-66-797fd00c81c1>:20: UserWarning: Matplotlib is currently using module://ipykernel.pylab.backend_inline, which is a non-GUI backend, so cannot show the figure.\n",
      "  self.fig.show()\n"
     ]
    },
    {
     "name": "stdout",
     "output_type": "stream",
     "text": [
      "Epoch 1/30\n",
      "  6/418 [..............................] - ETA: 4:43 - loss: 1.3748 - accuracy: 0.5117WARNING:tensorflow:Callback method `on_train_batch_begin` is slow compared to the batch time (batch time: 0.1009s vs `on_train_batch_begin` time: 0.1546s). Check your callbacks.\n",
      "WARNING:tensorflow:Callback method `on_train_batch_end` is slow compared to the batch time (batch time: 0.1009s vs `on_train_batch_end` time: 0.3435s). Check your callbacks.\n",
      "418/418 [==============================] - 93s 206ms/step - loss: 1.2437 - accuracy: 0.7129 - val_loss: 1.3012 - val_accuracy: 0.5000\n"
     ]
    },
    {
     "name": "stderr",
     "output_type": "stream",
     "text": [
      "<ipython-input-66-797fd00c81c1>:48: UserWarning: Matplotlib is currently using module://ipykernel.pylab.backend_inline, which is a non-GUI backend, so cannot show the figure.\n",
      "  self.fig.show()\n"
     ]
    },
    {
     "name": "stdout",
     "output_type": "stream",
     "text": [
      "Epoch 2/30\n",
      "418/418 [==============================] - 83s 199ms/step - loss: 0.9537 - accuracy: 0.7592 - val_loss: 1.1784 - val_accuracy: 0.5000\n",
      "Epoch 3/30\n",
      "418/418 [==============================] - 83s 199ms/step - loss: 0.8229 - accuracy: 0.7604 - val_loss: 1.1627 - val_accuracy: 0.5000\n",
      "Epoch 4/30\n",
      "418/418 [==============================] - 83s 199ms/step - loss: 0.6558 - accuracy: 0.8512 - val_loss: 0.5662 - val_accuracy: 1.0000\n",
      "Epoch 5/30\n",
      "418/418 [==============================] - 83s 199ms/step - loss: 0.5219 - accuracy: 0.9028 - val_loss: 0.5756 - val_accuracy: 0.9375\n",
      "Epoch 6/30\n",
      "418/418 [==============================] - 83s 199ms/step - loss: 0.4301 - accuracy: 0.9229 - val_loss: 0.3810 - val_accuracy: 0.9688\n",
      "Epoch 7/30\n",
      "418/418 [==============================] - 83s 199ms/step - loss: 0.3601 - accuracy: 0.9366 - val_loss: 0.4051 - val_accuracy: 0.9375\n",
      "Epoch 8/30\n",
      "418/418 [==============================] - 83s 199ms/step - loss: 0.3240 - accuracy: 0.9383 - val_loss: 0.2396 - val_accuracy: 1.0000\n",
      "Epoch 9/30\n",
      "418/418 [==============================] - 83s 199ms/step - loss: 0.2825 - accuracy: 0.9479 - val_loss: 0.2573 - val_accuracy: 0.9688\n",
      "Epoch 10/30\n",
      "418/418 [==============================] - 83s 199ms/step - loss: 0.2578 - accuracy: 0.9512 - val_loss: 0.2335 - val_accuracy: 0.9688\n",
      "Epoch 11/30\n",
      "418/418 [==============================] - 83s 199ms/step - loss: 0.2247 - accuracy: 0.9591 - val_loss: 0.2077 - val_accuracy: 0.9688\n",
      "Epoch 12/30\n",
      "418/418 [==============================] - 83s 199ms/step - loss: 0.2044 - accuracy: 0.9636 - val_loss: 0.2039 - val_accuracy: 0.9688\n",
      "Epoch 13/30\n",
      "418/418 [==============================] - 83s 199ms/step - loss: 0.1852 - accuracy: 0.9677 - val_loss: 0.2310 - val_accuracy: 0.9688\n",
      "Epoch 14/30\n",
      "418/418 [==============================] - 83s 199ms/step - loss: 0.1696 - accuracy: 0.9709 - val_loss: 0.1291 - val_accuracy: 1.0000\n",
      "Epoch 15/30\n",
      "418/418 [==============================] - 83s 199ms/step - loss: 0.1554 - accuracy: 0.9756 - val_loss: 0.1140 - val_accuracy: 1.0000\n",
      "Epoch 16/30\n",
      "418/418 [==============================] - 83s 199ms/step - loss: 0.1437 - accuracy: 0.9758 - val_loss: 0.1702 - val_accuracy: 0.9688\n",
      "Epoch 17/30\n",
      "418/418 [==============================] - 83s 199ms/step - loss: 0.1304 - accuracy: 0.9794 - val_loss: 0.0953 - val_accuracy: 1.0000\n",
      "Epoch 18/30\n",
      "418/418 [==============================] - 83s 199ms/step - loss: 0.1218 - accuracy: 0.9817 - val_loss: 0.1391 - val_accuracy: 0.9688\n",
      "Epoch 19/30\n",
      "418/418 [==============================] - 83s 199ms/step - loss: 0.1193 - accuracy: 0.9829 - val_loss: 0.1020 - val_accuracy: 1.0000\n",
      "Epoch 20/30\n",
      "418/418 [==============================] - 83s 199ms/step - loss: 0.1125 - accuracy: 0.9838 - val_loss: 0.1273 - val_accuracy: 0.9688\n",
      "Epoch 21/30\n",
      "418/418 [==============================] - 83s 199ms/step - loss: 0.1028 - accuracy: 0.9863 - val_loss: 0.1512 - val_accuracy: 0.9688\n",
      "Epoch 22/30\n",
      "418/418 [==============================] - 83s 199ms/step - loss: 0.0975 - accuracy: 0.9870 - val_loss: 0.1392 - val_accuracy: 0.9688\n",
      "Epoch 23/30\n",
      "418/418 [==============================] - 83s 199ms/step - loss: 0.1036 - accuracy: 0.9845 - val_loss: 0.1462 - val_accuracy: 0.9688\n",
      "Epoch 24/30\n",
      "418/418 [==============================] - 83s 199ms/step - loss: 0.0899 - accuracy: 0.9886 - val_loss: 0.0840 - val_accuracy: 1.0000\n",
      "Epoch 25/30\n",
      "418/418 [==============================] - 83s 199ms/step - loss: 0.0868 - accuracy: 0.9887 - val_loss: 0.1448 - val_accuracy: 0.9688\n",
      "Epoch 26/30\n",
      "418/418 [==============================] - 83s 199ms/step - loss: 0.0838 - accuracy: 0.9895 - val_loss: 0.1262 - val_accuracy: 0.9688\n",
      "Epoch 27/30\n",
      "418/418 [==============================] - 83s 199ms/step - loss: 0.0838 - accuracy: 0.9891 - val_loss: 0.1413 - val_accuracy: 0.9688\n",
      "Epoch 28/30\n",
      "418/418 [==============================] - 83s 199ms/step - loss: 0.0856 - accuracy: 0.9887 - val_loss: 0.1399 - val_accuracy: 0.9688\n",
      "Epoch 29/30\n",
      "418/418 [==============================] - 83s 199ms/step - loss: 0.0857 - accuracy: 0.9883 - val_loss: 0.1354 - val_accuracy: 0.9688\n",
      "Epoch 30/30\n",
      "418/418 [==============================] - 83s 199ms/step - loss: 0.0792 - accuracy: 0.9896 - val_loss: 0.1396 - val_accuracy: 0.9688\n",
      "INFO:tensorflow:Assets written to: ../resnet/resnet_30epochs_20871.0 images/assets\n",
      "Test acc for resnet: 0.992769\n",
      "Done!\n",
      "--------------------------------------------------\n",
      "\n",
      "Training opticnet for 0.25% of train size (aka 20871 images)...\n"
     ]
    },
    {
     "name": "stderr",
     "output_type": "stream",
     "text": [
      "<ipython-input-66-797fd00c81c1>:20: UserWarning: Matplotlib is currently using module://ipykernel.pylab.backend_inline, which is a non-GUI backend, so cannot show the figure.\n",
      "  self.fig.show()\n"
     ]
    },
    {
     "name": "stdout",
     "output_type": "stream",
     "text": [
      "Epoch 1/30\n",
      "  6/418 [..............................] - ETA: 12:29 - loss: 5.5156 - accuracy: 0.1329  WARNING:tensorflow:Callback method `on_train_batch_end` is slow compared to the batch time (batch time: 0.4646s vs `on_train_batch_end` time: 1.0603s). Check your callbacks.\n",
      "418/418 [==============================] - 510s 1s/step - loss: 0.5570 - accuracy: 0.8513 - val_loss: 0.3989 - val_accuracy: 0.8125\n"
     ]
    },
    {
     "name": "stderr",
     "output_type": "stream",
     "text": [
      "<ipython-input-66-797fd00c81c1>:48: UserWarning: Matplotlib is currently using module://ipykernel.pylab.backend_inline, which is a non-GUI backend, so cannot show the figure.\n",
      "  self.fig.show()\n"
     ]
    },
    {
     "name": "stdout",
     "output_type": "stream",
     "text": [
      "Epoch 2/30\n",
      "418/418 [==============================] - 493s 1s/step - loss: 0.1314 - accuracy: 0.9574 - val_loss: 0.0612 - val_accuracy: 1.0000\n",
      "Epoch 3/30\n",
      "418/418 [==============================] - 493s 1s/step - loss: 0.1113 - accuracy: 0.9641 - val_loss: 0.1124 - val_accuracy: 0.9688\n",
      "Epoch 4/30\n",
      "418/418 [==============================] - 493s 1s/step - loss: 0.0788 - accuracy: 0.9746 - val_loss: 0.0580 - val_accuracy: 0.9688\n",
      "Epoch 5/30\n",
      "418/418 [==============================] - 493s 1s/step - loss: 0.0685 - accuracy: 0.9770 - val_loss: 0.0058 - val_accuracy: 1.0000\n",
      "Epoch 6/30\n",
      "418/418 [==============================] - 491s 1s/step - loss: 0.0561 - accuracy: 0.9817 - val_loss: 0.0068 - val_accuracy: 1.0000\n",
      "Epoch 7/30\n",
      "418/418 [==============================] - 492s 1s/step - loss: 0.0404 - accuracy: 0.9879 - val_loss: 0.0031 - val_accuracy: 1.0000\n",
      "Epoch 8/30\n",
      "418/418 [==============================] - 491s 1s/step - loss: 0.0301 - accuracy: 0.9904 - val_loss: 0.0253 - val_accuracy: 0.9688\n",
      "Epoch 9/30\n",
      "418/418 [==============================] - 490s 1s/step - loss: 0.0255 - accuracy: 0.9929 - val_loss: 0.0150 - val_accuracy: 1.0000\n",
      "Epoch 10/30\n",
      "418/418 [==============================] - 489s 1s/step - loss: 0.0142 - accuracy: 0.9957 - val_loss: 0.0379 - val_accuracy: 0.9688\n",
      "Epoch 11/30\n",
      "418/418 [==============================] - 489s 1s/step - loss: 0.0114 - accuracy: 0.9968 - val_loss: 0.0036 - val_accuracy: 1.0000\n",
      "Epoch 12/30\n",
      "418/418 [==============================] - 489s 1s/step - loss: 0.0074 - accuracy: 0.9981 - val_loss: 0.0909 - val_accuracy: 0.9375\n",
      "Epoch 13/30\n",
      "418/418 [==============================] - 492s 1s/step - loss: 0.0084 - accuracy: 0.9970 - val_loss: 0.0016 - val_accuracy: 1.0000\n",
      "Epoch 14/30\n",
      "418/418 [==============================] - 489s 1s/step - loss: 0.0063 - accuracy: 0.9985 - val_loss: 0.0076 - val_accuracy: 1.0000\n",
      "Epoch 15/30\n",
      "418/418 [==============================] - 491s 1s/step - loss: 0.0119 - accuracy: 0.9964 - val_loss: 0.0402 - val_accuracy: 0.9688\n",
      "Epoch 16/30\n",
      "418/418 [==============================] - 491s 1s/step - loss: 0.0050 - accuracy: 0.9983 - val_loss: 0.0054 - val_accuracy: 1.0000\n",
      "Epoch 17/30\n",
      "418/418 [==============================] - 491s 1s/step - loss: 0.0038 - accuracy: 0.9987 - val_loss: 0.0028 - val_accuracy: 1.0000\n",
      "Epoch 18/30\n",
      "418/418 [==============================] - 490s 1s/step - loss: 0.0035 - accuracy: 0.9986 - val_loss: 0.0130 - val_accuracy: 1.0000\n",
      "Epoch 19/30\n",
      "418/418 [==============================] - 490s 1s/step - loss: 0.0027 - accuracy: 0.9989 - val_loss: 0.0025 - val_accuracy: 1.0000\n",
      "Epoch 20/30\n",
      "418/418 [==============================] - 488s 1s/step - loss: 0.0016 - accuracy: 0.9995 - val_loss: 0.0013 - val_accuracy: 1.0000\n",
      "Epoch 21/30\n",
      "418/418 [==============================] - 488s 1s/step - loss: 0.0028 - accuracy: 0.9990 - val_loss: 0.0084 - val_accuracy: 1.0000\n",
      "Epoch 22/30\n",
      "418/418 [==============================] - 489s 1s/step - loss: 0.0024 - accuracy: 0.9987 - val_loss: 0.0094 - val_accuracy: 1.0000\n",
      "Epoch 23/30\n",
      "418/418 [==============================] - 489s 1s/step - loss: 0.0019 - accuracy: 0.9991 - val_loss: 0.0317 - val_accuracy: 0.9688\n",
      "Epoch 24/30\n",
      "418/418 [==============================] - 488s 1s/step - loss: 0.0016 - accuracy: 0.9993 - val_loss: 0.0111 - val_accuracy: 1.0000\n",
      "Epoch 25/30\n",
      "418/418 [==============================] - 491s 1s/step - loss: 0.0017 - accuracy: 0.9991 - val_loss: 0.0324 - val_accuracy: 0.9688\n",
      "Epoch 26/30\n",
      "418/418 [==============================] - 490s 1s/step - loss: 0.0018 - accuracy: 0.9990 - val_loss: 0.0220 - val_accuracy: 0.9688\n",
      "Epoch 27/30\n",
      "418/418 [==============================] - 489s 1s/step - loss: 0.0014 - accuracy: 0.9990 - val_loss: 0.0228 - val_accuracy: 0.9688\n",
      "Epoch 28/30\n",
      "418/418 [==============================] - 488s 1s/step - loss: 0.0012 - accuracy: 0.9991 - val_loss: 0.0584 - val_accuracy: 0.9688\n",
      "Epoch 29/30\n",
      "418/418 [==============================] - 493s 1s/step - loss: 0.0014 - accuracy: 0.9988 - val_loss: 0.0304 - val_accuracy: 0.9688\n",
      "Epoch 30/30\n",
      "418/418 [==============================] - 493s 1s/step - loss: 0.0020 - accuracy: 0.9985 - val_loss: 0.0281 - val_accuracy: 0.9688\n",
      "INFO:tensorflow:Assets written to: ../opticnet/opticnet_30epochs_20871.0 images/assets\n",
      "Test acc for opticnet: 0.992769\n",
      "Done!\n",
      "--------------------------------------------------\n",
      "\n",
      "Labels fraction: [0.39840395 0.40263405 0.40033486 0.39298979]\n",
      "Training xception for 0.4% of train size (aka 33393 images)...\n"
     ]
    },
    {
     "name": "stderr",
     "output_type": "stream",
     "text": [
      "<ipython-input-66-797fd00c81c1>:20: UserWarning: Matplotlib is currently using module://ipykernel.pylab.backend_inline, which is a non-GUI backend, so cannot show the figure.\n",
      "  self.fig.show()\n"
     ]
    },
    {
     "name": "stdout",
     "output_type": "stream",
     "text": [
      "Epoch 1/30\n",
      "  6/668 [..............................] - ETA: 14:03 - loss: 1.4073 - accuracy: 0.0023    WARNING:tensorflow:Callback method `on_train_batch_begin` is slow compared to the batch time (batch time: 0.1587s vs `on_train_batch_begin` time: 0.1770s). Check your callbacks.\n",
      "WARNING:tensorflow:Callback method `on_train_batch_end` is slow compared to the batch time (batch time: 0.1587s vs `on_train_batch_end` time: 0.8559s). Check your callbacks.\n",
      "668/668 [==============================] - 520s 771ms/step - loss: 1.2008 - accuracy: 0.6756 - val_loss: 1.1202 - val_accuracy: 0.5938\n"
     ]
    },
    {
     "name": "stderr",
     "output_type": "stream",
     "text": [
      "<ipython-input-66-797fd00c81c1>:48: UserWarning: Matplotlib is currently using module://ipykernel.pylab.backend_inline, which is a non-GUI backend, so cannot show the figure.\n",
      "  self.fig.show()\n"
     ]
    },
    {
     "name": "stdout",
     "output_type": "stream",
     "text": [
      "Epoch 2/30\n",
      "668/668 [==============================] - 511s 765ms/step - loss: 0.7435 - accuracy: 0.8298 - val_loss: 0.7956 - val_accuracy: 0.6875\n",
      "Epoch 3/30\n",
      "668/668 [==============================] - 511s 764ms/step - loss: 0.5918 - accuracy: 0.8215 - val_loss: 0.6196 - val_accuracy: 0.7500\n",
      "Epoch 4/30\n",
      "668/668 [==============================] - 510s 764ms/step - loss: 0.5034 - accuracy: 0.8361 - val_loss: 0.5634 - val_accuracy: 0.7500\n",
      "Epoch 5/30\n",
      "668/668 [==============================] - 511s 765ms/step - loss: 0.4627 - accuracy: 0.8350 - val_loss: 0.4763 - val_accuracy: 0.7500\n",
      "Epoch 6/30\n",
      "668/668 [==============================] - 510s 764ms/step - loss: 0.3499 - accuracy: 0.9300 - val_loss: 0.2327 - val_accuracy: 1.0000\n",
      "Epoch 7/30\n",
      "668/668 [==============================] - 510s 764ms/step - loss: 0.2237 - accuracy: 0.9735 - val_loss: 0.1601 - val_accuracy: 1.0000\n",
      "Epoch 8/30\n",
      "668/668 [==============================] - 511s 765ms/step - loss: 0.1794 - accuracy: 0.9750 - val_loss: 0.1308 - val_accuracy: 1.0000\n",
      "Epoch 9/30\n",
      "668/668 [==============================] - 511s 765ms/step - loss: 0.1413 - accuracy: 0.9807 - val_loss: 0.0984 - val_accuracy: 1.0000\n",
      "Epoch 10/30\n",
      "668/668 [==============================] - 511s 765ms/step - loss: 0.1150 - accuracy: 0.9851 - val_loss: 0.0775 - val_accuracy: 1.0000\n",
      "Epoch 11/30\n",
      "668/668 [==============================] - 510s 764ms/step - loss: 0.1041 - accuracy: 0.9852 - val_loss: 0.0649 - val_accuracy: 1.0000\n",
      "Epoch 12/30\n",
      "668/668 [==============================] - 511s 765ms/step - loss: 0.0914 - accuracy: 0.9871 - val_loss: 0.0547 - val_accuracy: 1.0000\n",
      "Epoch 13/30\n",
      "668/668 [==============================] - 511s 765ms/step - loss: 0.0776 - accuracy: 0.9900 - val_loss: 0.0690 - val_accuracy: 0.9688\n",
      "Epoch 14/30\n",
      "668/668 [==============================] - 511s 765ms/step - loss: 0.0731 - accuracy: 0.9899 - val_loss: 0.1120 - val_accuracy: 0.9688\n",
      "Epoch 15/30\n",
      "668/668 [==============================] - 511s 764ms/step - loss: 0.0693 - accuracy: 0.9904 - val_loss: 0.1059 - val_accuracy: 0.9688\n",
      "Epoch 16/30\n",
      "668/668 [==============================] - 511s 765ms/step - loss: 0.0607 - accuracy: 0.9913 - val_loss: 0.0630 - val_accuracy: 0.9688\n",
      "Epoch 17/30\n",
      "668/668 [==============================] - 510s 764ms/step - loss: 0.0597 - accuracy: 0.9910 - val_loss: 0.1288 - val_accuracy: 0.9688\n",
      "Epoch 18/30\n",
      "668/668 [==============================] - 511s 765ms/step - loss: 0.0521 - accuracy: 0.9930 - val_loss: 0.0830 - val_accuracy: 0.9688\n",
      "Epoch 19/30\n",
      "668/668 [==============================] - 511s 765ms/step - loss: 0.0516 - accuracy: 0.9929 - val_loss: 0.1263 - val_accuracy: 0.9688\n",
      "Epoch 20/30\n",
      "668/668 [==============================] - 511s 764ms/step - loss: 0.0492 - accuracy: 0.9930 - val_loss: 0.1804 - val_accuracy: 0.9688\n",
      "Epoch 21/30\n",
      "668/668 [==============================] - 511s 765ms/step - loss: 0.0464 - accuracy: 0.9935 - val_loss: 0.1548 - val_accuracy: 0.9688\n",
      "Epoch 22/30\n",
      "668/668 [==============================] - 511s 765ms/step - loss: 0.0454 - accuracy: 0.9937 - val_loss: 0.1252 - val_accuracy: 0.9688\n",
      "Epoch 23/30\n",
      "668/668 [==============================] - 511s 766ms/step - loss: 0.0448 - accuracy: 0.9938 - val_loss: 0.1719 - val_accuracy: 0.9688\n",
      "Epoch 24/30\n",
      "668/668 [==============================] - 510s 764ms/step - loss: 0.0406 - accuracy: 0.9946 - val_loss: 0.1665 - val_accuracy: 0.9688\n",
      "Epoch 25/30\n",
      "668/668 [==============================] - 511s 765ms/step - loss: 0.0401 - accuracy: 0.9942 - val_loss: 0.1858 - val_accuracy: 0.9688\n",
      "Epoch 26/30\n",
      "668/668 [==============================] - 511s 765ms/step - loss: 0.0412 - accuracy: 0.9941 - val_loss: 0.1816 - val_accuracy: 0.9688\n",
      "Epoch 27/30\n",
      "668/668 [==============================] - 511s 765ms/step - loss: 0.0413 - accuracy: 0.9940 - val_loss: 0.1788 - val_accuracy: 0.9688\n",
      "Epoch 28/30\n",
      "668/668 [==============================] - 511s 765ms/step - loss: 0.0402 - accuracy: 0.9945 - val_loss: 0.1802 - val_accuracy: 0.9688\n",
      "Epoch 29/30\n",
      "668/668 [==============================] - 511s 765ms/step - loss: 0.0356 - accuracy: 0.9952 - val_loss: 0.1379 - val_accuracy: 0.9688\n",
      "Epoch 30/30\n",
      "668/668 [==============================] - 511s 766ms/step - loss: 0.0420 - accuracy: 0.9939 - val_loss: 0.1530 - val_accuracy: 0.9688\n",
      "INFO:tensorflow:Assets written to: ../xception/xception_30epochs_33393.6 images/assets\n",
      "Test acc for xception: 0.989669\n",
      "Done!\n",
      "--------------------------------------------------\n",
      "\n",
      "Training resnet for 0.4% of train size (aka 33393 images)...\n"
     ]
    },
    {
     "name": "stderr",
     "output_type": "stream",
     "text": [
      "<ipython-input-66-797fd00c81c1>:20: UserWarning: Matplotlib is currently using module://ipykernel.pylab.backend_inline, which is a non-GUI backend, so cannot show the figure.\n",
      "  self.fig.show()\n"
     ]
    },
    {
     "name": "stdout",
     "output_type": "stream",
     "text": [
      "Epoch 1/30\n",
      "  6/668 [..............................] - ETA: 7:48 - loss: 1.3926 - accuracy: 0.2279WARNING:tensorflow:Callback method `on_train_batch_begin` is slow compared to the batch time (batch time: 0.1019s vs `on_train_batch_begin` time: 0.1769s). Check your callbacks.\n",
      "WARNING:tensorflow:Callback method `on_train_batch_end` is slow compared to the batch time (batch time: 0.1019s vs `on_train_batch_end` time: 0.3387s). Check your callbacks.\n",
      "668/668 [==============================] - 143s 204ms/step - loss: 1.1676 - accuracy: 0.7484 - val_loss: 0.8432 - val_accuracy: 0.9062\n"
     ]
    },
    {
     "name": "stderr",
     "output_type": "stream",
     "text": [
      "<ipython-input-66-797fd00c81c1>:48: UserWarning: Matplotlib is currently using module://ipykernel.pylab.backend_inline, which is a non-GUI backend, so cannot show the figure.\n",
      "  self.fig.show()\n"
     ]
    },
    {
     "name": "stdout",
     "output_type": "stream",
     "text": [
      "Epoch 2/30\n",
      "668/668 [==============================] - 133s 199ms/step - loss: 0.6506 - accuracy: 0.9212 - val_loss: 0.5430 - val_accuracy: 0.9688\n",
      "Epoch 3/30\n",
      "668/668 [==============================] - 133s 199ms/step - loss: 0.4496 - accuracy: 0.9289 - val_loss: 0.3148 - val_accuracy: 1.0000\n",
      "Epoch 4/30\n",
      "668/668 [==============================] - 133s 199ms/step - loss: 0.3426 - accuracy: 0.9436 - val_loss: 0.4474 - val_accuracy: 0.9062\n",
      "Epoch 5/30\n",
      "668/668 [==============================] - 133s 199ms/step - loss: 0.2672 - accuracy: 0.9531 - val_loss: 0.1741 - val_accuracy: 1.0000\n",
      "Epoch 6/30\n",
      "668/668 [==============================] - 133s 199ms/step - loss: 0.2328 - accuracy: 0.9549 - val_loss: 0.1285 - val_accuracy: 1.0000\n",
      "Epoch 7/30\n",
      "668/668 [==============================] - 133s 199ms/step - loss: 0.1891 - accuracy: 0.9644 - val_loss: 0.1079 - val_accuracy: 1.0000\n",
      "Epoch 8/30\n",
      "668/668 [==============================] - 133s 199ms/step - loss: 0.1616 - accuracy: 0.9693 - val_loss: 0.0873 - val_accuracy: 1.0000\n",
      "Epoch 9/30\n",
      "668/668 [==============================] - 133s 199ms/step - loss: 0.1388 - accuracy: 0.9729 - val_loss: 0.0698 - val_accuracy: 1.0000\n",
      "Epoch 10/30\n",
      "668/668 [==============================] - 133s 199ms/step - loss: 0.1284 - accuracy: 0.9734 - val_loss: 0.0947 - val_accuracy: 0.9688\n",
      "Epoch 11/30\n",
      "668/668 [==============================] - 133s 199ms/step - loss: 0.1132 - accuracy: 0.9776 - val_loss: 0.0566 - val_accuracy: 1.0000\n",
      "Epoch 12/30\n",
      "668/668 [==============================] - 133s 199ms/step - loss: 0.0952 - accuracy: 0.9821 - val_loss: 0.0972 - val_accuracy: 0.9688\n",
      "Epoch 13/30\n",
      "668/668 [==============================] - 133s 199ms/step - loss: 0.0841 - accuracy: 0.9849 - val_loss: 0.1536 - val_accuracy: 0.9688\n",
      "Epoch 14/30\n",
      "668/668 [==============================] - 133s 199ms/step - loss: 0.0743 - accuracy: 0.9876 - val_loss: 0.0690 - val_accuracy: 0.9688\n",
      "Epoch 15/30\n",
      "668/668 [==============================] - 133s 199ms/step - loss: 0.0684 - accuracy: 0.9887 - val_loss: 0.0654 - val_accuracy: 0.9688\n",
      "Epoch 16/30\n",
      "668/668 [==============================] - 133s 199ms/step - loss: 0.0647 - accuracy: 0.9898 - val_loss: 0.1828 - val_accuracy: 0.9688\n",
      "Epoch 17/30\n",
      "668/668 [==============================] - 133s 199ms/step - loss: 0.0544 - accuracy: 0.9917 - val_loss: 0.2147 - val_accuracy: 0.9375\n",
      "Epoch 18/30\n",
      "668/668 [==============================] - 133s 199ms/step - loss: 0.0557 - accuracy: 0.9916 - val_loss: 0.0797 - val_accuracy: 0.9688\n",
      "Epoch 19/30\n",
      "668/668 [==============================] - 133s 199ms/step - loss: 0.0512 - accuracy: 0.9919 - val_loss: 0.1807 - val_accuracy: 0.9688\n",
      "Epoch 20/30\n",
      "668/668 [==============================] - 133s 199ms/step - loss: 0.0502 - accuracy: 0.9926 - val_loss: 0.0715 - val_accuracy: 0.9688\n",
      "Epoch 21/30\n",
      "668/668 [==============================] - 133s 199ms/step - loss: 0.0482 - accuracy: 0.9925 - val_loss: 0.1668 - val_accuracy: 0.9688\n",
      "Epoch 22/30\n",
      "668/668 [==============================] - 133s 199ms/step - loss: 0.0486 - accuracy: 0.9929 - val_loss: 0.1419 - val_accuracy: 0.9688\n",
      "Epoch 23/30\n",
      "668/668 [==============================] - 133s 199ms/step - loss: 0.0456 - accuracy: 0.9933 - val_loss: 0.1893 - val_accuracy: 0.9688\n",
      "Epoch 24/30\n",
      "668/668 [==============================] - 133s 199ms/step - loss: 0.0417 - accuracy: 0.9941 - val_loss: 0.1747 - val_accuracy: 0.9688\n",
      "Epoch 25/30\n",
      "668/668 [==============================] - 133s 199ms/step - loss: 0.0451 - accuracy: 0.9933 - val_loss: 0.1868 - val_accuracy: 0.9688\n",
      "Epoch 26/30\n",
      "668/668 [==============================] - 133s 199ms/step - loss: 0.0413 - accuracy: 0.9939 - val_loss: 0.1894 - val_accuracy: 0.9688\n",
      "Epoch 27/30\n",
      "668/668 [==============================] - 133s 199ms/step - loss: 0.0390 - accuracy: 0.9946 - val_loss: 0.1919 - val_accuracy: 0.9688\n",
      "Epoch 28/30\n",
      "668/668 [==============================] - 133s 199ms/step - loss: 0.0371 - accuracy: 0.9947 - val_loss: 0.1868 - val_accuracy: 0.9688\n",
      "Epoch 29/30\n",
      "668/668 [==============================] - 133s 199ms/step - loss: 0.0378 - accuracy: 0.9946 - val_loss: 0.1892 - val_accuracy: 0.9688\n",
      "Epoch 30/30\n",
      "668/668 [==============================] - 133s 199ms/step - loss: 0.0357 - accuracy: 0.9946 - val_loss: 0.1825 - val_accuracy: 0.9688\n",
      "INFO:tensorflow:Assets written to: ../resnet/resnet_30epochs_33393.6 images/assets\n",
      "Test acc for resnet: 0.988636\n",
      "Done!\n",
      "--------------------------------------------------\n",
      "\n",
      "Training opticnet for 0.4% of train size (aka 33393 images)...\n"
     ]
    },
    {
     "name": "stderr",
     "output_type": "stream",
     "text": [
      "<ipython-input-66-797fd00c81c1>:20: UserWarning: Matplotlib is currently using module://ipykernel.pylab.backend_inline, which is a non-GUI backend, so cannot show the figure.\n",
      "  self.fig.show()\n"
     ]
    },
    {
     "name": "stdout",
     "output_type": "stream",
     "text": [
      "Epoch 1/30\n",
      "  6/668 [..............................] - ETA: 19:47 - loss: 5.3265 - accuracy: 0.1832WARNING:tensorflow:Callback method `on_train_batch_end` is slow compared to the batch time (batch time: 0.4654s vs `on_train_batch_end` time: 1.0304s). Check your callbacks.\n",
      "668/668 [==============================] - 803s 1s/step - loss: 0.4535 - accuracy: 0.8760 - val_loss: 0.0722 - val_accuracy: 1.0000\n"
     ]
    },
    {
     "name": "stderr",
     "output_type": "stream",
     "text": [
      "<ipython-input-66-797fd00c81c1>:48: UserWarning: Matplotlib is currently using module://ipykernel.pylab.backend_inline, which is a non-GUI backend, so cannot show the figure.\n",
      "  self.fig.show()\n"
     ]
    },
    {
     "name": "stdout",
     "output_type": "stream",
     "text": [
      "Epoch 2/30\n",
      "668/668 [==============================] - 787s 1s/step - loss: 0.1328 - accuracy: 0.9564 - val_loss: 0.0334 - val_accuracy: 1.0000\n",
      "Epoch 3/30\n",
      "668/668 [==============================] - 786s 1s/step - loss: 0.1064 - accuracy: 0.9633 - val_loss: 0.1726 - val_accuracy: 0.9062\n",
      "Epoch 4/30\n",
      "668/668 [==============================] - 787s 1s/step - loss: 0.0851 - accuracy: 0.9713 - val_loss: 0.1033 - val_accuracy: 0.9688\n",
      "Epoch 5/30\n",
      "668/668 [==============================] - 787s 1s/step - loss: 0.0697 - accuracy: 0.9754 - val_loss: 0.0155 - val_accuracy: 1.0000\n",
      "Epoch 6/30\n",
      "668/668 [==============================] - 786s 1s/step - loss: 0.0503 - accuracy: 0.9842 - val_loss: 0.0434 - val_accuracy: 0.9688\n",
      "Epoch 7/30\n",
      "668/668 [==============================] - 786s 1s/step - loss: 0.0416 - accuracy: 0.9855 - val_loss: 0.0396 - val_accuracy: 0.9688\n",
      "Epoch 8/30\n",
      "668/668 [==============================] - 787s 1s/step - loss: 0.0340 - accuracy: 0.9882 - val_loss: 0.1706 - val_accuracy: 0.9688\n",
      "Epoch 9/30\n",
      "668/668 [==============================] - 787s 1s/step - loss: 0.0209 - accuracy: 0.9934 - val_loss: 0.0261 - val_accuracy: 0.9688\n",
      "Epoch 10/30\n",
      "668/668 [==============================] - 787s 1s/step - loss: 0.0197 - accuracy: 0.9940 - val_loss: 0.4468 - val_accuracy: 0.9062\n",
      "Epoch 11/30\n",
      "668/668 [==============================] - 788s 1s/step - loss: 0.0143 - accuracy: 0.9957 - val_loss: 0.3207 - val_accuracy: 0.9688\n",
      "Epoch 12/30\n",
      "668/668 [==============================] - 788s 1s/step - loss: 0.0103 - accuracy: 0.9971 - val_loss: 0.1926 - val_accuracy: 0.9688\n",
      "Epoch 13/30\n",
      "668/668 [==============================] - 788s 1s/step - loss: 0.0099 - accuracy: 0.9974 - val_loss: 0.1653 - val_accuracy: 0.9688\n",
      "Epoch 14/30\n",
      "668/668 [==============================] - 787s 1s/step - loss: 0.0070 - accuracy: 0.9980 - val_loss: 0.1307 - val_accuracy: 0.9688\n",
      "Epoch 15/30\n",
      "668/668 [==============================] - 786s 1s/step - loss: 0.0082 - accuracy: 0.9971 - val_loss: 0.0758 - val_accuracy: 0.9688\n",
      "Epoch 16/30\n",
      "668/668 [==============================] - 785s 1s/step - loss: 0.0059 - accuracy: 0.9982 - val_loss: 0.2391 - val_accuracy: 0.9688\n",
      "Epoch 17/30\n",
      "668/668 [==============================] - 787s 1s/step - loss: 0.0057 - accuracy: 0.9983 - val_loss: 0.0883 - val_accuracy: 0.9688\n",
      "Epoch 18/30\n",
      "668/668 [==============================] - 789s 1s/step - loss: 0.0045 - accuracy: 0.9985 - val_loss: 0.1460 - val_accuracy: 0.9688\n",
      "Epoch 19/30\n",
      "668/668 [==============================] - 790s 1s/step - loss: 0.0039 - accuracy: 0.9983 - val_loss: 0.1848 - val_accuracy: 0.9688\n",
      "Epoch 20/30\n",
      "668/668 [==============================] - 790s 1s/step - loss: 0.0034 - accuracy: 0.9988 - val_loss: 0.1662 - val_accuracy: 0.9688\n",
      "Epoch 21/30\n",
      "668/668 [==============================] - 789s 1s/step - loss: 0.0029 - accuracy: 0.9987 - val_loss: 0.1706 - val_accuracy: 0.9688\n",
      "Epoch 22/30\n",
      "668/668 [==============================] - 790s 1s/step - loss: 0.0046 - accuracy: 0.9980 - val_loss: 0.1688 - val_accuracy: 0.9688\n",
      "Epoch 23/30\n",
      "668/668 [==============================] - 789s 1s/step - loss: 0.0030 - accuracy: 0.9987 - val_loss: 0.1260 - val_accuracy: 0.9688\n",
      "Epoch 24/30\n",
      "668/668 [==============================] - 788s 1s/step - loss: 0.0024 - accuracy: 0.9988 - val_loss: 0.1597 - val_accuracy: 0.9688\n",
      "Epoch 25/30\n",
      "668/668 [==============================] - 788s 1s/step - loss: 0.0026 - accuracy: 0.9987 - val_loss: 0.2125 - val_accuracy: 0.9688\n",
      "Epoch 26/30\n",
      "668/668 [==============================] - 788s 1s/step - loss: 0.0022 - accuracy: 0.9991 - val_loss: 0.1584 - val_accuracy: 0.9688\n",
      "Epoch 27/30\n",
      "668/668 [==============================] - 788s 1s/step - loss: 0.0022 - accuracy: 0.9988 - val_loss: 0.1134 - val_accuracy: 0.9688\n",
      "Epoch 28/30\n",
      "668/668 [==============================] - 788s 1s/step - loss: 0.0020 - accuracy: 0.9988 - val_loss: 0.2016 - val_accuracy: 0.9688\n",
      "Epoch 29/30\n",
      "668/668 [==============================] - 789s 1s/step - loss: 0.0015 - accuracy: 0.9992 - val_loss: 0.1648 - val_accuracy: 0.9688\n",
      "Epoch 30/30\n",
      "668/668 [==============================] - 788s 1s/step - loss: 0.0016 - accuracy: 0.9989 - val_loss: 0.1843 - val_accuracy: 0.9688\n",
      "INFO:tensorflow:Assets written to: ../opticnet/opticnet_30epochs_33393.6 images/assets\n",
      "Test acc for opticnet: 0.995868\n",
      "Done!\n",
      "--------------------------------------------------\n",
      "\n"
     ]
    },
    {
     "data": {
      "image/png": "[encoded data removed]",
      "text/plain": [
       "<Figure size 288x216 with 1 Axes>"
      ]
     },
     "metadata": {
      "needs_background": "light"
     },
     "output_type": "display_data"
    },
    {
     "data": {
      "image/png": "[encoded data removed]",
      "text/plain": [
       "<Figure size 288x216 with 1 Axes>"
      ]
     },
     "metadata": {
      "needs_background": "light"
     },
     "output_type": "display_data"
    },
    {
     "data": {
      "image/png": "[encoded data removed]",
      "text/plain": [
       "<Figure size 288x216 with 1 Axes>"
      ]
     },
     "metadata": {
      "needs_background": "light"
     },
     "output_type": "display_data"
    },
    {
     "data": {
      "image/png": "[encoded data removed]",
      "text/plain": [
       "<Figure size 288x216 with 1 Axes>"
      ]
     },
     "metadata": {
      "needs_background": "light"
     },
     "output_type": "display_data"
    },
    {
     "data": {
      "image/png": "[encoded data removed]",
      "text/plain": [
       "<Figure size 288x216 with 1 Axes>"
      ]
     },
     "metadata": {
      "needs_background": "light"
     },
     "output_type": "display_data"
    },
    {
     "data": {
      "image/png": "[encoded data removed]",
      "text/plain": [
       "<Figure size 288x216 with 1 Axes>"
      ]
     },
     "metadata": {
      "needs_background": "light"
     },
     "output_type": "display_data"
    },
    {
     "data": {
      "image/png": "[encoded data removed]",
      "text/plain": [
       "<Figure size 288x216 with 1 Axes>"
      ]
     },
     "metadata": {
      "needs_background": "light"
     },
     "output_type": "display_data"
    },
    {
     "data": {
      "image/png": "[encoded data removed]",
      "text/plain": [
       "<Figure size 288x216 with 1 Axes>"
      ]
     },
     "metadata": {
      "needs_background": "light"
     },
     "output_type": "display_data"
    },
    {
     "data": {
      "image/png": "[encoded data removed]",
      "text/plain": [
       "<Figure size 288x216 with 1 Axes>"
      ]
     },
     "metadata": {
      "needs_background": "light"
     },
     "output_type": "display_data"
    }
   ],
   "source": [
    "from sklearn.model_selection import train_test_split\n",
    "import datetime\n",
    "\n",
    "maxTrain = len(y_train)\n",
    "#for p in [0.1, 0.25, 0.4, 0.5, 0.6, 0.75, 0.9]:\n",
    "for p in [0.1, 0.25, 0.4]:\n",
    "    #X_trn, X_tst, y_trn, y_tst\n",
    "    X_t, _, y_t, _ = train_test_split(images, y_train, test_size=1-p, random_state=123)\n",
    "    print(f\"Labels fraction: {sum(y_t == 1) / sum(y_train == 1)}\")\n",
    "    for net in [\"xception\", \"resnet\", \"opticnet\"]:\n",
    "        print(f\"Training {net} for {p}% of train size (aka {len(X_t)} images)...\")\n",
    "        model, size = emptyModelGenerator(net)\n",
    "        X_trn = resizeIms(X_t, size)\n",
    "        X_val = resizeIms(x_val, size)\n",
    "        log_dir = f\"logs/{net}/fit/{p}trainSet_\" + datetime.datetime.now().strftime(\"%Y%m%d-%H%M%S\")\n",
    "        tensorboard_callback = tf.keras.callbacks.TensorBoard(log_dir=log_dir, histogram_freq=1)\n",
    "        optim = Adam(learning_rate=0.001)\n",
    "        model.compile(optimizer=optim, loss='categorical_crossentropy', metrics=['accuracy'])\n",
    "        hist = model.fit(X_trn, y_t, epochs=epochs, validation_data = (X_val, y_validation), batch_size=batch_size,\n",
    "                    shuffle=True, max_queue_size=20,\n",
    "                    use_multiprocessing=True, workers=5, \n",
    "                    callbacks=[CustomCallback(fraction=0.9, model=net), tensorboard_callback])\n",
    "        model.save(f\"../{net}/{net}_{epochs}epochs_{p*maxTrain} images\")\n",
    "        testPredict(model, size, name=net)\n",
    "        del model\n",
    "        del X_trn\n",
    "        del X_val\n",
    "        print(\"Done!\\n\" + '-'*50, end='\\n\\n')"
   ]
  }
 ],
 "metadata": {
  "kernelspec": {
   "display_name": "Python 3",
   "language": "python",
   "name": "python3"
  },
  "language_info": {
   "codemirror_mode": {
    "name": "ipython",
    "version": 3
   },
   "file_extension": ".py",
   "mimetype": "text/x-python",
   "name": "python",
   "nbconvert_exporter": "python",
   "pygments_lexer": "ipython3",
   "version": "3.8.5"
  }
 },
 "nbformat": 4,
 "nbformat_minor": 4
}
