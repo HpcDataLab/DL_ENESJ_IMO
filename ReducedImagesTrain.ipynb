{
 "cells": [
  {
   "cell_type": "code",
   "execution_count": 1,
   "metadata": {},
   "outputs": [],
   "source": [
    "import tensorflow as tf\n",
    "from tensorflow import keras\n",
    "from keras.layers import Dense, GlobalAveragePooling2D\n",
    "import os\n",
    "import cv2\n",
    "import pickle\n",
    "from tensorflow.keras.optimizers import SGD, Adam\n",
    "from tensorflow.keras.models import Model\n",
    "\n",
    "\n",
    "from imblearn.under_sampling import RandomUnderSampler\n",
    "from keras.utils.np_utils import to_categorical\n",
    "import seaborn as sns\n",
    "import matplotlib.pyplot as plt\n",
    "import numpy as np\n",
    "import time\n",
    "\n",
    "%load_ext tensorboard"
   ]
  },
  {
   "cell_type": "code",
   "execution_count": 2,
   "metadata": {},
   "outputs": [
    {
     "name": "stdout",
     "output_type": "stream",
     "text": [
      "Tensorflow version is: 2.4.1\n"
     ]
    }
   ],
   "source": [
    "print(f\"Tensorflow version is: {tf.__version__}\")"
   ]
  },
  {
   "cell_type": "code",
   "execution_count": 3,
   "metadata": {},
   "outputs": [],
   "source": [
    "physical_devices = tf.config.experimental.list_physical_devices('GPU')\n",
    "tf.config.experimental.set_memory_growth(physical_devices[0], True)"
   ]
  },
  {
   "cell_type": "code",
   "execution_count": 4,
   "metadata": {},
   "outputs": [],
   "source": [
    "dataPath = \"../../data/OCT/OCT2017/\""
   ]
  },
  {
   "cell_type": "code",
   "execution_count": 5,
   "metadata": {},
   "outputs": [
    {
     "name": "stdout",
     "output_type": "stream",
     "text": [
      "Total Number of Classes Detected : 4\n"
     ]
    }
   ],
   "source": [
    "labels_available = os.listdir(os.path.join(dataPath, \"train\"))\n",
    "print(\"Total Number of Classes Detected :\",len(labels_available))\n",
    "\n",
    "labels_list = ['NORMAL',\"CNV\",\"DME\",\"DRUSEN\"]"
   ]
  },
  {
   "cell_type": "code",
   "execution_count": 6,
   "metadata": {},
   "outputs": [
    {
     "name": "stdout",
     "output_type": "stream",
     "text": [
      "NORMAL CNV DME DRUSEN "
     ]
    }
   ],
   "source": [
    "images=[]\n",
    "y_trn=[]\n",
    "for x in labels_list:\n",
    "    xPath = os.path.join(dataPath, \"train\", x)\n",
    "    myPicList = os.listdir(xPath)\n",
    "    for y in myPicList:\n",
    "        images.append(cv2.imread(os.path.join(xPath, y)))\n",
    "        y_trn.append(labels_list.index(x))\n",
    "    print(x ,end=\" \")\n",
    "\n",
    "y_train = to_categorical(y_trn,len(labels_list))"
   ]
  },
  {
   "cell_type": "code",
   "execution_count": 7,
   "metadata": {},
   "outputs": [
    {
     "name": "stdout",
     "output_type": "stream",
     "text": [
      "NORMAL CNV DME DRUSEN "
     ]
    }
   ],
   "source": [
    "x_val=[]\n",
    "y_val=[]\n",
    "for x in labels_list:\n",
    "    xPath = os.path.join(dataPath, \"val\", x)\n",
    "    myPicList = os.listdir(xPath)\n",
    "    for y in myPicList:\n",
    "        x_val.append(cv2.imread(os.path.join(xPath, y)))\n",
    "        y_val.append(labels_list.index(x))\n",
    "    print(x ,end=\" \")\n",
    "\n",
    "y_validation = to_categorical(y_val,len(labels_list))"
   ]
  },
  {
   "cell_type": "code",
   "execution_count": 8,
   "metadata": {},
   "outputs": [
    {
     "name": "stdout",
     "output_type": "stream",
     "text": [
      "NORMAL CNV DME DRUSEN "
     ]
    }
   ],
   "source": [
    "x_tst=[]\n",
    "y_tst=[]\n",
    "for x in labels_list:\n",
    "    xPath = os.path.join(dataPath, \"test\", x)\n",
    "    myPicList = os.listdir(xPath)\n",
    "    for y in myPicList:\n",
    "        x_tst.append(cv2.imread(os.path.join(xPath, y)))\n",
    "        y_tst.append(labels_list.index(x))\n",
    "    print(x ,end=\" \")"
   ]
  },
  {
   "cell_type": "markdown",
   "metadata": {},
   "source": [
    "Number of images per category and set"
   ]
  },
  {
   "cell_type": "code",
   "execution_count": 9,
   "metadata": {},
   "outputs": [
    {
     "name": "stdout",
     "output_type": "stream",
     "text": [
      "Label\t\tTrain\t\tValidation\t\tTest\n",
      "NORMAL\t\t26315\t\t8\t\t\t242\n",
      "CNV\t\t37205\t\t8\t\t\t242\n",
      "DME\t\t11348\t\t8\t\t\t242\n",
      "DRUSEN\t\t8616\t\t8\t\t\t242\n"
     ]
    }
   ],
   "source": [
    "def getNumberOfItems(labels, itemLabel):\n",
    "    return sum(list(map(lambda x: x == itemLabel, labels))) \n",
    "\n",
    "\n",
    "print(\"Label\\t\\tTrain\\t\\tValidation\\t\\tTest\")\n",
    "for i, label in enumerate(labels_list):\n",
    "    print(f\"{label}\\t\\t{getNumberOfItems(y_trn, i)}\\t\\t{getNumberOfItems(y_val, i)}\\t\\t\\t{getNumberOfItems(y_tst, i)}\")"
   ]
  },
  {
   "cell_type": "code",
   "execution_count": 10,
   "metadata": {},
   "outputs": [],
   "source": [
    "def resizeIm(im, size):\n",
    "    if im.shape[2] == 1:\n",
    "        im = cv2.cvtColor(im,cv2.COLOR_GRAY2RGB)\n",
    "    return cv2.resize(im, size)\n",
    "\n",
    "def resizeIms(x, size):\n",
    "    return np.array(list(map(lambda im: resizeIm(im, size), x)))\n",
    "\n",
    "# Substract the mean specified by Mean (https://www.mathworks.com/help/deeplearning/ref/nnet.cnn.layer.imageinputlayer.html)\n",
    "# Substract mean by channel\n",
    "def zerocenter(x):\n",
    "    return (x - np.mean(x, axis=(0, 1))) / (2*np.std(x, axis=(0, 1)))\n",
    "\n",
    "# Rescale the input to be in the range [-1, 1] using the minimum and maximum values specified by Min and Max, respectively. (https://www.mathworks.com/help/deeplearning/ref/nnet.cnn.layer.imageinputlayer.html)\n",
    "# Compute using the formula: $x\\prime = 2 * \\frac{x - \\min{x}}{\\max{x} - \\min{x}} - 1$ taken from: https://stats.stackexchange.com/a/178629\n",
    "def rescaleSymmetric(x):\n",
    "    x = zerocenter(x)\n",
    "    return 2 * (x - np.min(x, axis=(0, 1)))/np.ptp(x, axis=(0, 1)) - 1\n",
    "\n",
    "def normalizeIms(x, normalization):\n",
    "    if normalization == \"zerocenter\":\n",
    "        func = zerocenter\n",
    "    elif normalization == \"rescale-symmetric\":\n",
    "        func = rescaleSymmetric\n",
    "    else:\n",
    "        return x\n",
    "    return np.array(list(map(lambda im: func(im), x)))"
   ]
  },
  {
   "cell_type": "code",
   "execution_count": 11,
   "metadata": {},
   "outputs": [],
   "source": [
    "class CustomCallback(tf.keras.callbacks.Callback):\n",
    "    def __init__(self,fraction, model):\n",
    "        super(CustomCallback,self).__init__()\n",
    "        self.fraction = fraction\n",
    "        self.train_a = [];\n",
    "        self.val_a =[];\n",
    "        self.logPath = os.path.join(model, \"log.txt\")\n",
    "\n",
    "        if not os.path.isdir(model):\n",
    "            os.mkdir(model)\n",
    "\n",
    "        with open(self.logPath,'w') as f:\n",
    "            f.write('Starting of logging..\\n')\n",
    "\n",
    "        self.fig = plt.figure(figsize=(4,3))\n",
    "        self.ax = plt.subplot(1,1,1)\n",
    "        plt.ion()\n",
    "\n",
    "    def on_train_begin(self,logs=None):\n",
    "        self.fig.show()\n",
    "        self.fig.canvas.draw()\n",
    "\n",
    "    def on_train_end(self,logs=None):\n",
    "        with open(self.logPath,'a') as f:\n",
    "              f.write('End of logging..\\n')\n",
    "    \n",
    "    def on_epoch_begin(self,epoch,logs=None):\n",
    "        lr= tf.keras.backend.get_value(self.model.optimizer.lr)\n",
    "        lr *= self.fraction\n",
    "        tf.keras.backend.set_value(self.model.optimizer.lr,lr)\n",
    "        with open(self.logPath,'a') as f:\n",
    "            f.write('At epoch {:02d}, learning rate changed to {:.4f}\\n'.format(epoch,lr))\n",
    "    \n",
    "    def on_epoch_end(self,epoch,logs=None):\n",
    "        val_acc = logs.get('val_accuracy')\n",
    "        train_acc = logs.get('accuracy')\n",
    "        self.train_a.append(train_acc)\n",
    "        self.val_a.append(val_acc)\n",
    "        with open(self.logPath,'a') as f:\n",
    "            f.write('At epoch {:02d}, training accuracy: {:.3f}, validation accuracy: {:.3f}\\n'.format(epoch,train_acc,val_acc))\n",
    "        self.ax.clear()\n",
    "        self.ax.plot(range(1+epoch),self.train_a,label=\"Training\")\n",
    "        self.ax.plot(range(1+epoch),self.val_a,label=\"Validation\")\n",
    "        self.ax.set_xlabel('Epochs')\n",
    "        self.ax.set_ylabel('Accuracy')\n",
    "        self.ax.legend()\n",
    "        self.fig.canvas.draw()\n",
    "        self.fig.show()\n",
    "        \n",
    "class TimeHistory(keras.callbacks.Callback):\n",
    "    def on_train_begin(self, logs={}):\n",
    "        self.times = []\n",
    "\n",
    "    def on_epoch_begin(self, batch, logs={}):\n",
    "        self.epoch_time_start = time.time()\n",
    "\n",
    "    def on_epoch_end(self, batch, logs={}):\n",
    "        self.times.append(time.time() - self.epoch_time_start)"
   ]
  },
  {
   "cell_type": "markdown",
   "metadata": {},
   "source": [
    "## Load models"
   ]
  },
  {
   "cell_type": "code",
   "execution_count": 12,
   "metadata": {},
   "outputs": [
    {
     "name": "stdout",
     "output_type": "stream",
     "text": [
      "WARNING:tensorflow:No training configuration found in the save file, so the model was *not* compiled. Compile it manually.\n",
      "WARNING:tensorflow:No training configuration found in the save file, so the model was *not* compiled. Compile it manually.\n"
     ]
    }
   ],
   "source": [
    "# xception base model\n",
    "#from tensorflow.keras.applications.xception import Xception\n",
    "#from tensorflow.keras.applications.xception import preprocess_input, decode_predictions\n",
    "#xceptionNetModel = Xception(weights='imagenet')\n",
    "#xceptionNetModel.save(\"../Xception.hdf5\")\n",
    "\n",
    "xceptionNetModel = tf.keras.models.load_model('../Xception.hdf5')\n",
    "\n",
    "# opticnet base model\n",
    "opticNetModel = tf.keras.models.load_model('../Optic_net-4_classes-Kermany2018.hdf5')\n",
    "\n",
    "# resnet base model\n",
    "#from tensorflow.keras.applications.resnet50 import ResNet50\n",
    "#from tensorflow.keras.applications.resnet50 import preprocess_input, decode_predictions\n",
    "#resNetModel = ResNet50(weights='imagenet')\n",
    "#resNetModel.save(\"../Resnet50.hdf5\")\n",
    "\n",
    "resNetModel = tf.keras.models.load_model('../Resnet50.hdf5')"
   ]
  },
  {
   "cell_type": "code",
   "execution_count": 13,
   "metadata": {},
   "outputs": [
    {
     "name": "stdout",
     "output_type": "stream",
     "text": [
      "Model: \"sequential\"\n",
      "_________________________________________________________________\n",
      "Layer (type)                 Output Shape              Param #   \n",
      "=================================================================\n",
      "conv2d (Conv2D)              (None, 221, 221, 32)      4736      \n",
      "_________________________________________________________________\n",
      "batch_normalization (BatchNo (None, 221, 221, 32)      128       \n",
      "_________________________________________________________________\n",
      "max_pooling2d (MaxPooling2D) (None, 110, 110, 32)      0         \n",
      "_________________________________________________________________\n",
      "conv2d_1 (Conv2D)            (None, 104, 104, 32)      50208     \n",
      "_________________________________________________________________\n",
      "batch_normalization_1 (Batch (None, 104, 104, 32)      128       \n",
      "_________________________________________________________________\n",
      "max_pooling2d_1 (MaxPooling2 (None, 52, 52, 32)        0         \n",
      "_________________________________________________________________\n",
      "conv2d_2 (Conv2D)            (None, 48, 48, 64)        51264     \n",
      "_________________________________________________________________\n",
      "batch_normalization_2 (Batch (None, 48, 48, 64)        256       \n",
      "_________________________________________________________________\n",
      "max_pooling2d_2 (MaxPooling2 (None, 24, 24, 64)        0         \n",
      "_________________________________________________________________\n",
      "conv2d_3 (Conv2D)            (None, 20, 20, 128)       204928    \n",
      "_________________________________________________________________\n",
      "batch_normalization_3 (Batch (None, 20, 20, 128)       512       \n",
      "_________________________________________________________________\n",
      "max_pooling2d_3 (MaxPooling2 (None, 10, 10, 128)       0         \n",
      "_________________________________________________________________\n",
      "conv2d_4 (Conv2D)            (None, 8, 8, 256)         295168    \n",
      "_________________________________________________________________\n",
      "batch_normalization_4 (Batch (None, 8, 8, 256)         1024      \n",
      "_________________________________________________________________\n",
      "max_pooling2d_4 (MaxPooling2 (None, 4, 4, 256)         0         \n",
      "_________________________________________________________________\n",
      "average_pooling2d (AveragePo (None, 2, 2, 256)         0         \n",
      "_________________________________________________________________\n",
      "flatten (Flatten)            (None, 1024)              0         \n",
      "_________________________________________________________________\n",
      "dense (Dense)                (None, 128)               131200    \n",
      "_________________________________________________________________\n",
      "dropout (Dropout)            (None, 128)               0         \n",
      "_________________________________________________________________\n",
      "dense_1 (Dense)              (None, 32)                4128      \n",
      "_________________________________________________________________\n",
      "dropout_1 (Dropout)          (None, 32)                0         \n",
      "_________________________________________________________________\n",
      "dense_2 (Dense)              (None, 4)                 132       \n",
      "_________________________________________________________________\n",
      "softmax (Softmax)            (None, 4)                 0         \n",
      "=================================================================\n",
      "Total params: 743,812\n",
      "Trainable params: 742,788\n",
      "Non-trainable params: 1,024\n",
      "_________________________________________________________________\n"
     ]
    }
   ],
   "source": [
    "conv_init = tf.keras.initializers.RandomNormal(mean=0., stddev=1.) # convolutional layer with zero mean and 1 sd\n",
    "#batch_init = tf.keras.initializers.RandomNormal(mean=1., stddev=0.02) # non-sense here\n",
    "\n",
    "octnet = keras.models.Sequential() # empty model\n",
    "\n",
    "octnet.add(keras.layers.Conv2D(32, (7, 7), activation=\"relu\", use_bias=True, input_shape=(227, 227, 3), kernel_initializer=conv_init))\n",
    "octnet.add(keras.layers.BatchNormalization())\n",
    "octnet.add(keras.layers.MaxPooling2D(pool_size=(2, 2)))\n",
    "\n",
    "octnet.add(keras.layers.Conv2D(32, (7, 7), activation=\"relu\", use_bias=True, kernel_initializer=conv_init))\n",
    "octnet.add(keras.layers.BatchNormalization())\n",
    "octnet.add(keras.layers.MaxPooling2D(pool_size=(2, 2)))\n",
    "\n",
    "octnet.add(keras.layers.Conv2D(64, (5, 5), activation=\"relu\", use_bias=True, kernel_initializer=conv_init))\n",
    "octnet.add(keras.layers.BatchNormalization())\n",
    "octnet.add(keras.layers.MaxPooling2D(pool_size=(2, 2)))\n",
    "\n",
    "octnet.add(keras.layers.Conv2D(128, (5, 5), activation=\"relu\", use_bias=True, kernel_initializer=conv_init))\n",
    "octnet.add(keras.layers.BatchNormalization())\n",
    "octnet.add(keras.layers.MaxPooling2D(pool_size=(2, 2)))\n",
    "\n",
    "octnet.add(keras.layers.Conv2D(256, (3, 3), activation=\"relu\", use_bias=True, kernel_initializer=conv_init))\n",
    "octnet.add(keras.layers.BatchNormalization())\n",
    "octnet.add(keras.layers.MaxPooling2D(pool_size=(2, 2)))\n",
    "\n",
    "#octnet.add(keras.layers.Conv2D(512, (3, 3), activation=\"relu\", use_bias=True))\n",
    "#octnet.add(keras.layers.BatchNormalization())\n",
    "#octnet.add(keras.layers.MaxPooling2D(pool_size=(2, 2)))\n",
    "\n",
    "octnet.add(keras.layers.AveragePooling2D())\n",
    "octnet.add(keras.layers.Flatten())\n",
    "octnet.add(keras.layers.Dense(128))\n",
    "octnet.add(keras.layers.Dropout(0.5))\n",
    "octnet.add(keras.layers.Dense(32))\n",
    "octnet.add(keras.layers.Dropout(0.5))\n",
    "octnet.add(keras.layers.Dense(4))\n",
    "octnet.add(keras.layers.Softmax())\n",
    "\n",
    "octnet.summary()"
   ]
  },
  {
   "cell_type": "code",
   "execution_count": 14,
   "metadata": {},
   "outputs": [],
   "source": [
    "def emptyModelGenerator(model, newWeights=False, lastOnly=False):\n",
    "    model = model.lower() # lower case model name\n",
    "    if model == \"resnet\":\n",
    "        x = resNetModel.output\n",
    "        predictions = Dense(len(labels_list), activation='softmax')(x)\n",
    "        newModel = Model(inputs=resNetModel.input, outputs=predictions)\n",
    "        size = (224, 224)\n",
    "        normalization = \"zerocenter\"\n",
    "    elif model == \"xception\":\n",
    "        x = xceptionNetModel.output\n",
    "        predictions = Dense(len(labels_list), activation='softmax')(x)\n",
    "        newModel = Model(inputs=xceptionNetModel.input, outputs=predictions)\n",
    "        size = (299, 299)\n",
    "        normalization = \"rescale-symmetric\"\n",
    "    elif model == \"opticnet\":\n",
    "        newModel = tf.keras.models.load_model('../Optic_net-4_classes-Kermany2018.hdf5')\n",
    "        size = (224, 224)\n",
    "        normalization = \"rescale-symmetric\"\n",
    "    elif model == \"octnet\":\n",
    "        newModel = tf.keras.models.clone_model(octnet)\n",
    "        size = (227, 227)\n",
    "        normalization = \"zerocenter\"\n",
    "    if newWeights:\n",
    "        newModel = tf.keras.models.clone_model(newModel)\n",
    "    if lastOnly:\n",
    "        newModel = lastDenseTrainable(newModel) # block all layer except the last dense ones\n",
    "    else:\n",
    "        newModel.trainable = True\n",
    "    return newModel, size, normalization\n",
    "\n",
    "\n",
    "def lastDenseTrainable(model):\n",
    "    model.trainable = False\n",
    "    for i in range(1, len(model.layers)):\n",
    "        if model.layers[-i].__class__.__name__ == \"Dense\":\n",
    "            model.layers[-i].trainable= True\n",
    "        elif model.layers[-i].__class__.__name__ == \"Activation\":\n",
    "            continue\n",
    "        else:\n",
    "            break\n",
    "    return model\n",
    "    \n",
    "\n",
    "def testPredict(model, size, name=None, normalization=None):\n",
    "    X_test = resizeIms(x_tst, size)\n",
    "    if normalization:\n",
    "        X_test = normalizeIms(X_test, normalization)\n",
    "    X_test = np.array(X_test)\n",
    "    Y_test = np.array(y_tst)\n",
    "    \n",
    "    prediction = model.predict(X_test)\n",
    "    preds = np.argmax(prediction, axis=1)\n",
    "    acc = sum(preds == Y_test) / len(Y_test)\n",
    "    print(f'Test acc for {name if name else \"model\"}: {acc:.6f}')\n",
    "    return acc\n",
    "    \n",
    "\n",
    "def computeConfussionMatrix(predictions, labels):\n",
    "    num_labels = len(labels_list)\n",
    "    cMatrix = np.zeros(shape=(num_labels, num_labels))\n",
    "    for i in len(predictions):\n",
    "        p = int(predictions[i])\n",
    "        t = int(predictions[i])\n",
    "        cMatrix[t, p] += 1\n",
    "    print(cMatrix)\n",
    "    ax = sns.heatmap(cMatrix, cmap=\"Blues\", annot=True, fmt=\"d\", xticklabels=labels_list, yticklabels=labels_list)\n",
    "    plt.xlabel(\"Predicted label\")\n",
    "    plt.ylabel(\"True label\")\n",
    "    plt.title(\"Confusion matrix\")\n",
    "    plt.show();\n",
    "    return cMatrix\n",
    "    "
   ]
  },
  {
   "cell_type": "code",
   "execution_count": 15,
   "metadata": {
    "tags": []
   },
   "outputs": [
    {
     "name": "stdout",
     "output_type": "stream",
     "text": [
      "\n",
      "\n",
      "**************************************************\n",
      "Model: xception\n",
      "**************************************************\n",
      "\n",
      "Total: 135 trainable: 2\n",
      "\n",
      "\n",
      "**************************************************\n",
      "Model: resnet\n",
      "**************************************************\n",
      "\n",
      "Total: 178 trainable: 2\n",
      "\n",
      "\n",
      "**************************************************\n",
      "Model: opticnet\n",
      "**************************************************\n",
      "\n",
      "Total: 276 trainable: 2\n",
      "\n",
      "\n",
      "**************************************************\n",
      "Model: octnet\n",
      "**************************************************\n",
      "\n",
      "Total: 23 trainable: 0\n"
     ]
    }
   ],
   "source": [
    "models = [\"xception\", \"resnet\", \"opticnet\", \"octnet\"]\n",
    "\n",
    "def printTrainableLayers(m):\n",
    "    a = 0\n",
    "    for l in m.layers:\n",
    "        #l.trainable = True\n",
    "        if l.trainable:\n",
    "            #print(l.name, l.trainable)\n",
    "            a += 1\n",
    "    print(f\"\\nTotal: {len(m.layers)} trainable: {a}\")\n",
    "\n",
    "for mod in models:\n",
    "    print(\"\\n\\n\" + (\"*\"*50) + \"\\nModel: \" + mod + '\\n' + (\"*\"*50))\n",
    "    m = emptyModelGenerator(mod, newWeights=False, lastOnly=True)[0]\n",
    "    printTrainableLayers(m)"
   ]
  },
  {
   "cell_type": "code",
   "execution_count": 16,
   "metadata": {
    "tags": []
   },
   "outputs": [],
   "source": [
    "learning_rate = 0.001\n",
    "momentum = 0.9\n",
    "optim = lambda lr: Adam(learning_rate=lr)\n",
    "#optim = lambda lr, momentum: SGD(learning_rate=lr, momentum=momentum)\n",
    "epochs = 30\n",
    "batch_size = 50\n",
    "#batch_size = 128"
   ]
  },
  {
   "cell_type": "code",
   "execution_count": 17,
   "metadata": {},
   "outputs": [],
   "source": [
    "import pandas as pd\n",
    "results = pd.read_csv(\"Results_temp.csv\")\n",
    "results[\"normalization\"] = None"
   ]
  },
  {
   "cell_type": "code",
   "execution_count": 20,
   "metadata": {},
   "outputs": [],
   "source": [
    "#import pandas as pd\n",
    "#res = pd.read_csv(\"Results_temp.csv\")\n",
    "#res.to_csv(\"Results.csv\", index=False)"
   ]
  },
  {
   "cell_type": "code",
   "execution_count": 21,
   "metadata": {
    "tags": []
   },
   "outputs": [
    {
     "name": "stdout",
     "output_type": "stream",
     "text": [
      "Labels fraction: [0.40205206 0.39639833 0.40200916 0.40656917]\n",
      "Training resnet for 0.4% of train size (aka 33393 images) with pretrained: False and onlyLastLayersTrained: False...\n",
      "\n",
      "Total: 178 trainable: 178\n"
     ]
    },
    {
     "name": "stderr",
     "output_type": "stream",
     "text": [
      "<ipython-input-11-a21c27d31b2a>:20: UserWarning: Matplotlib is currently using module://ipykernel.pylab.backend_inline, which is a non-GUI backend, so cannot show the figure.\n",
      "  self.fig.show()\n"
     ]
    },
    {
     "name": "stdout",
     "output_type": "stream",
     "text": [
      "Epoch 1/30\n",
      "  6/668 [..............................] - ETA: 7:53 - loss: 1.3784 - accuracy: 0.3046WARNING:tensorflow:Callback method `on_train_batch_begin` is slow compared to the batch time (batch time: 0.1075s vs `on_train_batch_begin` time: 0.1372s). Check your callbacks.\n",
      "WARNING:tensorflow:Callback method `on_train_batch_end` is slow compared to the batch time (batch time: 0.1075s vs `on_train_batch_end` time: 0.3798s). Check your callbacks.\n",
      "668/668 [==============================] - 140s 201ms/step - loss: 1.2496 - accuracy: 0.4356 - val_loss: 1.5829 - val_accuracy: 0.2500\n"
     ]
    },
    {
     "name": "stderr",
     "output_type": "stream",
     "text": [
      "<ipython-input-11-a21c27d31b2a>:48: UserWarning: Matplotlib is currently using module://ipykernel.pylab.backend_inline, which is a non-GUI backend, so cannot show the figure.\n",
      "  self.fig.show()\n"
     ]
    },
    {
     "name": "stdout",
     "output_type": "stream",
     "text": [
      "Epoch 2/30\n",
      "668/668 [==============================] - 132s 198ms/step - loss: 0.9873 - accuracy: 0.6301 - val_loss: 1.2179 - val_accuracy: 0.4688\n",
      "Epoch 3/30\n",
      "668/668 [==============================] - 133s 199ms/step - loss: 0.6861 - accuracy: 0.7545 - val_loss: 1.3448 - val_accuracy: 0.4688\n",
      "Epoch 4/30\n",
      "668/668 [==============================] - 133s 199ms/step - loss: 0.5744 - accuracy: 0.8103 - val_loss: 1.8823 - val_accuracy: 0.3750\n",
      "Epoch 5/30\n",
      "668/668 [==============================] - 133s 199ms/step - loss: 0.4946 - accuracy: 0.8512 - val_loss: 1.3119 - val_accuracy: 0.5625\n",
      "Epoch 6/30\n",
      "668/668 [==============================] - 133s 199ms/step - loss: 0.4487 - accuracy: 0.8646 - val_loss: 0.7322 - val_accuracy: 0.8125\n",
      "Epoch 7/30\n",
      "668/668 [==============================] - 133s 199ms/step - loss: 0.3371 - accuracy: 0.9051 - val_loss: 0.3308 - val_accuracy: 0.9375\n",
      "Epoch 8/30\n",
      "668/668 [==============================] - 133s 199ms/step - loss: 0.3108 - accuracy: 0.9142 - val_loss: 0.5259 - val_accuracy: 0.7812\n",
      "Epoch 9/30\n",
      "668/668 [==============================] - 133s 199ms/step - loss: 0.2656 - accuracy: 0.9255 - val_loss: 0.4125 - val_accuracy: 0.9062\n",
      "Epoch 10/30\n",
      "668/668 [==============================] - 133s 199ms/step - loss: 0.2473 - accuracy: 0.9317 - val_loss: 0.3862 - val_accuracy: 0.8438\n",
      "Epoch 11/30\n",
      "668/668 [==============================] - 133s 199ms/step - loss: 0.2115 - accuracy: 0.9418 - val_loss: 0.1250 - val_accuracy: 0.9688\n",
      "Epoch 12/30\n",
      "668/668 [==============================] - 133s 199ms/step - loss: 0.1820 - accuracy: 0.9511 - val_loss: 0.0711 - val_accuracy: 1.0000\n",
      "Epoch 13/30\n",
      "668/668 [==============================] - 133s 199ms/step - loss: 0.1551 - accuracy: 0.9579 - val_loss: 0.0655 - val_accuracy: 0.9688\n",
      "Epoch 14/30\n",
      "668/668 [==============================] - 133s 199ms/step - loss: 0.1400 - accuracy: 0.9611 - val_loss: 0.0527 - val_accuracy: 1.0000\n",
      "Epoch 15/30\n",
      "668/668 [==============================] - 133s 199ms/step - loss: 0.1235 - accuracy: 0.9668 - val_loss: 0.0302 - val_accuracy: 1.0000\n",
      "Epoch 16/30\n",
      "668/668 [==============================] - 133s 199ms/step - loss: 0.1154 - accuracy: 0.9712 - val_loss: 0.0320 - val_accuracy: 1.0000\n",
      "Epoch 17/30\n",
      "668/668 [==============================] - 133s 199ms/step - loss: 0.0902 - accuracy: 0.9771 - val_loss: 0.0292 - val_accuracy: 1.0000\n",
      "Epoch 18/30\n",
      "668/668 [==============================] - 133s 199ms/step - loss: 0.0852 - accuracy: 0.9808 - val_loss: 0.1397 - val_accuracy: 0.9375\n",
      "Epoch 19/30\n",
      "668/668 [==============================] - 133s 199ms/step - loss: 0.0741 - accuracy: 0.9831 - val_loss: 0.0208 - val_accuracy: 1.0000\n",
      "Epoch 20/30\n",
      "668/668 [==============================] - 133s 199ms/step - loss: 0.0643 - accuracy: 0.9864 - val_loss: 0.0431 - val_accuracy: 0.9688\n",
      "Epoch 21/30\n",
      "668/668 [==============================] - 133s 199ms/step - loss: 0.0628 - accuracy: 0.9859 - val_loss: 0.0233 - val_accuracy: 1.0000\n",
      "Epoch 22/30\n",
      "668/668 [==============================] - 133s 199ms/step - loss: 0.0550 - accuracy: 0.9888 - val_loss: 0.0174 - val_accuracy: 1.0000\n",
      "Epoch 23/30\n",
      "668/668 [==============================] - 133s 199ms/step - loss: 0.0472 - accuracy: 0.9911 - val_loss: 0.0178 - val_accuracy: 1.0000\n",
      "Epoch 24/30\n",
      "668/668 [==============================] - 133s 199ms/step - loss: 0.0425 - accuracy: 0.9921 - val_loss: 0.0166 - val_accuracy: 1.0000\n",
      "Epoch 25/30\n",
      "668/668 [==============================] - 133s 199ms/step - loss: 0.0374 - accuracy: 0.9940 - val_loss: 0.0230 - val_accuracy: 1.0000\n",
      "Epoch 26/30\n",
      "668/668 [==============================] - 133s 199ms/step - loss: 0.0347 - accuracy: 0.9947 - val_loss: 0.0169 - val_accuracy: 1.0000\n",
      "Epoch 27/30\n",
      "668/668 [==============================] - 133s 199ms/step - loss: 0.0344 - accuracy: 0.9939 - val_loss: 0.0186 - val_accuracy: 1.0000\n",
      "Epoch 28/30\n",
      "668/668 [==============================] - 133s 199ms/step - loss: 0.0403 - accuracy: 0.9928 - val_loss: 0.0151 - val_accuracy: 1.0000\n",
      "Epoch 29/30\n",
      "668/668 [==============================] - 133s 199ms/step - loss: 0.0296 - accuracy: 0.9954 - val_loss: 0.0157 - val_accuracy: 1.0000\n",
      "Epoch 30/30\n",
      "668/668 [==============================] - 133s 199ms/step - loss: 0.0271 - accuracy: 0.9959 - val_loss: 0.0138 - val_accuracy: 1.0000\n",
      "INFO:tensorflow:Assets written to: ../resnet/resnet_30epochs_33394_images_True_newWeights_False_lastLayerOnly_zerocenter_normalization/assets\n",
      "Test acc for resnet: 0.990702\n",
      "Done!\n",
      "--------------------------------------------------\n",
      "\n",
      "Labels fraction: [0.40053202 0.39868297 0.40209729 0.40123027]\n",
      "Training resnet for 0.4% of train size (aka 33393 images) with pretrained: False and onlyLastLayersTrained: False...\n",
      "\n",
      "Total: 178 trainable: 178\n"
     ]
    },
    {
     "name": "stderr",
     "output_type": "stream",
     "text": [
      "<ipython-input-11-a21c27d31b2a>:20: UserWarning: Matplotlib is currently using module://ipykernel.pylab.backend_inline, which is a non-GUI backend, so cannot show the figure.\n",
      "  self.fig.show()\n"
     ]
    },
    {
     "name": "stdout",
     "output_type": "stream",
     "text": [
      "Epoch 1/30\n",
      "  6/668 [..............................] - ETA: 7:33 - loss: 1.3768 - accuracy: 0.3044WARNING:tensorflow:Callback method `on_train_batch_begin` is slow compared to the batch time (batch time: 0.1083s vs `on_train_batch_begin` time: 0.1446s). Check your callbacks.\n",
      "WARNING:tensorflow:Callback method `on_train_batch_end` is slow compared to the batch time (batch time: 0.1083s vs `on_train_batch_end` time: 0.3449s). Check your callbacks.\n",
      "668/668 [==============================] - 142s 203ms/step - loss: 1.1213 - accuracy: 0.5466 - val_loss: 1.3262 - val_accuracy: 0.5312\n"
     ]
    },
    {
     "name": "stderr",
     "output_type": "stream",
     "text": [
      "<ipython-input-11-a21c27d31b2a>:48: UserWarning: Matplotlib is currently using module://ipykernel.pylab.backend_inline, which is a non-GUI backend, so cannot show the figure.\n",
      "  self.fig.show()\n"
     ]
    },
    {
     "name": "stdout",
     "output_type": "stream",
     "text": [
      "Epoch 2/30\n",
      "668/668 [==============================] - 133s 199ms/step - loss: 0.7156 - accuracy: 0.7383 - val_loss: 0.7942 - val_accuracy: 0.6875\n",
      "Epoch 3/30\n",
      "668/668 [==============================] - 133s 200ms/step - loss: 0.6203 - accuracy: 0.7877 - val_loss: 2.2613 - val_accuracy: 0.3438\n",
      "Epoch 4/30\n",
      "668/668 [==============================] - 135s 201ms/step - loss: 0.5521 - accuracy: 0.8124 - val_loss: 0.6549 - val_accuracy: 0.6875\n",
      "Epoch 5/30\n",
      "668/668 [==============================] - 133s 199ms/step - loss: 0.4478 - accuracy: 0.8471 - val_loss: 0.6394 - val_accuracy: 0.6562\n",
      "Epoch 6/30\n",
      "668/668 [==============================] - 133s 199ms/step - loss: 0.3695 - accuracy: 0.8906 - val_loss: 1.1198 - val_accuracy: 0.6250\n",
      "Epoch 7/30\n",
      "668/668 [==============================] - 133s 199ms/step - loss: 0.3251 - accuracy: 0.9091 - val_loss: 0.1799 - val_accuracy: 1.0000\n",
      "Epoch 8/30\n",
      "668/668 [==============================] - 133s 199ms/step - loss: 0.2852 - accuracy: 0.9241 - val_loss: 0.3809 - val_accuracy: 0.9062\n",
      "Epoch 9/30\n",
      "668/668 [==============================] - 133s 199ms/step - loss: 0.2383 - accuracy: 0.9368 - val_loss: 0.1201 - val_accuracy: 1.0000\n",
      "Epoch 10/30\n",
      "668/668 [==============================] - 133s 199ms/step - loss: 0.2001 - accuracy: 0.9472 - val_loss: 0.1467 - val_accuracy: 0.9688\n",
      "Epoch 11/30\n",
      "668/668 [==============================] - 133s 198ms/step - loss: 0.1870 - accuracy: 0.9522 - val_loss: 0.0892 - val_accuracy: 1.0000\n",
      "Epoch 12/30\n",
      "668/668 [==============================] - 133s 198ms/step - loss: 0.1590 - accuracy: 0.9598 - val_loss: 0.0716 - val_accuracy: 1.0000\n",
      "Epoch 13/30\n",
      "668/668 [==============================] - 133s 199ms/step - loss: 0.1388 - accuracy: 0.9653 - val_loss: 0.0629 - val_accuracy: 1.0000\n",
      "Epoch 14/30\n",
      "668/668 [==============================] - 133s 199ms/step - loss: 0.1214 - accuracy: 0.9707 - val_loss: 0.0600 - val_accuracy: 1.0000\n",
      "Epoch 15/30\n",
      "668/668 [==============================] - 133s 199ms/step - loss: 0.1124 - accuracy: 0.9730 - val_loss: 0.0465 - val_accuracy: 1.0000\n",
      "Epoch 16/30\n",
      "668/668 [==============================] - 133s 199ms/step - loss: 0.0969 - accuracy: 0.9794 - val_loss: 0.0441 - val_accuracy: 1.0000\n",
      "Epoch 17/30\n",
      "668/668 [==============================] - 133s 198ms/step - loss: 0.0831 - accuracy: 0.9831 - val_loss: 0.0413 - val_accuracy: 1.0000\n",
      "Epoch 18/30\n",
      "668/668 [==============================] - 133s 199ms/step - loss: 0.0740 - accuracy: 0.9859 - val_loss: 0.0380 - val_accuracy: 1.0000\n",
      "Epoch 19/30\n",
      "668/668 [==============================] - 133s 199ms/step - loss: 0.0643 - accuracy: 0.9890 - val_loss: 0.0360 - val_accuracy: 1.0000\n",
      "Epoch 20/30\n",
      "668/668 [==============================] - 133s 199ms/step - loss: 0.0550 - accuracy: 0.9914 - val_loss: 0.0342 - val_accuracy: 1.0000\n",
      "Epoch 21/30\n",
      "668/668 [==============================] - 133s 199ms/step - loss: 0.0570 - accuracy: 0.9904 - val_loss: 0.0331 - val_accuracy: 1.0000\n",
      "Epoch 22/30\n",
      "668/668 [==============================] - 133s 199ms/step - loss: 0.0509 - accuracy: 0.9928 - val_loss: 0.0321 - val_accuracy: 1.0000\n",
      "Epoch 23/30\n",
      "668/668 [==============================] - 133s 199ms/step - loss: 0.0494 - accuracy: 0.9928 - val_loss: 0.0308 - val_accuracy: 1.0000\n",
      "Epoch 24/30\n",
      "668/668 [==============================] - 133s 199ms/step - loss: 0.0457 - accuracy: 0.9939 - val_loss: 0.0303 - val_accuracy: 1.0000\n",
      "Epoch 25/30\n",
      "668/668 [==============================] - 133s 199ms/step - loss: 0.0411 - accuracy: 0.9946 - val_loss: 0.0290 - val_accuracy: 1.0000\n",
      "Epoch 26/30\n",
      "668/668 [==============================] - 133s 199ms/step - loss: 0.0418 - accuracy: 0.9948 - val_loss: 0.0285 - val_accuracy: 1.0000\n",
      "Epoch 27/30\n",
      "668/668 [==============================] - 133s 199ms/step - loss: 0.0374 - accuracy: 0.9955 - val_loss: 0.0311 - val_accuracy: 1.0000\n",
      "Epoch 28/30\n",
      "668/668 [==============================] - 133s 199ms/step - loss: 0.0391 - accuracy: 0.9950 - val_loss: 0.0275 - val_accuracy: 1.0000\n",
      "Epoch 29/30\n",
      "668/668 [==============================] - 133s 199ms/step - loss: 0.0352 - accuracy: 0.9957 - val_loss: 0.0270 - val_accuracy: 1.0000\n",
      "Epoch 30/30\n",
      "668/668 [==============================] - 133s 199ms/step - loss: 0.0366 - accuracy: 0.9958 - val_loss: 0.0273 - val_accuracy: 1.0000\n",
      "INFO:tensorflow:Assets written to: ../resnet/resnet_30epochs_33394_images_True_newWeights_False_lastLayerOnly_zerocenter_normalization/assets\n",
      "Test acc for resnet: 0.992769\n",
      "Done!\n",
      "--------------------------------------------------\n",
      "\n",
      "Labels fraction: [0.39851796 0.39908614 0.40394783 0.40320334]\n",
      "Training resnet for 0.4% of train size (aka 33393 images) with pretrained: False and onlyLastLayersTrained: False...\n",
      "\n",
      "Total: 178 trainable: 178\n"
     ]
    },
    {
     "name": "stderr",
     "output_type": "stream",
     "text": [
      "<ipython-input-11-a21c27d31b2a>:20: UserWarning: Matplotlib is currently using module://ipykernel.pylab.backend_inline, which is a non-GUI backend, so cannot show the figure.\n",
      "  self.fig.show()\n"
     ]
    },
    {
     "name": "stdout",
     "output_type": "stream",
     "text": [
      "Epoch 1/30\n",
      "  6/668 [..............................] - ETA: 7:34 - loss: 1.3714 - accuracy: 0.4872WARNING:tensorflow:Callback method `on_train_batch_begin` is slow compared to the batch time (batch time: 0.1041s vs `on_train_batch_begin` time: 0.1540s). Check your callbacks.\n",
      "WARNING:tensorflow:Callback method `on_train_batch_end` is slow compared to the batch time (batch time: 0.1041s vs `on_train_batch_end` time: 0.3407s). Check your callbacks.\n",
      "668/668 [==============================] - 142s 204ms/step - loss: 1.1822 - accuracy: 0.4930 - val_loss: 1.4213 - val_accuracy: 0.5000\n"
     ]
    },
    {
     "name": "stderr",
     "output_type": "stream",
     "text": [
      "<ipython-input-11-a21c27d31b2a>:48: UserWarning: Matplotlib is currently using module://ipykernel.pylab.backend_inline, which is a non-GUI backend, so cannot show the figure.\n",
      "  self.fig.show()\n"
     ]
    },
    {
     "name": "stdout",
     "output_type": "stream",
     "text": [
      "Epoch 2/30\n",
      "668/668 [==============================] - 134s 200ms/step - loss: 0.7271 - accuracy: 0.7379 - val_loss: 1.1632 - val_accuracy: 0.4688.727\n",
      "Epoch 3/30\n",
      "668/668 [==============================] - 134s 200ms/step - loss: 0.6002 - accuracy: 0.8008 - val_loss: 1.5401 - val_accuracy: 0.5000\n",
      "Epoch 4/30\n",
      "668/668 [==============================] - 133s 199ms/step - loss: 0.5203 - accuracy: 0.8336 - val_loss: 0.5214 - val_accuracy: 0.8125\n",
      "Epoch 5/30\n",
      "668/668 [==============================] - 133s 199ms/step - loss: 0.4413 - accuracy: 0.8643 - val_loss: 1.0662 - val_accuracy: 0.6562\n",
      "Epoch 6/30\n",
      "668/668 [==============================] - 133s 199ms/step - loss: 0.3674 - accuracy: 0.8889 - val_loss: 1.5813 - val_accuracy: 0.5625\n",
      "Epoch 7/30\n",
      "668/668 [==============================] - 133s 199ms/step - loss: 0.3466 - accuracy: 0.8995 - val_loss: 0.2609 - val_accuracy: 0.9375\n",
      "Epoch 8/30\n",
      "668/668 [==============================] - 133s 199ms/step - loss: 0.2745 - accuracy: 0.9247 - val_loss: 0.1646 - val_accuracy: 0.9688\n",
      "Epoch 9/30\n",
      "668/668 [==============================] - 133s 199ms/step - loss: 0.2223 - accuracy: 0.9403 - val_loss: 0.2509 - val_accuracy: 0.9062\n",
      "Epoch 10/30\n",
      "668/668 [==============================] - 133s 200ms/step - loss: 0.2043 - accuracy: 0.9438 - val_loss: 0.2014 - val_accuracy: 0.9688\n",
      "Epoch 11/30\n",
      "668/668 [==============================] - 133s 199ms/step - loss: 0.1816 - accuracy: 0.9520 - val_loss: 0.1004 - val_accuracy: 0.9688\n",
      "Epoch 12/30\n",
      "668/668 [==============================] - 133s 199ms/step - loss: 0.1515 - accuracy: 0.9587 - val_loss: 0.0607 - val_accuracy: 1.0000\n",
      "Epoch 13/30\n",
      "668/668 [==============================] - 133s 199ms/step - loss: 0.1325 - accuracy: 0.9677 - val_loss: 0.0851 - val_accuracy: 1.0000\n",
      "Epoch 14/30\n",
      "668/668 [==============================] - 133s 199ms/step - loss: 0.1148 - accuracy: 0.9729 - val_loss: 0.0650 - val_accuracy: 1.0000\n",
      "Epoch 15/30\n",
      "668/668 [==============================] - 133s 200ms/step - loss: 0.1075 - accuracy: 0.9742 - val_loss: 0.0557 - val_accuracy: 1.0000\n",
      "Epoch 16/30\n",
      "668/668 [==============================] - 134s 200ms/step - loss: 0.0801 - accuracy: 0.9838 - val_loss: 0.2896 - val_accuracy: 0.8750\n",
      "Epoch 17/30\n",
      "668/668 [==============================] - 134s 201ms/step - loss: 0.0736 - accuracy: 0.9846 - val_loss: 0.1327 - val_accuracy: 0.9688\n",
      "Epoch 18/30\n",
      "668/668 [==============================] - 134s 201ms/step - loss: 0.0605 - accuracy: 0.9898 - val_loss: 0.0400 - val_accuracy: 1.0000\n",
      "Epoch 19/30\n",
      "668/668 [==============================] - 135s 201ms/step - loss: 0.0583 - accuracy: 0.9905 - val_loss: 0.1642 - val_accuracy: 0.9688\n",
      "Epoch 20/30\n",
      "668/668 [==============================] - 135s 201ms/step - loss: 0.0539 - accuracy: 0.9906 - val_loss: 0.1716 - val_accuracy: 0.9688\n",
      "Epoch 21/30\n",
      "668/668 [==============================] - 135s 202ms/step - loss: 0.0483 - accuracy: 0.9922 - val_loss: 0.2579 - val_accuracy: 0.9062\n",
      "Epoch 22/30\n",
      "668/668 [==============================] - 135s 202ms/step - loss: 0.0424 - accuracy: 0.9936 - val_loss: 0.1432 - val_accuracy: 0.9688\n",
      "Epoch 23/30\n",
      "668/668 [==============================] - 133s 199ms/step - loss: 0.0388 - accuracy: 0.9953 - val_loss: 0.1761 - val_accuracy: 0.9688\n",
      "Epoch 24/30\n",
      "668/668 [==============================] - 133s 199ms/step - loss: 0.0347 - accuracy: 0.9961 - val_loss: 0.1872 - val_accuracy: 0.9688\n",
      "Epoch 25/30\n",
      "668/668 [==============================] - 133s 200ms/step - loss: 0.0360 - accuracy: 0.9956 - val_loss: 0.1864 - val_accuracy: 0.9688\n",
      "Epoch 26/30\n",
      "668/668 [==============================] - 135s 202ms/step - loss: 0.0342 - accuracy: 0.9961 - val_loss: 0.1877 - val_accuracy: 0.9688\n",
      "Epoch 27/30\n",
      "668/668 [==============================] - 144s 216ms/step - loss: 0.0343 - accuracy: 0.9958 - val_loss: 0.1870 - val_accuracy: 0.9688\n",
      "Epoch 28/30\n",
      "668/668 [==============================] - 133s 199ms/step - loss: 0.0330 - accuracy: 0.9961 - val_loss: 0.1860 - val_accuracy: 0.9688\n",
      "Epoch 29/30\n",
      "668/668 [==============================] - 133s 199ms/step - loss: 0.0328 - accuracy: 0.9960 - val_loss: 0.1859 - val_accuracy: 0.9688\n",
      "Epoch 30/30\n",
      "668/668 [==============================] - 133s 199ms/step - loss: 0.0325 - accuracy: 0.9964 - val_loss: 0.1873 - val_accuracy: 0.9688\n",
      "INFO:tensorflow:Assets written to: ../resnet/resnet_30epochs_33394_images_True_newWeights_False_lastLayerOnly_zerocenter_normalization/assets\n",
      "Test acc for resnet: 0.990702\n",
      "Done!\n",
      "--------------------------------------------------\n",
      "\n",
      "Labels fraction: [0.40060802 0.40018815 0.39901304 0.39856082]\n",
      "Training resnet for 0.4% of train size (aka 33393 images) with pretrained: False and onlyLastLayersTrained: False...\n",
      "\n",
      "Total: 178 trainable: 178\n"
     ]
    },
    {
     "name": "stderr",
     "output_type": "stream",
     "text": [
      "<ipython-input-11-a21c27d31b2a>:20: UserWarning: Matplotlib is currently using module://ipykernel.pylab.backend_inline, which is a non-GUI backend, so cannot show the figure.\n",
      "  self.fig.show()\n"
     ]
    },
    {
     "name": "stdout",
     "output_type": "stream",
     "text": [
      "Epoch 1/30\n",
      "  6/668 [..............................] - ETA: 7:23 - loss: 1.3741 - accuracy: 0.3886WARNING:tensorflow:Callback method `on_train_batch_begin` is slow compared to the batch time (batch time: 0.1008s vs `on_train_batch_begin` time: 0.1380s). Check your callbacks.\n",
      "WARNING:tensorflow:Callback method `on_train_batch_end` is slow compared to the batch time (batch time: 0.1008s vs `on_train_batch_end` time: 0.3463s). Check your callbacks.\n",
      "668/668 [==============================] - 164s 237ms/step - loss: 1.2392 - accuracy: 0.4478 - val_loss: 1.9539 - val_accuracy: 0.2188\n"
     ]
    },
    {
     "name": "stderr",
     "output_type": "stream",
     "text": [
      "<ipython-input-11-a21c27d31b2a>:48: UserWarning: Matplotlib is currently using module://ipykernel.pylab.backend_inline, which is a non-GUI backend, so cannot show the figure.\n",
      "  self.fig.show()\n"
     ]
    },
    {
     "name": "stdout",
     "output_type": "stream",
     "text": [
      "Epoch 2/30\n",
      "668/668 [==============================] - 134s 200ms/step - loss: 0.8197 - accuracy: 0.7088 - val_loss: 1.8556 - val_accuracy: 0.2812\n",
      "Epoch 3/30\n",
      "668/668 [==============================] - 133s 199ms/step - loss: 0.6488 - accuracy: 0.7908 - val_loss: 0.8241 - val_accuracy: 0.7188\n",
      "Epoch 4/30\n",
      "668/668 [==============================] - 133s 199ms/step - loss: 0.5436 - accuracy: 0.8282 - val_loss: 1.6470 - val_accuracy: 0.2812\n",
      "Epoch 5/30\n",
      "668/668 [==============================] - 133s 199ms/step - loss: 0.4111 - accuracy: 0.8635 - val_loss: 0.8435 - val_accuracy: 0.6875\n",
      "Epoch 6/30\n",
      "668/668 [==============================] - 132s 198ms/step - loss: 0.3545 - accuracy: 0.8954 - val_loss: 0.4915 - val_accuracy: 0.7812\n",
      "Epoch 7/30\n",
      "668/668 [==============================] - 135s 202ms/step - loss: 0.3019 - accuracy: 0.9152 - val_loss: 0.4534 - val_accuracy: 0.9062\n",
      "Epoch 8/30\n",
      "668/668 [==============================] - 133s 200ms/step - loss: 0.2490 - accuracy: 0.9357 - val_loss: 0.2064 - val_accuracy: 0.9375\n",
      "Epoch 9/30\n",
      "668/668 [==============================] - 133s 199ms/step - loss: 0.2030 - accuracy: 0.9470 - val_loss: 0.6907 - val_accuracy: 0.7812\n",
      "Epoch 10/30\n",
      "668/668 [==============================] - 133s 198ms/step - loss: 0.1820 - accuracy: 0.9519 - val_loss: 0.1023 - val_accuracy: 1.0000\n",
      "Epoch 11/30\n",
      "668/668 [==============================] - 133s 198ms/step - loss: 0.1583 - accuracy: 0.9588 - val_loss: 0.1186 - val_accuracy: 0.9688\n",
      "Epoch 12/30\n",
      "668/668 [==============================] - 133s 198ms/step - loss: 0.1368 - accuracy: 0.9655 - val_loss: 0.0714 - val_accuracy: 1.0000\n",
      "Epoch 13/30\n",
      "668/668 [==============================] - 133s 199ms/step - loss: 0.1231 - accuracy: 0.9702 - val_loss: 0.0950 - val_accuracy: 0.9688\n",
      "Epoch 14/30\n",
      "668/668 [==============================] - 133s 199ms/step - loss: 0.1007 - accuracy: 0.9763 - val_loss: 0.0681 - val_accuracy: 1.0000\n",
      "Epoch 15/30\n",
      "668/668 [==============================] - 133s 199ms/step - loss: 0.0883 - accuracy: 0.9799 - val_loss: 0.0445 - val_accuracy: 1.0000\n",
      "Epoch 16/30\n",
      "668/668 [==============================] - 133s 199ms/step - loss: 0.0772 - accuracy: 0.9844 - val_loss: 0.0445 - val_accuracy: 1.0000\n",
      "Epoch 17/30\n",
      "668/668 [==============================] - 133s 199ms/step - loss: 0.0652 - accuracy: 0.9883 - val_loss: 0.0421 - val_accuracy: 1.0000\n",
      "Epoch 18/30\n",
      "668/668 [==============================] - 133s 199ms/step - loss: 0.0545 - accuracy: 0.9911 - val_loss: 0.1239 - val_accuracy: 0.9688\n",
      "Epoch 19/30\n",
      "668/668 [==============================] - 133s 198ms/step - loss: 0.0513 - accuracy: 0.9918 - val_loss: 0.0398 - val_accuracy: 1.0000\n",
      "Epoch 20/30\n",
      "668/668 [==============================] - 174s 260ms/step - loss: 0.0497 - accuracy: 0.9925 - val_loss: 0.0344 - val_accuracy: 1.0000\n",
      "Epoch 21/30\n",
      "668/668 [==============================] - 177s 266ms/step - loss: 0.0495 - accuracy: 0.9933 - val_loss: 0.0325 - val_accuracy: 1.0000\n",
      "Epoch 22/30\n",
      "668/668 [==============================] - 140s 209ms/step - loss: 0.0395 - accuracy: 0.9948 - val_loss: 0.0295 - val_accuracy: 1.0000: 0.0394 - ac - ETA: \n",
      "Epoch 23/30\n",
      "668/668 [==============================] - 135s 202ms/step - loss: 0.0364 - accuracy: 0.9958 - val_loss: 0.0312 - val_accuracy: 1.0000\n",
      "Epoch 24/30\n",
      "668/668 [==============================] - 168s 251ms/step - loss: 0.0367 - accuracy: 0.9957 - val_loss: 0.0286 - val_accuracy: 1.0000\n",
      "Epoch 25/30\n",
      "668/668 [==============================] - 173s 260ms/step - loss: 0.0340 - accuracy: 0.9960 - val_loss: 0.0411 - val_accuracy: 1.0000\n",
      "Epoch 26/30\n",
      "668/668 [==============================] - 134s 200ms/step - loss: 0.0327 - accuracy: 0.9959 - val_loss: 0.0281 - val_accuracy: 1.0000\n",
      "Epoch 27/30\n",
      "668/668 [==============================] - 133s 199ms/step - loss: 0.0337 - accuracy: 0.9960 - val_loss: 0.0276 - val_accuracy: 1.0000\n",
      "Epoch 28/30\n",
      "668/668 [==============================] - 135s 201ms/step - loss: 0.0309 - accuracy: 0.9967 - val_loss: 0.0283 - val_accuracy: 1.0000\n",
      "Epoch 29/30\n",
      "668/668 [==============================] - 152s 228ms/step - loss: 0.0312 - accuracy: 0.9964 - val_loss: 0.0261 - val_accuracy: 1.0000\n",
      "Epoch 30/30\n",
      "668/668 [==============================] - 133s 199ms/step - loss: 0.0303 - accuracy: 0.9965 - val_loss: 0.0258 - val_accuracy: 1.0000\n",
      "INFO:tensorflow:Assets written to: ../resnet/resnet_30epochs_33394_images_True_newWeights_False_lastLayerOnly_zerocenter_normalization/assets\n",
      "Test acc for resnet: 0.992769\n",
      "Done!\n",
      "--------------------------------------------------\n",
      "\n"
     ]
    }
   ],
   "source": [
    "from sklearn.model_selection import train_test_split\n",
    "import datetime\n",
    "\n",
    "maxTrain = len(y_train)\n",
    "for newWeights in [True]:\n",
    "    tLayer = [False] if newWeights else [True, False] # do not train only last layer if new weights will be produced \n",
    "    for trainLastLayerOnly in tLayer:\n",
    "        for p in [0.4]:\n",
    "            learning_rate = 0.1\n",
    "            momentum = 0.6\n",
    "            for r_state in [1234567, 927123, 1273262, 836344]:\n",
    "                #X_trn, X_tst, y_trn, y_tst\n",
    "                if p < 1:\n",
    "                    X_t, _, y_t, _ = train_test_split(images, y_train, test_size=1-p, random_state=r_state)\n",
    "                else:\n",
    "                    X_t = images; y_t = y_train;\n",
    "                print(f\"Labels fraction: {sum(y_t == 1) / sum(y_train == 1)}\")\n",
    "                for net in [\"resnet\"]:\n",
    "                    print(f\"Training {net} for {p}% of train size (aka {len(X_t)} images) with pretrained: {not newWeights} and onlyLastLayersTrained: {trainLastLayerOnly}...\")\n",
    "                    model, size, normalization = emptyModelGenerator(net, newWeights=newWeights, lastOnly=trainLastLayerOnly)\n",
    "                    printTrainableLayers(model) # see if model is really well trained\n",
    "                    X_trn = resizeIms(X_t, size)\n",
    "                    #X_trn = normalizeIms(X_trn, normalization=normalization)\n",
    "                    X_val = resizeIms(x_val, size)\n",
    "                    #X_val = normalizeIms(X_val, normalization=normalization)\n",
    "                    log_dir = f\"logs/{net}/fit/{p}trainSet_\" + datetime.datetime.now().strftime(\"%Y%m%d-%H%M%S\")\n",
    "                    tensorboard_callback = tf.keras.callbacks.TensorBoard(log_dir=log_dir, histogram_freq=1)\n",
    "                    optimizer = SGD(learning_rate=learning_rate, momentum=momentum) # Adam(learning_rate, amsgrad=amsgrad) #create new optimizers\n",
    "                    time_callback = TimeHistory()\n",
    "                    model.compile(optimizer=optimizer, loss='categorical_crossentropy', metrics=['accuracy'])\n",
    "                    hist = model.fit(X_trn, y_t, epochs=epochs, validation_data = (X_val, y_validation), batch_size=batch_size,\n",
    "                                shuffle=True, max_queue_size=20,\n",
    "                                use_multiprocessing=True, workers=5, \n",
    "                                callbacks=[CustomCallback(fraction=0.9, model=net), tensorboard_callback, time_callback])\n",
    "                    trainTime = sum(time_callback.times)\n",
    "                    model.save(f\"../{net}/{net}_{epochs}epochs_{p*maxTrain:.0f}_images_{newWeights}_newWeights_{trainLastLayerOnly}_lastLayerOnly_{normalization}_normalization\")\n",
    "                    tstAcc = testPredict(model, size, name=net) #, normalization=normalization)\n",
    "                    results = results.append({\n",
    "                        'model': net, \n",
    "                        'train set images': len(X_t), \n",
    "                        'pretrained': not newWeights, \n",
    "                        'pretrained dataset': None if newWeights or net == \"octnet\" else (\"OCT2017,Srinivasan2014\" if net == \"opticnet\" else \"Imagenet\"),\n",
    "                        'Trained layers': \"Last dense\" if trainLastLayerOnly else \"All\", \n",
    "                        'epochs': epochs, \n",
    "                        'batch size': batch_size, \n",
    "                        'learning rate': f\"{learning_rate}_{momentum}\" if optimizer._name == \"SGD\" else learning_rate, \n",
    "                        'optimizer': \"Amsgrad\" if (optimizer._name == \"Adam\" and amsgrad) else optimizer._name,\n",
    "                        'training time (seconds)': trainTime, \n",
    "                        'train accuracy': hist.history[\"accuracy\"][-1], \n",
    "                        'train loss': hist.history[\"loss\"][-1],\n",
    "                        'validation accuracy': hist.history[\"val_accuracy\"][-1], \n",
    "                        'validation loss': hist.history[\"val_loss\"][-1], \n",
    "                        'test accuracy': tstAcc,\n",
    "                        #'normalization': normalization\n",
    "                    }, ignore_index=True)\n",
    "                    results.to_csv(\"Results_temp.csv\", index=False)\n",
    "                    del model\n",
    "                    del X_trn\n",
    "                    del X_val\n",
    "                    print(\"Done!\\n\" + '-'*50, end='\\n\\n')"
   ]
  }
 ],
 "metadata": {
  "kernelspec": {
   "display_name": "Python 3",
   "language": "python",
   "name": "python3"
  },
  "language_info": {
   "codemirror_mode": {
    "name": "ipython",
    "version": 3
   },
   "file_extension": ".py",
   "mimetype": "text/x-python",
   "name": "python",
   "nbconvert_exporter": "python",
   "pygments_lexer": "ipython3",
   "version": "3.8.5"
  }
 },
 "nbformat": 4,
 "nbformat_minor": 4
}
