{
 "cells": [
  {
   "cell_type": "code",
   "execution_count": 15,
   "metadata": {},
   "outputs": [],
   "source": [
    "import tensorflow as tf\n",
    "from tensorflow import keras\n",
    "from keras.layers import Dense, GlobalAveragePooling2D\n",
    "import os\n",
    "import cv2\n",
    "import pickle\n",
    "from tensorflow.keras.optimizers import SGD, Adam\n",
    "from tensorflow.keras.models import Model\n",
    "\n",
    "\n",
    "from imblearn.under_sampling import RandomUnderSampler\n",
    "from keras.utils.np_utils import to_categorical\n",
    "import seaborn as sns\n",
    "import matplotlib.pyplot as plt\n",
    "import numpy as np\n",
    "\n",
    "%load_ext tensorboard"
   ]
  },
  {
   "cell_type": "code",
   "execution_count": 2,
   "metadata": {},
   "outputs": [],
   "source": [
    "dataPath = \"../../data/OCT/OCT2017/\""
   ]
  },
  {
   "cell_type": "code",
   "execution_count": 3,
   "metadata": {},
   "outputs": [
    {
     "name": "stdout",
     "output_type": "stream",
     "text": [
      "Total Number of Classes Detected : 4\n"
     ]
    }
   ],
   "source": [
    "labels_available = os.listdir(os.path.join(dataPath, \"train\"))\n",
    "print(\"Total Number of Classes Detected :\",len(labels_available))\n",
    "\n",
    "labels_list = ['NORMAL',\"CNV\",\"DME\",\"DRUSEN\"]"
   ]
  },
  {
   "cell_type": "code",
   "execution_count": 4,
   "metadata": {},
   "outputs": [
    {
     "name": "stdout",
     "output_type": "stream",
     "text": [
      "NORMAL CNV DME DRUSEN "
     ]
    }
   ],
   "source": [
    "images=[]\n",
    "y_trn=[]\n",
    "for x in labels_list:\n",
    "    xPath = os.path.join(dataPath, \"train\", x)\n",
    "    myPicList = os.listdir(xPath)\n",
    "    for y in myPicList:\n",
    "        images.append(cv2.imread(os.path.join(xPath, y)))\n",
    "        y_trn.append(labels_list.index(x))\n",
    "    print(x ,end=\" \")\n",
    "\n",
    "y_train = to_categorical(y_trn,len(labels_list))"
   ]
  },
  {
   "cell_type": "code",
   "execution_count": 5,
   "metadata": {},
   "outputs": [
    {
     "name": "stdout",
     "output_type": "stream",
     "text": [
      "NORMAL CNV DME DRUSEN "
     ]
    }
   ],
   "source": [
    "x_val=[]\n",
    "y_val=[]\n",
    "for x in labels_list:\n",
    "    xPath = os.path.join(dataPath, \"val\", x)\n",
    "    myPicList = os.listdir(xPath)\n",
    "    for y in myPicList:\n",
    "        x_val.append(cv2.imread(os.path.join(xPath, y)))\n",
    "        y_val.append(labels_list.index(x))\n",
    "    print(x ,end=\" \")\n",
    "\n",
    "y_validation = to_categorical(y_val,len(labels_list))"
   ]
  },
  {
   "cell_type": "code",
   "execution_count": 6,
   "metadata": {},
   "outputs": [
    {
     "name": "stdout",
     "output_type": "stream",
     "text": [
      "NORMAL CNV DME DRUSEN "
     ]
    }
   ],
   "source": [
    "x_tst=[]\n",
    "y_tst=[]\n",
    "for x in labels_list:\n",
    "    xPath = os.path.join(dataPath, \"test\", x)\n",
    "    myPicList = os.listdir(xPath)\n",
    "    for y in myPicList:\n",
    "        x_tst.append(cv2.imread(os.path.join(xPath, y)))\n",
    "        y_tst.append(labels_list.index(x))\n",
    "    print(x ,end=\" \")"
   ]
  },
  {
   "cell_type": "code",
   "execution_count": 65,
   "metadata": {},
   "outputs": [],
   "source": [
    "def resizeIm(im, size):\n",
    "    if im.shape[2] == 1:\n",
    "        im = cv2.cvtColor(im,cv2.COLOR_GRAY2RGB)\n",
    "    return cv2.resize(im, size)\n",
    "\n",
    "def resizeIms(x, size):\n",
    "    return np.array(list(map(lambda im: resizeIm(im, size), x)))"
   ]
  },
  {
   "cell_type": "code",
   "execution_count": 66,
   "metadata": {},
   "outputs": [],
   "source": [
    "class CustomCallback(tf.keras.callbacks.Callback):\n",
    "    def __init__(self,fraction, model):\n",
    "        super(CustomCallback,self).__init__()\n",
    "        self.fraction = fraction\n",
    "        self.train_a = [];\n",
    "        self.val_a =[];\n",
    "        self.logPath = os.path.join(model, \"log.txt\")\n",
    "\n",
    "        if not os.path.isdir(model):\n",
    "            os.mkdir(model)\n",
    "\n",
    "        with open(self.logPath,'w') as f:\n",
    "            f.write('Starting of logging..\\n')\n",
    "\n",
    "        self.fig = plt.figure(figsize=(4,3))\n",
    "        self.ax = plt.subplot(1,1,1)\n",
    "        plt.ion()\n",
    "\n",
    "    def on_train_begin(self,logs=None):\n",
    "        self.fig.show()\n",
    "        self.fig.canvas.draw()\n",
    "\n",
    "    def on_train_end(self,logs=None):\n",
    "        with open(self.logPath,'a') as f:\n",
    "              f.write('End of logging..\\n')\n",
    "    \n",
    "    def on_epoch_begin(self,epoch,logs=None):\n",
    "        lr= tf.keras.backend.get_value(self.model.optimizer.lr)\n",
    "        lr *= self.fraction\n",
    "        tf.keras.backend.set_value(self.model.optimizer.lr,lr)\n",
    "        with open(self.logPath,'a') as f:\n",
    "            f.write('At epoch {:02d}, learning rate changed to {:.4f}\\n'.format(epoch,lr))\n",
    "    \n",
    "    def on_epoch_end(self,epoch,logs=None):\n",
    "        val_acc = logs.get('val_accuracy')\n",
    "        train_acc = logs.get('accuracy')\n",
    "        self.train_a.append(train_acc)\n",
    "        self.val_a.append(val_acc)\n",
    "        with open(self.logPath,'a') as f:\n",
    "            f.write('At epoch {:02d}, training accuracy: {:.3f}, validation accuracy: {:.3f}\\n'.format(epoch,train_acc,val_acc))\n",
    "        self.ax.clear()\n",
    "        self.ax.plot(range(1+epoch),self.train_a,label=\"Training\")\n",
    "        self.ax.plot(range(1+epoch),self.val_a,label=\"Validation\")\n",
    "        self.ax.set_xlabel('Epochs')\n",
    "        self.ax.set_ylabel('Accuracy')\n",
    "        self.ax.legend()\n",
    "        self.fig.canvas.draw()\n",
    "        self.fig.show()"
   ]
  },
  {
   "cell_type": "markdown",
   "metadata": {},
   "source": [
    "## Load models"
   ]
  },
  {
   "cell_type": "code",
   "execution_count": 67,
   "metadata": {},
   "outputs": [],
   "source": [
    "# xception base model\n",
    "from tensorflow.keras.applications.xception import Xception\n",
    "from tensorflow.keras.applications.xception import preprocess_input, decode_predictions\n",
    "xceptionNetModel = Xception(weights='imagenet')\n",
    "\n",
    "# opticnet base model\n",
    "opticNetModel = tf.keras.models.load_model('../Optic_net-4_classes-Kermany2018.hdf5')\n",
    "\n",
    "# resnet base model\n",
    "from tensorflow.keras.applications.resnet50 import ResNet50\n",
    "from tensorflow.keras.applications.resnet50 import preprocess_input, decode_predictions\n",
    "\n",
    "resNetModel = ResNet50(weights='imagenet')"
   ]
  },
  {
   "cell_type": "code",
   "execution_count": 68,
   "metadata": {},
   "outputs": [],
   "source": [
    "def emptyModelGenerator(model):\n",
    "    model = model.lower()\n",
    "    if model == \"resnet\":\n",
    "        x = resNetModel.output\n",
    "        predictions = Dense(len(labels_list), activation='softmax')(x)\n",
    "        newModel = Model(inputs=resNetModel.input, outputs=predictions)\n",
    "        size = (224, 224)\n",
    "    elif model == \"xception\":\n",
    "        x = xceptionNetModel.output\n",
    "        predictions = Dense(len(labels_list), activation='softmax')(x)\n",
    "        newModel = Model(inputs=xceptionNetModel.input, outputs=predictions)\n",
    "        size = (299, 299)\n",
    "    elif model == \"opticnet\":\n",
    "        newModel = tf.keras.models.load_model('../Optic_net-4_classes-Kermany2018.hdf5')\n",
    "        size = (224, 224)\n",
    "    return newModel, size\n",
    "\n",
    "\n",
    "def testPredict(model, size, name=None):\n",
    "    X_test = resizeIms(x_tst, size)\n",
    "    X_test = np.array(X_test)\n",
    "    Y_test = np.array(y_tst)\n",
    "    \n",
    "    prediction = model.predict(X_test)\n",
    "    preds = np.argmax(prediction, axis=1)\n",
    "    acc = sum(preds == Y_test) / len(Y_test)\n",
    "    print(f'Test acc for {name if name else \"model\"}: {acc:.6f}')\n",
    "    \n",
    "\n",
    "def computeConfussionMatrix(predictions, labels):\n",
    "    num_labels = len(labels_list)\n",
    "    cMatrix = np.zeros(shape=(num_labels, num_labels))\n",
    "    for i in len(predictions):\n",
    "        p = int(predictions[i])\n",
    "        t = int(predictions[i])\n",
    "        cMatrix[t, p] += 1\n",
    "    print(cMatrix)\n",
    "    ax = sns.heatmap(cMatrix, cmap=\"Blues\", annot=True, fmt=\"d\", xticklabels=labels_list, yticklabels=labels_list)\n",
    "    plt.xlabel(\"Predicted label\")\n",
    "    plt.ylabel(\"True label\")\n",
    "    plt.title(\"Confusion matrix\")\n",
    "    plt.show();\n",
    "    return cMatrix\n",
    "    \n"
   ]
  },
  {
   "cell_type": "code",
   "execution_count": 69,
   "metadata": {},
   "outputs": [],
   "source": [
    "optim = Adam(learning_rate=0.001)\n",
    "epochs = 30\n",
    "batch_size = 50"
   ]
  },
  {
   "cell_type": "code",
   "execution_count": 72,
   "metadata": {},
   "outputs": [
    {
     "name": "stdout",
     "output_type": "stream",
     "text": [
      "Labels fraction: [0.01037431 0.00938046 0.01092704 0.01021356]\n",
      "Training xception for 0.01% of train size (aka 834 images)...\n"
     ]
    },
    {
     "name": "stderr",
     "output_type": "stream",
     "text": [
      "<ipython-input-66-797fd00c81c1>:20: UserWarning: Matplotlib is currently using module://ipykernel.pylab.backend_inline, which is a non-GUI backend, so cannot show the figure.\n",
      "  self.fig.show()\n"
     ]
    },
    {
     "name": "stdout",
     "output_type": "stream",
     "text": [
      "Epoch 1/30\n",
      " 6/17 [=========>....................] - ETA: 13s - loss: 1.4064 - accuracy: 0.0011    WARNING:tensorflow:Callback method `on_train_batch_end` is slow compared to the batch time (batch time: 0.1581s vs `on_train_batch_end` time: 0.8642s). Check your callbacks.\n",
      "17/17 [==============================] - 23s 1s/step - loss: 1.4028 - accuracy: 0.0087 - val_loss: 1.3976 - val_accuracy: 0.2500\n"
     ]
    },
    {
     "name": "stderr",
     "output_type": "stream",
     "text": [
      "<ipython-input-66-797fd00c81c1>:48: UserWarning: Matplotlib is currently using module://ipykernel.pylab.backend_inline, which is a non-GUI backend, so cannot show the figure.\n",
      "  self.fig.show()\n"
     ]
    },
    {
     "name": "stdout",
     "output_type": "stream",
     "text": [
      "Epoch 2/30\n",
      "17/17 [==============================] - 12s 725ms/step - loss: 1.3682 - accuracy: 0.6616 - val_loss: 1.3709 - val_accuracy: 0.5000\n",
      "Epoch 3/30\n",
      "17/17 [==============================] - 12s 727ms/step - loss: 1.3425 - accuracy: 0.7302 - val_loss: 1.3718 - val_accuracy: 0.3438\n",
      "Epoch 4/30\n",
      "17/17 [==============================] - 12s 730ms/step - loss: 1.3234 - accuracy: 0.7447 - val_loss: 1.3642 - val_accuracy: 0.2500\n",
      "Epoch 5/30\n",
      "17/17 [==============================] - 13s 737ms/step - loss: 1.3059 - accuracy: 0.7277 - val_loss: 1.3520 - val_accuracy: 0.3438\n",
      "Epoch 6/30\n",
      "17/17 [==============================] - 13s 749ms/step - loss: 1.2875 - accuracy: 0.7606 - val_loss: 1.3576 - val_accuracy: 0.2812\n",
      "Epoch 7/30\n",
      "17/17 [==============================] - 13s 748ms/step - loss: 1.2777 - accuracy: 0.7483 - val_loss: 1.3609 - val_accuracy: 0.2812\n",
      "Epoch 8/30\n",
      "17/17 [==============================] - 13s 756ms/step - loss: 1.2656 - accuracy: 0.7554 - val_loss: 1.3457 - val_accuracy: 0.4062\n",
      "Epoch 9/30\n",
      "17/17 [==============================] - 13s 755ms/step - loss: 1.2562 - accuracy: 0.7563 - val_loss: 1.3218 - val_accuracy: 0.5000\n",
      "Epoch 10/30\n",
      "17/17 [==============================] - 13s 750ms/step - loss: 1.2498 - accuracy: 0.7493 - val_loss: 1.3169 - val_accuracy: 0.5000\n",
      "Epoch 11/30\n",
      "17/17 [==============================] - 13s 757ms/step - loss: 1.2408 - accuracy: 0.7579 - val_loss: 1.3113 - val_accuracy: 0.5000\n",
      "Epoch 12/30\n",
      "17/17 [==============================] - 13s 751ms/step - loss: 1.2383 - accuracy: 0.7455 - val_loss: 1.3075 - val_accuracy: 0.5000\n",
      "Epoch 13/30\n",
      "17/17 [==============================] - 13s 755ms/step - loss: 1.2358 - accuracy: 0.7362 - val_loss: 1.3049 - val_accuracy: 0.5000\n",
      "Epoch 14/30\n",
      "17/17 [==============================] - 13s 766ms/step - loss: 1.2258 - accuracy: 0.7514 - val_loss: 1.3027 - val_accuracy: 0.5000\n",
      "Epoch 15/30\n",
      "17/17 [==============================] - 13s 757ms/step - loss: 1.2177 - accuracy: 0.7613 - val_loss: 1.3008 - val_accuracy: 0.5000\n",
      "Epoch 16/30\n",
      "17/17 [==============================] - 13s 754ms/step - loss: 1.2209 - accuracy: 0.7383 - val_loss: 1.2990 - val_accuracy: 0.5000\n",
      "Epoch 17/30\n",
      "17/17 [==============================] - 13s 763ms/step - loss: 1.2151 - accuracy: 0.7474 - val_loss: 1.2976 - val_accuracy: 0.5000\n",
      "Epoch 18/30\n",
      "17/17 [==============================] - 13s 758ms/step - loss: 1.2144 - accuracy: 0.7445 - val_loss: 1.2961 - val_accuracy: 0.5000\n",
      "Epoch 19/30\n",
      "17/17 [==============================] - 13s 756ms/step - loss: 1.2050 - accuracy: 0.7618 - val_loss: 1.2949 - val_accuracy: 0.5000\n",
      "Epoch 20/30\n",
      "17/17 [==============================] - 13s 762ms/step - loss: 1.2108 - accuracy: 0.7358 - val_loss: 1.2938 - val_accuracy: 0.5000\n",
      "Epoch 21/30\n",
      "17/17 [==============================] - 13s 758ms/step - loss: 1.2098 - accuracy: 0.7356 - val_loss: 1.2928 - val_accuracy: 0.5000\n",
      "Epoch 22/30\n",
      "17/17 [==============================] - 13s 764ms/step - loss: 1.2034 - accuracy: 0.7466 - val_loss: 1.2919 - val_accuracy: 0.5000\n",
      "Epoch 23/30\n",
      "17/17 [==============================] - 13s 755ms/step - loss: 1.1980 - accuracy: 0.7583 - val_loss: 1.2911 - val_accuracy: 0.5000\n",
      "Epoch 24/30\n",
      "17/17 [==============================] - 13s 765ms/step - loss: 1.1994 - accuracy: 0.7482 - val_loss: 1.2904 - val_accuracy: 0.5000\n",
      "Epoch 25/30\n",
      "17/17 [==============================] - 13s 765ms/step - loss: 1.1977 - accuracy: 0.7488 - val_loss: 1.2898 - val_accuracy: 0.5000\n",
      "Epoch 26/30\n",
      "17/17 [==============================] - 13s 746ms/step - loss: 1.2012 - accuracy: 0.7367 - val_loss: 1.2892 - val_accuracy: 0.5000\n",
      "Epoch 27/30\n",
      "17/17 [==============================] - 13s 754ms/step - loss: 1.1988 - accuracy: 0.7396 - val_loss: 1.2887 - val_accuracy: 0.5000\n",
      "Epoch 28/30\n",
      "17/17 [==============================] - 13s 760ms/step - loss: 1.1930 - accuracy: 0.7520 - val_loss: 1.2882 - val_accuracy: 0.5000\n",
      "Epoch 29/30\n",
      "17/17 [==============================] - 13s 767ms/step - loss: 1.1897 - accuracy: 0.7575 - val_loss: 1.2878 - val_accuracy: 0.5000\n",
      "Epoch 30/30\n",
      "17/17 [==============================] - 13s 759ms/step - loss: 1.1867 - accuracy: 0.7642 - val_loss: 1.2875 - val_accuracy: 0.5000\n",
      "INFO:tensorflow:Assets written to: ../xception/xception_30epochs_834.84 images/assets\n",
      "Test acc for xception: 0.500000\n",
      "Done!\n",
      "--------------------------------------------------\n",
      "\n",
      "Training resnet for 0.01% of train size (aka 834 images)...\n"
     ]
    },
    {
     "name": "stderr",
     "output_type": "stream",
     "text": [
      "<ipython-input-66-797fd00c81c1>:20: UserWarning: Matplotlib is currently using module://ipykernel.pylab.backend_inline, which is a non-GUI backend, so cannot show the figure.\n",
      "  self.fig.show()\n"
     ]
    },
    {
     "name": "stdout",
     "output_type": "stream",
     "text": [
      "Epoch 1/30\n",
      " 6/17 [=========>....................] - ETA: 7s - loss: 1.3371 - accuracy: 0.8348WARNING:tensorflow:Callback method `on_train_batch_begin` is slow compared to the batch time (batch time: 0.1000s vs `on_train_batch_begin` time: 0.1272s). Check your callbacks.\n",
      "WARNING:tensorflow:Callback method `on_train_batch_end` is slow compared to the batch time (batch time: 0.1000s vs `on_train_batch_end` time: 0.3511s). Check your callbacks.\n",
      "17/17 [==============================] - 16s 490ms/step - loss: 1.3341 - accuracy: 0.9014 - val_loss: 1.3254 - val_accuracy: 0.9688\n"
     ]
    },
    {
     "name": "stderr",
     "output_type": "stream",
     "text": [
      "<ipython-input-66-797fd00c81c1>:48: UserWarning: Matplotlib is currently using module://ipykernel.pylab.backend_inline, which is a non-GUI backend, so cannot show the figure.\n",
      "  self.fig.show()\n"
     ]
    },
    {
     "name": "stdout",
     "output_type": "stream",
     "text": [
      "Epoch 2/30\n",
      "17/17 [==============================] - 3s 196ms/step - loss: 1.3081 - accuracy: 0.9921 - val_loss: 1.3115 - val_accuracy: 0.9375\n",
      "Epoch 3/30\n",
      "17/17 [==============================] - 3s 196ms/step - loss: 1.2846 - accuracy: 0.9960 - val_loss: 1.2936 - val_accuracy: 0.9375\n",
      "Epoch 4/30\n",
      "17/17 [==============================] - 3s 196ms/step - loss: 1.2635 - accuracy: 0.9897 - val_loss: 1.2788 - val_accuracy: 0.9375\n",
      "Epoch 5/30\n",
      "17/17 [==============================] - 3s 197ms/step - loss: 1.2437 - accuracy: 0.9960 - val_loss: 1.2580 - val_accuracy: 0.9688\n",
      "Epoch 6/30\n",
      "17/17 [==============================] - 3s 197ms/step - loss: 1.2315 - accuracy: 0.9884 - val_loss: 1.2523 - val_accuracy: 0.9688\n",
      "Epoch 7/30\n",
      "17/17 [==============================] - 3s 197ms/step - loss: 1.2128 - accuracy: 0.9934 - val_loss: 1.2418 - val_accuracy: 0.9688\n",
      "Epoch 8/30\n",
      "17/17 [==============================] - 3s 197ms/step - loss: 1.2021 - accuracy: 0.9924 - val_loss: 1.2328 - val_accuracy: 0.9688\n",
      "Epoch 9/30\n",
      "17/17 [==============================] - 3s 197ms/step - loss: 1.1910 - accuracy: 0.9939 - val_loss: 1.2246 - val_accuracy: 0.9688\n",
      "Epoch 10/30\n",
      "17/17 [==============================] - 3s 198ms/step - loss: 1.1751 - accuracy: 0.9948 - val_loss: 1.2174 - val_accuracy: 0.9688\n",
      "Epoch 11/30\n",
      "17/17 [==============================] - 3s 197ms/step - loss: 1.1711 - accuracy: 0.9924 - val_loss: 1.2110 - val_accuracy: 0.9688\n",
      "Epoch 12/30\n",
      "17/17 [==============================] - 3s 198ms/step - loss: 1.1628 - accuracy: 0.9959 - val_loss: 1.2053 - val_accuracy: 0.9688\n",
      "Epoch 13/30\n",
      "17/17 [==============================] - 3s 198ms/step - loss: 1.1503 - accuracy: 0.9970 - val_loss: 1.2003 - val_accuracy: 0.9688\n",
      "Epoch 14/30\n",
      "17/17 [==============================] - 3s 198ms/step - loss: 1.1439 - accuracy: 0.9962 - val_loss: 1.1958 - val_accuracy: 0.9688\n",
      "Epoch 15/30\n",
      "17/17 [==============================] - 3s 198ms/step - loss: 1.1450 - accuracy: 0.9941 - val_loss: 1.1917 - val_accuracy: 0.9688\n",
      "Epoch 16/30\n",
      "17/17 [==============================] - 3s 198ms/step - loss: 1.1375 - accuracy: 0.9927 - val_loss: 1.1881 - val_accuracy: 0.9688\n",
      "Epoch 17/30\n",
      "17/17 [==============================] - 3s 198ms/step - loss: 1.1327 - accuracy: 0.9907 - val_loss: 1.1851 - val_accuracy: 0.9688\n",
      "Epoch 18/30\n",
      "17/17 [==============================] - 3s 198ms/step - loss: 1.1297 - accuracy: 0.9900 - val_loss: 1.1824 - val_accuracy: 0.9688\n",
      "Epoch 19/30\n",
      "17/17 [==============================] - 3s 198ms/step - loss: 1.1235 - accuracy: 0.9930 - val_loss: 1.1799 - val_accuracy: 0.9688\n",
      "Epoch 20/30\n",
      "17/17 [==============================] - 3s 198ms/step - loss: 1.1175 - accuracy: 0.9905 - val_loss: 1.1792 - val_accuracy: 0.9688\n",
      "Epoch 21/30\n",
      "17/17 [==============================] - 3s 198ms/step - loss: 1.1185 - accuracy: 0.9951 - val_loss: 1.1767 - val_accuracy: 0.9688\n",
      "Epoch 22/30\n",
      "17/17 [==============================] - 3s 198ms/step - loss: 1.1127 - accuracy: 0.9970 - val_loss: 1.1744 - val_accuracy: 0.9688\n",
      "Epoch 23/30\n",
      "17/17 [==============================] - 3s 198ms/step - loss: 1.1127 - accuracy: 0.9977 - val_loss: 1.1724 - val_accuracy: 0.9688\n",
      "Epoch 24/30\n",
      "17/17 [==============================] - 3s 198ms/step - loss: 1.1054 - accuracy: 0.9959 - val_loss: 1.1707 - val_accuracy: 0.9688\n",
      "Epoch 25/30\n",
      "17/17 [==============================] - 3s 198ms/step - loss: 1.1056 - accuracy: 0.9940 - val_loss: 1.1692 - val_accuracy: 0.9688\n",
      "Epoch 26/30\n",
      "17/17 [==============================] - 3s 198ms/step - loss: 1.1083 - accuracy: 0.9949 - val_loss: 1.1678 - val_accuracy: 0.9688\n",
      "Epoch 27/30\n",
      "17/17 [==============================] - 3s 198ms/step - loss: 1.0992 - accuracy: 0.9954 - val_loss: 1.1667 - val_accuracy: 0.9688\n",
      "Epoch 28/30\n",
      "17/17 [==============================] - 3s 198ms/step - loss: 1.1056 - accuracy: 0.9970 - val_loss: 1.1656 - val_accuracy: 0.9688\n",
      "Epoch 29/30\n",
      "17/17 [==============================] - 3s 198ms/step - loss: 1.0988 - accuracy: 0.9984 - val_loss: 1.1647 - val_accuracy: 0.9688\n",
      "Epoch 30/30\n",
      "17/17 [==============================] - 3s 198ms/step - loss: 1.0972 - accuracy: 0.9949 - val_loss: 1.1638 - val_accuracy: 0.9688\n",
      "INFO:tensorflow:Assets written to: ../resnet/resnet_30epochs_834.84 images/assets\n",
      "Test acc for resnet: 0.966942\n",
      "Done!\n",
      "--------------------------------------------------\n",
      "\n",
      "Training opticnet for 0.01% of train size (aka 834 images)...\n"
     ]
    },
    {
     "name": "stderr",
     "output_type": "stream",
     "text": [
      "<ipython-input-66-797fd00c81c1>:20: UserWarning: Matplotlib is currently using module://ipykernel.pylab.backend_inline, which is a non-GUI backend, so cannot show the figure.\n",
      "  self.fig.show()\n"
     ]
    },
    {
     "name": "stdout",
     "output_type": "stream",
     "text": [
      "Epoch 1/30\n",
      " 6/17 [=========>....................] - ETA: 18s - loss: 5.4473 - accuracy: 0.1552WARNING:tensorflow:Callback method `on_train_batch_end` is slow compared to the batch time (batch time: 0.4647s vs `on_train_batch_end` time: 1.0305s). Check your callbacks.\n",
      "17/17 [==============================] - 39s 2s/step - loss: 3.2698 - accuracy: 0.3753 - val_loss: 40.6838 - val_accuracy: 0.2500\n"
     ]
    },
    {
     "name": "stderr",
     "output_type": "stream",
     "text": [
      "<ipython-input-66-797fd00c81c1>:48: UserWarning: Matplotlib is currently using module://ipykernel.pylab.backend_inline, which is a non-GUI backend, so cannot show the figure.\n",
      "  self.fig.show()\n"
     ]
    },
    {
     "name": "stdout",
     "output_type": "stream",
     "text": [
      "Epoch 2/30\n",
      "17/17 [==============================] - 20s 1s/step - loss: 0.5878 - accuracy: 0.7872 - val_loss: 62.4663 - val_accuracy: 0.2500\n",
      "Epoch 3/30\n",
      "17/17 [==============================] - 20s 1s/step - loss: 0.3097 - accuracy: 0.8914 - val_loss: 3.2088 - val_accuracy: 0.4688\n",
      "Epoch 4/30\n",
      "17/17 [==============================] - 20s 1s/step - loss: 0.1631 - accuracy: 0.9310 - val_loss: 2.3973 - val_accuracy: 0.4688\n",
      "Epoch 5/30\n",
      "17/17 [==============================] - 20s 1s/step - loss: 0.1017 - accuracy: 0.9646 - val_loss: 1.0963 - val_accuracy: 0.7188\n",
      "Epoch 6/30\n",
      "17/17 [==============================] - 20s 1s/step - loss: 0.0457 - accuracy: 0.9900 - val_loss: 0.5293 - val_accuracy: 0.9375\n",
      "Epoch 7/30\n",
      "17/17 [==============================] - 20s 1s/step - loss: 0.0744 - accuracy: 0.9758 - val_loss: 0.4955 - val_accuracy: 0.9375\n",
      "Epoch 8/30\n",
      "17/17 [==============================] - 20s 1s/step - loss: 0.0472 - accuracy: 0.9854 - val_loss: 0.1893 - val_accuracy: 0.8750\n",
      "Epoch 9/30\n",
      "17/17 [==============================] - 20s 1s/step - loss: 0.0058 - accuracy: 1.0000 - val_loss: 0.1677 - val_accuracy: 0.9062\n",
      "Epoch 10/30\n",
      "17/17 [==============================] - 20s 1s/step - loss: 0.0027 - accuracy: 1.0000 - val_loss: 0.1787 - val_accuracy: 0.9375\n",
      "Epoch 11/30\n",
      "17/17 [==============================] - 20s 1s/step - loss: 0.0039 - accuracy: 1.0000 - val_loss: 0.0770 - val_accuracy: 0.9062\n",
      "Epoch 12/30\n",
      "17/17 [==============================] - 20s 1s/step - loss: 0.0015 - accuracy: 1.0000 - val_loss: 0.0638 - val_accuracy: 0.9375\n",
      "Epoch 13/30\n",
      "17/17 [==============================] - 20s 1s/step - loss: 8.1572e-04 - accuracy: 1.0000 - val_loss: 0.0482 - val_accuracy: 0.9688\n",
      "Epoch 14/30\n",
      "17/17 [==============================] - 20s 1s/step - loss: 8.7301e-04 - accuracy: 1.0000 - val_loss: 0.0386 - val_accuracy: 0.9688\n",
      "Epoch 15/30\n",
      "17/17 [==============================] - 20s 1s/step - loss: 8.2143e-04 - accuracy: 1.0000 - val_loss: 0.0349 - val_accuracy: 0.9688\n",
      "Epoch 16/30\n",
      "17/17 [==============================] - 20s 1s/step - loss: 7.0812e-04 - accuracy: 1.0000 - val_loss: 0.0300 - val_accuracy: 1.0000\n",
      "Epoch 17/30\n",
      "17/17 [==============================] - 20s 1s/step - loss: 5.6606e-04 - accuracy: 1.0000 - val_loss: 0.0259 - val_accuracy: 1.0000\n",
      "Epoch 18/30\n",
      "17/17 [==============================] - 20s 1s/step - loss: 5.6879e-04 - accuracy: 1.0000 - val_loss: 0.0231 - val_accuracy: 1.0000\n",
      "Epoch 19/30\n",
      "17/17 [==============================] - 20s 1s/step - loss: 4.9764e-04 - accuracy: 1.0000 - val_loss: 0.0230 - val_accuracy: 1.0000\n",
      "Epoch 20/30\n",
      "17/17 [==============================] - 20s 1s/step - loss: 7.0936e-04 - accuracy: 1.0000 - val_loss: 0.0256 - val_accuracy: 1.0000\n",
      "Epoch 21/30\n",
      "17/17 [==============================] - 20s 1s/step - loss: 4.9277e-04 - accuracy: 1.0000 - val_loss: 0.0240 - val_accuracy: 1.0000\n",
      "Epoch 22/30\n",
      "17/17 [==============================] - 20s 1s/step - loss: 4.3042e-04 - accuracy: 1.0000 - val_loss: 0.0242 - val_accuracy: 1.0000\n",
      "Epoch 23/30\n",
      "17/17 [==============================] - 20s 1s/step - loss: 2.0833e-04 - accuracy: 1.0000 - val_loss: 0.0245 - val_accuracy: 1.0000\n",
      "Epoch 24/30\n",
      "17/17 [==============================] - 20s 1s/step - loss: 5.0907e-04 - accuracy: 1.0000 - val_loss: 0.0264 - val_accuracy: 0.9688\n",
      "Epoch 25/30\n",
      "17/17 [==============================] - 20s 1s/step - loss: 2.1984e-04 - accuracy: 1.0000 - val_loss: 0.0263 - val_accuracy: 0.9688\n",
      "Epoch 26/30\n",
      "17/17 [==============================] - 20s 1s/step - loss: 6.2814e-04 - accuracy: 1.0000 - val_loss: 0.0250 - val_accuracy: 1.0000\n",
      "Epoch 27/30\n",
      "17/17 [==============================] - 20s 1s/step - loss: 3.8442e-04 - accuracy: 1.0000 - val_loss: 0.0232 - val_accuracy: 1.0000\n",
      "Epoch 28/30\n",
      "17/17 [==============================] - 20s 1s/step - loss: 3.2281e-04 - accuracy: 1.0000 - val_loss: 0.0233 - val_accuracy: 1.0000\n",
      "Epoch 29/30\n",
      "17/17 [==============================] - 20s 1s/step - loss: 3.5121e-04 - accuracy: 1.0000 - val_loss: 0.0249 - val_accuracy: 1.0000\n",
      "Epoch 30/30\n",
      "17/17 [==============================] - 20s 1s/step - loss: 3.0903e-04 - accuracy: 1.0000 - val_loss: 0.0275 - val_accuracy: 0.9688\n",
      "INFO:tensorflow:Assets written to: ../opticnet/opticnet_30epochs_834.84 images/assets\n",
      "Test acc for opticnet: 0.984504\n",
      "Done!\n",
      "--------------------------------------------------\n",
      "\n",
      "Labels fraction: [0.02485275 0.02486225 0.02511456 0.02588208]\n",
      "Training xception for 0.025% of train size (aka 2087 images)...\n"
     ]
    },
    {
     "name": "stderr",
     "output_type": "stream",
     "text": [
      "<ipython-input-66-797fd00c81c1>:20: UserWarning: Matplotlib is currently using module://ipykernel.pylab.backend_inline, which is a non-GUI backend, so cannot show the figure.\n",
      "  self.fig.show()\n"
     ]
    },
    {
     "name": "stdout",
     "output_type": "stream",
     "text": [
      "Epoch 1/30\n",
      " 6/42 [===>..........................] - ETA: 42s - loss: 1.3872 - accuracy: 0.0978WARNING:tensorflow:Callback method `on_train_batch_end` is slow compared to the batch time (batch time: 0.1598s vs `on_train_batch_end` time: 0.8115s). Check your callbacks.\n",
      "42/42 [==============================] - 42s 862ms/step - loss: 1.3743 - accuracy: 0.1585 - val_loss: 1.3476 - val_accuracy: 0.5000\n"
     ]
    },
    {
     "name": "stderr",
     "output_type": "stream",
     "text": [
      "<ipython-input-66-797fd00c81c1>:48: UserWarning: Matplotlib is currently using module://ipykernel.pylab.backend_inline, which is a non-GUI backend, so cannot show the figure.\n",
      "  self.fig.show()\n"
     ]
    },
    {
     "name": "stdout",
     "output_type": "stream",
     "text": [
      "Epoch 2/30\n",
      "42/42 [==============================] - 32s 756ms/step - loss: 1.3206 - accuracy: 0.7604 - val_loss: 1.3285 - val_accuracy: 0.5000\n",
      "Epoch 3/30\n",
      "42/42 [==============================] - 32s 759ms/step - loss: 1.2799 - accuracy: 0.7481 - val_loss: 1.3129 - val_accuracy: 0.5000\n",
      "Epoch 4/30\n",
      "42/42 [==============================] - 32s 759ms/step - loss: 1.2405 - accuracy: 0.7580 - val_loss: 1.2992 - val_accuracy: 0.5000\n",
      "Epoch 5/30\n",
      "42/42 [==============================] - 32s 762ms/step - loss: 1.2155 - accuracy: 0.7394 - val_loss: 1.2826 - val_accuracy: 0.5000\n",
      "Epoch 6/30\n",
      "42/42 [==============================] - 32s 761ms/step - loss: 1.1872 - accuracy: 0.7477 - val_loss: 1.2723 - val_accuracy: 0.5000\n",
      "Epoch 7/30\n",
      "42/42 [==============================] - 32s 763ms/step - loss: 1.1590 - accuracy: 0.7607 - val_loss: 1.2669 - val_accuracy: 0.5000\n",
      "Epoch 8/30\n",
      "42/42 [==============================] - 32s 759ms/step - loss: 1.1430 - accuracy: 0.7524 - val_loss: 1.2619 - val_accuracy: 0.5000\n",
      "Epoch 9/30\n",
      "42/42 [==============================] - 32s 759ms/step - loss: 1.1254 - accuracy: 0.7537 - val_loss: 1.2554 - val_accuracy: 0.5000\n",
      "Epoch 10/30\n",
      "42/42 [==============================] - 32s 762ms/step - loss: 1.1053 - accuracy: 0.7637 - val_loss: 1.2499 - val_accuracy: 0.5000\n",
      "Epoch 11/30\n",
      "42/42 [==============================] - 32s 759ms/step - loss: 1.1025 - accuracy: 0.7448 - val_loss: 1.2450 - val_accuracy: 0.5000\n",
      "Epoch 12/30\n",
      "42/42 [==============================] - 32s 758ms/step - loss: 1.0792 - accuracy: 0.7658 - val_loss: 1.2410 - val_accuracy: 0.5000\n",
      "Epoch 13/30\n",
      "42/42 [==============================] - 32s 757ms/step - loss: 1.0707 - accuracy: 0.7644 - val_loss: 1.2371 - val_accuracy: 0.5000\n",
      "Epoch 14/30\n",
      "42/42 [==============================] - 32s 763ms/step - loss: 1.0545 - accuracy: 0.7748 - val_loss: 1.2339 - val_accuracy: 0.5000\n",
      "Epoch 15/30\n",
      "42/42 [==============================] - 32s 762ms/step - loss: 1.0613 - accuracy: 0.7511 - val_loss: 1.2309 - val_accuracy: 0.5000\n",
      "Epoch 16/30\n",
      "42/42 [==============================] - 32s 758ms/step - loss: 1.0487 - accuracy: 0.7594 - val_loss: 1.2283 - val_accuracy: 0.5000\n",
      "Epoch 17/30\n",
      "42/42 [==============================] - 32s 758ms/step - loss: 1.0521 - accuracy: 0.7475 - val_loss: 1.2259 - val_accuracy: 0.5000\n",
      "Epoch 18/30\n",
      "42/42 [==============================] - 32s 761ms/step - loss: 1.0376 - accuracy: 0.7596 - val_loss: 1.2238 - val_accuracy: 0.5000\n",
      "Epoch 19/30\n",
      "42/42 [==============================] - 32s 759ms/step - loss: 1.0336 - accuracy: 0.7590 - val_loss: 1.2222 - val_accuracy: 0.5000\n",
      "Epoch 20/30\n",
      "42/42 [==============================] - 32s 763ms/step - loss: 1.0317 - accuracy: 0.7564 - val_loss: 1.2207 - val_accuracy: 0.5000\n",
      "Epoch 21/30\n",
      "42/42 [==============================] - 32s 757ms/step - loss: 1.0190 - accuracy: 0.7683 - val_loss: 1.2193 - val_accuracy: 0.5000\n",
      "Epoch 22/30\n",
      "42/42 [==============================] - 32s 759ms/step - loss: 1.0407 - accuracy: 0.7336 - val_loss: 1.2178 - val_accuracy: 0.5000\n",
      "Epoch 23/30\n",
      "42/42 [==============================] - 32s 761ms/step - loss: 1.0168 - accuracy: 0.7597 - val_loss: 1.1805 - val_accuracy: 0.5000\n",
      "Epoch 24/30\n",
      "42/42 [==============================] - 32s 757ms/step - loss: 0.9972 - accuracy: 0.7610 - val_loss: 1.1584 - val_accuracy: 0.5000\n",
      "Epoch 25/30\n",
      "42/42 [==============================] - 32s 762ms/step - loss: 0.9884 - accuracy: 0.7665 - val_loss: 1.1532 - val_accuracy: 0.5000\n",
      "Epoch 26/30\n",
      "42/42 [==============================] - 32s 761ms/step - loss: 0.9873 - accuracy: 0.7556 - val_loss: 1.1446 - val_accuracy: 0.5000\n",
      "Epoch 27/30\n",
      "42/42 [==============================] - 32s 760ms/step - loss: 0.9899 - accuracy: 0.7530 - val_loss: 1.1438 - val_accuracy: 0.5000\n",
      "Epoch 28/30\n",
      "42/42 [==============================] - 32s 762ms/step - loss: 0.9864 - accuracy: 0.7479 - val_loss: 1.1397 - val_accuracy: 0.5000\n",
      "Epoch 29/30\n",
      "42/42 [==============================] - 32s 763ms/step - loss: 0.9838 - accuracy: 0.7521 - val_loss: 1.1373 - val_accuracy: 0.5000\n",
      "Epoch 30/30\n",
      "42/42 [==============================] - 32s 760ms/step - loss: 0.9701 - accuracy: 0.7688 - val_loss: 1.1350 - val_accuracy: 0.5000\n",
      "INFO:tensorflow:Assets written to: ../xception/xception_30epochs_2087.1 images/assets\n",
      "Test acc for xception: 0.500000\n",
      "Done!\n",
      "--------------------------------------------------\n",
      "\n",
      "Training resnet for 0.025% of train size (aka 2087 images)...\n"
     ]
    },
    {
     "name": "stderr",
     "output_type": "stream",
     "text": [
      "<ipython-input-66-797fd00c81c1>:20: UserWarning: Matplotlib is currently using module://ipykernel.pylab.backend_inline, which is a non-GUI backend, so cannot show the figure.\n",
      "  self.fig.show()\n"
     ]
    },
    {
     "name": "stdout",
     "output_type": "stream",
     "text": [
      "Epoch 1/30\n",
      " 6/42 [===>..........................] - ETA: 22s - loss: 1.3661 - accuracy: 0.5732WARNING:tensorflow:Callback method `on_train_batch_begin` is slow compared to the batch time (batch time: 0.1022s vs `on_train_batch_begin` time: 0.1144s). Check your callbacks.\n",
      "WARNING:tensorflow:Callback method `on_train_batch_end` is slow compared to the batch time (batch time: 0.1022s vs `on_train_batch_end` time: 0.3210s). Check your callbacks.\n",
      "42/42 [==============================] - 19s 307ms/step - loss: 1.3517 - accuracy: 0.7322 - val_loss: 1.3233 - val_accuracy: 0.7500\n"
     ]
    },
    {
     "name": "stderr",
     "output_type": "stream",
     "text": [
      "<ipython-input-66-797fd00c81c1>:48: UserWarning: Matplotlib is currently using module://ipykernel.pylab.backend_inline, which is a non-GUI backend, so cannot show the figure.\n",
      "  self.fig.show()\n"
     ]
    },
    {
     "name": "stdout",
     "output_type": "stream",
     "text": [
      "Epoch 2/30\n",
      "42/42 [==============================] - 8s 196ms/step - loss: 1.2860 - accuracy: 0.8612 - val_loss: 1.2868 - val_accuracy: 0.6250\n",
      "Epoch 3/30\n",
      "42/42 [==============================] - 8s 197ms/step - loss: 1.2304 - accuracy: 0.8589 - val_loss: 1.2570 - val_accuracy: 0.8750\n",
      "Epoch 4/30\n",
      "42/42 [==============================] - 8s 197ms/step - loss: 1.1840 - accuracy: 0.9806 - val_loss: 1.2032 - val_accuracy: 1.0000\n",
      "Epoch 5/30\n",
      "42/42 [==============================] - 8s 198ms/step - loss: 1.1361 - accuracy: 0.9944 - val_loss: 1.1720 - val_accuracy: 1.0000\n",
      "Epoch 6/30\n",
      "42/42 [==============================] - 8s 198ms/step - loss: 1.1023 - accuracy: 0.9957 - val_loss: 1.1697 - val_accuracy: 0.9375\n",
      "Epoch 7/30\n",
      "42/42 [==============================] - 8s 198ms/step - loss: 1.0723 - accuracy: 0.9932 - val_loss: 1.1242 - val_accuracy: 0.9688\n",
      "Epoch 8/30\n",
      "42/42 [==============================] - 8s 198ms/step - loss: 1.0410 - accuracy: 0.9920 - val_loss: 1.1022 - val_accuracy: 1.0000\n",
      "Epoch 9/30\n",
      "42/42 [==============================] - 8s 198ms/step - loss: 1.0156 - accuracy: 0.9953 - val_loss: 1.0843 - val_accuracy: 1.0000\n",
      "Epoch 10/30\n",
      "42/42 [==============================] - 8s 198ms/step - loss: 0.9988 - accuracy: 0.9943 - val_loss: 1.0703 - val_accuracy: 0.9688\n",
      "Epoch 11/30\n",
      "42/42 [==============================] - 8s 198ms/step - loss: 0.9785 - accuracy: 0.9977 - val_loss: 1.0674 - val_accuracy: 0.9688\n",
      "Epoch 12/30\n",
      "42/42 [==============================] - 8s 199ms/step - loss: 0.9616 - accuracy: 0.9973 - val_loss: 1.0576 - val_accuracy: 0.9688\n",
      "Epoch 13/30\n",
      "42/42 [==============================] - 8s 198ms/step - loss: 0.9455 - accuracy: 0.9971 - val_loss: 1.0436 - val_accuracy: 0.9688\n",
      "Epoch 14/30\n",
      "42/42 [==============================] - 8s 199ms/step - loss: 0.9336 - accuracy: 0.9937 - val_loss: 1.0303 - val_accuracy: 0.9688\n",
      "Epoch 15/30\n",
      "42/42 [==============================] - 8s 198ms/step - loss: 0.9310 - accuracy: 0.9952 - val_loss: 1.0220 - val_accuracy: 0.9688\n",
      "Epoch 16/30\n",
      "42/42 [==============================] - 8s 199ms/step - loss: 0.9086 - accuracy: 0.9959 - val_loss: 1.0132 - val_accuracy: 0.9688\n",
      "Epoch 17/30\n",
      "42/42 [==============================] - 8s 198ms/step - loss: 0.9061 - accuracy: 0.9948 - val_loss: 1.0051 - val_accuracy: 0.9688\n",
      "Epoch 18/30\n",
      "42/42 [==============================] - 8s 198ms/step - loss: 0.8986 - accuracy: 0.9957 - val_loss: 0.9977 - val_accuracy: 0.9688\n",
      "Epoch 19/30\n",
      "42/42 [==============================] - 8s 198ms/step - loss: 0.8937 - accuracy: 0.9947 - val_loss: 0.9916 - val_accuracy: 0.9688\n",
      "Epoch 20/30\n",
      "42/42 [==============================] - 8s 198ms/step - loss: 0.8872 - accuracy: 0.9939 - val_loss: 0.9861 - val_accuracy: 0.9688\n",
      "Epoch 21/30\n",
      "42/42 [==============================] - 8s 198ms/step - loss: 0.8789 - accuracy: 0.9961 - val_loss: 0.9795 - val_accuracy: 0.9688\n",
      "Epoch 22/30\n",
      "42/42 [==============================] - 8s 198ms/step - loss: 0.8730 - accuracy: 0.9955 - val_loss: 0.9750 - val_accuracy: 0.9688\n",
      "Epoch 23/30\n",
      "42/42 [==============================] - 8s 198ms/step - loss: 0.8676 - accuracy: 0.9946 - val_loss: 0.9716 - val_accuracy: 0.9688\n",
      "Epoch 24/30\n",
      "42/42 [==============================] - 8s 198ms/step - loss: 0.8651 - accuracy: 0.9960 - val_loss: 0.9683 - val_accuracy: 0.9688\n",
      "Epoch 25/30\n",
      "42/42 [==============================] - 8s 198ms/step - loss: 0.8567 - accuracy: 0.9958 - val_loss: 0.9655 - val_accuracy: 0.9688\n",
      "Epoch 26/30\n",
      "42/42 [==============================] - 8s 198ms/step - loss: 0.8584 - accuracy: 0.9933 - val_loss: 0.9628 - val_accuracy: 0.9688\n",
      "Epoch 27/30\n",
      "42/42 [==============================] - 8s 198ms/step - loss: 0.8570 - accuracy: 0.9959 - val_loss: 0.9601 - val_accuracy: 0.9688\n",
      "Epoch 28/30\n",
      "42/42 [==============================] - 8s 198ms/step - loss: 0.8490 - accuracy: 0.9955 - val_loss: 0.9579 - val_accuracy: 0.9688\n",
      "Epoch 29/30\n",
      "42/42 [==============================] - 8s 198ms/step - loss: 0.8531 - accuracy: 0.9955 - val_loss: 0.9560 - val_accuracy: 0.9688\n",
      "Epoch 30/30\n",
      "42/42 [==============================] - 8s 198ms/step - loss: 0.8495 - accuracy: 0.9947 - val_loss: 0.9547 - val_accuracy: 0.9688\n",
      "INFO:tensorflow:Assets written to: ../resnet/resnet_30epochs_2087.1 images/assets\n",
      "Test acc for resnet: 0.974174\n",
      "Done!\n",
      "--------------------------------------------------\n",
      "\n",
      "Training opticnet for 0.025% of train size (aka 2087 images)...\n"
     ]
    },
    {
     "name": "stderr",
     "output_type": "stream",
     "text": [
      "<ipython-input-66-797fd00c81c1>:20: UserWarning: Matplotlib is currently using module://ipykernel.pylab.backend_inline, which is a non-GUI backend, so cannot show the figure.\n",
      "  self.fig.show()\n"
     ]
    },
    {
     "name": "stdout",
     "output_type": "stream",
     "text": [
      "Epoch 1/30\n",
      " 6/42 [===>..........................] - ETA: 1:01 - loss: 5.2983 - accuracy: 0.2069WARNING:tensorflow:Callback method `on_train_batch_end` is slow compared to the batch time (batch time: 0.4630s vs `on_train_batch_end` time: 1.0286s). Check your callbacks.\n",
      "42/42 [==============================] - 68s 1s/step - loss: 1.9885 - accuracy: 0.5826 - val_loss: 1.4458 - val_accuracy: 0.5625\n"
     ]
    },
    {
     "name": "stderr",
     "output_type": "stream",
     "text": [
      "<ipython-input-66-797fd00c81c1>:48: UserWarning: Matplotlib is currently using module://ipykernel.pylab.backend_inline, which is a non-GUI backend, so cannot show the figure.\n",
      "  self.fig.show()\n"
     ]
    },
    {
     "name": "stdout",
     "output_type": "stream",
     "text": [
      "Epoch 2/30\n",
      "42/42 [==============================] - 49s 1s/step - loss: 0.2677 - accuracy: 0.9046 - val_loss: 0.3291 - val_accuracy: 0.8438\n",
      "Epoch 3/30\n",
      "42/42 [==============================] - 49s 1s/step - loss: 0.1004 - accuracy: 0.9678 - val_loss: 0.3266 - val_accuracy: 0.8438\n",
      "Epoch 4/30\n",
      "42/42 [==============================] - 49s 1s/step - loss: 0.0668 - accuracy: 0.9772 - val_loss: 0.0773 - val_accuracy: 0.9688\n",
      "Epoch 5/30\n",
      "42/42 [==============================] - 49s 1s/step - loss: 0.0363 - accuracy: 0.9885 - val_loss: 0.0943 - val_accuracy: 0.9688\n",
      "Epoch 6/30\n",
      "42/42 [==============================] - 50s 1s/step - loss: 0.0464 - accuracy: 0.9869 - val_loss: 0.0239 - val_accuracy: 1.0000\n",
      "Epoch 7/30\n",
      "42/42 [==============================] - 49s 1s/step - loss: 0.0227 - accuracy: 0.9935 - val_loss: 0.0594 - val_accuracy: 0.9688\n",
      "Epoch 8/30\n",
      "42/42 [==============================] - 49s 1s/step - loss: 0.0225 - accuracy: 0.9915 - val_loss: 0.0117 - val_accuracy: 1.0000\n",
      "Epoch 9/30\n",
      "42/42 [==============================] - 49s 1s/step - loss: 0.0123 - accuracy: 0.9976 - val_loss: 0.9103 - val_accuracy: 0.8438\n",
      "Epoch 10/30\n",
      "42/42 [==============================] - 50s 1s/step - loss: 0.0451 - accuracy: 0.9856 - val_loss: 0.0982 - val_accuracy: 0.9688\n",
      "Epoch 11/30\n",
      "42/42 [==============================] - 49s 1s/step - loss: 0.0093 - accuracy: 0.9964 - val_loss: 0.1249 - val_accuracy: 0.9688\n",
      "Epoch 12/30\n",
      "42/42 [==============================] - 50s 1s/step - loss: 0.0034 - accuracy: 0.9989 - val_loss: 0.0106 - val_accuracy: 1.0000\n",
      "Epoch 13/30\n",
      "42/42 [==============================] - 49s 1s/step - loss: 8.6025e-04 - accuracy: 1.0000 - val_loss: 0.0099 - val_accuracy: 1.0000\n",
      "Epoch 14/30\n",
      "42/42 [==============================] - 50s 1s/step - loss: 7.3491e-04 - accuracy: 1.0000 - val_loss: 0.0130 - val_accuracy: 1.0000\n",
      "Epoch 15/30\n",
      "42/42 [==============================] - 49s 1s/step - loss: 4.7998e-04 - accuracy: 1.0000 - val_loss: 0.0099 - val_accuracy: 1.0000\n",
      "Epoch 16/30\n",
      "42/42 [==============================] - 49s 1s/step - loss: 6.6941e-04 - accuracy: 1.0000 - val_loss: 0.0056 - val_accuracy: 1.0000\n",
      "Epoch 17/30\n",
      "42/42 [==============================] - 49s 1s/step - loss: 6.7735e-04 - accuracy: 1.0000 - val_loss: 0.0068 - val_accuracy: 1.0000\n",
      "Epoch 18/30\n",
      "42/42 [==============================] - 49s 1s/step - loss: 3.9285e-04 - accuracy: 1.0000 - val_loss: 0.0076 - val_accuracy: 1.0000\n",
      "Epoch 19/30\n",
      "42/42 [==============================] - 50s 1s/step - loss: 2.3960e-04 - accuracy: 1.0000 - val_loss: 0.0079 - val_accuracy: 1.0000\n",
      "Epoch 20/30\n",
      "42/42 [==============================] - 50s 1s/step - loss: 2.5427e-04 - accuracy: 1.0000 - val_loss: 0.0073 - val_accuracy: 1.0000\n",
      "Epoch 21/30\n",
      "42/42 [==============================] - 50s 1s/step - loss: 1.9639e-04 - accuracy: 1.0000 - val_loss: 0.0078 - val_accuracy: 1.0000\n",
      "Epoch 22/30\n",
      "42/42 [==============================] - 50s 1s/step - loss: 2.0071e-04 - accuracy: 1.0000 - val_loss: 0.0076 - val_accuracy: 1.0000\n",
      "Epoch 23/30\n",
      "42/42 [==============================] - 49s 1s/step - loss: 1.9348e-04 - accuracy: 1.0000 - val_loss: 0.0058 - val_accuracy: 1.0000\n",
      "Epoch 24/30\n",
      "42/42 [==============================] - 49s 1s/step - loss: 8.3378e-04 - accuracy: 1.0000 - val_loss: 0.0075 - val_accuracy: 1.0000\n",
      "Epoch 25/30\n",
      "42/42 [==============================] - 50s 1s/step - loss: 0.0011 - accuracy: 0.9992 - val_loss: 0.0062 - val_accuracy: 1.0000\n",
      "Epoch 26/30\n",
      "42/42 [==============================] - 50s 1s/step - loss: 2.6816e-04 - accuracy: 1.0000 - val_loss: 0.0064 - val_accuracy: 1.0000\n",
      "Epoch 27/30\n",
      "42/42 [==============================] - 50s 1s/step - loss: 3.3920e-04 - accuracy: 1.0000 - val_loss: 0.0064 - val_accuracy: 1.0000\n",
      "Epoch 28/30\n",
      "42/42 [==============================] - 49s 1s/step - loss: 2.6669e-04 - accuracy: 1.0000 - val_loss: 0.0066 - val_accuracy: 1.0000\n",
      "Epoch 29/30\n",
      "42/42 [==============================] - 49s 1s/step - loss: 1.9557e-04 - accuracy: 1.0000 - val_loss: 0.0065 - val_accuracy: 1.0000\n",
      "Epoch 30/30\n",
      "42/42 [==============================] - 49s 1s/step - loss: 2.1614e-04 - accuracy: 1.0000 - val_loss: 0.0062 - val_accuracy: 1.0000\n",
      "INFO:tensorflow:Assets written to: ../opticnet/opticnet_30epochs_2087.1 images/assets\n",
      "Test acc for opticnet: 0.987603\n",
      "Done!\n",
      "--------------------------------------------------\n",
      "\n",
      "Labels fraction: [0.04905947 0.05004704 0.05049348 0.05199629]\n",
      "Training xception for 0.05% of train size (aka 4174 images)...\n"
     ]
    },
    {
     "name": "stderr",
     "output_type": "stream",
     "text": [
      "<ipython-input-66-797fd00c81c1>:20: UserWarning: Matplotlib is currently using module://ipykernel.pylab.backend_inline, which is a non-GUI backend, so cannot show the figure.\n",
      "  self.fig.show()\n"
     ]
    },
    {
     "name": "stdout",
     "output_type": "stream",
     "text": [
      "Epoch 1/30\n",
      " 6/84 [=>............................] - ETA: 1:32 - loss: 1.3877 - accuracy: 0.1301WARNING:tensorflow:Callback method `on_train_batch_end` is slow compared to the batch time (batch time: 0.1610s vs `on_train_batch_end` time: 0.8206s). Check your callbacks.\n",
      "84/84 [==============================] - 73s 805ms/step - loss: 1.3580 - accuracy: 0.4712 - val_loss: 1.3066 - val_accuracy: 0.7188\n"
     ]
    },
    {
     "name": "stderr",
     "output_type": "stream",
     "text": [
      "<ipython-input-66-797fd00c81c1>:48: UserWarning: Matplotlib is currently using module://ipykernel.pylab.backend_inline, which is a non-GUI backend, so cannot show the figure.\n",
      "  self.fig.show()\n"
     ]
    },
    {
     "name": "stdout",
     "output_type": "stream",
     "text": [
      "Epoch 2/30\n",
      "84/84 [==============================] - 63s 753ms/step - loss: 1.2509 - accuracy: 0.8437 - val_loss: 1.2448 - val_accuracy: 0.7500\n",
      "Epoch 3/30\n",
      "84/84 [==============================] - 63s 755ms/step - loss: 1.1646 - accuracy: 0.8452 - val_loss: 1.1968 - val_accuracy: 0.7500\n",
      "Epoch 4/30\n",
      "84/84 [==============================] - 63s 755ms/step - loss: 1.0949 - accuracy: 0.8553 - val_loss: 1.1929 - val_accuracy: 0.6875\n",
      "Epoch 5/30\n",
      "84/84 [==============================] - 63s 754ms/step - loss: 1.0360 - accuracy: 0.8576 - val_loss: 1.1495 - val_accuracy: 0.6875\n",
      "Epoch 6/30\n",
      "84/84 [==============================] - 63s 756ms/step - loss: 0.9981 - accuracy: 0.8482 - val_loss: 1.0957 - val_accuracy: 0.7500\n",
      "Epoch 7/30\n",
      "84/84 [==============================] - 63s 755ms/step - loss: 0.9552 - accuracy: 0.8587 - val_loss: 1.0867 - val_accuracy: 0.7188\n",
      "Epoch 8/30\n",
      "84/84 [==============================] - 63s 755ms/step - loss: 0.9159 - accuracy: 0.8607 - val_loss: 1.0502 - val_accuracy: 0.7500\n",
      "Epoch 9/30\n",
      "84/84 [==============================] - 63s 754ms/step - loss: 0.9046 - accuracy: 0.8484 - val_loss: 1.0496 - val_accuracy: 0.7188\n",
      "Epoch 10/30\n",
      "84/84 [==============================] - 63s 755ms/step - loss: 0.8681 - accuracy: 0.8583 - val_loss: 1.0159 - val_accuracy: 0.7500\n",
      "Epoch 11/30\n",
      "84/84 [==============================] - 64s 758ms/step - loss: 0.8552 - accuracy: 0.8549 - val_loss: 1.0008 - val_accuracy: 0.7500\n",
      "Epoch 12/30\n",
      "84/84 [==============================] - 63s 754ms/step - loss: 0.8439 - accuracy: 0.8519 - val_loss: 0.9881 - val_accuracy: 0.7500\n",
      "Epoch 13/30\n",
      "84/84 [==============================] - 63s 756ms/step - loss: 0.8131 - accuracy: 0.8639 - val_loss: 0.9974 - val_accuracy: 0.7188\n",
      "Epoch 14/30\n",
      "84/84 [==============================] - 63s 756ms/step - loss: 0.8074 - accuracy: 0.8544 - val_loss: 0.9665 - val_accuracy: 0.7500\n",
      "Epoch 15/30\n",
      "84/84 [==============================] - 64s 756ms/step - loss: 0.7981 - accuracy: 0.8552 - val_loss: 0.9577 - val_accuracy: 0.7500\n",
      "Epoch 16/30\n",
      "84/84 [==============================] - 64s 758ms/step - loss: 0.7845 - accuracy: 0.8587 - val_loss: 0.9498 - val_accuracy: 0.7500\n",
      "Epoch 17/30\n",
      "84/84 [==============================] - 63s 755ms/step - loss: 0.7710 - accuracy: 0.8633 - val_loss: 0.9429 - val_accuracy: 0.7500\n",
      "Epoch 18/30\n",
      "84/84 [==============================] - 64s 757ms/step - loss: 0.7661 - accuracy: 0.8614 - val_loss: 0.9364 - val_accuracy: 0.7500\n",
      "Epoch 19/30\n",
      "84/84 [==============================] - 64s 760ms/step - loss: 0.7676 - accuracy: 0.8513 - val_loss: 0.9306 - val_accuracy: 0.7500\n",
      "Epoch 20/30\n",
      "84/84 [==============================] - 63s 755ms/step - loss: 0.7468 - accuracy: 0.8635 - val_loss: 0.9256 - val_accuracy: 0.7500\n",
      "Epoch 21/30\n",
      "84/84 [==============================] - 64s 758ms/step - loss: 0.7463 - accuracy: 0.8641 - val_loss: 0.9212 - val_accuracy: 0.7500\n",
      "Epoch 22/30\n",
      "84/84 [==============================] - 64s 756ms/step - loss: 0.7518 - accuracy: 0.8524 - val_loss: 0.9171 - val_accuracy: 0.7500\n",
      "Epoch 23/30\n",
      "84/84 [==============================] - 64s 757ms/step - loss: 0.7409 - accuracy: 0.8592 - val_loss: 0.9134 - val_accuracy: 0.7500\n",
      "Epoch 24/30\n",
      "84/84 [==============================] - 64s 758ms/step - loss: 0.7367 - accuracy: 0.8586 - val_loss: 0.9102 - val_accuracy: 0.7500\n",
      "Epoch 25/30\n",
      "84/84 [==============================] - 63s 755ms/step - loss: 0.7341 - accuracy: 0.8565 - val_loss: 0.9072 - val_accuracy: 0.7500\n",
      "Epoch 26/30\n",
      "84/84 [==============================] - 63s 755ms/step - loss: 0.7284 - accuracy: 0.8599 - val_loss: 0.9046 - val_accuracy: 0.7500\n",
      "Epoch 27/30\n",
      "84/84 [==============================] - 64s 757ms/step - loss: 0.7210 - accuracy: 0.8631 - val_loss: 0.9023 - val_accuracy: 0.7500\n",
      "Epoch 28/30\n",
      "84/84 [==============================] - 63s 755ms/step - loss: 0.7257 - accuracy: 0.8579 - val_loss: 0.9001 - val_accuracy: 0.7500\n",
      "Epoch 29/30\n",
      "84/84 [==============================] - 64s 757ms/step - loss: 0.7232 - accuracy: 0.8607 - val_loss: 0.8982 - val_accuracy: 0.7500\n",
      "Epoch 30/30\n",
      "84/84 [==============================] - 63s 754ms/step - loss: 0.7109 - accuracy: 0.8662 - val_loss: 0.8965 - val_accuracy: 0.7500\n",
      "INFO:tensorflow:Assets written to: ../xception/xception_30epochs_4174.2 images/assets\n",
      "Test acc for xception: 0.743802\n",
      "Done!\n",
      "--------------------------------------------------\n",
      "\n",
      "Training resnet for 0.05% of train size (aka 4174 images)...\n"
     ]
    },
    {
     "name": "stderr",
     "output_type": "stream",
     "text": [
      "<ipython-input-66-797fd00c81c1>:20: UserWarning: Matplotlib is currently using module://ipykernel.pylab.backend_inline, which is a non-GUI backend, so cannot show the figure.\n",
      "  self.fig.show()\n"
     ]
    },
    {
     "name": "stdout",
     "output_type": "stream",
     "text": [
      "Epoch 1/30\n",
      " 6/84 [=>............................] - ETA: 50s - loss: 1.3823 - accuracy: 0.1558WARNING:tensorflow:Callback method `on_train_batch_begin` is slow compared to the batch time (batch time: 0.1017s vs `on_train_batch_begin` time: 0.1245s). Check your callbacks.\n",
      "WARNING:tensorflow:Callback method `on_train_batch_end` is slow compared to the batch time (batch time: 0.1017s vs `on_train_batch_end` time: 0.3377s). Check your callbacks.\n",
      "84/84 [==============================] - 29s 250ms/step - loss: 1.3544 - accuracy: 0.3608 - val_loss: 1.3306 - val_accuracy: 0.5312\n"
     ]
    },
    {
     "name": "stderr",
     "output_type": "stream",
     "text": [
      "<ipython-input-66-797fd00c81c1>:48: UserWarning: Matplotlib is currently using module://ipykernel.pylab.backend_inline, which is a non-GUI backend, so cannot show the figure.\n",
      "  self.fig.show()\n"
     ]
    },
    {
     "name": "stdout",
     "output_type": "stream",
     "text": [
      "Epoch 2/30\n",
      "84/84 [==============================] - 17s 196ms/step - loss: 1.2313 - accuracy: 0.8991 - val_loss: 1.2072 - val_accuracy: 0.9688\n",
      "Epoch 3/30\n",
      "84/84 [==============================] - 17s 197ms/step - loss: 1.1297 - accuracy: 0.9700 - val_loss: 1.1285 - val_accuracy: 1.0000\n",
      "Epoch 4/30\n",
      "84/84 [==============================] - 17s 198ms/step - loss: 1.0393 - accuracy: 0.9842 - val_loss: 1.1161 - val_accuracy: 0.8750\n",
      "Epoch 5/30\n",
      "84/84 [==============================] - 17s 198ms/step - loss: 0.9722 - accuracy: 0.9827 - val_loss: 1.0387 - val_accuracy: 0.9375\n",
      "Epoch 6/30\n",
      "84/84 [==============================] - 17s 198ms/step - loss: 0.9132 - accuracy: 0.9825 - val_loss: 0.9838 - val_accuracy: 0.9688\n",
      "Epoch 7/30\n",
      "84/84 [==============================] - 17s 198ms/step - loss: 0.8689 - accuracy: 0.9809 - val_loss: 1.0155 - val_accuracy: 0.8750\n",
      "Epoch 8/30\n",
      "84/84 [==============================] - 17s 198ms/step - loss: 0.8180 - accuracy: 0.9912 - val_loss: 0.9487 - val_accuracy: 0.9375\n",
      "Epoch 9/30\n",
      "84/84 [==============================] - 17s 198ms/step - loss: 0.7810 - accuracy: 0.9907 - val_loss: 0.8640 - val_accuracy: 1.0000\n",
      "Epoch 10/30\n",
      "84/84 [==============================] - 17s 198ms/step - loss: 0.7589 - accuracy: 0.9845 - val_loss: 0.8384 - val_accuracy: 1.0000\n",
      "Epoch 11/30\n",
      "84/84 [==============================] - 17s 198ms/step - loss: 0.7282 - accuracy: 0.9913 - val_loss: 0.8412 - val_accuracy: 0.9688\n",
      "Epoch 12/30\n",
      "84/84 [==============================] - 17s 198ms/step - loss: 0.7060 - accuracy: 0.9950 - val_loss: 0.7981 - val_accuracy: 1.0000\n",
      "Epoch 13/30\n",
      "84/84 [==============================] - 17s 199ms/step - loss: 0.6849 - accuracy: 0.9942 - val_loss: 0.7775 - val_accuracy: 1.0000\n",
      "Epoch 14/30\n",
      "84/84 [==============================] - 17s 199ms/step - loss: 0.6666 - accuracy: 0.9946 - val_loss: 0.7615 - val_accuracy: 1.0000\n",
      "Epoch 15/30\n",
      "84/84 [==============================] - 17s 199ms/step - loss: 0.6517 - accuracy: 0.9950 - val_loss: 0.7476 - val_accuracy: 1.0000\n",
      "Epoch 16/30\n",
      "84/84 [==============================] - 17s 199ms/step - loss: 0.6359 - accuracy: 0.9952 - val_loss: 0.7354 - val_accuracy: 1.0000\n",
      "Epoch 17/30\n",
      "84/84 [==============================] - 17s 199ms/step - loss: 0.6259 - accuracy: 0.9954 - val_loss: 0.7247 - val_accuracy: 1.0000\n",
      "Epoch 18/30\n",
      "84/84 [==============================] - 17s 199ms/step - loss: 0.6122 - accuracy: 0.9955 - val_loss: 0.7504 - val_accuracy: 0.9688\n",
      "Epoch 19/30\n",
      "84/84 [==============================] - 17s 199ms/step - loss: 0.6095 - accuracy: 0.9945 - val_loss: 0.7195 - val_accuracy: 0.9688\n",
      "Epoch 20/30\n",
      "84/84 [==============================] - 17s 199ms/step - loss: 0.5985 - accuracy: 0.9948 - val_loss: 0.7085 - val_accuracy: 0.9688\n",
      "Epoch 21/30\n",
      "84/84 [==============================] - 17s 199ms/step - loss: 0.5913 - accuracy: 0.9945 - val_loss: 0.7021 - val_accuracy: 0.9688\n",
      "Epoch 22/30\n",
      "84/84 [==============================] - 17s 199ms/step - loss: 0.5854 - accuracy: 0.9955 - val_loss: 0.6864 - val_accuracy: 1.0000\n",
      "Epoch 23/30\n",
      "84/84 [==============================] - 17s 199ms/step - loss: 0.5730 - accuracy: 0.9951 - val_loss: 0.6791 - val_accuracy: 1.0000\n",
      "Epoch 24/30\n",
      "84/84 [==============================] - 17s 199ms/step - loss: 0.5749 - accuracy: 0.9920 - val_loss: 0.6742 - val_accuracy: 1.0000\n",
      "Epoch 25/30\n",
      "84/84 [==============================] - 17s 199ms/step - loss: 0.5635 - accuracy: 0.9957 - val_loss: 0.6698 - val_accuracy: 1.0000\n",
      "Epoch 26/30\n",
      "84/84 [==============================] - 17s 199ms/step - loss: 0.5629 - accuracy: 0.9940 - val_loss: 0.6658 - val_accuracy: 1.0000\n",
      "Epoch 27/30\n",
      "84/84 [==============================] - 17s 199ms/step - loss: 0.5642 - accuracy: 0.9945 - val_loss: 0.6620 - val_accuracy: 1.0000\n",
      "Epoch 28/30\n",
      "84/84 [==============================] - 17s 199ms/step - loss: 0.5543 - accuracy: 0.9957 - val_loss: 0.6588 - val_accuracy: 1.0000\n",
      "Epoch 29/30\n",
      "84/84 [==============================] - 17s 199ms/step - loss: 0.5545 - accuracy: 0.9948 - val_loss: 0.6559 - val_accuracy: 1.0000\n",
      "Epoch 30/30\n",
      "84/84 [==============================] - 17s 199ms/step - loss: 0.5482 - accuracy: 0.9961 - val_loss: 0.6532 - val_accuracy: 1.0000\n",
      "INFO:tensorflow:Assets written to: ../resnet/resnet_30epochs_4174.2 images/assets\n",
      "Test acc for resnet: 0.985537\n",
      "Done!\n",
      "--------------------------------------------------\n",
      "\n",
      "Training opticnet for 0.05% of train size (aka 4174 images)...\n"
     ]
    },
    {
     "name": "stderr",
     "output_type": "stream",
     "text": [
      "<ipython-input-66-797fd00c81c1>:20: UserWarning: Matplotlib is currently using module://ipykernel.pylab.backend_inline, which is a non-GUI backend, so cannot show the figure.\n",
      "  self.fig.show()\n"
     ]
    },
    {
     "name": "stdout",
     "output_type": "stream",
     "text": [
      "Epoch 1/30\n",
      " 6/84 [=>............................] - ETA: 2:20 - loss: 5.5539 - accuracy: 0.1393WARNING:tensorflow:Callback method `on_train_batch_end` is slow compared to the batch time (batch time: 0.4660s vs `on_train_batch_end` time: 1.0903s). Check your callbacks.\n",
      "84/84 [==============================] - 117s 1s/step - loss: 1.3640 - accuracy: 0.6885 - val_loss: 0.2421 - val_accuracy: 0.9062\n"
     ]
    },
    {
     "name": "stderr",
     "output_type": "stream",
     "text": [
      "<ipython-input-66-797fd00c81c1>:48: UserWarning: Matplotlib is currently using module://ipykernel.pylab.backend_inline, which is a non-GUI backend, so cannot show the figure.\n",
      "  self.fig.show()\n"
     ]
    },
    {
     "name": "stdout",
     "output_type": "stream",
     "text": [
      "Epoch 2/30\n",
      "84/84 [==============================] - 99s 1s/step - loss: 0.1705 - accuracy: 0.9464 - val_loss: 0.2397 - val_accuracy: 0.9688\n",
      "Epoch 3/30\n",
      "84/84 [==============================] - 99s 1s/step - loss: 0.1359 - accuracy: 0.9590 - val_loss: 0.1144 - val_accuracy: 0.9688\n",
      "Epoch 4/30\n",
      "84/84 [==============================] - 99s 1s/step - loss: 0.0792 - accuracy: 0.9752 - val_loss: 0.0140 - val_accuracy: 1.0000\n",
      "Epoch 5/30\n",
      "84/84 [==============================] - 99s 1s/step - loss: 0.0682 - accuracy: 0.9733 - val_loss: 0.0169 - val_accuracy: 1.0000\n",
      "Epoch 6/30\n",
      "84/84 [==============================] - 99s 1s/step - loss: 0.0325 - accuracy: 0.9885 - val_loss: 0.0023 - val_accuracy: 1.0000\n",
      "Epoch 7/30\n",
      "84/84 [==============================] - 99s 1s/step - loss: 0.0091 - accuracy: 0.9971 - val_loss: 0.0016 - val_accuracy: 1.0000\n",
      "Epoch 8/30\n",
      "84/84 [==============================] - 98s 1s/step - loss: 0.0434 - accuracy: 0.9846 - val_loss: 2.5282e-04 - val_accuracy: 1.0000\n",
      "Epoch 9/30\n",
      "84/84 [==============================] - 98s 1s/step - loss: 0.0137 - accuracy: 0.9948 - val_loss: 2.9755e-04 - val_accuracy: 1.0000\n",
      "Epoch 10/30\n",
      "84/84 [==============================] - 99s 1s/step - loss: 0.0047 - accuracy: 0.9986 - val_loss: 2.2005e-05 - val_accuracy: 1.0000\n",
      "Epoch 11/30\n",
      "84/84 [==============================] - 99s 1s/step - loss: 0.0017 - accuracy: 0.9994 - val_loss: 0.0039 - val_accuracy: 1.0000\n",
      "Epoch 12/30\n",
      "84/84 [==============================] - 99s 1s/step - loss: 0.0018 - accuracy: 0.9993 - val_loss: 0.0145 - val_accuracy: 1.0000\n",
      "Epoch 13/30\n",
      "84/84 [==============================] - 99s 1s/step - loss: 0.0017 - accuracy: 0.9993 - val_loss: 2.9111e-05 - val_accuracy: 1.0000\n",
      "Epoch 14/30\n",
      "84/84 [==============================] - 99s 1s/step - loss: 6.1494e-04 - accuracy: 1.0000 - val_loss: 1.0468e-05 - val_accuracy: 1.0000\n",
      "Epoch 15/30\n",
      "84/84 [==============================] - 98s 1s/step - loss: 2.7711e-04 - accuracy: 1.0000 - val_loss: 8.8472e-06 - val_accuracy: 1.0000\n",
      "Epoch 16/30\n",
      "84/84 [==============================] - 99s 1s/step - loss: 2.1069e-04 - accuracy: 1.0000 - val_loss: 6.4855e-06 - val_accuracy: 1.0000\n",
      "Epoch 17/30\n",
      "84/84 [==============================] - 98s 1s/step - loss: 1.7706e-04 - accuracy: 1.0000 - val_loss: 9.6890e-06 - val_accuracy: 1.0000\n",
      "Epoch 18/30\n",
      "84/84 [==============================] - 98s 1s/step - loss: 3.6862e-04 - accuracy: 1.0000 - val_loss: 5.6101e-06 - val_accuracy: 1.0000\n",
      "Epoch 19/30\n",
      "84/84 [==============================] - 98s 1s/step - loss: 1.1562e-04 - accuracy: 1.0000 - val_loss: 3.5911e-06 - val_accuracy: 1.0000\n",
      "Epoch 20/30\n",
      "84/84 [==============================] - 98s 1s/step - loss: 1.0365e-04 - accuracy: 1.0000 - val_loss: 3.2484e-06 - val_accuracy: 1.0000\n",
      "Epoch 21/30\n",
      "84/84 [==============================] - 99s 1s/step - loss: 1.2082e-04 - accuracy: 1.0000 - val_loss: 2.5183e-06 - val_accuracy: 1.0000\n",
      "Epoch 22/30\n",
      "84/84 [==============================] - 98s 1s/step - loss: 9.2224e-05 - accuracy: 1.0000 - val_loss: 2.4326e-06 - val_accuracy: 1.0000\n",
      "Epoch 23/30\n",
      "84/84 [==============================] - 99s 1s/step - loss: 8.4282e-05 - accuracy: 1.0000 - val_loss: 2.4251e-06 - val_accuracy: 1.0000\n",
      "Epoch 24/30\n",
      "84/84 [==============================] - 99s 1s/step - loss: 1.0942e-04 - accuracy: 1.0000 - val_loss: 5.7628e-06 - val_accuracy: 1.0000\n",
      "Epoch 25/30\n",
      "84/84 [==============================] - 99s 1s/step - loss: 1.1134e-04 - accuracy: 1.0000 - val_loss: 4.8799e-06 - val_accuracy: 1.0000\n",
      "Epoch 26/30\n",
      "84/84 [==============================] - 99s 1s/step - loss: 1.1261e-04 - accuracy: 1.0000 - val_loss: 1.4370e-05 - val_accuracy: 1.0000\n",
      "Epoch 27/30\n",
      "84/84 [==============================] - 99s 1s/step - loss: 7.0100e-05 - accuracy: 1.0000 - val_loss: 9.3197e-06 - val_accuracy: 1.0000\n",
      "Epoch 28/30\n",
      "84/84 [==============================] - 99s 1s/step - loss: 9.0866e-05 - accuracy: 1.0000 - val_loss: 5.4908e-06 - val_accuracy: 1.0000\n",
      "Epoch 29/30\n",
      "84/84 [==============================] - 99s 1s/step - loss: 8.2834e-05 - accuracy: 1.0000 - val_loss: 3.7885e-06 - val_accuracy: 1.0000\n",
      "Epoch 30/30\n",
      "84/84 [==============================] - 98s 1s/step - loss: 4.2692e-05 - accuracy: 1.0000 - val_loss: 3.8742e-06 - val_accuracy: 1.0000\n",
      "INFO:tensorflow:Assets written to: ../opticnet/opticnet_30epochs_4174.2 images/assets\n",
      "Test acc for opticnet: 0.993802\n",
      "Done!\n",
      "--------------------------------------------------\n",
      "\n",
      "Labels fraction: [0.07474824 0.07533934 0.07472682 0.0746286 ]\n",
      "Training xception for 0.075% of train size (aka 6261 images)...\n"
     ]
    },
    {
     "name": "stderr",
     "output_type": "stream",
     "text": [
      "<ipython-input-66-797fd00c81c1>:20: UserWarning: Matplotlib is currently using module://ipykernel.pylab.backend_inline, which is a non-GUI backend, so cannot show the figure.\n",
      "  self.fig.show()\n"
     ]
    },
    {
     "name": "stdout",
     "output_type": "stream",
     "text": [
      "Epoch 1/30\n",
      "  6/126 [>.............................] - ETA: 2:22 - loss: 1.3858 - accuracy: 0.0104WARNING:tensorflow:Callback method `on_train_batch_end` is slow compared to the batch time (batch time: 0.1636s vs `on_train_batch_end` time: 0.8248s). Check your callbacks.\n",
      "126/126 [==============================] - 105s 792ms/step - loss: 1.3416 - accuracy: 0.5114 - val_loss: 1.2820 - val_accuracy: 0.7188\n"
     ]
    },
    {
     "name": "stderr",
     "output_type": "stream",
     "text": [
      "<ipython-input-66-797fd00c81c1>:48: UserWarning: Matplotlib is currently using module://ipykernel.pylab.backend_inline, which is a non-GUI backend, so cannot show the figure.\n",
      "  self.fig.show()\n"
     ]
    },
    {
     "name": "stdout",
     "output_type": "stream",
     "text": [
      "Epoch 2/30\n",
      "126/126 [==============================] - 97s 771ms/step - loss: 1.1847 - accuracy: 0.8480 - val_loss: 1.2028 - val_accuracy: 0.7188\n",
      "Epoch 3/30\n",
      "126/126 [==============================] - 97s 772ms/step - loss: 1.0729 - accuracy: 0.8441 - val_loss: 1.1517 - val_accuracy: 0.7188\n",
      "Epoch 4/30\n",
      "126/126 [==============================] - 97s 772ms/step - loss: 0.9866 - accuracy: 0.8461 - val_loss: 1.0790 - val_accuracy: 0.7500\n",
      "Epoch 5/30\n",
      "126/126 [==============================] - 97s 770ms/step - loss: 0.9120 - accuracy: 0.8591 - val_loss: 1.0355 - val_accuracy: 0.7500\n",
      "Epoch 6/30\n",
      "126/126 [==============================] - 97s 771ms/step - loss: 0.8697 - accuracy: 0.8481 - val_loss: 1.0001 - val_accuracy: 0.7500\n",
      "Epoch 7/30\n",
      "126/126 [==============================] - 97s 770ms/step - loss: 0.8229 - accuracy: 0.8535 - val_loss: 0.9699 - val_accuracy: 0.7500\n",
      "Epoch 8/30\n",
      "126/126 [==============================] - 97s 770ms/step - loss: 0.7833 - accuracy: 0.8600 - val_loss: 0.9439 - val_accuracy: 0.7500\n",
      "Epoch 9/30\n",
      "126/126 [==============================] - 97s 769ms/step - loss: 0.7573 - accuracy: 0.8576 - val_loss: 0.9449 - val_accuracy: 0.7188\n",
      "Epoch 10/30\n",
      "126/126 [==============================] - 97s 770ms/step - loss: 0.7431 - accuracy: 0.8478 - val_loss: 0.9017 - val_accuracy: 0.7500\n",
      "Epoch 11/30\n",
      "126/126 [==============================] - 97s 770ms/step - loss: 0.7230 - accuracy: 0.8502 - val_loss: 0.8831 - val_accuracy: 0.7500\n",
      "Epoch 12/30\n",
      "126/126 [==============================] - 97s 770ms/step - loss: 0.7014 - accuracy: 0.8540 - val_loss: 0.8683 - val_accuracy: 0.7500\n",
      "Epoch 13/30\n",
      "126/126 [==============================] - 97s 770ms/step - loss: 0.6817 - accuracy: 0.8558 - val_loss: 0.8571 - val_accuracy: 0.7500\n",
      "Epoch 14/30\n",
      "126/126 [==============================] - 97s 771ms/step - loss: 0.6617 - accuracy: 0.8624 - val_loss: 0.8426 - val_accuracy: 0.7500\n",
      "Epoch 15/30\n",
      "126/126 [==============================] - 97s 770ms/step - loss: 0.6596 - accuracy: 0.8564 - val_loss: 0.8319 - val_accuracy: 0.7500\n",
      "Epoch 16/30\n",
      "126/126 [==============================] - 97s 770ms/step - loss: 0.6348 - accuracy: 0.8672 - val_loss: 0.8222 - val_accuracy: 0.7500\n",
      "Epoch 17/30\n",
      "126/126 [==============================] - 97s 770ms/step - loss: 0.6350 - accuracy: 0.8618 - val_loss: 0.8137 - val_accuracy: 0.7500\n",
      "Epoch 18/30\n",
      "126/126 [==============================] - 97s 771ms/step - loss: 0.6268 - accuracy: 0.8613 - val_loss: 0.8062 - val_accuracy: 0.7500\n",
      "Epoch 19/30\n",
      "126/126 [==============================] - 97s 771ms/step - loss: 0.6219 - accuracy: 0.8588 - val_loss: 0.7993 - val_accuracy: 0.7500\n",
      "Epoch 20/30\n",
      "126/126 [==============================] - 97s 771ms/step - loss: 0.6202 - accuracy: 0.8557 - val_loss: 0.7935 - val_accuracy: 0.7500\n",
      "Epoch 21/30\n",
      "126/126 [==============================] - 97s 771ms/step - loss: 0.6036 - accuracy: 0.8630 - val_loss: 0.7880 - val_accuracy: 0.7500\n",
      "Epoch 22/30\n",
      "126/126 [==============================] - 97s 771ms/step - loss: 0.6046 - accuracy: 0.8613 - val_loss: 0.7832 - val_accuracy: 0.7500\n",
      "Epoch 23/30\n",
      "126/126 [==============================] - 97s 771ms/step - loss: 0.5988 - accuracy: 0.8614 - val_loss: 0.7788 - val_accuracy: 0.7500\n",
      "Epoch 24/30\n",
      "126/126 [==============================] - 97s 770ms/step - loss: 0.5842 - accuracy: 0.8689 - val_loss: 0.7749 - val_accuracy: 0.7500\n",
      "Epoch 25/30\n",
      "126/126 [==============================] - 97s 771ms/step - loss: 0.5914 - accuracy: 0.8584 - val_loss: 0.7714 - val_accuracy: 0.7500\n",
      "Epoch 26/30\n",
      "126/126 [==============================] - 97s 771ms/step - loss: 0.5808 - accuracy: 0.8652 - val_loss: 0.7684 - val_accuracy: 0.7500\n",
      "Epoch 27/30\n",
      "126/126 [==============================] - 97s 771ms/step - loss: 0.5826 - accuracy: 0.8628 - val_loss: 0.7654 - val_accuracy: 0.7500\n",
      "Epoch 28/30\n",
      "126/126 [==============================] - 97s 772ms/step - loss: 0.5807 - accuracy: 0.8623 - val_loss: 0.7630 - val_accuracy: 0.7500\n",
      "Epoch 29/30\n",
      "126/126 [==============================] - 97s 771ms/step - loss: 0.5841 - accuracy: 0.8587 - val_loss: 0.7607 - val_accuracy: 0.7500\n",
      "Epoch 30/30\n",
      "126/126 [==============================] - 97s 771ms/step - loss: 0.5768 - accuracy: 0.8644 - val_loss: 0.7586 - val_accuracy: 0.7500\n",
      "INFO:tensorflow:Assets written to: ../xception/xception_30epochs_6261.3 images/assets\n",
      "Test acc for xception: 0.740702\n",
      "Done!\n",
      "--------------------------------------------------\n",
      "\n",
      "Training resnet for 0.075% of train size (aka 6261 images)...\n"
     ]
    },
    {
     "name": "stderr",
     "output_type": "stream",
     "text": [
      "<ipython-input-66-797fd00c81c1>:20: UserWarning: Matplotlib is currently using module://ipykernel.pylab.backend_inline, which is a non-GUI backend, so cannot show the figure.\n",
      "  self.fig.show()\n"
     ]
    },
    {
     "name": "stdout",
     "output_type": "stream",
     "text": [
      "Epoch 1/30\n",
      "  6/126 [>.............................] - ETA: 1:14 - loss: 1.3864 - accuracy: 0.3156WARNING:tensorflow:Callback method `on_train_batch_begin` is slow compared to the batch time (batch time: 0.1005s vs `on_train_batch_begin` time: 0.1209s). Check your callbacks.\n",
      "WARNING:tensorflow:Callback method `on_train_batch_end` is slow compared to the batch time (batch time: 0.1005s vs `on_train_batch_end` time: 0.3228s). Check your callbacks.\n",
      "126/126 [==============================] - 35s 229ms/step - loss: 1.3380 - accuracy: 0.4202 - val_loss: 1.2462 - val_accuracy: 0.5000\n"
     ]
    },
    {
     "name": "stderr",
     "output_type": "stream",
     "text": [
      "<ipython-input-66-797fd00c81c1>:48: UserWarning: Matplotlib is currently using module://ipykernel.pylab.backend_inline, which is a non-GUI backend, so cannot show the figure.\n",
      "  self.fig.show()\n"
     ]
    },
    {
     "name": "stdout",
     "output_type": "stream",
     "text": [
      "Epoch 2/30\n",
      "126/126 [==============================] - 25s 198ms/step - loss: 1.1576 - accuracy: 0.8066 - val_loss: 1.1377 - val_accuracy: 0.9688\n",
      "Epoch 3/30\n",
      "126/126 [==============================] - 25s 199ms/step - loss: 1.0177 - accuracy: 0.9773 - val_loss: 1.0300 - val_accuracy: 1.0000\n",
      "Epoch 4/30\n",
      "126/126 [==============================] - 25s 199ms/step - loss: 0.9119 - accuracy: 0.9757 - val_loss: 0.9740 - val_accuracy: 0.9688\n",
      "Epoch 5/30\n",
      "126/126 [==============================] - 25s 199ms/step - loss: 0.8289 - accuracy: 0.9772 - val_loss: 0.9796 - val_accuracy: 0.8750\n",
      "Epoch 6/30\n",
      "126/126 [==============================] - 25s 199ms/step - loss: 0.7594 - accuracy: 0.9784 - val_loss: 0.8266 - val_accuracy: 1.0000\n",
      "Epoch 7/30\n",
      "126/126 [==============================] - 25s 199ms/step - loss: 0.7044 - accuracy: 0.9811 - val_loss: 0.7782 - val_accuracy: 1.0000\n",
      "Epoch 8/30\n",
      "126/126 [==============================] - 25s 199ms/step - loss: 0.6611 - accuracy: 0.9816 - val_loss: 0.7367 - val_accuracy: 1.0000\n",
      "Epoch 9/30\n",
      "126/126 [==============================] - 25s 199ms/step - loss: 0.6163 - accuracy: 0.9846 - val_loss: 0.7000 - val_accuracy: 1.0000\n",
      "Epoch 10/30\n",
      "126/126 [==============================] - 25s 198ms/step - loss: 0.5801 - accuracy: 0.9907 - val_loss: 0.7050 - val_accuracy: 0.9688\n",
      "Epoch 11/30\n",
      "126/126 [==============================] - 25s 199ms/step - loss: 0.5514 - accuracy: 0.9917 - val_loss: 0.6475 - val_accuracy: 0.9688\n",
      "Epoch 12/30\n",
      "126/126 [==============================] - 25s 199ms/step - loss: 0.5232 - accuracy: 0.9943 - val_loss: 0.6168 - val_accuracy: 1.0000\n",
      "Epoch 13/30\n",
      "126/126 [==============================] - 25s 199ms/step - loss: 0.5040 - accuracy: 0.9933 - val_loss: 0.5954 - val_accuracy: 1.0000\n",
      "Epoch 14/30\n",
      "126/126 [==============================] - 25s 199ms/step - loss: 0.4836 - accuracy: 0.9940 - val_loss: 0.5767 - val_accuracy: 1.0000\n",
      "Epoch 15/30\n",
      "126/126 [==============================] - 25s 199ms/step - loss: 0.4653 - accuracy: 0.9952 - val_loss: 0.5601 - val_accuracy: 1.0000\n",
      "Epoch 16/30\n",
      "126/126 [==============================] - 25s 199ms/step - loss: 0.4530 - accuracy: 0.9938 - val_loss: 0.5455 - val_accuracy: 1.0000\n",
      "Epoch 17/30\n",
      "126/126 [==============================] - 25s 199ms/step - loss: 0.4406 - accuracy: 0.9941 - val_loss: 0.5324 - val_accuracy: 1.0000\n",
      "Epoch 18/30\n",
      "126/126 [==============================] - 25s 199ms/step - loss: 0.4389 - accuracy: 0.9911 - val_loss: 0.5211 - val_accuracy: 1.0000\n",
      "Epoch 19/30\n",
      "126/126 [==============================] - 25s 199ms/step - loss: 0.4259 - accuracy: 0.9937 - val_loss: 0.5108 - val_accuracy: 1.0000\n",
      "Epoch 20/30\n",
      "126/126 [==============================] - 25s 199ms/step - loss: 0.4116 - accuracy: 0.9950 - val_loss: 0.5016 - val_accuracy: 1.0000\n",
      "Epoch 21/30\n",
      "126/126 [==============================] - 25s 199ms/step - loss: 0.4018 - accuracy: 0.9945 - val_loss: 0.4934 - val_accuracy: 1.0000\n",
      "Epoch 22/30\n",
      "126/126 [==============================] - 25s 199ms/step - loss: 0.4012 - accuracy: 0.9955 - val_loss: 0.4861 - val_accuracy: 1.0000\n",
      "Epoch 23/30\n",
      "126/126 [==============================] - 25s 199ms/step - loss: 0.3961 - accuracy: 0.9941 - val_loss: 0.4794 - val_accuracy: 1.0000\n",
      "Epoch 24/30\n",
      "126/126 [==============================] - 25s 199ms/step - loss: 0.3877 - accuracy: 0.9942 - val_loss: 0.4734 - val_accuracy: 1.0000\n",
      "Epoch 25/30\n",
      "126/126 [==============================] - 25s 198ms/step - loss: 0.3826 - accuracy: 0.9956 - val_loss: 0.4681 - val_accuracy: 1.0000\n",
      "Epoch 26/30\n",
      "126/126 [==============================] - 25s 199ms/step - loss: 0.3765 - accuracy: 0.9950 - val_loss: 0.4633 - val_accuracy: 1.0000\n",
      "Epoch 27/30\n",
      "126/126 [==============================] - 25s 199ms/step - loss: 0.3795 - accuracy: 0.9938 - val_loss: 0.4590 - val_accuracy: 1.0000\n",
      "Epoch 28/30\n",
      "126/126 [==============================] - 25s 199ms/step - loss: 0.3684 - accuracy: 0.9951 - val_loss: 0.4551 - val_accuracy: 1.0000\n",
      "Epoch 29/30\n",
      "126/126 [==============================] - 25s 199ms/step - loss: 0.3661 - accuracy: 0.9948 - val_loss: 0.4516 - val_accuracy: 1.0000\n",
      "Epoch 30/30\n",
      "126/126 [==============================] - 25s 199ms/step - loss: 0.3659 - accuracy: 0.9941 - val_loss: 0.4484 - val_accuracy: 1.0000\n",
      "INFO:tensorflow:Assets written to: ../resnet/resnet_30epochs_6261.3 images/assets\n",
      "Test acc for resnet: 0.981405\n",
      "Done!\n",
      "--------------------------------------------------\n",
      "\n",
      "Training opticnet for 0.075% of train size (aka 6261 images)...\n"
     ]
    },
    {
     "name": "stderr",
     "output_type": "stream",
     "text": [
      "<ipython-input-66-797fd00c81c1>:20: UserWarning: Matplotlib is currently using module://ipykernel.pylab.backend_inline, which is a non-GUI backend, so cannot show the figure.\n",
      "  self.fig.show()\n"
     ]
    },
    {
     "name": "stdout",
     "output_type": "stream",
     "text": [
      "Epoch 1/30\n",
      "  6/126 [>.............................] - ETA: 3:36 - loss: 5.5174 - accuracy: 0.1664WARNING:tensorflow:Callback method `on_train_batch_end` is slow compared to the batch time (batch time: 0.4671s vs `on_train_batch_end` time: 1.0857s). Check your callbacks.\n",
      "126/126 [==============================] - 167s 1s/step - loss: 1.1032 - accuracy: 0.7386 - val_loss: 0.5010 - val_accuracy: 0.8438\n"
     ]
    },
    {
     "name": "stderr",
     "output_type": "stream",
     "text": [
      "<ipython-input-66-797fd00c81c1>:48: UserWarning: Matplotlib is currently using module://ipykernel.pylab.backend_inline, which is a non-GUI backend, so cannot show the figure.\n",
      "  self.fig.show()\n"
     ]
    },
    {
     "name": "stdout",
     "output_type": "stream",
     "text": [
      "Epoch 2/30\n",
      "126/126 [==============================] - 148s 1s/step - loss: 0.1493 - accuracy: 0.9481 - val_loss: 0.0634 - val_accuracy: 1.0000\n",
      "Epoch 3/30\n",
      "126/126 [==============================] - 148s 1s/step - loss: 0.1172 - accuracy: 0.9632 - val_loss: 0.0613 - val_accuracy: 1.0000\n",
      "Epoch 4/30\n",
      "126/126 [==============================] - 147s 1s/step - loss: 0.0818 - accuracy: 0.9734 - val_loss: 0.0373 - val_accuracy: 1.0000\n",
      "Epoch 5/30\n",
      "126/126 [==============================] - 147s 1s/step - loss: 0.0858 - accuracy: 0.9728 - val_loss: 0.0054 - val_accuracy: 1.0000\n",
      "Epoch 6/30\n",
      "126/126 [==============================] - 148s 1s/step - loss: 0.0603 - accuracy: 0.9795 - val_loss: 0.0195 - val_accuracy: 1.0000\n",
      "Epoch 7/30\n",
      "126/126 [==============================] - 148s 1s/step - loss: 0.0261 - accuracy: 0.9899 - val_loss: 0.0022 - val_accuracy: 1.0000\n",
      "Epoch 8/30\n",
      "126/126 [==============================] - 148s 1s/step - loss: 0.0269 - accuracy: 0.9912 - val_loss: 4.7792e-04 - val_accuracy: 1.0000\n",
      "Epoch 9/30\n",
      "126/126 [==============================] - 148s 1s/step - loss: 0.0139 - accuracy: 0.9946 - val_loss: 7.8426e-05 - val_accuracy: 1.0000\n",
      "Epoch 10/30\n",
      "126/126 [==============================] - 148s 1s/step - loss: 0.0138 - accuracy: 0.9939 - val_loss: 0.0055 - val_accuracy: 1.0000\n",
      "Epoch 11/30\n",
      "126/126 [==============================] - 148s 1s/step - loss: 0.0104 - accuracy: 0.9974 - val_loss: 1.5451e-04 - val_accuracy: 1.0000\n",
      "Epoch 12/30\n",
      "126/126 [==============================] - 148s 1s/step - loss: 0.0086 - accuracy: 0.9974 - val_loss: 1.4279e-05 - val_accuracy: 1.0000\n",
      "Epoch 13/30\n",
      "126/126 [==============================] - 147s 1s/step - loss: 0.0017 - accuracy: 0.9999 - val_loss: 9.6371e-06 - val_accuracy: 1.0000\n",
      "Epoch 14/30\n",
      "126/126 [==============================] - 147s 1s/step - loss: 0.0051 - accuracy: 0.9977 - val_loss: 1.5072e-05 - val_accuracy: 1.0000\n",
      "Epoch 15/30\n",
      "126/126 [==============================] - 148s 1s/step - loss: 0.0020 - accuracy: 0.9997 - val_loss: 5.0066e-06 - val_accuracy: 1.0000\n",
      "Epoch 16/30\n",
      "126/126 [==============================] - 148s 1s/step - loss: 7.6496e-04 - accuracy: 0.9999 - val_loss: 1.2278e-05 - val_accuracy: 1.0000\n",
      "Epoch 17/30\n",
      "126/126 [==============================] - 147s 1s/step - loss: 9.0122e-04 - accuracy: 0.9998 - val_loss: 1.0024e-05 - val_accuracy: 1.0000\n",
      "Epoch 18/30\n",
      "126/126 [==============================] - 147s 1s/step - loss: 4.3338e-04 - accuracy: 0.9998 - val_loss: 5.5170e-06 - val_accuracy: 1.0000\n",
      "Epoch 19/30\n",
      "126/126 [==============================] - 147s 1s/step - loss: 9.3751e-04 - accuracy: 0.9992 - val_loss: 5.1483e-06 - val_accuracy: 1.0000\n",
      "Epoch 20/30\n",
      "126/126 [==============================] - 147s 1s/step - loss: 0.0037 - accuracy: 0.9989 - val_loss: 2.4326e-06 - val_accuracy: 1.0000\n",
      "Epoch 21/30\n",
      "126/126 [==============================] - 148s 1s/step - loss: 2.1079e-04 - accuracy: 1.0000 - val_loss: 1.9111e-06 - val_accuracy: 1.0000\n",
      "Epoch 22/30\n",
      "126/126 [==============================] - 147s 1s/step - loss: 2.3464e-04 - accuracy: 0.9999 - val_loss: 9.2014e-07 - val_accuracy: 1.0000\n",
      "Epoch 23/30\n",
      "126/126 [==============================] - 148s 1s/step - loss: 8.1933e-04 - accuracy: 0.9998 - val_loss: 3.1664e-06 - val_accuracy: 1.0000\n",
      "Epoch 24/30\n",
      "126/126 [==============================] - 147s 1s/step - loss: 0.0015 - accuracy: 0.9995 - val_loss: 4.6826e-06 - val_accuracy: 1.0000\n",
      "Epoch 25/30\n",
      "126/126 [==============================] - 147s 1s/step - loss: 2.6694e-04 - accuracy: 1.0000 - val_loss: 4.0456e-06 - val_accuracy: 1.0000\n",
      "Epoch 26/30\n",
      "126/126 [==============================] - 148s 1s/step - loss: 6.5688e-04 - accuracy: 1.0000 - val_loss: 1.5348e-06 - val_accuracy: 1.0000\n",
      "Epoch 27/30\n",
      "126/126 [==============================] - 147s 1s/step - loss: 8.6468e-04 - accuracy: 0.9995 - val_loss: 1.1399e-06 - val_accuracy: 1.0000\n",
      "Epoch 28/30\n",
      "126/126 [==============================] - 148s 1s/step - loss: 1.5646e-04 - accuracy: 1.0000 - val_loss: 1.0617e-06 - val_accuracy: 1.0000\n",
      "Epoch 29/30\n",
      "126/126 [==============================] - 148s 1s/step - loss: 3.3682e-04 - accuracy: 0.9998 - val_loss: 7.3388e-07 - val_accuracy: 1.0000\n",
      "Epoch 30/30\n",
      "126/126 [==============================] - 148s 1s/step - loss: 3.3674e-04 - accuracy: 0.9998 - val_loss: 7.7486e-07 - val_accuracy: 1.0000\n",
      "INFO:tensorflow:Assets written to: ../opticnet/opticnet_30epochs_6261.3 images/assets\n",
      "Test acc for opticnet: 0.987603\n",
      "Done!\n",
      "--------------------------------------------------\n",
      "\n",
      "Labels fraction: [0.09029071 0.09041795 0.08909059 0.08844011]\n",
      "Training xception for 0.09% of train size (aka 7513 images)...\n"
     ]
    },
    {
     "name": "stderr",
     "output_type": "stream",
     "text": [
      "<ipython-input-66-797fd00c81c1>:20: UserWarning: Matplotlib is currently using module://ipykernel.pylab.backend_inline, which is a non-GUI backend, so cannot show the figure.\n",
      "  self.fig.show()\n"
     ]
    },
    {
     "name": "stdout",
     "output_type": "stream",
     "text": [
      "Epoch 1/30\n",
      "  6/151 [>.............................] - ETA: 3:02 - loss: 1.3624 - accuracy: 0.7951WARNING:tensorflow:Callback method `on_train_batch_end` is slow compared to the batch time (batch time: 0.1608s vs `on_train_batch_end` time: 0.8854s). Check your callbacks.\n",
      "151/151 [==============================] - 130s 815ms/step - loss: 1.3128 - accuracy: 0.7612 - val_loss: 1.2521 - val_accuracy: 0.5000\n"
     ]
    },
    {
     "name": "stderr",
     "output_type": "stream",
     "text": [
      "<ipython-input-66-797fd00c81c1>:48: UserWarning: Matplotlib is currently using module://ipykernel.pylab.backend_inline, which is a non-GUI backend, so cannot show the figure.\n",
      "  self.fig.show()\n"
     ]
    },
    {
     "name": "stdout",
     "output_type": "stream",
     "text": [
      "Epoch 2/30\n",
      "151/151 [==============================] - 122s 807ms/step - loss: 1.1318 - accuracy: 0.7664 - val_loss: 1.2350 - val_accuracy: 0.6250\n",
      "Epoch 3/30\n",
      "151/151 [==============================] - 120s 795ms/step - loss: 1.0152 - accuracy: 0.8516 - val_loss: 1.0936 - val_accuracy: 0.7500\n",
      "Epoch 4/30\n",
      "151/151 [==============================] - 121s 799ms/step - loss: 0.9189 - accuracy: 0.8543 - val_loss: 1.0375 - val_accuracy: 0.7500\n",
      "Epoch 5/30\n",
      "151/151 [==============================] - 120s 793ms/step - loss: 0.8515 - accuracy: 0.8557 - val_loss: 0.9902 - val_accuracy: 0.7500\n",
      "Epoch 6/30\n",
      "151/151 [==============================] - 120s 792ms/step - loss: 0.8011 - accuracy: 0.8589 - val_loss: 0.9523 - val_accuracy: 0.7500\n",
      "Epoch 7/30\n",
      "151/151 [==============================] - 121s 804ms/step - loss: 0.7440 - accuracy: 0.8653 - val_loss: 0.7828 - val_accuracy: 1.0000\n",
      "Epoch 8/30\n",
      "151/151 [==============================] - 120s 797ms/step - loss: 0.6281 - accuracy: 0.9742 - val_loss: 0.6579 - val_accuracy: 1.0000\n",
      "Epoch 9/30\n",
      "151/151 [==============================] - 120s 798ms/step - loss: 0.5577 - accuracy: 0.9843 - val_loss: 0.6030 - val_accuracy: 1.0000\n",
      "Epoch 10/30\n",
      "151/151 [==============================] - 119s 788ms/step - loss: 0.5078 - accuracy: 0.9878 - val_loss: 0.5941 - val_accuracy: 0.9688\n",
      "Epoch 11/30\n",
      "151/151 [==============================] - 118s 783ms/step - loss: 0.4707 - accuracy: 0.9890 - val_loss: 0.5304 - val_accuracy: 1.0000\n",
      "Epoch 12/30\n",
      "151/151 [==============================] - 119s 790ms/step - loss: 0.4462 - accuracy: 0.9892 - val_loss: 0.5037 - val_accuracy: 1.0000\n",
      "Epoch 13/30\n",
      "151/151 [==============================] - 121s 800ms/step - loss: 0.4251 - accuracy: 0.9875 - val_loss: 0.4816 - val_accuracy: 1.0000\n",
      "Epoch 14/30\n",
      "151/151 [==============================] - 119s 790ms/step - loss: 0.4125 - accuracy: 0.9851 - val_loss: 0.4621 - val_accuracy: 1.0000\n",
      "Epoch 15/30\n",
      "151/151 [==============================] - 122s 806ms/step - loss: 0.3858 - accuracy: 0.9908 - val_loss: 0.4453 - val_accuracy: 1.0000\n",
      "Epoch 16/30\n",
      "151/151 [==============================] - 121s 803ms/step - loss: 0.3676 - accuracy: 0.9934 - val_loss: 0.4305 - val_accuracy: 1.0000\n",
      "Epoch 17/30\n",
      "151/151 [==============================] - 121s 803ms/step - loss: 0.3562 - accuracy: 0.9922 - val_loss: 0.4497 - val_accuracy: 0.9688\n",
      "Epoch 18/30\n",
      "151/151 [==============================] - 119s 789ms/step - loss: 0.3542 - accuracy: 0.9907 - val_loss: 0.4063 - val_accuracy: 1.0000\n",
      "Epoch 19/30\n",
      "151/151 [==============================] - 121s 801ms/step - loss: 0.3418 - accuracy: 0.9916 - val_loss: 0.3964 - val_accuracy: 1.0000\n",
      "Epoch 20/30\n",
      "151/151 [==============================] - 119s 791ms/step - loss: 0.3328 - accuracy: 0.9915 - val_loss: 0.3875 - val_accuracy: 1.0000\n",
      "Epoch 21/30\n",
      "151/151 [==============================] - 119s 789ms/step - loss: 0.3211 - accuracy: 0.9925 - val_loss: 0.3796 - val_accuracy: 1.0000\n",
      "Epoch 22/30\n",
      "151/151 [==============================] - 119s 787ms/step - loss: 0.3181 - accuracy: 0.9929 - val_loss: 0.3725 - val_accuracy: 1.0000\n",
      "Epoch 23/30\n",
      "151/151 [==============================] - 119s 791ms/step - loss: 0.3108 - accuracy: 0.9924 - val_loss: 0.3663 - val_accuracy: 1.0000\n",
      "Epoch 24/30\n",
      "151/151 [==============================] - 121s 803ms/step - loss: 0.3015 - accuracy: 0.9956 - val_loss: 0.3606 - val_accuracy: 1.0000\n",
      "Epoch 25/30\n",
      "151/151 [==============================] - 120s 792ms/step - loss: 0.2924 - accuracy: 0.9953 - val_loss: 0.3555 - val_accuracy: 1.0000\n",
      "Epoch 26/30\n",
      "151/151 [==============================] - 119s 786ms/step - loss: 0.2989 - accuracy: 0.9915 - val_loss: 0.3509 - val_accuracy: 1.0000\n",
      "Epoch 27/30\n",
      "151/151 [==============================] - 121s 803ms/step - loss: 0.2953 - accuracy: 0.9925 - val_loss: 0.3468 - val_accuracy: 1.0000\n",
      "Epoch 28/30\n",
      "151/151 [==============================] - 120s 793ms/step - loss: 0.2914 - accuracy: 0.9920 - val_loss: 0.3432 - val_accuracy: 1.0000\n",
      "Epoch 29/30\n",
      "151/151 [==============================] - 118s 779ms/step - loss: 0.2855 - accuracy: 0.9932 - val_loss: 0.3399 - val_accuracy: 1.0000\n",
      "Epoch 30/30\n",
      "151/151 [==============================] - 120s 796ms/step - loss: 0.2848 - accuracy: 0.9923 - val_loss: 0.3369 - val_accuracy: 1.0000\n",
      "INFO:tensorflow:Assets written to: ../xception/xception_30epochs_7513.5599999999995 images/assets\n",
      "Test acc for xception: 0.993802\n",
      "Done!\n",
      "--------------------------------------------------\n",
      "\n",
      "Training resnet for 0.09% of train size (aka 7513 images)...\n"
     ]
    },
    {
     "name": "stderr",
     "output_type": "stream",
     "text": [
      "<ipython-input-66-797fd00c81c1>:20: UserWarning: Matplotlib is currently using module://ipykernel.pylab.backend_inline, which is a non-GUI backend, so cannot show the figure.\n",
      "  self.fig.show()\n"
     ]
    },
    {
     "name": "stdout",
     "output_type": "stream",
     "text": [
      "Epoch 1/30\n",
      "  6/151 [>.............................] - ETA: 1:29 - loss: 1.3866 - accuracy: 0.2862WARNING:tensorflow:Callback method `on_train_batch_begin` is slow compared to the batch time (batch time: 0.1006s vs `on_train_batch_begin` time: 0.1131s). Check your callbacks.\n",
      "WARNING:tensorflow:Callback method `on_train_batch_end` is slow compared to the batch time (batch time: 0.1006s vs `on_train_batch_end` time: 0.3265s). Check your callbacks.\n",
      "151/151 [==============================] - 40s 224ms/step - loss: 1.3233 - accuracy: 0.6277 - val_loss: 1.2626 - val_accuracy: 0.5000\n"
     ]
    },
    {
     "name": "stderr",
     "output_type": "stream",
     "text": [
      "<ipython-input-66-797fd00c81c1>:48: UserWarning: Matplotlib is currently using module://ipykernel.pylab.backend_inline, which is a non-GUI backend, so cannot show the figure.\n",
      "  self.fig.show()\n"
     ]
    },
    {
     "name": "stdout",
     "output_type": "stream",
     "text": [
      "Epoch 2/30\n",
      "151/151 [==============================] - 30s 197ms/step - loss: 1.1080 - accuracy: 0.7778 - val_loss: 1.1361 - val_accuracy: 0.9062\n",
      "Epoch 3/30\n",
      "151/151 [==============================] - 30s 198ms/step - loss: 0.9516 - accuracy: 0.9726 - val_loss: 1.1606 - val_accuracy: 0.7500\n",
      "Epoch 4/30\n",
      "151/151 [==============================] - 30s 198ms/step - loss: 0.8388 - accuracy: 0.9711 - val_loss: 0.8818 - val_accuracy: 1.0000\n",
      "Epoch 5/30\n",
      "151/151 [==============================] - 30s 198ms/step - loss: 0.7428 - accuracy: 0.9846 - val_loss: 0.9592 - val_accuracy: 0.8125\n",
      "Epoch 6/30\n",
      "151/151 [==============================] - 30s 198ms/step - loss: 0.6733 - accuracy: 0.9828 - val_loss: 0.8210 - val_accuracy: 0.9375\n",
      "Epoch 7/30\n",
      "151/151 [==============================] - 30s 199ms/step - loss: 0.6128 - accuracy: 0.9835 - val_loss: 0.6899 - val_accuracy: 1.0000\n",
      "Epoch 8/30\n",
      "151/151 [==============================] - 30s 198ms/step - loss: 0.5619 - accuracy: 0.9885 - val_loss: 0.6450 - val_accuracy: 1.0000\n",
      "Epoch 9/30\n",
      "151/151 [==============================] - 30s 198ms/step - loss: 0.5256 - accuracy: 0.9899 - val_loss: 0.6638 - val_accuracy: 0.9688\n",
      "Epoch 10/30\n",
      "151/151 [==============================] - 30s 198ms/step - loss: 0.4886 - accuracy: 0.9923 - val_loss: 0.6035 - val_accuracy: 0.9688\n",
      "Epoch 11/30\n",
      "151/151 [==============================] - 30s 198ms/step - loss: 0.4639 - accuracy: 0.9927 - val_loss: 0.5777 - val_accuracy: 0.9688\n",
      "Epoch 12/30\n",
      "151/151 [==============================] - 30s 198ms/step - loss: 0.4368 - accuracy: 0.9929 - val_loss: 0.5206 - val_accuracy: 1.0000\n",
      "Epoch 13/30\n",
      "151/151 [==============================] - 30s 198ms/step - loss: 0.4181 - accuracy: 0.9937 - val_loss: 0.4971 - val_accuracy: 1.0000\n",
      "Epoch 14/30\n",
      "151/151 [==============================] - 30s 198ms/step - loss: 0.3965 - accuracy: 0.9955 - val_loss: 0.4778 - val_accuracy: 1.0000\n",
      "Epoch 15/30\n",
      "151/151 [==============================] - 30s 198ms/step - loss: 0.3894 - accuracy: 0.9938 - val_loss: 0.4610 - val_accuracy: 1.0000\n",
      "Epoch 16/30\n",
      "151/151 [==============================] - 30s 199ms/step - loss: 0.3753 - accuracy: 0.9922 - val_loss: 0.4508 - val_accuracy: 1.0000\n",
      "Epoch 17/30\n",
      "151/151 [==============================] - 30s 198ms/step - loss: 0.3600 - accuracy: 0.9922 - val_loss: 0.4333 - val_accuracy: 1.0000\n",
      "Epoch 18/30\n",
      "151/151 [==============================] - 30s 199ms/step - loss: 0.3454 - accuracy: 0.9939 - val_loss: 0.4216 - val_accuracy: 1.0000\n",
      "Epoch 19/30\n",
      "151/151 [==============================] - 30s 198ms/step - loss: 0.3392 - accuracy: 0.9947 - val_loss: 0.4112 - val_accuracy: 1.0000\n",
      "Epoch 20/30\n",
      "151/151 [==============================] - 30s 198ms/step - loss: 0.3324 - accuracy: 0.9934 - val_loss: 0.4020 - val_accuracy: 1.0000\n",
      "Epoch 21/30\n",
      "151/151 [==============================] - 30s 198ms/step - loss: 0.3235 - accuracy: 0.9948 - val_loss: 0.3938 - val_accuracy: 1.0000\n",
      "Epoch 22/30\n",
      "151/151 [==============================] - 30s 198ms/step - loss: 0.3151 - accuracy: 0.9957 - val_loss: 0.3866 - val_accuracy: 1.0000\n",
      "Epoch 23/30\n",
      "151/151 [==============================] - 30s 198ms/step - loss: 0.3114 - accuracy: 0.9950 - val_loss: 0.3800 - val_accuracy: 1.0000\n",
      "Epoch 24/30\n",
      "151/151 [==============================] - 30s 198ms/step - loss: 0.3087 - accuracy: 0.9933 - val_loss: 0.3741 - val_accuracy: 1.0000\n",
      "Epoch 25/30\n",
      "151/151 [==============================] - 30s 198ms/step - loss: 0.3018 - accuracy: 0.9946 - val_loss: 0.3688 - val_accuracy: 1.0000\n",
      "Epoch 26/30\n",
      "151/151 [==============================] - 30s 198ms/step - loss: 0.2942 - accuracy: 0.9952 - val_loss: 0.3641 - val_accuracy: 1.0000\n",
      "Epoch 27/30\n",
      "151/151 [==============================] - 30s 198ms/step - loss: 0.2921 - accuracy: 0.9959 - val_loss: 0.3598 - val_accuracy: 1.0000\n",
      "Epoch 28/30\n",
      "151/151 [==============================] - 30s 198ms/step - loss: 0.2876 - accuracy: 0.9962 - val_loss: 0.3560 - val_accuracy: 1.0000\n",
      "Epoch 29/30\n",
      "151/151 [==============================] - 30s 198ms/step - loss: 0.2884 - accuracy: 0.9948 - val_loss: 0.3526 - val_accuracy: 1.0000\n",
      "Epoch 30/30\n",
      "151/151 [==============================] - 30s 198ms/step - loss: 0.2794 - accuracy: 0.9960 - val_loss: 0.3494 - val_accuracy: 1.0000\n",
      "INFO:tensorflow:Assets written to: ../resnet/resnet_30epochs_7513.5599999999995 images/assets\n",
      "Test acc for resnet: 0.980372\n",
      "Done!\n",
      "--------------------------------------------------\n",
      "\n",
      "Training opticnet for 0.09% of train size (aka 7513 images)...\n"
     ]
    },
    {
     "name": "stderr",
     "output_type": "stream",
     "text": [
      "<ipython-input-66-797fd00c81c1>:20: UserWarning: Matplotlib is currently using module://ipykernel.pylab.backend_inline, which is a non-GUI backend, so cannot show the figure.\n",
      "  self.fig.show()\n"
     ]
    },
    {
     "name": "stdout",
     "output_type": "stream",
     "text": [
      "Epoch 1/30\n",
      "  6/151 [>.............................] - ETA: 4:14 - loss: 5.5469 - accuracy: 0.1096WARNING:tensorflow:Callback method `on_train_batch_end` is slow compared to the batch time (batch time: 0.4642s vs `on_train_batch_end` time: 1.0497s). Check your callbacks.\n",
      "151/151 [==============================] - 197s 1s/step - loss: 1.0461 - accuracy: 0.7215 - val_loss: 0.1278 - val_accuracy: 0.9688\n"
     ]
    },
    {
     "name": "stderr",
     "output_type": "stream",
     "text": [
      "<ipython-input-66-797fd00c81c1>:48: UserWarning: Matplotlib is currently using module://ipykernel.pylab.backend_inline, which is a non-GUI backend, so cannot show the figure.\n",
      "  self.fig.show()\n"
     ]
    },
    {
     "name": "stdout",
     "output_type": "stream",
     "text": [
      "Epoch 2/30\n",
      "151/151 [==============================] - 177s 1s/step - loss: 0.1351 - accuracy: 0.9537 - val_loss: 0.0564 - val_accuracy: 1.0000\n",
      "Epoch 3/30\n",
      "151/151 [==============================] - 177s 1s/step - loss: 0.1023 - accuracy: 0.9658 - val_loss: 0.0125 - val_accuracy: 1.0000\n",
      "Epoch 4/30\n",
      "151/151 [==============================] - 177s 1s/step - loss: 0.0832 - accuracy: 0.9752 - val_loss: 0.0189 - val_accuracy: 1.0000\n",
      "Epoch 5/30\n",
      "151/151 [==============================] - 177s 1s/step - loss: 0.0556 - accuracy: 0.9827 - val_loss: 0.0443 - val_accuracy: 0.9688\n",
      "Epoch 6/30\n",
      "151/151 [==============================] - 177s 1s/step - loss: 0.0489 - accuracy: 0.9828 - val_loss: 0.0161 - val_accuracy: 1.0000\n",
      "Epoch 7/30\n",
      "151/151 [==============================] - 177s 1s/step - loss: 0.0269 - accuracy: 0.9929 - val_loss: 0.0049 - val_accuracy: 1.0000\n",
      "Epoch 8/30\n",
      "151/151 [==============================] - 177s 1s/step - loss: 0.0136 - accuracy: 0.9963 - val_loss: 0.0341 - val_accuracy: 0.9688\n",
      "Epoch 9/30\n",
      "151/151 [==============================] - 177s 1s/step - loss: 0.0192 - accuracy: 0.9944 - val_loss: 0.0328 - val_accuracy: 1.0000\n",
      "Epoch 10/30\n",
      "151/151 [==============================] - 177s 1s/step - loss: 0.0090 - accuracy: 0.9977 - val_loss: 0.0032 - val_accuracy: 1.0000\n",
      "Epoch 11/30\n",
      "151/151 [==============================] - 177s 1s/step - loss: 0.0070 - accuracy: 0.9973 - val_loss: 0.0021 - val_accuracy: 1.0000\n",
      "Epoch 12/30\n",
      "151/151 [==============================] - 177s 1s/step - loss: 0.0047 - accuracy: 0.9994 - val_loss: 0.0016 - val_accuracy: 1.0000\n",
      "Epoch 13/30\n",
      "151/151 [==============================] - 177s 1s/step - loss: 0.0045 - accuracy: 0.9990 - val_loss: 6.5659e-04 - val_accuracy: 1.0000\n",
      "Epoch 14/30\n",
      "151/151 [==============================] - 177s 1s/step - loss: 0.0020 - accuracy: 0.9991 - val_loss: 7.6062e-04 - val_accuracy: 1.0000\n",
      "Epoch 15/30\n",
      "151/151 [==============================] - 177s 1s/step - loss: 0.0013 - accuracy: 0.9997 - val_loss: 9.1272e-04 - val_accuracy: 1.0000\n",
      "Epoch 16/30\n",
      "151/151 [==============================] - 177s 1s/step - loss: 0.0025 - accuracy: 0.9993 - val_loss: 7.7753e-04 - val_accuracy: 1.0000\n",
      "Epoch 17/30\n",
      "151/151 [==============================] - 177s 1s/step - loss: 0.0013 - accuracy: 0.9995 - val_loss: 2.1872e-04 - val_accuracy: 1.0000\n",
      "Epoch 18/30\n",
      "151/151 [==============================] - 177s 1s/step - loss: 0.0020 - accuracy: 0.9987 - val_loss: 2.1658e-04 - val_accuracy: 1.0000\n",
      "Epoch 19/30\n",
      "151/151 [==============================] - 177s 1s/step - loss: 9.7444e-04 - accuracy: 0.9998 - val_loss: 5.6457e-04 - val_accuracy: 1.0000\n",
      "Epoch 20/30\n",
      "151/151 [==============================] - 177s 1s/step - loss: 4.4765e-04 - accuracy: 0.9999 - val_loss: 1.9567e-04 - val_accuracy: 1.0000\n",
      "Epoch 21/30\n",
      "151/151 [==============================] - 177s 1s/step - loss: 3.0980e-04 - accuracy: 0.9999 - val_loss: 2.8164e-04 - val_accuracy: 1.0000\n",
      "Epoch 22/30\n",
      "151/151 [==============================] - 177s 1s/step - loss: 4.3836e-04 - accuracy: 0.9999 - val_loss: 2.5859e-04 - val_accuracy: 1.0000\n",
      "Epoch 23/30\n",
      "151/151 [==============================] - 177s 1s/step - loss: 0.0014 - accuracy: 0.9993 - val_loss: 4.8394e-04 - val_accuracy: 1.0000\n",
      "Epoch 24/30\n",
      "151/151 [==============================] - 177s 1s/step - loss: 0.0013 - accuracy: 0.9995 - val_loss: 5.1102e-04 - val_accuracy: 1.0000\n",
      "Epoch 25/30\n",
      "151/151 [==============================] - 177s 1s/step - loss: 4.5575e-04 - accuracy: 0.9998 - val_loss: 1.7491e-04 - val_accuracy: 1.0000\n",
      "Epoch 26/30\n",
      "151/151 [==============================] - 177s 1s/step - loss: 4.9634e-04 - accuracy: 0.9999 - val_loss: 4.8588e-04 - val_accuracy: 1.0000\n",
      "Epoch 27/30\n",
      "151/151 [==============================] - 178s 1s/step - loss: 0.0012 - accuracy: 0.9995 - val_loss: 2.1964e-04 - val_accuracy: 1.0000\n",
      "Epoch 28/30\n",
      "151/151 [==============================] - 178s 1s/step - loss: 5.3456e-04 - accuracy: 0.9999 - val_loss: 1.1580e-04 - val_accuracy: 1.0000\n",
      "Epoch 29/30\n",
      "151/151 [==============================] - 178s 1s/step - loss: 5.2169e-04 - accuracy: 0.9996 - val_loss: 1.0180e-04 - val_accuracy: 1.0000\n",
      "Epoch 30/30\n",
      "151/151 [==============================] - 178s 1s/step - loss: 5.4821e-04 - accuracy: 0.9996 - val_loss: 1.1030e-04 - val_accuracy: 1.0000\n",
      "INFO:tensorflow:Assets written to: ../opticnet/opticnet_30epochs_7513.5599999999995 images/assets\n",
      "Test acc for opticnet: 0.989669\n",
      "Done!\n",
      "--------------------------------------------------\n",
      "\n"
     ]
    },
    {
     "data": {
      "image/png": "[encoded data removed]",
      "text/plain": [
       "<Figure size 288x216 with 1 Axes>"
      ]
     },
     "metadata": {
      "needs_background": "light"
     },
     "output_type": "display_data"
    },
    {
     "data": {
      "image/png": "[encoded data removed]",
      "text/plain": [
       "<Figure size 288x216 with 1 Axes>"
      ]
     },
     "metadata": {
      "needs_background": "light"
     },
     "output_type": "display_data"
    },
    {
     "data": {
      "image/png": "[encoded data removed]",
      "text/plain": [
       "<Figure size 288x216 with 1 Axes>"
      ]
     },
     "metadata": {
      "needs_background": "light"
     },
     "output_type": "display_data"
    },
    {
     "data": {
      "image/png": "[encoded data removed]",
      "text/plain": [
       "<Figure size 288x216 with 1 Axes>"
      ]
     },
     "metadata": {
      "needs_background": "light"
     },
     "output_type": "display_data"
    },
    {
     "data": {
      "image/png": "[encoded data removed]",
      "text/plain": [
       "<Figure size 288x216 with 1 Axes>"
      ]
     },
     "metadata": {
      "needs_background": "light"
     },
     "output_type": "display_data"
    },
    {
     "data": {
      "image/png": "[encoded data removed]",
      "text/plain": [
       "<Figure size 288x216 with 1 Axes>"
      ]
     },
     "metadata": {
      "needs_background": "light"
     },
     "output_type": "display_data"
    },
    {
     "data": {
      "image/png": "[encoded data removed]",
      "text/plain": [
       "<Figure size 288x216 with 1 Axes>"
      ]
     },
     "metadata": {
      "needs_background": "light"
     },
     "output_type": "display_data"
    },
    {
     "data": {
      "image/png": "[encoded data removed]",
      "text/plain": [
       "<Figure size 288x216 with 1 Axes>"
      ]
     },
     "metadata": {
      "needs_background": "light"
     },
     "output_type": "display_data"
    },
    {
     "data": {
      "image/png": "[encoded data removed]",
      "text/plain": [
       "<Figure size 288x216 with 1 Axes>"
      ]
     },
     "metadata": {
      "needs_background": "light"
     },
     "output_type": "display_data"
    },
    {
     "data": {
      "image/png": "[encoded data removed]",
      "text/plain": [
       "<Figure size 288x216 with 1 Axes>"
      ]
     },
     "metadata": {
      "needs_background": "light"
     },
     "output_type": "display_data"
    },
    {
     "data": {
      "image/png": "[encoded data removed]",
      "text/plain": [
       "<Figure size 288x216 with 1 Axes>"
      ]
     },
     "metadata": {
      "needs_background": "light"
     },
     "output_type": "display_data"
    },
    {
     "data": {
      "image/png": "[encoded data removed]",
      "text/plain": [
       "<Figure size 288x216 with 1 Axes>"
      ]
     },
     "metadata": {
      "needs_background": "light"
     },
     "output_type": "display_data"
    },
    {
     "data": {
      "image/png": "[encoded data removed]",
      "text/plain": [
       "<Figure size 288x216 with 1 Axes>"
      ]
     },
     "metadata": {
      "needs_background": "light"
     },
     "output_type": "display_data"
    },
    {
     "data": {
      "image/png": "[encoded data removed]",
      "text/plain": [
       "<Figure size 288x216 with 1 Axes>"
      ]
     },
     "metadata": {
      "needs_background": "light"
     },
     "output_type": "display_data"
    },
    {
     "data": {
      "image/png": "[encoded data removed]",
      "text/plain": [
       "<Figure size 288x216 with 1 Axes>"
      ]
     },
     "metadata": {
      "needs_background": "light"
     },
     "output_type": "display_data"
    }
   ],
   "source": [
    "from sklearn.model_selection import train_test_split\n",
    "import datetime\n",
    "\n",
    "maxTrain = len(y_train)\n",
    "#for p in [0.1, 0.25, 0.4, 0.5, 0.6, 0.75, 0.9]:\n",
    "for p in [0.01, 0.025, 0.05, 0.075, 0.09]:\n",
    "    #X_trn, X_tst, y_trn, y_tst\n",
    "    X_t, _, y_t, _ = train_test_split(images, y_train, test_size=1-p, random_state=123)\n",
    "    print(f\"Labels fraction: {sum(y_t == 1) / sum(y_train == 1)}\")\n",
    "    for net in [\"xception\", \"resnet\", \"opticnet\"]:\n",
    "        print(f\"Training {net} for {p}% of train size (aka {len(X_t)} images)...\")\n",
    "        model, size = emptyModelGenerator(net)\n",
    "        X_trn = resizeIms(X_t, size)\n",
    "        X_val = resizeIms(x_val, size)\n",
    "        log_dir = f\"logs/{net}/fit/{p}trainSet_\" + datetime.datetime.now().strftime(\"%Y%m%d-%H%M%S\")\n",
    "        tensorboard_callback = tf.keras.callbacks.TensorBoard(log_dir=log_dir, histogram_freq=1)\n",
    "        optim = Adam(learning_rate=0.001)\n",
    "        model.compile(optimizer=optim, loss='categorical_crossentropy', metrics=['accuracy'])\n",
    "        hist = model.fit(X_trn, y_t, epochs=epochs, validation_data = (X_val, y_validation), batch_size=batch_size,\n",
    "                    shuffle=True, max_queue_size=20,\n",
    "                    use_multiprocessing=True, workers=5, \n",
    "                    callbacks=[CustomCallback(fraction=0.9, model=net), tensorboard_callback])\n",
    "        model.save(f\"../{net}/{net}_{epochs}epochs_{p*maxTrain} images\")\n",
    "        testPredict(model, size, name=net)\n",
    "        del model\n",
    "        del X_trn\n",
    "        del X_val\n",
    "        print(\"Done!\\n\" + '-'*50, end='\\n\\n')"
   ]
  }
 ],
 "metadata": {
  "kernelspec": {
   "display_name": "Python 3",
   "language": "python",
   "name": "python3"
  },
  "language_info": {
   "codemirror_mode": {
    "name": "ipython",
    "version": 3
   },
   "file_extension": ".py",
   "mimetype": "text/x-python",
   "name": "python",
   "nbconvert_exporter": "python",
   "pygments_lexer": "ipython3",
   "version": "3.8.5"
  }
 },
 "nbformat": 4,
 "nbformat_minor": 4
}
