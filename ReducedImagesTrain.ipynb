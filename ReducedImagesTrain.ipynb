{
 "cells": [
  {
   "cell_type": "code",
   "execution_count": 1,
   "metadata": {},
   "outputs": [],
   "source": [
    "import tensorflow as tf\n",
    "from tensorflow import keras\n",
    "from keras.layers import Dense, GlobalAveragePooling2D\n",
    "import os\n",
    "import cv2\n",
    "import pickle\n",
    "from tensorflow.keras.optimizers import SGD, Adam\n",
    "from tensorflow.keras.models import Model\n",
    "\n",
    "\n",
    "from imblearn.under_sampling import RandomUnderSampler\n",
    "from keras.utils.np_utils import to_categorical\n",
    "import seaborn as sns\n",
    "import matplotlib.pyplot as plt\n",
    "import numpy as np\n",
    "\n",
    "%load_ext tensorboard"
   ]
  },
  {
   "cell_type": "code",
   "execution_count": 2,
   "metadata": {},
   "outputs": [],
   "source": [
    "dataPath = \"../../data/OCT/OCT2017/\""
   ]
  },
  {
   "cell_type": "code",
   "execution_count": 3,
   "metadata": {},
   "outputs": [
    {
     "name": "stdout",
     "output_type": "stream",
     "text": [
      "Total Number of Classes Detected : 4\n"
     ]
    }
   ],
   "source": [
    "labels_available = os.listdir(os.path.join(dataPath, \"train\"))\n",
    "print(\"Total Number of Classes Detected :\",len(labels_available))\n",
    "\n",
    "labels_list = ['NORMAL',\"CNV\",\"DME\",\"DRUSEN\"]"
   ]
  },
  {
   "cell_type": "code",
   "execution_count": 4,
   "metadata": {},
   "outputs": [
    {
     "name": "stdout",
     "output_type": "stream",
     "text": [
      "NORMAL CNV DME DRUSEN "
     ]
    }
   ],
   "source": [
    "images=[]\n",
    "y_trn=[]\n",
    "for x in labels_list:\n",
    "    xPath = os.path.join(dataPath, \"train\", x)\n",
    "    myPicList = os.listdir(xPath)\n",
    "    for y in myPicList:\n",
    "        images.append(cv2.imread(os.path.join(xPath, y)))\n",
    "        y_trn.append(labels_list.index(x))\n",
    "    print(x ,end=\" \")\n",
    "\n",
    "y_train = to_categorical(y_trn,len(labels_list))"
   ]
  },
  {
   "cell_type": "code",
   "execution_count": 5,
   "metadata": {},
   "outputs": [
    {
     "name": "stdout",
     "output_type": "stream",
     "text": [
      "NORMAL CNV DME DRUSEN "
     ]
    }
   ],
   "source": [
    "x_val=[]\n",
    "y_val=[]\n",
    "for x in labels_list:\n",
    "    xPath = os.path.join(dataPath, \"val\", x)\n",
    "    myPicList = os.listdir(xPath)\n",
    "    for y in myPicList:\n",
    "        x_val.append(cv2.imread(os.path.join(xPath, y)))\n",
    "        y_val.append(labels_list.index(x))\n",
    "    print(x ,end=\" \")\n",
    "\n",
    "y_validation = to_categorical(y_val,len(labels_list))"
   ]
  },
  {
   "cell_type": "code",
   "execution_count": 6,
   "metadata": {},
   "outputs": [
    {
     "name": "stdout",
     "output_type": "stream",
     "text": [
      "NORMAL CNV DME DRUSEN "
     ]
    }
   ],
   "source": [
    "x_tst=[]\n",
    "y_tst=[]\n",
    "for x in labels_list:\n",
    "    xPath = os.path.join(dataPath, \"test\", x)\n",
    "    myPicList = os.listdir(xPath)\n",
    "    for y in myPicList:\n",
    "        x_tst.append(cv2.imread(os.path.join(xPath, y)))\n",
    "        y_tst.append(labels_list.index(x))\n",
    "    print(x ,end=\" \")"
   ]
  },
  {
   "cell_type": "code",
   "execution_count": 7,
   "metadata": {},
   "outputs": [],
   "source": [
    "def resizeIm(im, size):\n",
    "    if im.shape[2] == 1:\n",
    "        im = cv2.cvtColor(im,cv2.COLOR_GRAY2RGB)\n",
    "    return cv2.resize(im, size)\n",
    "\n",
    "def resizeIms(x, size):\n",
    "    return np.array(list(map(lambda im: resizeIm(im, size), x)))"
   ]
  },
  {
   "cell_type": "code",
   "execution_count": 8,
   "metadata": {},
   "outputs": [],
   "source": [
    "class CustomCallback(tf.keras.callbacks.Callback):\n",
    "    def __init__(self,fraction, model):\n",
    "        super(CustomCallback,self).__init__()\n",
    "        self.fraction = fraction\n",
    "        self.train_a = [];\n",
    "        self.val_a =[];\n",
    "        self.logPath = os.path.join(model, \"log.txt\")\n",
    "\n",
    "        if not os.path.isdir(model):\n",
    "            os.mkdir(model)\n",
    "\n",
    "        with open(self.logPath,'w') as f:\n",
    "            f.write('Starting of logging..\\n')\n",
    "\n",
    "        self.fig = plt.figure(figsize=(4,3))\n",
    "        self.ax = plt.subplot(1,1,1)\n",
    "        plt.ion()\n",
    "\n",
    "    def on_train_begin(self,logs=None):\n",
    "        self.fig.show()\n",
    "        self.fig.canvas.draw()\n",
    "\n",
    "    def on_train_end(self,logs=None):\n",
    "        with open(self.logPath,'a') as f:\n",
    "              f.write('End of logging..\\n')\n",
    "    \n",
    "    def on_epoch_begin(self,epoch,logs=None):\n",
    "        lr= tf.keras.backend.get_value(self.model.optimizer.lr)\n",
    "        lr *= self.fraction\n",
    "        tf.keras.backend.set_value(self.model.optimizer.lr,lr)\n",
    "        with open(self.logPath,'a') as f:\n",
    "            f.write('At epoch {:02d}, learning rate changed to {:.4f}\\n'.format(epoch,lr))\n",
    "    \n",
    "    def on_epoch_end(self,epoch,logs=None):\n",
    "        val_acc = logs.get('val_accuracy')\n",
    "        train_acc = logs.get('accuracy')\n",
    "        self.train_a.append(train_acc)\n",
    "        self.val_a.append(val_acc)\n",
    "        with open(self.logPath,'a') as f:\n",
    "            f.write('At epoch {:02d}, training accuracy: {:.3f}, validation accuracy: {:.3f}\\n'.format(epoch,train_acc,val_acc))\n",
    "        self.ax.clear()\n",
    "        self.ax.plot(range(1+epoch),self.train_a,label=\"Training\")\n",
    "        self.ax.plot(range(1+epoch),self.val_a,label=\"Validation\")\n",
    "        self.ax.set_xlabel('Epochs')\n",
    "        self.ax.set_ylabel('Accuracy')\n",
    "        self.ax.legend()\n",
    "        self.fig.canvas.draw()\n",
    "        self.fig.show()"
   ]
  },
  {
   "cell_type": "markdown",
   "metadata": {},
   "source": [
    "## Load models"
   ]
  },
  {
   "cell_type": "code",
   "execution_count": 9,
   "metadata": {},
   "outputs": [],
   "source": [
    "# xception base model\n",
    "from tensorflow.keras.applications.xception import Xception\n",
    "from tensorflow.keras.applications.xception import preprocess_input, decode_predictions\n",
    "xceptionNetModel = Xception(weights='imagenet')\n",
    "\n",
    "# opticnet base model\n",
    "opticNetModel = tf.keras.models.load_model('../Optic_net-4_classes-Kermany2018.hdf5')\n",
    "\n",
    "# resnet base model\n",
    "from tensorflow.keras.applications.resnet50 import ResNet50\n",
    "from tensorflow.keras.applications.resnet50 import preprocess_input, decode_predictions\n",
    "\n",
    "resNetModel = ResNet50(weights='imagenet')"
   ]
  },
  {
   "cell_type": "code",
   "execution_count": 13,
   "metadata": {},
   "outputs": [],
   "source": [
    "def emptyModelGenerator(model, newWeights=False):\n",
    "    model = model.lower()\n",
    "    if model == \"resnet\":\n",
    "        x = resNetModel.output\n",
    "        predictions = Dense(len(labels_list), activation='softmax')(x)\n",
    "        newModel = Model(inputs=resNetModel.input, outputs=predictions)\n",
    "        size = (224, 224)\n",
    "    elif model == \"xception\":\n",
    "        x = xceptionNetModel.output\n",
    "        predictions = Dense(len(labels_list), activation='softmax')(x)\n",
    "        newModel = Model(inputs=xceptionNetModel.input, outputs=predictions)\n",
    "        size = (299, 299)\n",
    "    elif model == \"opticnet\":\n",
    "        newModel = tf.keras.models.load_model('../Optic_net-4_classes-Kermany2018.hdf5')\n",
    "        size = (224, 224)\n",
    "    if newWeights:\n",
    "        newModel = tf.keras.models.clone_model(newModel)\n",
    "    return newModel, size\n",
    "\n",
    "\n",
    "def testPredict(model, size, name=None):\n",
    "    X_test = resizeIms(x_tst, size)\n",
    "    X_test = np.array(X_test)\n",
    "    Y_test = np.array(y_tst)\n",
    "    \n",
    "    prediction = model.predict(X_test)\n",
    "    preds = np.argmax(prediction, axis=1)\n",
    "    acc = sum(preds == Y_test) / len(Y_test)\n",
    "    print(f'Test acc for {name if name else \"model\"}: {acc:.6f}')\n",
    "    \n",
    "\n",
    "def computeConfussionMatrix(predictions, labels):\n",
    "    num_labels = len(labels_list)\n",
    "    cMatrix = np.zeros(shape=(num_labels, num_labels))\n",
    "    for i in len(predictions):\n",
    "        p = int(predictions[i])\n",
    "        t = int(predictions[i])\n",
    "        cMatrix[t, p] += 1\n",
    "    print(cMatrix)\n",
    "    ax = sns.heatmap(cMatrix, cmap=\"Blues\", annot=True, fmt=\"d\", xticklabels=labels_list, yticklabels=labels_list)\n",
    "    plt.xlabel(\"Predicted label\")\n",
    "    plt.ylabel(\"True label\")\n",
    "    plt.title(\"Confusion matrix\")\n",
    "    plt.show();\n",
    "    return cMatrix\n",
    "    \n"
   ]
  },
  {
   "cell_type": "code",
   "execution_count": 14,
   "metadata": {},
   "outputs": [],
   "source": [
    "optim = Adam(learning_rate=0.001)\n",
    "epochs = 30\n",
    "batch_size = 50"
   ]
  },
  {
   "cell_type": "code",
   "execution_count": 15,
   "metadata": {},
   "outputs": [
    {
     "name": "stdout",
     "output_type": "stream",
     "text": [
      "Labels fraction: [0.01037431 0.00938046 0.01092704 0.01021356]\n",
      "Training xception for 0.01% of train size (aka 834 images)...\n"
     ]
    },
    {
     "name": "stderr",
     "output_type": "stream",
     "text": [
      "<ipython-input-8-797fd00c81c1>:20: UserWarning: Matplotlib is currently using module://ipykernel.pylab.backend_inline, which is a non-GUI backend, so cannot show the figure.\n",
      "  self.fig.show()\n"
     ]
    },
    {
     "name": "stdout",
     "output_type": "stream",
     "text": [
      "Epoch 1/30\n",
      " 6/17 [=========>....................] - ETA: 11s - loss: 1.3837 - accuracy: 0.3126WARNING:tensorflow:Callback method `on_train_batch_begin` is slow compared to the batch time (batch time: 0.1586s vs `on_train_batch_begin` time: 0.2143s). Check your callbacks.\n",
      "WARNING:tensorflow:Callback method `on_train_batch_end` is slow compared to the batch time (batch time: 0.1586s vs `on_train_batch_end` time: 0.5521s). Check your callbacks.\n",
      "17/17 [==============================] - 33s 1s/step - loss: 1.3738 - accuracy: 0.3957 - val_loss: 1.3866 - val_accuracy: 0.2500\n"
     ]
    },
    {
     "name": "stderr",
     "output_type": "stream",
     "text": [
      "<ipython-input-8-797fd00c81c1>:48: UserWarning: Matplotlib is currently using module://ipykernel.pylab.backend_inline, which is a non-GUI backend, so cannot show the figure.\n",
      "  self.fig.show()\n"
     ]
    },
    {
     "name": "stdout",
     "output_type": "stream",
     "text": [
      "Epoch 2/30\n",
      "17/17 [==============================] - 12s 730ms/step - loss: 1.3267 - accuracy: 0.6684 - val_loss: 1.3870 - val_accuracy: 0.2500\n",
      "Epoch 3/30\n",
      "17/17 [==============================] - 13s 735ms/step - loss: 1.3029 - accuracy: 0.6766 - val_loss: 1.3875 - val_accuracy: 0.2500\n",
      "Epoch 4/30\n",
      "17/17 [==============================] - 13s 740ms/step - loss: 1.2885 - accuracy: 0.6667 - val_loss: 1.3882 - val_accuracy: 0.2500\n",
      "Epoch 5/30\n",
      "17/17 [==============================] - 13s 740ms/step - loss: 1.2821 - accuracy: 0.6517 - val_loss: 1.3888 - val_accuracy: 0.2500\n",
      "Epoch 6/30\n",
      "17/17 [==============================] - 13s 744ms/step - loss: 1.2606 - accuracy: 0.6919 - val_loss: 1.3896 - val_accuracy: 0.2500\n",
      "Epoch 7/30\n",
      "17/17 [==============================] - 13s 747ms/step - loss: 1.2521 - accuracy: 0.6851 - val_loss: 1.3905 - val_accuracy: 0.2500\n",
      "Epoch 8/30\n",
      "17/17 [==============================] - 13s 749ms/step - loss: 1.2314 - accuracy: 0.7242 - val_loss: 1.3914 - val_accuracy: 0.2500\n",
      "Epoch 9/30\n",
      "17/17 [==============================] - 13s 756ms/step - loss: 1.2358 - accuracy: 0.6930 - val_loss: 1.3925 - val_accuracy: 0.2500\n",
      "Epoch 10/30\n",
      "17/17 [==============================] - 13s 756ms/step - loss: 1.2183 - accuracy: 0.7138 - val_loss: 1.3937 - val_accuracy: 0.2500\n",
      "Epoch 11/30\n",
      "17/17 [==============================] - 13s 757ms/step - loss: 1.2172 - accuracy: 0.7091 - val_loss: 1.3950 - val_accuracy: 0.2500\n",
      "Epoch 12/30\n",
      "17/17 [==============================] - 13s 751ms/step - loss: 1.2186 - accuracy: 0.6942 - val_loss: 1.3961 - val_accuracy: 0.2500\n",
      "Epoch 13/30\n",
      "17/17 [==============================] - 13s 757ms/step - loss: 1.2090 - accuracy: 0.7113 - val_loss: 1.3977 - val_accuracy: 0.2500\n",
      "Epoch 14/30\n",
      "17/17 [==============================] - 13s 757ms/step - loss: 1.1849 - accuracy: 0.7483 - val_loss: 1.3984 - val_accuracy: 0.2500\n",
      "Epoch 15/30\n",
      "17/17 [==============================] - 13s 771ms/step - loss: 1.2000 - accuracy: 0.7121 - val_loss: 1.3989 - val_accuracy: 0.2500\n",
      "Epoch 16/30\n",
      "17/17 [==============================] - 13s 762ms/step - loss: 1.1858 - accuracy: 0.7332 - val_loss: 1.3996 - val_accuracy: 0.2500\n",
      "Epoch 17/30\n",
      "17/17 [==============================] - 13s 760ms/step - loss: 1.1821 - accuracy: 0.7363 - val_loss: 1.4000 - val_accuracy: 0.2500\n",
      "Epoch 18/30\n",
      "17/17 [==============================] - 13s 764ms/step - loss: 1.1845 - accuracy: 0.7240 - val_loss: 1.3999 - val_accuracy: 0.2500\n",
      "Epoch 19/30\n",
      "17/17 [==============================] - 13s 765ms/step - loss: 1.1731 - accuracy: 0.7400 - val_loss: 1.3986 - val_accuracy: 0.2500\n",
      "Epoch 20/30\n",
      "17/17 [==============================] - 13s 779ms/step - loss: 1.1684 - accuracy: 0.7494 - val_loss: 1.3975 - val_accuracy: 0.2500\n",
      "Epoch 21/30\n",
      "17/17 [==============================] - 13s 756ms/step - loss: 1.1778 - accuracy: 0.7206 - val_loss: 1.3969 - val_accuracy: 0.2500\n",
      "Epoch 22/30\n",
      "17/17 [==============================] - 13s 770ms/step - loss: 1.1635 - accuracy: 0.7433 - val_loss: 1.3962 - val_accuracy: 0.2500\n",
      "Epoch 23/30\n",
      "17/17 [==============================] - 13s 766ms/step - loss: 1.1581 - accuracy: 0.7522 - val_loss: 1.3957 - val_accuracy: 0.2500\n",
      "Epoch 24/30\n",
      "17/17 [==============================] - 13s 757ms/step - loss: 1.1744 - accuracy: 0.7123 - val_loss: 1.3954 - val_accuracy: 0.2500\n",
      "Epoch 25/30\n",
      "17/17 [==============================] - 13s 763ms/step - loss: 1.1648 - accuracy: 0.7298 - val_loss: 1.3954 - val_accuracy: 0.2500\n",
      "Epoch 26/30\n",
      "17/17 [==============================] - 13s 761ms/step - loss: 1.1630 - accuracy: 0.7253 - val_loss: 1.3960 - val_accuracy: 0.2500\n",
      "Epoch 27/30\n",
      "17/17 [==============================] - 13s 763ms/step - loss: 1.1541 - accuracy: 0.7367 - val_loss: 1.3972 - val_accuracy: 0.2500\n",
      "Epoch 28/30\n",
      "17/17 [==============================] - 13s 766ms/step - loss: 1.1493 - accuracy: 0.7460 - val_loss: 1.3953 - val_accuracy: 0.2500\n",
      "Epoch 29/30\n",
      "17/17 [==============================] - 13s 766ms/step - loss: 1.1424 - accuracy: 0.7538 - val_loss: 1.3951 - val_accuracy: 0.2500\n",
      "Epoch 30/30\n",
      "17/17 [==============================] - 13s 757ms/step - loss: 1.1372 - accuracy: 0.7586 - val_loss: 1.3998 - val_accuracy: 0.2500\n",
      "INFO:tensorflow:Assets written to: ../xception/xception_30epochs_834.84 images/assets\n",
      "Test acc for xception: 0.250000\n",
      "Done!\n",
      "--------------------------------------------------\n",
      "\n",
      "Training resnet for 0.01% of train size (aka 834 images)...\n"
     ]
    },
    {
     "name": "stderr",
     "output_type": "stream",
     "text": [
      "<ipython-input-8-797fd00c81c1>:20: UserWarning: Matplotlib is currently using module://ipykernel.pylab.backend_inline, which is a non-GUI backend, so cannot show the figure.\n",
      "  self.fig.show()\n"
     ]
    },
    {
     "name": "stdout",
     "output_type": "stream",
     "text": [
      "Epoch 1/30\n",
      " 6/17 [=========>....................] - ETA: 8s - loss: 1.3796 - accuracy: 0.3054 WARNING:tensorflow:Callback method `on_train_batch_begin` is slow compared to the batch time (batch time: 0.1008s vs `on_train_batch_begin` time: 0.2011s). Check your callbacks.\n",
      "WARNING:tensorflow:Callback method `on_train_batch_end` is slow compared to the batch time (batch time: 0.1008s vs `on_train_batch_end` time: 0.3248s). Check your callbacks.\n",
      "17/17 [==============================] - 17s 533ms/step - loss: 1.3704 - accuracy: 0.3325 - val_loss: 1.3886 - val_accuracy: 0.2500\n"
     ]
    },
    {
     "name": "stderr",
     "output_type": "stream",
     "text": [
      "<ipython-input-8-797fd00c81c1>:48: UserWarning: Matplotlib is currently using module://ipykernel.pylab.backend_inline, which is a non-GUI backend, so cannot show the figure.\n",
      "  self.fig.show()\n"
     ]
    },
    {
     "name": "stdout",
     "output_type": "stream",
     "text": [
      "Epoch 2/30\n",
      "17/17 [==============================] - 3s 196ms/step - loss: 1.3495 - accuracy: 0.3654 - val_loss: 1.3900 - val_accuracy: 0.2500\n",
      "Epoch 3/30\n",
      "17/17 [==============================] - 3s 197ms/step - loss: 1.3381 - accuracy: 0.3526 - val_loss: 1.3914 - val_accuracy: 0.2500\n",
      "Epoch 4/30\n",
      "17/17 [==============================] - 3s 197ms/step - loss: 1.3265 - accuracy: 0.4018 - val_loss: 1.3929 - val_accuracy: 0.3125\n",
      "Epoch 5/30\n",
      "17/17 [==============================] - 3s 197ms/step - loss: 1.3145 - accuracy: 0.6016 - val_loss: 1.3980 - val_accuracy: 0.2500\n",
      "Epoch 6/30\n",
      "17/17 [==============================] - 3s 197ms/step - loss: 1.2999 - accuracy: 0.6531 - val_loss: 1.3899 - val_accuracy: 0.3750\n",
      "Epoch 7/30\n",
      "17/17 [==============================] - 3s 196ms/step - loss: 1.2984 - accuracy: 0.6325 - val_loss: 1.4015 - val_accuracy: 0.2500\n",
      "Epoch 8/30\n",
      "17/17 [==============================] - 3s 197ms/step - loss: 1.2822 - accuracy: 0.6677 - val_loss: 1.3954 - val_accuracy: 0.3125\n",
      "Epoch 9/30\n",
      "17/17 [==============================] - 3s 200ms/step - loss: 1.2771 - accuracy: 0.6813 - val_loss: 1.3705 - val_accuracy: 0.5000\n",
      "Epoch 10/30\n",
      "17/17 [==============================] - 3s 197ms/step - loss: 1.2616 - accuracy: 0.7008 - val_loss: 1.4110 - val_accuracy: 0.2188\n",
      "Epoch 11/30\n",
      "17/17 [==============================] - 3s 197ms/step - loss: 1.2647 - accuracy: 0.6677 - val_loss: 1.4064 - val_accuracy: 0.2500\n",
      "Epoch 12/30\n",
      "17/17 [==============================] - 3s 197ms/step - loss: 1.2538 - accuracy: 0.6943 - val_loss: 1.4075 - val_accuracy: 0.2500\n",
      "Epoch 13/30\n",
      "17/17 [==============================] - 3s 197ms/step - loss: 1.2479 - accuracy: 0.7068 - val_loss: 1.4084 - val_accuracy: 0.2500\n",
      "Epoch 14/30\n",
      "17/17 [==============================] - 3s 197ms/step - loss: 1.2521 - accuracy: 0.6870 - val_loss: 1.3604 - val_accuracy: 0.5000\n",
      "Epoch 15/30\n",
      "17/17 [==============================] - 3s 197ms/step - loss: 1.2317 - accuracy: 0.7167 - val_loss: 1.4100 - val_accuracy: 0.2500\n",
      "Epoch 16/30\n",
      "17/17 [==============================] - 3s 197ms/step - loss: 1.2375 - accuracy: 0.6962 - val_loss: 1.4106 - val_accuracy: 0.2500\n",
      "Epoch 17/30\n",
      "17/17 [==============================] - 3s 199ms/step - loss: 1.2324 - accuracy: 0.7152 - val_loss: 1.4112 - val_accuracy: 0.2500\n",
      "Epoch 18/30\n",
      "17/17 [==============================] - 3s 197ms/step - loss: 1.2401 - accuracy: 0.6927 - val_loss: 1.4118 - val_accuracy: 0.2500\n",
      "Epoch 19/30\n",
      "17/17 [==============================] - 3s 199ms/step - loss: 1.2190 - accuracy: 0.7282 - val_loss: 1.4124 - val_accuracy: 0.2500\n",
      "Epoch 20/30\n",
      "17/17 [==============================] - 3s 199ms/step - loss: 1.2078 - accuracy: 0.7442 - val_loss: 1.4129 - val_accuracy: 0.2500\n",
      "Epoch 21/30\n",
      "17/17 [==============================] - 3s 198ms/step - loss: 1.2306 - accuracy: 0.6939 - val_loss: 1.4133 - val_accuracy: 0.2500\n",
      "Epoch 22/30\n",
      "17/17 [==============================] - 3s 200ms/step - loss: 1.2396 - accuracy: 0.6735 - val_loss: 1.4137 - val_accuracy: 0.2500\n",
      "Epoch 23/30\n",
      "17/17 [==============================] - 3s 198ms/step - loss: 1.2095 - accuracy: 0.7258 - val_loss: 1.3552 - val_accuracy: 0.5000\n",
      "Epoch 24/30\n",
      "17/17 [==============================] - 3s 198ms/step - loss: 1.2173 - accuracy: 0.7164 - val_loss: 1.3585 - val_accuracy: 0.5000\n",
      "Epoch 25/30\n",
      "17/17 [==============================] - 3s 198ms/step - loss: 1.2148 - accuracy: 0.7208 - val_loss: 1.3587 - val_accuracy: 0.5000\n",
      "Epoch 26/30\n",
      "17/17 [==============================] - 3s 198ms/step - loss: 1.2094 - accuracy: 0.7259 - val_loss: 1.3594 - val_accuracy: 0.5000\n",
      "Epoch 27/30\n",
      "17/17 [==============================] - 3s 198ms/step - loss: 1.2115 - accuracy: 0.7219 - val_loss: 1.3525 - val_accuracy: 0.5000\n",
      "Epoch 28/30\n",
      "17/17 [==============================] - 3s 200ms/step - loss: 1.2129 - accuracy: 0.7223 - val_loss: 1.3677 - val_accuracy: 0.4375\n",
      "Epoch 29/30\n",
      "17/17 [==============================] - 3s 198ms/step - loss: 1.2132 - accuracy: 0.7189 - val_loss: 1.3518 - val_accuracy: 0.5000\n",
      "Epoch 30/30\n",
      "17/17 [==============================] - 3s 197ms/step - loss: 1.2098 - accuracy: 0.7249 - val_loss: 1.3530 - val_accuracy: 0.5000\n",
      "INFO:tensorflow:Assets written to: ../resnet/resnet_30epochs_834.84 images/assets\n",
      "Test acc for resnet: 0.490702\n",
      "Done!\n",
      "--------------------------------------------------\n",
      "\n",
      "Training opticnet for 0.01% of train size (aka 834 images)...\n"
     ]
    },
    {
     "name": "stderr",
     "output_type": "stream",
     "text": [
      "<ipython-input-8-797fd00c81c1>:20: UserWarning: Matplotlib is currently using module://ipykernel.pylab.backend_inline, which is a non-GUI backend, so cannot show the figure.\n",
      "  self.fig.show()\n"
     ]
    },
    {
     "name": "stdout",
     "output_type": "stream",
     "text": [
      "Epoch 1/30\n",
      " 6/17 [=========>....................] - ETA: 20s - loss: 22.2536 - accuracy: 0.2126WARNING:tensorflow:Callback method `on_train_batch_end` is slow compared to the batch time (batch time: 0.4652s vs `on_train_batch_end` time: 0.9552s). Check your callbacks.\n",
      "17/17 [==============================] - 46s 2s/step - loss: 21.8636 - accuracy: 0.2649 - val_loss: 120.5078 - val_accuracy: 0.2500\n"
     ]
    },
    {
     "name": "stderr",
     "output_type": "stream",
     "text": [
      "<ipython-input-8-797fd00c81c1>:48: UserWarning: Matplotlib is currently using module://ipykernel.pylab.backend_inline, which is a non-GUI backend, so cannot show the figure.\n",
      "  self.fig.show()\n"
     ]
    },
    {
     "name": "stdout",
     "output_type": "stream",
     "text": [
      "Epoch 2/30\n",
      "17/17 [==============================] - 20s 1s/step - loss: 2.3646 - accuracy: 0.3400 - val_loss: 6.6843 - val_accuracy: 0.2500\n",
      "Epoch 3/30\n",
      "17/17 [==============================] - 20s 1s/step - loss: 1.8181 - accuracy: 0.3740 - val_loss: 2.0986 - val_accuracy: 0.3438\n",
      "Epoch 4/30\n",
      "17/17 [==============================] - 20s 1s/step - loss: 1.4204 - accuracy: 0.4292 - val_loss: 1.6428 - val_accuracy: 0.2500\n",
      "Epoch 5/30\n",
      "17/17 [==============================] - 20s 1s/step - loss: 1.3563 - accuracy: 0.4126 - val_loss: 1.6999 - val_accuracy: 0.2500\n",
      "Epoch 6/30\n",
      "17/17 [==============================] - 20s 1s/step - loss: 1.2756 - accuracy: 0.4798 - val_loss: 2.3789 - val_accuracy: 0.2188\n",
      "Epoch 7/30\n",
      "17/17 [==============================] - 20s 1s/step - loss: 1.4581 - accuracy: 0.4740 - val_loss: 1.8517 - val_accuracy: 0.2500\n",
      "Epoch 8/30\n",
      "17/17 [==============================] - 20s 1s/step - loss: 1.2700 - accuracy: 0.5149 - val_loss: 1.8607 - val_accuracy: 0.3125\n",
      "Epoch 9/30\n",
      "17/17 [==============================] - 20s 1s/step - loss: 1.2047 - accuracy: 0.5425 - val_loss: 1.6271 - val_accuracy: 0.3750\n",
      "Epoch 10/30\n",
      "17/17 [==============================] - 20s 1s/step - loss: 1.0577 - accuracy: 0.6386 - val_loss: 1.6530 - val_accuracy: 0.2500\n",
      "Epoch 11/30\n",
      "17/17 [==============================] - 20s 1s/step - loss: 1.0162 - accuracy: 0.6197 - val_loss: 1.2373 - val_accuracy: 0.4688\n",
      "Epoch 12/30\n",
      "17/17 [==============================] - 20s 1s/step - loss: 0.8941 - accuracy: 0.6881 - val_loss: 1.1327 - val_accuracy: 0.5000\n",
      "Epoch 13/30\n",
      "17/17 [==============================] - 20s 1s/step - loss: 0.8426 - accuracy: 0.6802 - val_loss: 1.0254 - val_accuracy: 0.5625\n",
      "Epoch 14/30\n",
      "17/17 [==============================] - 20s 1s/step - loss: 0.8109 - accuracy: 0.7050 - val_loss: 1.1526 - val_accuracy: 0.4688\n",
      "Epoch 15/30\n",
      "17/17 [==============================] - 20s 1s/step - loss: 0.6989 - accuracy: 0.7517 - val_loss: 0.9593 - val_accuracy: 0.5625\n",
      "Epoch 16/30\n",
      "17/17 [==============================] - 20s 1s/step - loss: 0.5110 - accuracy: 0.8031 - val_loss: 0.8948 - val_accuracy: 0.6250\n",
      "Epoch 17/30\n",
      "17/17 [==============================] - 20s 1s/step - loss: 0.5502 - accuracy: 0.7728 - val_loss: 0.9159 - val_accuracy: 0.6250\n",
      "Epoch 18/30\n",
      "17/17 [==============================] - 20s 1s/step - loss: 0.4185 - accuracy: 0.8535 - val_loss: 1.1724 - val_accuracy: 0.5000\n",
      "Epoch 19/30\n",
      "17/17 [==============================] - 20s 1s/step - loss: 0.3570 - accuracy: 0.8747 - val_loss: 0.7873 - val_accuracy: 0.6875\n",
      "Epoch 20/30\n",
      "17/17 [==============================] - 20s 1s/step - loss: 0.2759 - accuracy: 0.8830 - val_loss: 0.9411 - val_accuracy: 0.5312\n",
      "Epoch 21/30\n",
      "17/17 [==============================] - 20s 1s/step - loss: 0.2485 - accuracy: 0.9133 - val_loss: 0.8390 - val_accuracy: 0.7188\n",
      "Epoch 22/30\n",
      "17/17 [==============================] - 20s 1s/step - loss: 0.2169 - accuracy: 0.9211 - val_loss: 1.2221 - val_accuracy: 0.4688\n",
      "Epoch 23/30\n",
      "17/17 [==============================] - 20s 1s/step - loss: 0.2527 - accuracy: 0.9041 - val_loss: 1.5640 - val_accuracy: 0.4375\n",
      "Epoch 24/30\n",
      "17/17 [==============================] - 20s 1s/step - loss: 0.2117 - accuracy: 0.9281 - val_loss: 1.4162 - val_accuracy: 0.4688\n",
      "Epoch 25/30\n",
      "17/17 [==============================] - 20s 1s/step - loss: 0.1875 - accuracy: 0.9300 - val_loss: 1.7068 - val_accuracy: 0.4062\n",
      "Epoch 26/30\n",
      "17/17 [==============================] - 20s 1s/step - loss: 0.1411 - accuracy: 0.9529 - val_loss: 1.3433 - val_accuracy: 0.5625\n",
      "Epoch 27/30\n",
      "17/17 [==============================] - 20s 1s/step - loss: 0.1088 - accuracy: 0.9625 - val_loss: 1.3697 - val_accuracy: 0.5938\n",
      "Epoch 28/30\n",
      "17/17 [==============================] - 20s 1s/step - loss: 0.0796 - accuracy: 0.9701 - val_loss: 1.3971 - val_accuracy: 0.5625\n",
      "Epoch 29/30\n",
      "17/17 [==============================] - 20s 1s/step - loss: 0.0602 - accuracy: 0.9839 - val_loss: 1.5046 - val_accuracy: 0.5938\n",
      "Epoch 30/30\n",
      "17/17 [==============================] - 20s 1s/step - loss: 0.0510 - accuracy: 0.9933 - val_loss: 1.6493 - val_accuracy: 0.5625\n",
      "INFO:tensorflow:Assets written to: ../opticnet/opticnet_30epochs_834.84 images/assets\n",
      "Test acc for opticnet: 0.622934\n",
      "Done!\n",
      "--------------------------------------------------\n",
      "\n",
      "Labels fraction: [0.02485275 0.02486225 0.02511456 0.02588208]\n",
      "Training xception for 0.025% of train size (aka 2087 images)...\n"
     ]
    },
    {
     "name": "stderr",
     "output_type": "stream",
     "text": [
      "<ipython-input-8-797fd00c81c1>:20: UserWarning: Matplotlib is currently using module://ipykernel.pylab.backend_inline, which is a non-GUI backend, so cannot show the figure.\n",
      "  self.fig.show()\n"
     ]
    },
    {
     "name": "stdout",
     "output_type": "stream",
     "text": [
      "Epoch 1/30\n",
      " 6/42 [===>..........................] - ETA: 48s - loss: 1.3818 - accuracy: 0.4801WARNING:tensorflow:Callback method `on_train_batch_begin` is slow compared to the batch time (batch time: 0.1626s vs `on_train_batch_begin` time: 0.2016s). Check your callbacks.\n",
      "WARNING:tensorflow:Callback method `on_train_batch_end` is slow compared to the batch time (batch time: 0.1626s vs `on_train_batch_end` time: 0.8906s). Check your callbacks.\n",
      "42/42 [==============================] - 42s 885ms/step - loss: 1.3491 - accuracy: 0.5894 - val_loss: 1.3875 - val_accuracy: 0.2500\n"
     ]
    },
    {
     "name": "stderr",
     "output_type": "stream",
     "text": [
      "<ipython-input-8-797fd00c81c1>:48: UserWarning: Matplotlib is currently using module://ipykernel.pylab.backend_inline, which is a non-GUI backend, so cannot show the figure.\n",
      "  self.fig.show()\n"
     ]
    },
    {
     "name": "stdout",
     "output_type": "stream",
     "text": [
      "Epoch 2/30\n",
      "42/42 [==============================] - 32s 758ms/step - loss: 1.2731 - accuracy: 0.7142 - val_loss: 1.3897 - val_accuracy: 0.2500\n",
      "Epoch 3/30\n",
      "42/42 [==============================] - 32s 763ms/step - loss: 1.2400 - accuracy: 0.7007 - val_loss: 1.3927 - val_accuracy: 0.2500\n",
      "Epoch 4/30\n",
      "42/42 [==============================] - 32s 764ms/step - loss: 1.2177 - accuracy: 0.6917 - val_loss: 1.3961 - val_accuracy: 0.2500\n",
      "Epoch 5/30\n",
      "42/42 [==============================] - 32s 764ms/step - loss: 1.1814 - accuracy: 0.7133 - val_loss: 1.4020 - val_accuracy: 0.2500\n",
      "Epoch 6/30\n",
      "42/42 [==============================] - 32s 762ms/step - loss: 1.1511 - accuracy: 0.7351 - val_loss: 1.4393 - val_accuracy: 0.2500\n",
      "Epoch 7/30\n",
      "42/42 [==============================] - 32s 765ms/step - loss: 1.1329 - accuracy: 0.7342 - val_loss: 1.4487 - val_accuracy: 0.2500\n",
      "Epoch 8/30\n",
      "42/42 [==============================] - 32s 768ms/step - loss: 1.1110 - accuracy: 0.7399 - val_loss: 1.4309 - val_accuracy: 0.2500\n",
      "Epoch 9/30\n",
      "42/42 [==============================] - 32s 764ms/step - loss: 1.0983 - accuracy: 0.7390 - val_loss: 1.4654 - val_accuracy: 0.2500\n",
      "Epoch 10/30\n",
      "42/42 [==============================] - 32s 769ms/step - loss: 1.0818 - accuracy: 0.7449 - val_loss: 1.4733 - val_accuracy: 0.2500\n",
      "Epoch 11/30\n",
      "42/42 [==============================] - 32s 766ms/step - loss: 1.0685 - accuracy: 0.7346 - val_loss: 1.4805 - val_accuracy: 0.2500\n",
      "Epoch 12/30\n",
      "42/42 [==============================] - 32s 766ms/step - loss: 1.0661 - accuracy: 0.7277 - val_loss: 1.4869 - val_accuracy: 0.2500\n",
      "Epoch 13/30\n",
      "42/42 [==============================] - 32s 763ms/step - loss: 1.0489 - accuracy: 0.7302 - val_loss: 1.3653 - val_accuracy: 0.4062\n",
      "Epoch 14/30\n",
      "42/42 [==============================] - 32s 763ms/step - loss: 1.0298 - accuracy: 0.7445 - val_loss: 1.3412 - val_accuracy: 0.4375\n",
      "Epoch 15/30\n",
      "42/42 [==============================] - 32s 769ms/step - loss: 1.0313 - accuracy: 0.7305 - val_loss: 1.2873 - val_accuracy: 0.4375\n",
      "Epoch 16/30\n",
      "42/42 [==============================] - 32s 762ms/step - loss: 1.0081 - accuracy: 0.7380 - val_loss: 1.2785 - val_accuracy: 0.4688\n",
      "Epoch 17/30\n",
      "42/42 [==============================] - 32s 765ms/step - loss: 1.0004 - accuracy: 0.7389 - val_loss: 1.2328 - val_accuracy: 0.4688\n",
      "Epoch 18/30\n",
      "42/42 [==============================] - 32s 762ms/step - loss: 0.9844 - accuracy: 0.7901 - val_loss: 1.3018 - val_accuracy: 0.5000\n",
      "Epoch 19/30\n",
      "42/42 [==============================] - 32s 762ms/step - loss: 0.9887 - accuracy: 0.7919 - val_loss: 1.3190 - val_accuracy: 0.5000\n",
      "Epoch 20/30\n",
      "42/42 [==============================] - 32s 766ms/step - loss: 0.9808 - accuracy: 0.7970 - val_loss: 1.3627 - val_accuracy: 0.4375\n",
      "Epoch 21/30\n",
      "42/42 [==============================] - 32s 764ms/step - loss: 0.9523 - accuracy: 0.8295 - val_loss: 1.2465 - val_accuracy: 0.5625\n",
      "Epoch 22/30\n",
      "42/42 [==============================] - 32s 764ms/step - loss: 0.9641 - accuracy: 0.8118 - val_loss: 1.2100 - val_accuracy: 0.6250\n",
      "Epoch 23/30\n",
      "42/42 [==============================] - 32s 766ms/step - loss: 0.9527 - accuracy: 0.8238 - val_loss: 1.1270 - val_accuracy: 0.7188\n",
      "Epoch 24/30\n",
      "42/42 [==============================] - 32s 761ms/step - loss: 0.9452 - accuracy: 0.8348 - val_loss: 1.1657 - val_accuracy: 0.6875\n",
      "Epoch 25/30\n",
      "42/42 [==============================] - 32s 766ms/step - loss: 0.9130 - accuracy: 0.8522 - val_loss: 1.1716 - val_accuracy: 0.6562\n",
      "Epoch 26/30\n",
      "42/42 [==============================] - 32s 768ms/step - loss: 0.9255 - accuracy: 0.8445 - val_loss: 1.2243 - val_accuracy: 0.5938\n",
      "Epoch 27/30\n",
      "42/42 [==============================] - 32s 761ms/step - loss: 0.9274 - accuracy: 0.8346 - val_loss: 1.2605 - val_accuracy: 0.5625\n",
      "Epoch 28/30\n",
      "42/42 [==============================] - 32s 764ms/step - loss: 0.9111 - accuracy: 0.8455 - val_loss: 1.2646 - val_accuracy: 0.5312\n",
      "Epoch 29/30\n",
      "42/42 [==============================] - 32s 767ms/step - loss: 0.9139 - accuracy: 0.8433 - val_loss: 1.1267 - val_accuracy: 0.6875\n",
      "Epoch 30/30\n",
      "42/42 [==============================] - 32s 762ms/step - loss: 0.9007 - accuracy: 0.8594 - val_loss: 1.1787 - val_accuracy: 0.6562\n",
      "INFO:tensorflow:Assets written to: ../xception/xception_30epochs_2087.1 images/assets\n",
      "Test acc for xception: 0.676653\n",
      "Done!\n",
      "--------------------------------------------------\n",
      "\n",
      "Training resnet for 0.025% of train size (aka 2087 images)...\n"
     ]
    },
    {
     "name": "stderr",
     "output_type": "stream",
     "text": [
      "<ipython-input-8-797fd00c81c1>:20: UserWarning: Matplotlib is currently using module://ipykernel.pylab.backend_inline, which is a non-GUI backend, so cannot show the figure.\n",
      "  self.fig.show()\n"
     ]
    },
    {
     "name": "stdout",
     "output_type": "stream",
     "text": [
      "Epoch 1/30\n",
      " 6/42 [===>..........................] - ETA: 26s - loss: 1.3817 - accuracy: 0.2416WARNING:tensorflow:Callback method `on_train_batch_begin` is slow compared to the batch time (batch time: 0.1035s vs `on_train_batch_begin` time: 0.1939s). Check your callbacks.\n",
      "WARNING:tensorflow:Callback method `on_train_batch_end` is slow compared to the batch time (batch time: 0.1035s vs `on_train_batch_end` time: 0.3438s). Check your callbacks.\n",
      "42/42 [==============================] - 20s 323ms/step - loss: 1.3560 - accuracy: 0.4093 - val_loss: 1.3937 - val_accuracy: 0.2500\n"
     ]
    },
    {
     "name": "stderr",
     "output_type": "stream",
     "text": [
      "<ipython-input-8-797fd00c81c1>:48: UserWarning: Matplotlib is currently using module://ipykernel.pylab.backend_inline, which is a non-GUI backend, so cannot show the figure.\n",
      "  self.fig.show()\n"
     ]
    },
    {
     "name": "stdout",
     "output_type": "stream",
     "text": [
      "Epoch 2/30\n",
      "42/42 [==============================] - 8s 196ms/step - loss: 1.3191 - accuracy: 0.4691 - val_loss: 1.3994 - val_accuracy: 0.2500\n",
      "Epoch 3/30\n",
      "42/42 [==============================] - 8s 197ms/step - loss: 1.2898 - accuracy: 0.5155 - val_loss: 1.3927 - val_accuracy: 0.3438\n",
      "Epoch 4/30\n",
      "42/42 [==============================] - 8s 197ms/step - loss: 1.2658 - accuracy: 0.5916 - val_loss: 1.4160 - val_accuracy: 0.2500\n",
      "Epoch 5/30\n",
      "42/42 [==============================] - 8s 198ms/step - loss: 1.2423 - accuracy: 0.6055 - val_loss: 1.4252 - val_accuracy: 0.2500\n",
      "Epoch 6/30\n",
      "42/42 [==============================] - 8s 198ms/step - loss: 1.2020 - accuracy: 0.6778 - val_loss: 1.4075 - val_accuracy: 0.3125\n",
      "Epoch 7/30\n",
      "42/42 [==============================] - 8s 199ms/step - loss: 1.1837 - accuracy: 0.6837 - val_loss: 1.4323 - val_accuracy: 0.2500\n",
      "Epoch 8/30\n",
      "42/42 [==============================] - 8s 199ms/step - loss: 1.1815 - accuracy: 0.6532 - val_loss: 1.4506 - val_accuracy: 0.2500\n",
      "Epoch 9/30\n",
      "42/42 [==============================] - 8s 199ms/step - loss: 1.1416 - accuracy: 0.7098 - val_loss: 1.4296 - val_accuracy: 0.3125\n",
      "Epoch 10/30\n",
      "42/42 [==============================] - 8s 199ms/step - loss: 1.1223 - accuracy: 0.7215 - val_loss: 1.4657 - val_accuracy: 0.2500\n",
      "Epoch 11/30\n",
      "42/42 [==============================] - 8s 199ms/step - loss: 1.1180 - accuracy: 0.7212 - val_loss: 1.3676 - val_accuracy: 0.4375\n",
      "Epoch 12/30\n",
      "42/42 [==============================] - 8s 199ms/step - loss: 1.1070 - accuracy: 0.7192 - val_loss: 1.3330 - val_accuracy: 0.5000\n",
      "Epoch 13/30\n",
      "42/42 [==============================] - 8s 199ms/step - loss: 1.1067 - accuracy: 0.7048 - val_loss: 1.4835 - val_accuracy: 0.2500\n",
      "Epoch 14/30\n",
      "42/42 [==============================] - 8s 199ms/step - loss: 1.0951 - accuracy: 0.7111 - val_loss: 1.3281 - val_accuracy: 0.5000\n",
      "Epoch 15/30\n",
      "42/42 [==============================] - 8s 200ms/step - loss: 1.0691 - accuracy: 0.7421 - val_loss: 1.3224 - val_accuracy: 0.5000\n",
      "Epoch 16/30\n",
      "42/42 [==============================] - 8s 199ms/step - loss: 1.0823 - accuracy: 0.7224 - val_loss: 1.3309 - val_accuracy: 0.5000\n",
      "Epoch 17/30\n",
      "42/42 [==============================] - 8s 199ms/step - loss: 1.0772 - accuracy: 0.7190 - val_loss: 1.3372 - val_accuracy: 0.5000\n",
      "Epoch 18/30\n",
      "42/42 [==============================] - 8s 199ms/step - loss: 1.0698 - accuracy: 0.7161 - val_loss: 1.3162 - val_accuracy: 0.4688\n",
      "Epoch 19/30\n",
      "42/42 [==============================] - 8s 199ms/step - loss: 1.0704 - accuracy: 0.7165 - val_loss: 1.3169 - val_accuracy: 0.5000\n",
      "Epoch 20/30\n",
      "42/42 [==============================] - 8s 199ms/step - loss: 1.0576 - accuracy: 0.7195 - val_loss: 1.3319 - val_accuracy: 0.5000\n",
      "Epoch 21/30\n",
      "42/42 [==============================] - 8s 200ms/step - loss: 1.0653 - accuracy: 0.7228 - val_loss: 1.2993 - val_accuracy: 0.5000\n",
      "Epoch 22/30\n",
      "42/42 [==============================] - 8s 199ms/step - loss: 1.0758 - accuracy: 0.7064 - val_loss: 1.3324 - val_accuracy: 0.4688\n",
      "Epoch 23/30\n",
      "42/42 [==============================] - 8s 199ms/step - loss: 1.0672 - accuracy: 0.7137 - val_loss: 1.2988 - val_accuracy: 0.5000\n",
      "Epoch 24/30\n",
      "42/42 [==============================] - 8s 199ms/step - loss: 1.0602 - accuracy: 0.7150 - val_loss: 1.3304 - val_accuracy: 0.5000\n",
      "Epoch 25/30\n",
      "42/42 [==============================] - 8s 200ms/step - loss: 1.0340 - accuracy: 0.7430 - val_loss: 1.3233 - val_accuracy: 0.5000\n",
      "Epoch 26/30\n",
      "42/42 [==============================] - 8s 200ms/step - loss: 1.0466 - accuracy: 0.7303 - val_loss: 1.3304 - val_accuracy: 0.5000\n",
      "Epoch 27/30\n",
      "42/42 [==============================] - 8s 200ms/step - loss: 1.0324 - accuracy: 0.7371 - val_loss: 1.3221 - val_accuracy: 0.5000\n",
      "Epoch 28/30\n",
      "42/42 [==============================] - 8s 200ms/step - loss: 1.0392 - accuracy: 0.7317 - val_loss: 1.3335 - val_accuracy: 0.5000\n",
      "Epoch 29/30\n",
      "42/42 [==============================] - 8s 200ms/step - loss: 1.0349 - accuracy: 0.7303 - val_loss: 1.3306 - val_accuracy: 0.5000\n",
      "Epoch 30/30\n",
      "42/42 [==============================] - 8s 199ms/step - loss: 1.0223 - accuracy: 0.7418 - val_loss: 1.3231 - val_accuracy: 0.5000\n",
      "INFO:tensorflow:Assets written to: ../resnet/resnet_30epochs_2087.1 images/assets\n",
      "Test acc for resnet: 0.490702\n",
      "Done!\n",
      "--------------------------------------------------\n",
      "\n",
      "Training opticnet for 0.025% of train size (aka 2087 images)...\n"
     ]
    },
    {
     "name": "stderr",
     "output_type": "stream",
     "text": [
      "<ipython-input-8-797fd00c81c1>:20: UserWarning: Matplotlib is currently using module://ipykernel.pylab.backend_inline, which is a non-GUI backend, so cannot show the figure.\n",
      "  self.fig.show()\n"
     ]
    },
    {
     "name": "stdout",
     "output_type": "stream",
     "text": [
      "Epoch 1/30\n",
      " 6/42 [===>..........................] - ETA: 1:07 - loss: 22.7778 - accuracy: 0.2961WARNING:tensorflow:Callback method `on_train_batch_end` is slow compared to the batch time (batch time: 0.4653s vs `on_train_batch_end` time: 1.0705s). Check your callbacks.\n",
      "42/42 [==============================] - 71s 1s/step - loss: 15.9497 - accuracy: 0.3214 - val_loss: 14.6226 - val_accuracy: 0.2500\n"
     ]
    },
    {
     "name": "stderr",
     "output_type": "stream",
     "text": [
      "<ipython-input-8-797fd00c81c1>:48: UserWarning: Matplotlib is currently using module://ipykernel.pylab.backend_inline, which is a non-GUI backend, so cannot show the figure.\n",
      "  self.fig.show()\n"
     ]
    },
    {
     "name": "stdout",
     "output_type": "stream",
     "text": [
      "Epoch 2/30\n",
      "42/42 [==============================] - 49s 1s/step - loss: 1.7274 - accuracy: 0.3978 - val_loss: 1.5236 - val_accuracy: 0.2500\n",
      "Epoch 3/30\n",
      "42/42 [==============================] - 49s 1s/step - loss: 1.2565 - accuracy: 0.4589 - val_loss: 1.5250 - val_accuracy: 0.2500\n",
      "Epoch 4/30\n",
      "42/42 [==============================] - 49s 1s/step - loss: 1.1711 - accuracy: 0.5167 - val_loss: 1.3371 - val_accuracy: 0.2812\n",
      "Epoch 5/30\n",
      "42/42 [==============================] - 49s 1s/step - loss: 0.9605 - accuracy: 0.6245 - val_loss: 1.1937 - val_accuracy: 0.4062\n",
      "Epoch 6/30\n",
      "42/42 [==============================] - 49s 1s/step - loss: 0.9006 - accuracy: 0.6738 - val_loss: 0.8796 - val_accuracy: 0.6250\n",
      "Epoch 7/30\n",
      "42/42 [==============================] - 49s 1s/step - loss: 0.8255 - accuracy: 0.6930 - val_loss: 1.2351 - val_accuracy: 0.5312\n",
      "Epoch 8/30\n",
      "42/42 [==============================] - 49s 1s/step - loss: 0.6742 - accuracy: 0.7451 - val_loss: 0.8863 - val_accuracy: 0.6875\n",
      "Epoch 9/30\n",
      "42/42 [==============================] - 49s 1s/step - loss: 0.5575 - accuracy: 0.7905 - val_loss: 0.8486 - val_accuracy: 0.6250\n",
      "Epoch 10/30\n",
      "42/42 [==============================] - 49s 1s/step - loss: 0.5479 - accuracy: 0.7943 - val_loss: 0.7964 - val_accuracy: 0.6250\n",
      "Epoch 11/30\n",
      "42/42 [==============================] - 49s 1s/step - loss: 0.5168 - accuracy: 0.8101 - val_loss: 0.6801 - val_accuracy: 0.7500\n",
      "Epoch 12/30\n",
      "42/42 [==============================] - 49s 1s/step - loss: 0.4302 - accuracy: 0.8315 - val_loss: 0.9796 - val_accuracy: 0.7188\n",
      "Epoch 13/30\n",
      "42/42 [==============================] - 49s 1s/step - loss: 0.4209 - accuracy: 0.8336 - val_loss: 0.8209 - val_accuracy: 0.6875\n",
      "Epoch 14/30\n",
      "42/42 [==============================] - 49s 1s/step - loss: 0.3500 - accuracy: 0.8684 - val_loss: 1.4462 - val_accuracy: 0.6562\n",
      "Epoch 15/30\n",
      "42/42 [==============================] - 49s 1s/step - loss: 0.3020 - accuracy: 0.8915 - val_loss: 1.0394 - val_accuracy: 0.7188\n",
      "Epoch 16/30\n",
      "42/42 [==============================] - 49s 1s/step - loss: 0.2035 - accuracy: 0.9246 - val_loss: 0.9120 - val_accuracy: 0.6875\n",
      "Epoch 17/30\n",
      "42/42 [==============================] - 49s 1s/step - loss: 0.1609 - accuracy: 0.9471 - val_loss: 0.8160 - val_accuracy: 0.7500\n",
      "Epoch 18/30\n",
      "42/42 [==============================] - 49s 1s/step - loss: 0.1546 - accuracy: 0.9523 - val_loss: 0.9747 - val_accuracy: 0.8125\n",
      "Epoch 19/30\n",
      "42/42 [==============================] - 49s 1s/step - loss: 0.1052 - accuracy: 0.9665 - val_loss: 3.9225 - val_accuracy: 0.6250\n",
      "Epoch 20/30\n",
      "42/42 [==============================] - 49s 1s/step - loss: 0.0850 - accuracy: 0.9703 - val_loss: 1.1052 - val_accuracy: 0.7812\n",
      "Epoch 21/30\n",
      "42/42 [==============================] - 49s 1s/step - loss: 0.0442 - accuracy: 0.9877 - val_loss: 0.9790 - val_accuracy: 0.8125\n",
      "Epoch 22/30\n",
      "42/42 [==============================] - 49s 1s/step - loss: 0.0405 - accuracy: 0.9874 - val_loss: 0.7861 - val_accuracy: 0.8125\n",
      "Epoch 23/30\n",
      "42/42 [==============================] - 49s 1s/step - loss: 0.0427 - accuracy: 0.9877 - val_loss: 0.7864 - val_accuracy: 0.7812\n",
      "Epoch 24/30\n",
      "42/42 [==============================] - 49s 1s/step - loss: 0.0315 - accuracy: 0.9918 - val_loss: 0.8776 - val_accuracy: 0.8438\n",
      "Epoch 25/30\n",
      "42/42 [==============================] - 49s 1s/step - loss: 0.0102 - accuracy: 0.9988 - val_loss: 1.2186 - val_accuracy: 0.8125\n",
      "Epoch 26/30\n",
      "42/42 [==============================] - 49s 1s/step - loss: 0.0088 - accuracy: 0.9987 - val_loss: 1.0067 - val_accuracy: 0.8438\n",
      "Epoch 27/30\n",
      "42/42 [==============================] - 49s 1s/step - loss: 0.0231 - accuracy: 0.9922 - val_loss: 1.4065 - val_accuracy: 0.8438\n",
      "Epoch 28/30\n",
      "42/42 [==============================] - 49s 1s/step - loss: 0.0105 - accuracy: 0.9967 - val_loss: 1.3873 - val_accuracy: 0.8438\n",
      "Epoch 29/30\n",
      "42/42 [==============================] - 49s 1s/step - loss: 0.0061 - accuracy: 0.9994 - val_loss: 1.1528 - val_accuracy: 0.8125\n",
      "Epoch 30/30\n",
      "42/42 [==============================] - 49s 1s/step - loss: 0.0114 - accuracy: 0.9963 - val_loss: 0.8462 - val_accuracy: 0.8125\n",
      "INFO:tensorflow:Assets written to: ../opticnet/opticnet_30epochs_2087.1 images/assets\n",
      "Test acc for opticnet: 0.838843\n",
      "Done!\n",
      "--------------------------------------------------\n",
      "\n",
      "Labels fraction: [0.04905947 0.05004704 0.05049348 0.05199629]\n",
      "Training xception for 0.05% of train size (aka 4174 images)...\n"
     ]
    },
    {
     "name": "stderr",
     "output_type": "stream",
     "text": [
      "<ipython-input-8-797fd00c81c1>:20: UserWarning: Matplotlib is currently using module://ipykernel.pylab.backend_inline, which is a non-GUI backend, so cannot show the figure.\n",
      "  self.fig.show()\n"
     ]
    },
    {
     "name": "stdout",
     "output_type": "stream",
     "text": [
      "Epoch 1/30\n",
      " 6/84 [=>............................] - ETA: 1:43 - loss: 1.3827 - accuracy: 0.3728WARNING:tensorflow:Callback method `on_train_batch_begin` is slow compared to the batch time (batch time: 0.1621s vs `on_train_batch_begin` time: 0.2001s). Check your callbacks.\n",
      "WARNING:tensorflow:Callback method `on_train_batch_end` is slow compared to the batch time (batch time: 0.1621s vs `on_train_batch_end` time: 0.8643s). Check your callbacks.\n",
      "84/84 [==============================] - 74s 819ms/step - loss: 1.3393 - accuracy: 0.5431 - val_loss: 1.3895 - val_accuracy: 0.2500\n"
     ]
    },
    {
     "name": "stderr",
     "output_type": "stream",
     "text": [
      "<ipython-input-8-797fd00c81c1>:48: UserWarning: Matplotlib is currently using module://ipykernel.pylab.backend_inline, which is a non-GUI backend, so cannot show the figure.\n",
      "  self.fig.show()\n"
     ]
    },
    {
     "name": "stdout",
     "output_type": "stream",
     "text": [
      "Epoch 2/30\n",
      "84/84 [==============================] - 64s 765ms/step - loss: 1.2328 - accuracy: 0.7028 - val_loss: 1.4070 - val_accuracy: 0.2500\n",
      "Epoch 3/30\n",
      "84/84 [==============================] - 64s 768ms/step - loss: 1.1692 - accuracy: 0.7135 - val_loss: 1.4451 - val_accuracy: 0.2500\n",
      "Epoch 4/30\n",
      "84/84 [==============================] - 65s 768ms/step - loss: 1.1169 - accuracy: 0.7225 - val_loss: 1.4103 - val_accuracy: 0.2500\n",
      "Epoch 5/30\n",
      "84/84 [==============================] - 64s 766ms/step - loss: 1.0625 - accuracy: 0.7390 - val_loss: 1.3952 - val_accuracy: 0.2500\n",
      "Epoch 6/30\n",
      "84/84 [==============================] - 64s 767ms/step - loss: 1.0083 - accuracy: 0.7393 - val_loss: 1.3032 - val_accuracy: 0.5000\n",
      "Epoch 7/30\n",
      "84/84 [==============================] - 64s 768ms/step - loss: 0.9901 - accuracy: 0.7484 - val_loss: 1.3108 - val_accuracy: 0.5000\n",
      "Epoch 8/30\n",
      "84/84 [==============================] - 65s 769ms/step - loss: 0.9417 - accuracy: 0.8139 - val_loss: 1.2309 - val_accuracy: 0.5938\n",
      "Epoch 9/30\n",
      "84/84 [==============================] - 65s 769ms/step - loss: 0.9313 - accuracy: 0.8062 - val_loss: 1.2412 - val_accuracy: 0.5938\n",
      "Epoch 10/30\n",
      "84/84 [==============================] - 64s 767ms/step - loss: 0.8790 - accuracy: 0.8288 - val_loss: 1.1133 - val_accuracy: 0.7188\n",
      "Epoch 11/30\n",
      "84/84 [==============================] - 64s 768ms/step - loss: 0.8678 - accuracy: 0.8312 - val_loss: 1.1744 - val_accuracy: 0.6562\n",
      "Epoch 12/30\n",
      "84/84 [==============================] - 65s 769ms/step - loss: 0.8545 - accuracy: 0.8263 - val_loss: 1.2423 - val_accuracy: 0.5000\n",
      "Epoch 13/30\n",
      "84/84 [==============================] - 64s 766ms/step - loss: 0.8269 - accuracy: 0.8449 - val_loss: 1.0216 - val_accuracy: 0.7500\n",
      "Epoch 14/30\n",
      "84/84 [==============================] - 65s 770ms/step - loss: 0.7990 - accuracy: 0.8520 - val_loss: 1.0373 - val_accuracy: 0.7188\n",
      "Epoch 15/30\n",
      "84/84 [==============================] - 64s 766ms/step - loss: 0.7832 - accuracy: 0.8553 - val_loss: 1.0266 - val_accuracy: 0.6875\n",
      "Epoch 16/30\n",
      "84/84 [==============================] - 65s 768ms/step - loss: 0.7632 - accuracy: 0.8516 - val_loss: 1.0173 - val_accuracy: 0.6875\n",
      "Epoch 17/30\n",
      "84/84 [==============================] - 64s 766ms/step - loss: 0.7637 - accuracy: 0.8496 - val_loss: 0.9327 - val_accuracy: 0.7188\n",
      "Epoch 18/30\n",
      "84/84 [==============================] - 64s 766ms/step - loss: 0.7394 - accuracy: 0.8564 - val_loss: 0.8571 - val_accuracy: 0.7188\n",
      "Epoch 19/30\n",
      "84/84 [==============================] - 65s 769ms/step - loss: 0.7166 - accuracy: 0.8592 - val_loss: 0.8597 - val_accuracy: 0.7188\n",
      "Epoch 20/30\n",
      "84/84 [==============================] - 65s 768ms/step - loss: 0.7117 - accuracy: 0.8569 - val_loss: 0.8179 - val_accuracy: 0.7188\n",
      "Epoch 21/30\n",
      "84/84 [==============================] - 65s 770ms/step - loss: 0.6832 - accuracy: 0.8755 - val_loss: 0.9104 - val_accuracy: 0.7188\n",
      "Epoch 22/30\n",
      "84/84 [==============================] - 65s 770ms/step - loss: 0.6744 - accuracy: 0.8718 - val_loss: 0.8625 - val_accuracy: 0.6875\n",
      "Epoch 23/30\n",
      "84/84 [==============================] - 64s 767ms/step - loss: 0.6786 - accuracy: 0.8641 - val_loss: 0.8016 - val_accuracy: 0.7500\n",
      "Epoch 24/30\n",
      "84/84 [==============================] - 64s 765ms/step - loss: 0.6693 - accuracy: 0.8658 - val_loss: 0.8264 - val_accuracy: 0.7188\n",
      "Epoch 25/30\n",
      "84/84 [==============================] - 65s 769ms/step - loss: 0.6433 - accuracy: 0.8740 - val_loss: 0.7703 - val_accuracy: 0.7500\n",
      "Epoch 26/30\n",
      "84/84 [==============================] - 64s 765ms/step - loss: 0.6647 - accuracy: 0.8603 - val_loss: 0.7846 - val_accuracy: 0.7500\n",
      "Epoch 27/30\n",
      "84/84 [==============================] - 64s 766ms/step - loss: 0.6439 - accuracy: 0.8676 - val_loss: 0.8392 - val_accuracy: 0.7500\n",
      "Epoch 28/30\n",
      "84/84 [==============================] - 64s 766ms/step - loss: 0.6389 - accuracy: 0.8702 - val_loss: 0.7563 - val_accuracy: 0.7500\n",
      "Epoch 29/30\n",
      "84/84 [==============================] - 64s 767ms/step - loss: 0.6191 - accuracy: 0.8807 - val_loss: 0.7523 - val_accuracy: 0.7500\n",
      "Epoch 30/30\n",
      "84/84 [==============================] - 65s 768ms/step - loss: 0.6256 - accuracy: 0.8738 - val_loss: 0.7697 - val_accuracy: 0.7500\n",
      "INFO:tensorflow:Assets written to: ../xception/xception_30epochs_4174.2 images/assets\n",
      "Test acc for xception: 0.742769\n",
      "Done!\n",
      "--------------------------------------------------\n",
      "\n",
      "Training resnet for 0.05% of train size (aka 4174 images)...\n"
     ]
    },
    {
     "name": "stderr",
     "output_type": "stream",
     "text": [
      "<ipython-input-8-797fd00c81c1>:20: UserWarning: Matplotlib is currently using module://ipykernel.pylab.backend_inline, which is a non-GUI backend, so cannot show the figure.\n",
      "  self.fig.show()\n"
     ]
    },
    {
     "name": "stdout",
     "output_type": "stream",
     "text": [
      "Epoch 1/30\n",
      " 6/84 [=>............................] - ETA: 58s - loss: 1.3795 - accuracy: 0.2744 WARNING:tensorflow:Callback method `on_train_batch_begin` is slow compared to the batch time (batch time: 0.1049s vs `on_train_batch_begin` time: 0.1779s). Check your callbacks.\n",
      "WARNING:tensorflow:Callback method `on_train_batch_end` is slow compared to the batch time (batch time: 0.1049s vs `on_train_batch_end` time: 0.3687s). Check your callbacks.\n",
      "84/84 [==============================] - 30s 258ms/step - loss: 1.3498 - accuracy: 0.4185 - val_loss: 1.4020 - val_accuracy: 0.2500\n"
     ]
    },
    {
     "name": "stderr",
     "output_type": "stream",
     "text": [
      "<ipython-input-8-797fd00c81c1>:48: UserWarning: Matplotlib is currently using module://ipykernel.pylab.backend_inline, which is a non-GUI backend, so cannot show the figure.\n",
      "  self.fig.show()\n"
     ]
    },
    {
     "name": "stdout",
     "output_type": "stream",
     "text": [
      "Epoch 2/30\n",
      "84/84 [==============================] - 17s 197ms/step - loss: 1.2994 - accuracy: 0.4448 - val_loss: 1.4226 - val_accuracy: 0.2500\n",
      "Epoch 3/30\n",
      "84/84 [==============================] - 17s 198ms/step - loss: 1.2684 - accuracy: 0.4545 - val_loss: 1.4428 - val_accuracy: 0.2500\n",
      "Epoch 4/30\n",
      "84/84 [==============================] - 17s 199ms/step - loss: 1.2610 - accuracy: 0.4434 - val_loss: 1.4602 - val_accuracy: 0.2500\n",
      "Epoch 5/30\n",
      "84/84 [==============================] - 17s 199ms/step - loss: 1.2552 - accuracy: 0.4408 - val_loss: 1.4757 - val_accuracy: 0.2500\n",
      "Epoch 6/30\n",
      "84/84 [==============================] - 17s 199ms/step - loss: 1.2438 - accuracy: 0.4476 - val_loss: 1.4881 - val_accuracy: 0.2500\n",
      "Epoch 7/30\n",
      "84/84 [==============================] - 17s 199ms/step - loss: 1.2463 - accuracy: 0.4405 - val_loss: 1.4971 - val_accuracy: 0.2500\n",
      "Epoch 8/30\n",
      "84/84 [==============================] - 17s 199ms/step - loss: 1.2363 - accuracy: 0.4505 - val_loss: 1.5053 - val_accuracy: 0.2500\n",
      "Epoch 9/30\n",
      "84/84 [==============================] - 17s 199ms/step - loss: 1.2339 - accuracy: 0.4548 - val_loss: 1.5118 - val_accuracy: 0.2500\n",
      "Epoch 10/30\n",
      "84/84 [==============================] - 17s 199ms/step - loss: 1.2431 - accuracy: 0.4359 - val_loss: 1.5161 - val_accuracy: 0.2500\n",
      "Epoch 11/30\n",
      "84/84 [==============================] - 17s 199ms/step - loss: 1.2321 - accuracy: 0.4483 - val_loss: 1.5207 - val_accuracy: 0.2500\n",
      "Epoch 12/30\n",
      "84/84 [==============================] - 17s 200ms/step - loss: 1.2371 - accuracy: 0.4453 - val_loss: 1.5238 - val_accuracy: 0.2500\n",
      "Epoch 13/30\n",
      "84/84 [==============================] - 17s 200ms/step - loss: 1.2435 - accuracy: 0.4314 - val_loss: 1.5261 - val_accuracy: 0.2500\n",
      "Epoch 14/30\n",
      "84/84 [==============================] - 17s 200ms/step - loss: 1.2344 - accuracy: 0.4523 - val_loss: 1.5287 - val_accuracy: 0.2500\n",
      "Epoch 15/30\n",
      "84/84 [==============================] - 17s 199ms/step - loss: 1.2232 - accuracy: 0.4546 - val_loss: 1.5304 - val_accuracy: 0.2500\n",
      "Epoch 16/30\n",
      "84/84 [==============================] - 17s 199ms/step - loss: 1.2474 - accuracy: 0.4387 - val_loss: 1.5320 - val_accuracy: 0.2500\n",
      "Epoch 17/30\n",
      "84/84 [==============================] - 17s 199ms/step - loss: 1.2405 - accuracy: 0.4433 - val_loss: 1.5333 - val_accuracy: 0.2500\n",
      "Epoch 18/30\n",
      "84/84 [==============================] - 17s 199ms/step - loss: 1.2404 - accuracy: 0.4388 - val_loss: 1.5344 - val_accuracy: 0.2500\n",
      "Epoch 19/30\n",
      "84/84 [==============================] - 17s 199ms/step - loss: 1.2420 - accuracy: 0.4437 - val_loss: 1.5352 - val_accuracy: 0.2500\n",
      "Epoch 20/30\n",
      "84/84 [==============================] - 17s 200ms/step - loss: 1.2376 - accuracy: 0.4439 - val_loss: 1.5364 - val_accuracy: 0.2500\n",
      "Epoch 21/30\n",
      "84/84 [==============================] - 17s 200ms/step - loss: 1.2348 - accuracy: 0.4570 - val_loss: 1.5369 - val_accuracy: 0.2500\n",
      "Epoch 22/30\n",
      "84/84 [==============================] - 17s 199ms/step - loss: 1.2277 - accuracy: 0.4540 - val_loss: 1.5375 - val_accuracy: 0.2500\n",
      "Epoch 23/30\n",
      "84/84 [==============================] - 17s 199ms/step - loss: 1.2371 - accuracy: 0.4430 - val_loss: 1.5381 - val_accuracy: 0.2500\n",
      "Epoch 24/30\n",
      "84/84 [==============================] - 17s 199ms/step - loss: 1.2380 - accuracy: 0.4511 - val_loss: 1.5384 - val_accuracy: 0.2500\n",
      "Epoch 25/30\n",
      "84/84 [==============================] - 17s 199ms/step - loss: 1.2259 - accuracy: 0.4536 - val_loss: 1.5389 - val_accuracy: 0.2500\n",
      "Epoch 26/30\n",
      "84/84 [==============================] - 17s 199ms/step - loss: 1.2402 - accuracy: 0.4419 - val_loss: 1.5391 - val_accuracy: 0.2500\n",
      "Epoch 27/30\n",
      "84/84 [==============================] - 17s 199ms/step - loss: 1.2412 - accuracy: 0.4480 - val_loss: 1.5395 - val_accuracy: 0.2500\n",
      "Epoch 28/30\n",
      "84/84 [==============================] - 17s 200ms/step - loss: 1.2381 - accuracy: 0.4315 - val_loss: 1.5397 - val_accuracy: 0.2500\n",
      "Epoch 29/30\n",
      "84/84 [==============================] - 17s 200ms/step - loss: 1.2404 - accuracy: 0.4380 - val_loss: 1.5400 - val_accuracy: 0.2500\n",
      "Epoch 30/30\n",
      "84/84 [==============================] - 17s 200ms/step - loss: 1.2321 - accuracy: 0.4610 - val_loss: 1.5402 - val_accuracy: 0.2500\n",
      "INFO:tensorflow:Assets written to: ../resnet/resnet_30epochs_4174.2 images/assets\n",
      "Test acc for resnet: 0.250000\n",
      "Done!\n",
      "--------------------------------------------------\n",
      "\n",
      "Training opticnet for 0.05% of train size (aka 4174 images)...\n"
     ]
    },
    {
     "name": "stderr",
     "output_type": "stream",
     "text": [
      "<ipython-input-8-797fd00c81c1>:20: UserWarning: Matplotlib is currently using module://ipykernel.pylab.backend_inline, which is a non-GUI backend, so cannot show the figure.\n",
      "  self.fig.show()\n"
     ]
    },
    {
     "name": "stdout",
     "output_type": "stream",
     "text": [
      "Epoch 1/30\n",
      " 6/84 [=>............................] - ETA: 2:26 - loss: 16.4530 - accuracy: 0.2868WARNING:tensorflow:Callback method `on_train_batch_end` is slow compared to the batch time (batch time: 0.4679s vs `on_train_batch_end` time: 1.0769s). Check your callbacks.\n",
      "84/84 [==============================] - 118s 1s/step - loss: 8.3875 - accuracy: 0.3467 - val_loss: 1.9013 - val_accuracy: 0.2500\n"
     ]
    },
    {
     "name": "stderr",
     "output_type": "stream",
     "text": [
      "<ipython-input-8-797fd00c81c1>:48: UserWarning: Matplotlib is currently using module://ipykernel.pylab.backend_inline, which is a non-GUI backend, so cannot show the figure.\n",
      "  self.fig.show()\n"
     ]
    },
    {
     "name": "stdout",
     "output_type": "stream",
     "text": [
      "Epoch 2/30\n",
      "84/84 [==============================] - 99s 1s/step - loss: 1.4436 - accuracy: 0.4188 - val_loss: 1.5444 - val_accuracy: 0.3125\n",
      "Epoch 3/30\n",
      "84/84 [==============================] - 99s 1s/step - loss: 1.0382 - accuracy: 0.6474 - val_loss: 2.9092 - val_accuracy: 0.2500\n",
      "Epoch 4/30\n",
      "84/84 [==============================] - 99s 1s/step - loss: 0.8530 - accuracy: 0.6945 - val_loss: 1.0737 - val_accuracy: 0.4375\n",
      "Epoch 5/30\n",
      "84/84 [==============================] - 99s 1s/step - loss: 0.7796 - accuracy: 0.7159 - val_loss: 1.4615 - val_accuracy: 0.4688\n",
      "Epoch 6/30\n",
      "84/84 [==============================] - 99s 1s/step - loss: 0.7402 - accuracy: 0.7319 - val_loss: 1.1514 - val_accuracy: 0.5312\n",
      "Epoch 7/30\n",
      "84/84 [==============================] - 99s 1s/step - loss: 0.6306 - accuracy: 0.7633 - val_loss: 1.1822 - val_accuracy: 0.4688\n",
      "Epoch 8/30\n",
      "84/84 [==============================] - 99s 1s/step - loss: 0.5545 - accuracy: 0.7882 - val_loss: 0.8649 - val_accuracy: 0.5000\n",
      "Epoch 9/30\n",
      "84/84 [==============================] - 99s 1s/step - loss: 0.4153 - accuracy: 0.8498 - val_loss: 1.0910 - val_accuracy: 0.6250\n",
      "Epoch 10/30\n",
      "84/84 [==============================] - 99s 1s/step - loss: 0.3788 - accuracy: 0.8569 - val_loss: 0.6265 - val_accuracy: 0.7812\n",
      "Epoch 11/30\n",
      "84/84 [==============================] - 99s 1s/step - loss: 0.3045 - accuracy: 0.8865 - val_loss: 0.6365 - val_accuracy: 0.7188\n",
      "Epoch 12/30\n",
      "84/84 [==============================] - 99s 1s/step - loss: 0.2356 - accuracy: 0.9121 - val_loss: 0.7692 - val_accuracy: 0.7188\n",
      "Epoch 13/30\n",
      "84/84 [==============================] - 99s 1s/step - loss: 0.2183 - accuracy: 0.9301 - val_loss: 1.0910 - val_accuracy: 0.6562\n",
      "Epoch 14/30\n",
      "84/84 [==============================] - 99s 1s/step - loss: 0.1862 - accuracy: 0.9266 - val_loss: 0.3638 - val_accuracy: 0.8750\n",
      "Epoch 15/30\n",
      "84/84 [==============================] - 99s 1s/step - loss: 0.1476 - accuracy: 0.9470 - val_loss: 0.1726 - val_accuracy: 0.9375\n",
      "Epoch 16/30\n",
      "84/84 [==============================] - 99s 1s/step - loss: 0.0711 - accuracy: 0.9767 - val_loss: 0.6183 - val_accuracy: 0.9062\n",
      "Epoch 17/30\n",
      "84/84 [==============================] - 99s 1s/step - loss: 0.0608 - accuracy: 0.9797 - val_loss: 0.5858 - val_accuracy: 0.8125\n",
      "Epoch 18/30\n",
      "84/84 [==============================] - 99s 1s/step - loss: 0.0693 - accuracy: 0.9759 - val_loss: 0.9017 - val_accuracy: 0.9062\n",
      "Epoch 19/30\n",
      "84/84 [==============================] - 99s 1s/step - loss: 0.0404 - accuracy: 0.9846 - val_loss: 0.4527 - val_accuracy: 0.9688\n",
      "Epoch 20/30\n",
      "84/84 [==============================] - 99s 1s/step - loss: 0.0241 - accuracy: 0.9922 - val_loss: 0.5742 - val_accuracy: 0.9375\n",
      "Epoch 21/30\n",
      "84/84 [==============================] - 99s 1s/step - loss: 0.0223 - accuracy: 0.9931 - val_loss: 0.3913 - val_accuracy: 0.9062\n",
      "Epoch 22/30\n",
      "84/84 [==============================] - 99s 1s/step - loss: 0.0047 - accuracy: 0.9996 - val_loss: 0.5858 - val_accuracy: 0.9375\n",
      "Epoch 23/30\n",
      "84/84 [==============================] - 99s 1s/step - loss: 0.0050 - accuracy: 0.9993 - val_loss: 0.5226 - val_accuracy: 0.9375\n",
      "Epoch 24/30\n",
      "84/84 [==============================] - 99s 1s/step - loss: 0.0096 - accuracy: 0.9978 - val_loss: 0.2882 - val_accuracy: 0.9688\n",
      "Epoch 25/30\n",
      "84/84 [==============================] - 99s 1s/step - loss: 0.0038 - accuracy: 0.9990 - val_loss: 0.4288 - val_accuracy: 0.9375\n",
      "Epoch 26/30\n",
      "84/84 [==============================] - 99s 1s/step - loss: 0.0026 - accuracy: 1.0000 - val_loss: 0.3724 - val_accuracy: 0.9688\n",
      "Epoch 27/30\n",
      "84/84 [==============================] - 99s 1s/step - loss: 0.0034 - accuracy: 0.9996 - val_loss: 0.2878 - val_accuracy: 0.9688\n",
      "Epoch 28/30\n",
      "84/84 [==============================] - 99s 1s/step - loss: 0.0035 - accuracy: 0.9993 - val_loss: 0.2227 - val_accuracy: 0.9688\n",
      "Epoch 29/30\n",
      "84/84 [==============================] - 99s 1s/step - loss: 0.0028 - accuracy: 0.9990 - val_loss: 0.3868 - val_accuracy: 0.9688\n",
      "Epoch 30/30\n",
      "84/84 [==============================] - 99s 1s/step - loss: 0.0019 - accuracy: 0.9999 - val_loss: 0.4129 - val_accuracy: 0.9688\n",
      "INFO:tensorflow:Assets written to: ../opticnet/opticnet_30epochs_4174.2 images/assets\n",
      "Test acc for opticnet: 0.921488\n",
      "Done!\n",
      "--------------------------------------------------\n",
      "\n",
      "Labels fraction: [0.07474824 0.07533934 0.07472682 0.0746286 ]\n",
      "Training xception for 0.075% of train size (aka 6261 images)...\n"
     ]
    },
    {
     "name": "stderr",
     "output_type": "stream",
     "text": [
      "<ipython-input-8-797fd00c81c1>:20: UserWarning: Matplotlib is currently using module://ipykernel.pylab.backend_inline, which is a non-GUI backend, so cannot show the figure.\n",
      "  self.fig.show()\n"
     ]
    },
    {
     "name": "stdout",
     "output_type": "stream",
     "text": [
      "Epoch 1/30\n",
      "  6/126 [>.............................] - ETA: 2:37 - loss: 1.3823 - accuracy: 0.2674WARNING:tensorflow:Callback method `on_train_batch_begin` is slow compared to the batch time (batch time: 0.1631s vs `on_train_batch_begin` time: 0.1968s). Check your callbacks.\n",
      "WARNING:tensorflow:Callback method `on_train_batch_end` is slow compared to the batch time (batch time: 0.1631s vs `on_train_batch_end` time: 0.8525s). Check your callbacks.\n",
      "126/126 [==============================] - 108s 816ms/step - loss: 1.3179 - accuracy: 0.5867 - val_loss: 1.3935 - val_accuracy: 0.2812\n"
     ]
    },
    {
     "name": "stderr",
     "output_type": "stream",
     "text": [
      "<ipython-input-8-797fd00c81c1>:48: UserWarning: Matplotlib is currently using module://ipykernel.pylab.backend_inline, which is a non-GUI backend, so cannot show the figure.\n",
      "  self.fig.show()\n"
     ]
    },
    {
     "name": "stdout",
     "output_type": "stream",
     "text": [
      "Epoch 2/30\n",
      "126/126 [==============================] - 97s 772ms/step - loss: 1.1713 - accuracy: 0.7110 - val_loss: 1.4445 - val_accuracy: 0.2500\n",
      "Epoch 3/30\n",
      "126/126 [==============================] - 97s 772ms/step - loss: 1.0658 - accuracy: 0.7448 - val_loss: 1.3423 - val_accuracy: 0.4375\n",
      "Epoch 4/30\n",
      "126/126 [==============================] - 97s 768ms/step - loss: 1.0049 - accuracy: 0.7384 - val_loss: 1.2763 - val_accuracy: 0.5000\n",
      "Epoch 5/30\n",
      "126/126 [==============================] - 97s 768ms/step - loss: 0.9482 - accuracy: 0.7409 - val_loss: 1.2846 - val_accuracy: 0.5000\n",
      "Epoch 6/30\n",
      "126/126 [==============================] - 97s 766ms/step - loss: 0.8880 - accuracy: 0.7720 - val_loss: 1.3163 - val_accuracy: 0.5000\n",
      "Epoch 7/30\n",
      "126/126 [==============================] - 97s 769ms/step - loss: 0.8582 - accuracy: 0.7998 - val_loss: 1.3270 - val_accuracy: 0.3438\n",
      "Epoch 8/30\n",
      "126/126 [==============================] - 97s 769ms/step - loss: 0.8262 - accuracy: 0.8039 - val_loss: 1.2240 - val_accuracy: 0.5938\n",
      "Epoch 9/30\n",
      "126/126 [==============================] - 97s 770ms/step - loss: 0.7762 - accuracy: 0.8278 - val_loss: 1.1432 - val_accuracy: 0.6250\n",
      "Epoch 10/30\n",
      "126/126 [==============================] - 97s 770ms/step - loss: 0.7352 - accuracy: 0.8361 - val_loss: 1.3044 - val_accuracy: 0.5625\n",
      "Epoch 11/30\n",
      "126/126 [==============================] - 97s 769ms/step - loss: 0.7413 - accuracy: 0.8272 - val_loss: 1.1630 - val_accuracy: 0.4688\n",
      "Epoch 12/30\n",
      "126/126 [==============================] - 97s 771ms/step - loss: 0.6999 - accuracy: 0.8306 - val_loss: 1.1121 - val_accuracy: 0.6250\n",
      "Epoch 13/30\n",
      "126/126 [==============================] - 99s 783ms/step - loss: 0.6836 - accuracy: 0.8347 - val_loss: 0.8532 - val_accuracy: 0.7500\n",
      "Epoch 14/30\n",
      "126/126 [==============================] - 97s 772ms/step - loss: 0.6747 - accuracy: 0.8337 - val_loss: 1.1647 - val_accuracy: 0.6250\n",
      "Epoch 15/30\n",
      "126/126 [==============================] - 97s 774ms/step - loss: 0.6467 - accuracy: 0.8489 - val_loss: 1.0736 - val_accuracy: 0.6875\n",
      "Epoch 16/30\n",
      "126/126 [==============================] - 97s 772ms/step - loss: 0.6228 - accuracy: 0.8561 - val_loss: 0.7899 - val_accuracy: 0.7500\n",
      "Epoch 17/30\n",
      "126/126 [==============================] - 98s 780ms/step - loss: 0.6082 - accuracy: 0.8543 - val_loss: 0.8413 - val_accuracy: 0.7500\n",
      "Epoch 18/30\n",
      "126/126 [==============================] - 98s 780ms/step - loss: 0.6004 - accuracy: 0.8554 - val_loss: 0.7944 - val_accuracy: 0.7500\n",
      "Epoch 19/30\n",
      "126/126 [==============================] - 100s 792ms/step - loss: 0.5884 - accuracy: 0.8610 - val_loss: 0.8891 - val_accuracy: 0.7188\n",
      "Epoch 20/30\n",
      "126/126 [==============================] - 99s 789ms/step - loss: 0.5975 - accuracy: 0.8565 - val_loss: 0.7385 - val_accuracy: 0.7500\n",
      "Epoch 21/30\n",
      "126/126 [==============================] - 98s 781ms/step - loss: 0.5441 - accuracy: 0.8760 - val_loss: 0.7333 - val_accuracy: 0.7500\n",
      "Epoch 22/30\n",
      "126/126 [==============================] - 98s 781ms/step - loss: 0.5560 - accuracy: 0.8675 - val_loss: 0.7260 - val_accuracy: 0.7500\n",
      "Epoch 23/30\n",
      "126/126 [==============================] - 97s 773ms/step - loss: 0.5492 - accuracy: 0.8679 - val_loss: 0.7229 - val_accuracy: 0.7500\n",
      "Epoch 24/30\n",
      "126/126 [==============================] - 97s 772ms/step - loss: 0.5236 - accuracy: 0.8773 - val_loss: 0.7421 - val_accuracy: 0.7500\n",
      "Epoch 25/30\n",
      "126/126 [==============================] - 98s 778ms/step - loss: 0.5291 - accuracy: 0.8734 - val_loss: 0.7140 - val_accuracy: 0.7500\n",
      "Epoch 26/30\n",
      "126/126 [==============================] - 97s 773ms/step - loss: 0.5225 - accuracy: 0.8755 - val_loss: 0.7076 - val_accuracy: 0.7500\n",
      "Epoch 27/30\n",
      "126/126 [==============================] - 98s 779ms/step - loss: 0.5066 - accuracy: 0.8802 - val_loss: 0.7138 - val_accuracy: 0.7500\n",
      "Epoch 28/30\n",
      "126/126 [==============================] - 98s 776ms/step - loss: 0.5089 - accuracy: 0.8803 - val_loss: 0.7019 - val_accuracy: 0.7500\n",
      "Epoch 29/30\n",
      "126/126 [==============================] - 98s 777ms/step - loss: 0.5099 - accuracy: 0.8761 - val_loss: 0.7363 - val_accuracy: 0.7500\n",
      "Epoch 30/30\n",
      "126/126 [==============================] - 97s 772ms/step - loss: 0.5017 - accuracy: 0.8833 - val_loss: 0.6985 - val_accuracy: 0.7500\n",
      "INFO:tensorflow:Assets written to: ../xception/xception_30epochs_6261.3 images/assets\n",
      "Test acc for xception: 0.739669\n",
      "Done!\n",
      "--------------------------------------------------\n",
      "\n",
      "Training resnet for 0.075% of train size (aka 6261 images)...\n"
     ]
    },
    {
     "name": "stderr",
     "output_type": "stream",
     "text": [
      "<ipython-input-8-797fd00c81c1>:20: UserWarning: Matplotlib is currently using module://ipykernel.pylab.backend_inline, which is a non-GUI backend, so cannot show the figure.\n",
      "  self.fig.show()\n"
     ]
    },
    {
     "name": "stdout",
     "output_type": "stream",
     "text": [
      "Epoch 1/30\n",
      "  6/126 [>.............................] - ETA: 1:28 - loss: 1.3780 - accuracy: 0.4898WARNING:tensorflow:Callback method `on_train_batch_begin` is slow compared to the batch time (batch time: 0.1031s vs `on_train_batch_begin` time: 0.1937s). Check your callbacks.\n",
      "WARNING:tensorflow:Callback method `on_train_batch_end` is slow compared to the batch time (batch time: 0.1031s vs `on_train_batch_end` time: 0.3434s). Check your callbacks.\n",
      "126/126 [==============================] - 36s 234ms/step - loss: 1.3282 - accuracy: 0.5668 - val_loss: 1.4076 - val_accuracy: 0.2500\n"
     ]
    },
    {
     "name": "stderr",
     "output_type": "stream",
     "text": [
      "<ipython-input-8-797fd00c81c1>:48: UserWarning: Matplotlib is currently using module://ipykernel.pylab.backend_inline, which is a non-GUI backend, so cannot show the figure.\n",
      "  self.fig.show()\n"
     ]
    },
    {
     "name": "stdout",
     "output_type": "stream",
     "text": [
      "Epoch 2/30\n",
      "126/126 [==============================] - 25s 197ms/step - loss: 1.2107 - accuracy: 0.6832 - val_loss: 1.4522 - val_accuracy: 0.2500\n",
      "Epoch 3/30\n",
      "126/126 [==============================] - 25s 197ms/step - loss: 1.1310 - accuracy: 0.7021 - val_loss: 1.4212 - val_accuracy: 0.3125\n",
      "Epoch 4/30\n",
      "126/126 [==============================] - 25s 198ms/step - loss: 1.0564 - accuracy: 0.7321 - val_loss: 1.3283 - val_accuracy: 0.5000\n",
      "Epoch 5/30\n",
      "126/126 [==============================] - 25s 198ms/step - loss: 1.0109 - accuracy: 0.7268 - val_loss: 1.3431 - val_accuracy: 0.5000\n",
      "Epoch 6/30\n",
      "126/126 [==============================] - 25s 198ms/step - loss: 0.9833 - accuracy: 0.7230 - val_loss: 1.2796 - val_accuracy: 0.5000\n",
      "Epoch 7/30\n",
      "126/126 [==============================] - 25s 199ms/step - loss: 0.9334 - accuracy: 0.7349 - val_loss: 1.2492 - val_accuracy: 0.5000\n",
      "Epoch 8/30\n",
      "126/126 [==============================] - 25s 198ms/step - loss: 0.9178 - accuracy: 0.7326 - val_loss: 1.5182 - val_accuracy: 0.3750\n",
      "Epoch 9/30\n",
      "126/126 [==============================] - 25s 198ms/step - loss: 0.8946 - accuracy: 0.7316 - val_loss: 1.6750 - val_accuracy: 0.2500\n",
      "Epoch 10/30\n",
      "126/126 [==============================] - 25s 198ms/step - loss: 0.8682 - accuracy: 0.7368 - val_loss: 1.6021 - val_accuracy: 0.2500\n",
      "Epoch 11/30\n",
      "126/126 [==============================] - 25s 199ms/step - loss: 0.8592 - accuracy: 0.7406 - val_loss: 1.2696 - val_accuracy: 0.5000\n",
      "Epoch 12/30\n",
      "126/126 [==============================] - 25s 198ms/step - loss: 0.8450 - accuracy: 0.7286 - val_loss: 1.1536 - val_accuracy: 0.5000\n",
      "Epoch 13/30\n",
      "126/126 [==============================] - 25s 199ms/step - loss: 0.8391 - accuracy: 0.7265 - val_loss: 1.1611 - val_accuracy: 0.5000\n",
      "Epoch 14/30\n",
      "126/126 [==============================] - 25s 198ms/step - loss: 0.8205 - accuracy: 0.7193 - val_loss: 1.0820 - val_accuracy: 0.5000\n",
      "Epoch 15/30\n",
      "126/126 [==============================] - 25s 198ms/step - loss: 0.8005 - accuracy: 0.7341 - val_loss: 1.1448 - val_accuracy: 0.5000\n",
      "Epoch 16/30\n",
      "126/126 [==============================] - 25s 198ms/step - loss: 0.7860 - accuracy: 0.7273 - val_loss: 1.1745 - val_accuracy: 0.5000\n",
      "Epoch 17/30\n",
      "126/126 [==============================] - 25s 198ms/step - loss: 0.7601 - accuracy: 0.7406 - val_loss: 1.1311 - val_accuracy: 0.5000\n",
      "Epoch 18/30\n",
      "126/126 [==============================] - 25s 198ms/step - loss: 0.7603 - accuracy: 0.7797 - val_loss: 1.4713 - val_accuracy: 0.4375\n",
      "Epoch 19/30\n",
      "126/126 [==============================] - 25s 198ms/step - loss: 0.7328 - accuracy: 0.8013 - val_loss: 1.0648 - val_accuracy: 0.6562\n",
      "Epoch 20/30\n",
      "126/126 [==============================] - 25s 198ms/step - loss: 0.7391 - accuracy: 0.8004 - val_loss: 1.0467 - val_accuracy: 0.6562\n",
      "Epoch 21/30\n",
      "126/126 [==============================] - 25s 199ms/step - loss: 0.7367 - accuracy: 0.8021 - val_loss: 1.0531 - val_accuracy: 0.6562\n",
      "Epoch 22/30\n",
      "126/126 [==============================] - 25s 199ms/step - loss: 0.7262 - accuracy: 0.7966 - val_loss: 1.1122 - val_accuracy: 0.6562\n",
      "Epoch 23/30\n",
      "126/126 [==============================] - 25s 198ms/step - loss: 0.7096 - accuracy: 0.8140 - val_loss: 0.9615 - val_accuracy: 0.7188\n",
      "Epoch 24/30\n",
      "126/126 [==============================] - 25s 198ms/step - loss: 0.7095 - accuracy: 0.8125 - val_loss: 1.0730 - val_accuracy: 0.6562\n",
      "Epoch 25/30\n",
      "126/126 [==============================] - 25s 198ms/step - loss: 0.6992 - accuracy: 0.8096 - val_loss: 1.0026 - val_accuracy: 0.7188\n",
      "Epoch 26/30\n",
      "126/126 [==============================] - 25s 198ms/step - loss: 0.7052 - accuracy: 0.8146 - val_loss: 0.9789 - val_accuracy: 0.7188\n",
      "Epoch 27/30\n",
      "126/126 [==============================] - 25s 198ms/step - loss: 0.6921 - accuracy: 0.8166 - val_loss: 1.0478 - val_accuracy: 0.6875\n",
      "Epoch 28/30\n",
      "126/126 [==============================] - 25s 198ms/step - loss: 0.6828 - accuracy: 0.8288 - val_loss: 0.9928 - val_accuracy: 0.7188\n",
      "Epoch 29/30\n",
      "126/126 [==============================] - 25s 198ms/step - loss: 0.6789 - accuracy: 0.8203 - val_loss: 0.9937 - val_accuracy: 0.7188\n",
      "Epoch 30/30\n",
      "126/126 [==============================] - 25s 198ms/step - loss: 0.6873 - accuracy: 0.8123 - val_loss: 0.9780 - val_accuracy: 0.7188\n",
      "INFO:tensorflow:Assets written to: ../resnet/resnet_30epochs_6261.3 images/assets\n",
      "Test acc for resnet: 0.703512\n",
      "Done!\n",
      "--------------------------------------------------\n",
      "\n",
      "Training opticnet for 0.075% of train size (aka 6261 images)...\n"
     ]
    },
    {
     "name": "stderr",
     "output_type": "stream",
     "text": [
      "<ipython-input-8-797fd00c81c1>:20: UserWarning: Matplotlib is currently using module://ipykernel.pylab.backend_inline, which is a non-GUI backend, so cannot show the figure.\n",
      "  self.fig.show()\n"
     ]
    },
    {
     "name": "stdout",
     "output_type": "stream",
     "text": [
      "Epoch 1/30\n",
      "  6/126 [>.............................] - ETA: 3:45 - loss: 19.0765 - accuracy: 0.3306WARNING:tensorflow:Callback method `on_train_batch_end` is slow compared to the batch time (batch time: 0.4692s vs `on_train_batch_end` time: 1.0938s). Check your callbacks.\n",
      "126/126 [==============================] - 168s 1s/step - loss: 6.9772 - accuracy: 0.3824 - val_loss: 1.7494 - val_accuracy: 0.2500\n"
     ]
    },
    {
     "name": "stderr",
     "output_type": "stream",
     "text": [
      "<ipython-input-8-797fd00c81c1>:48: UserWarning: Matplotlib is currently using module://ipykernel.pylab.backend_inline, which is a non-GUI backend, so cannot show the figure.\n",
      "  self.fig.show()\n"
     ]
    },
    {
     "name": "stdout",
     "output_type": "stream",
     "text": [
      "Epoch 2/30\n",
      "126/126 [==============================] - 148s 1s/step - loss: 1.0206 - accuracy: 0.6212 - val_loss: 3.0735 - val_accuracy: 0.2500\n",
      "Epoch 3/30\n",
      "126/126 [==============================] - 148s 1s/step - loss: 0.7750 - accuracy: 0.7167 - val_loss: 0.8751 - val_accuracy: 0.6250\n",
      "Epoch 4/30\n",
      "126/126 [==============================] - 148s 1s/step - loss: 0.6147 - accuracy: 0.7794 - val_loss: 2.3057 - val_accuracy: 0.3438\n",
      "Epoch 5/30\n",
      "126/126 [==============================] - 148s 1s/step - loss: 0.4955 - accuracy: 0.8163 - val_loss: 1.1238 - val_accuracy: 0.6250\n",
      "Epoch 6/30\n",
      "126/126 [==============================] - 148s 1s/step - loss: 0.3631 - accuracy: 0.8760 - val_loss: 2.2427 - val_accuracy: 0.3750\n",
      "Epoch 7/30\n",
      "126/126 [==============================] - 148s 1s/step - loss: 0.3160 - accuracy: 0.8887 - val_loss: 0.7695 - val_accuracy: 0.6875\n",
      "Epoch 8/30\n",
      "126/126 [==============================] - 148s 1s/step - loss: 0.2761 - accuracy: 0.9010 - val_loss: 0.2131 - val_accuracy: 0.9375\n",
      "Epoch 9/30\n",
      "126/126 [==============================] - 148s 1s/step - loss: 0.2314 - accuracy: 0.9140 - val_loss: 0.0979 - val_accuracy: 0.9688\n",
      "Epoch 10/30\n",
      "126/126 [==============================] - 148s 1s/step - loss: 0.2124 - accuracy: 0.9208 - val_loss: 0.3737 - val_accuracy: 0.9062\n",
      "Epoch 11/30\n",
      "126/126 [==============================] - 148s 1s/step - loss: 0.1375 - accuracy: 0.9533 - val_loss: 0.1869 - val_accuracy: 0.9062\n",
      "Epoch 12/30\n",
      "126/126 [==============================] - 148s 1s/step - loss: 0.1074 - accuracy: 0.9607 - val_loss: 0.1406 - val_accuracy: 0.9375\n",
      "Epoch 13/30\n",
      "126/126 [==============================] - 148s 1s/step - loss: 0.0941 - accuracy: 0.9660 - val_loss: 0.8031 - val_accuracy: 0.7812\n",
      "Epoch 14/30\n",
      "126/126 [==============================] - 148s 1s/step - loss: 0.0797 - accuracy: 0.9715 - val_loss: 0.0455 - val_accuracy: 1.0000\n",
      "Epoch 15/30\n",
      "126/126 [==============================] - 148s 1s/step - loss: 0.0514 - accuracy: 0.9815 - val_loss: 0.0711 - val_accuracy: 0.9688\n",
      "Epoch 16/30\n",
      "126/126 [==============================] - 148s 1s/step - loss: 0.0445 - accuracy: 0.9848 - val_loss: 0.0209 - val_accuracy: 1.0000\n",
      "Epoch 17/30\n",
      "126/126 [==============================] - 148s 1s/step - loss: 0.0264 - accuracy: 0.9895 - val_loss: 0.3973 - val_accuracy: 0.9062\n",
      "Epoch 18/30\n",
      "126/126 [==============================] - 148s 1s/step - loss: 0.0200 - accuracy: 0.9932 - val_loss: 0.0631 - val_accuracy: 0.9688\n",
      "Epoch 19/30\n",
      "126/126 [==============================] - 147s 1s/step - loss: 0.0104 - accuracy: 0.9962 - val_loss: 0.0273 - val_accuracy: 1.0000\n",
      "Epoch 20/30\n",
      "126/126 [==============================] - 148s 1s/step - loss: 0.0067 - accuracy: 0.9982 - val_loss: 0.3098 - val_accuracy: 0.9375\n",
      "Epoch 21/30\n",
      "126/126 [==============================] - 148s 1s/step - loss: 0.0058 - accuracy: 0.9982 - val_loss: 0.0053 - val_accuracy: 1.0000\n",
      "Epoch 22/30\n",
      "126/126 [==============================] - 148s 1s/step - loss: 0.0045 - accuracy: 0.9989 - val_loss: 0.0141 - val_accuracy: 1.0000\n",
      "Epoch 23/30\n",
      "126/126 [==============================] - 148s 1s/step - loss: 0.0019 - accuracy: 0.9997 - val_loss: 0.0399 - val_accuracy: 0.9688\n",
      "Epoch 24/30\n",
      "126/126 [==============================] - 148s 1s/step - loss: 0.0271 - accuracy: 0.9914 - val_loss: 0.1141 - val_accuracy: 0.9375\n",
      "Epoch 25/30\n",
      "126/126 [==============================] - 148s 1s/step - loss: 0.0076 - accuracy: 0.9972 - val_loss: 0.0426 - val_accuracy: 0.9688\n",
      "Epoch 26/30\n",
      "126/126 [==============================] - 148s 1s/step - loss: 0.0164 - accuracy: 0.9948 - val_loss: 0.0085 - val_accuracy: 1.0000\n",
      "Epoch 27/30\n",
      "126/126 [==============================] - 147s 1s/step - loss: 0.0027 - accuracy: 0.9995 - val_loss: 0.0051 - val_accuracy: 1.0000\n",
      "Epoch 28/30\n",
      "126/126 [==============================] - 148s 1s/step - loss: 0.0022 - accuracy: 0.9999 - val_loss: 0.0469 - val_accuracy: 0.9688\n",
      "Epoch 29/30\n",
      "126/126 [==============================] - 148s 1s/step - loss: 0.0039 - accuracy: 0.9986 - val_loss: 0.0035 - val_accuracy: 1.0000\n",
      "Epoch 30/30\n",
      "126/126 [==============================] - 148s 1s/step - loss: 0.0017 - accuracy: 0.9999 - val_loss: 0.0071 - val_accuracy: 1.0000\n",
      "INFO:tensorflow:Assets written to: ../opticnet/opticnet_30epochs_6261.3 images/assets\n",
      "Test acc for opticnet: 0.941116\n",
      "Done!\n",
      "--------------------------------------------------\n",
      "\n",
      "Labels fraction: [0.09029071 0.09041795 0.08909059 0.08844011]\n",
      "Training xception for 0.09% of train size (aka 7513 images)...\n"
     ]
    },
    {
     "name": "stderr",
     "output_type": "stream",
     "text": [
      "<ipython-input-8-797fd00c81c1>:20: UserWarning: Matplotlib is currently using module://ipykernel.pylab.backend_inline, which is a non-GUI backend, so cannot show the figure.\n",
      "  self.fig.show()\n"
     ]
    },
    {
     "name": "stdout",
     "output_type": "stream",
     "text": [
      "Epoch 1/30\n",
      "  6/151 [>.............................] - ETA: 3:12 - loss: 1.3835 - accuracy: 0.2623WARNING:tensorflow:Callback method `on_train_batch_begin` is slow compared to the batch time (batch time: 0.1621s vs `on_train_batch_begin` time: 0.1968s). Check your callbacks.\n",
      "WARNING:tensorflow:Callback method `on_train_batch_end` is slow compared to the batch time (batch time: 0.1621s vs `on_train_batch_end` time: 0.8635s). Check your callbacks.\n",
      "151/151 [==============================] - 126s 803ms/step - loss: 1.3092 - accuracy: 0.6260 - val_loss: 1.4015 - val_accuracy: 0.2500\n"
     ]
    },
    {
     "name": "stderr",
     "output_type": "stream",
     "text": [
      "<ipython-input-8-797fd00c81c1>:48: UserWarning: Matplotlib is currently using module://ipykernel.pylab.backend_inline, which is a non-GUI backend, so cannot show the figure.\n",
      "  self.fig.show()\n"
     ]
    },
    {
     "name": "stdout",
     "output_type": "stream",
     "text": [
      "Epoch 2/30\n",
      "151/151 [==============================] - 117s 774ms/step - loss: 1.1539 - accuracy: 0.7274 - val_loss: 1.4784 - val_accuracy: 0.2500\n",
      "Epoch 3/30\n",
      "151/151 [==============================] - 117s 776ms/step - loss: 1.0632 - accuracy: 0.7312 - val_loss: 1.3317 - val_accuracy: 0.5000\n",
      "Epoch 4/30\n",
      "151/151 [==============================] - 117s 777ms/step - loss: 0.9956 - accuracy: 0.7243 - val_loss: 1.3690 - val_accuracy: 0.4062\n",
      "Epoch 5/30\n",
      "151/151 [==============================] - 116s 771ms/step - loss: 0.9285 - accuracy: 0.7345 - val_loss: 1.2339 - val_accuracy: 0.5312\n",
      "Epoch 6/30\n",
      "151/151 [==============================] - 117s 772ms/step - loss: 0.8851 - accuracy: 0.7676 - val_loss: 1.3495 - val_accuracy: 0.4375\n",
      "Epoch 7/30\n",
      "151/151 [==============================] - 116s 771ms/step - loss: 0.8372 - accuracy: 0.7828 - val_loss: 1.0526 - val_accuracy: 0.6875\n",
      "Epoch 8/30\n",
      "151/151 [==============================] - 117s 777ms/step - loss: 0.8014 - accuracy: 0.7907 - val_loss: 1.0765 - val_accuracy: 0.6250\n",
      "Epoch 9/30\n",
      "151/151 [==============================] - 117s 776ms/step - loss: 0.7753 - accuracy: 0.8032 - val_loss: 1.0829 - val_accuracy: 0.6562\n",
      "Epoch 10/30\n",
      "151/151 [==============================] - 117s 773ms/step - loss: 0.7308 - accuracy: 0.8156 - val_loss: 1.2410 - val_accuracy: 0.5625\n",
      "Epoch 11/30\n",
      "151/151 [==============================] - 117s 771ms/step - loss: 0.7138 - accuracy: 0.8159 - val_loss: 1.0264 - val_accuracy: 0.6562\n",
      "Epoch 12/30\n",
      "151/151 [==============================] - 117s 772ms/step - loss: 0.6805 - accuracy: 0.8348 - val_loss: 0.8698 - val_accuracy: 0.7188\n",
      "Epoch 13/30\n",
      "151/151 [==============================] - 117s 772ms/step - loss: 0.6557 - accuracy: 0.8331 - val_loss: 1.1435 - val_accuracy: 0.6562\n",
      "Epoch 14/30\n",
      "151/151 [==============================] - 117s 772ms/step - loss: 0.6266 - accuracy: 0.8430 - val_loss: 1.2570 - val_accuracy: 0.5000\n",
      "Epoch 15/30\n",
      "151/151 [==============================] - 117s 775ms/step - loss: 0.6181 - accuracy: 0.8452 - val_loss: 0.9274 - val_accuracy: 0.7188\n",
      "Epoch 16/30\n",
      "151/151 [==============================] - 116s 771ms/step - loss: 0.5938 - accuracy: 0.8547 - val_loss: 0.9478 - val_accuracy: 0.6562\n",
      "Epoch 17/30\n",
      "151/151 [==============================] - 119s 787ms/step - loss: 0.5798 - accuracy: 0.8560 - val_loss: 0.9158 - val_accuracy: 0.6562\n",
      "Epoch 18/30\n",
      "151/151 [==============================] - 117s 774ms/step - loss: 0.5448 - accuracy: 0.8685 - val_loss: 0.7807 - val_accuracy: 0.7500\n",
      "Epoch 19/30\n",
      "151/151 [==============================] - 116s 770ms/step - loss: 0.5527 - accuracy: 0.8588 - val_loss: 0.7807 - val_accuracy: 0.7500\n",
      "Epoch 20/30\n",
      "151/151 [==============================] - 116s 770ms/step - loss: 0.5308 - accuracy: 0.8695 - val_loss: 0.7688 - val_accuracy: 0.7500\n",
      "Epoch 21/30\n",
      "151/151 [==============================] - 117s 773ms/step - loss: 0.5365 - accuracy: 0.8611 - val_loss: 0.7674 - val_accuracy: 0.7500\n",
      "Epoch 22/30\n",
      "151/151 [==============================] - 117s 775ms/step - loss: 0.5125 - accuracy: 0.8677 - val_loss: 0.7611 - val_accuracy: 0.7500\n",
      "Epoch 23/30\n",
      "151/151 [==============================] - 117s 772ms/step - loss: 0.5061 - accuracy: 0.8721 - val_loss: 0.8295 - val_accuracy: 0.7188\n",
      "Epoch 24/30\n",
      "151/151 [==============================] - 117s 772ms/step - loss: 0.5096 - accuracy: 0.8705 - val_loss: 0.7518 - val_accuracy: 0.7500\n",
      "Epoch 25/30\n",
      "151/151 [==============================] - 117s 775ms/step - loss: 0.4898 - accuracy: 0.8762 - val_loss: 0.7500 - val_accuracy: 0.7500\n",
      "Epoch 26/30\n",
      "151/151 [==============================] - 116s 769ms/step - loss: 0.4743 - accuracy: 0.8803 - val_loss: 0.7745 - val_accuracy: 0.7500\n",
      "Epoch 27/30\n",
      "151/151 [==============================] - 116s 771ms/step - loss: 0.4694 - accuracy: 0.8804 - val_loss: 0.7477 - val_accuracy: 0.7500\n",
      "Epoch 28/30\n",
      "151/151 [==============================] - 116s 771ms/step - loss: 0.4653 - accuracy: 0.8812 - val_loss: 0.7410 - val_accuracy: 0.7500\n",
      "Epoch 29/30\n",
      "151/151 [==============================] - 121s 800ms/step - loss: 0.4612 - accuracy: 0.8829 - val_loss: 0.7402 - val_accuracy: 0.7500\n",
      "Epoch 30/30\n",
      "151/151 [==============================] - 116s 771ms/step - loss: 0.4541 - accuracy: 0.8859 - val_loss: 0.7385 - val_accuracy: 0.7500\n",
      "INFO:tensorflow:Assets written to: ../xception/xception_30epochs_7513.5599999999995 images/assets\n",
      "Test acc for xception: 0.732438\n",
      "Done!\n",
      "--------------------------------------------------\n",
      "\n",
      "Training resnet for 0.09% of train size (aka 7513 images)...\n"
     ]
    },
    {
     "name": "stderr",
     "output_type": "stream",
     "text": [
      "<ipython-input-8-797fd00c81c1>:20: UserWarning: Matplotlib is currently using module://ipykernel.pylab.backend_inline, which is a non-GUI backend, so cannot show the figure.\n",
      "  self.fig.show()\n"
     ]
    },
    {
     "name": "stdout",
     "output_type": "stream",
     "text": [
      "Epoch 1/30\n",
      "  6/151 [>.............................] - ETA: 1:47 - loss: 1.3771 - accuracy: 0.4212WARNING:tensorflow:Callback method `on_train_batch_begin` is slow compared to the batch time (batch time: 0.1046s vs `on_train_batch_begin` time: 0.1828s). Check your callbacks.\n",
      "WARNING:tensorflow:Callback method `on_train_batch_end` is slow compared to the batch time (batch time: 0.1046s vs `on_train_batch_end` time: 0.3545s). Check your callbacks.\n",
      "151/151 [==============================] - 42s 229ms/step - loss: 1.3307 - accuracy: 0.4826 - val_loss: 1.4132 - val_accuracy: 0.2500\n"
     ]
    },
    {
     "name": "stderr",
     "output_type": "stream",
     "text": [
      "<ipython-input-8-797fd00c81c1>:48: UserWarning: Matplotlib is currently using module://ipykernel.pylab.backend_inline, which is a non-GUI backend, so cannot show the figure.\n",
      "  self.fig.show()\n"
     ]
    },
    {
     "name": "stdout",
     "output_type": "stream",
     "text": [
      "Epoch 2/30\n",
      "151/151 [==============================] - 30s 198ms/step - loss: 1.1901 - accuracy: 0.6876 - val_loss: 1.4769 - val_accuracy: 0.2500\n",
      "Epoch 3/30\n",
      "151/151 [==============================] - 30s 198ms/step - loss: 1.0950 - accuracy: 0.7113 - val_loss: 1.3935 - val_accuracy: 0.3750\n",
      "Epoch 4/30\n",
      "151/151 [==============================] - 30s 199ms/step - loss: 1.0306 - accuracy: 0.7166 - val_loss: 1.2939 - val_accuracy: 0.4688\n",
      "Epoch 5/30\n",
      "151/151 [==============================] - 30s 199ms/step - loss: 0.9802 - accuracy: 0.7281 - val_loss: 1.4434 - val_accuracy: 0.3438\n",
      "Epoch 6/30\n",
      "151/151 [==============================] - 30s 199ms/step - loss: 0.9544 - accuracy: 0.7187 - val_loss: 1.3142 - val_accuracy: 0.5000\n",
      "Epoch 7/30\n",
      "151/151 [==============================] - 30s 199ms/step - loss: 0.9121 - accuracy: 0.7274 - val_loss: 1.1972 - val_accuracy: 0.4375\n",
      "Epoch 8/30\n",
      "151/151 [==============================] - 30s 200ms/step - loss: 0.8832 - accuracy: 0.7284 - val_loss: 1.7642 - val_accuracy: 0.2500\n",
      "Epoch 9/30\n",
      "151/151 [==============================] - 30s 199ms/step - loss: 0.8759 - accuracy: 0.7199 - val_loss: 1.2131 - val_accuracy: 0.4688\n",
      "Epoch 10/30\n",
      "151/151 [==============================] - 30s 200ms/step - loss: 0.8417 - accuracy: 0.7385 - val_loss: 1.3082 - val_accuracy: 0.4688\n",
      "Epoch 11/30\n",
      "151/151 [==============================] - 30s 200ms/step - loss: 0.8483 - accuracy: 0.7353 - val_loss: 1.1136 - val_accuracy: 0.5938\n",
      "Epoch 12/30\n",
      "151/151 [==============================] - 30s 200ms/step - loss: 0.8091 - accuracy: 0.7632 - val_loss: 1.5176 - val_accuracy: 0.3125\n",
      "Epoch 13/30\n",
      "151/151 [==============================] - 30s 200ms/step - loss: 0.7863 - accuracy: 0.7765 - val_loss: 1.2797 - val_accuracy: 0.5312\n",
      "Epoch 14/30\n",
      "151/151 [==============================] - 30s 200ms/step - loss: 0.8189 - accuracy: 0.7459 - val_loss: 1.0659 - val_accuracy: 0.5938\n",
      "Epoch 15/30\n",
      "151/151 [==============================] - 30s 199ms/step - loss: 0.7902 - accuracy: 0.7709 - val_loss: 0.9663 - val_accuracy: 0.7188\n",
      "Epoch 16/30\n",
      "151/151 [==============================] - 30s 199ms/step - loss: 0.7537 - accuracy: 0.7871 - val_loss: 1.0805 - val_accuracy: 0.6562\n",
      "Epoch 17/30\n",
      "151/151 [==============================] - 30s 199ms/step - loss: 0.7545 - accuracy: 0.7848 - val_loss: 0.9016 - val_accuracy: 0.7500\n",
      "Epoch 18/30\n",
      "151/151 [==============================] - 30s 199ms/step - loss: 0.7315 - accuracy: 0.7917 - val_loss: 0.9573 - val_accuracy: 0.6562\n",
      "Epoch 19/30\n",
      "151/151 [==============================] - 30s 200ms/step - loss: 0.7284 - accuracy: 0.7992 - val_loss: 0.9255 - val_accuracy: 0.7188\n",
      "Epoch 20/30\n",
      "151/151 [==============================] - 30s 199ms/step - loss: 0.7071 - accuracy: 0.8058 - val_loss: 0.9165 - val_accuracy: 0.7188\n",
      "Epoch 21/30\n",
      "151/151 [==============================] - 30s 199ms/step - loss: 0.6972 - accuracy: 0.8111 - val_loss: 0.8954 - val_accuracy: 0.7188\n",
      "Epoch 22/30\n",
      "151/151 [==============================] - 30s 199ms/step - loss: 0.7028 - accuracy: 0.8090 - val_loss: 0.9073 - val_accuracy: 0.7188\n",
      "Epoch 23/30\n",
      "151/151 [==============================] - 30s 199ms/step - loss: 0.6875 - accuracy: 0.8127 - val_loss: 0.8754 - val_accuracy: 0.7500\n",
      "Epoch 24/30\n",
      "151/151 [==============================] - 30s 200ms/step - loss: 0.6702 - accuracy: 0.8172 - val_loss: 1.1278 - val_accuracy: 0.6250\n",
      "Epoch 25/30\n",
      "151/151 [==============================] - 30s 200ms/step - loss: 0.6545 - accuracy: 0.8318 - val_loss: 0.9300 - val_accuracy: 0.7188\n",
      "Epoch 26/30\n",
      "151/151 [==============================] - 30s 199ms/step - loss: 0.6768 - accuracy: 0.8135 - val_loss: 0.9401 - val_accuracy: 0.7188\n",
      "Epoch 27/30\n",
      "151/151 [==============================] - 30s 199ms/step - loss: 0.6595 - accuracy: 0.8254 - val_loss: 0.8913 - val_accuracy: 0.7500\n",
      "Epoch 28/30\n",
      "151/151 [==============================] - 30s 199ms/step - loss: 0.6517 - accuracy: 0.8281 - val_loss: 0.8788 - val_accuracy: 0.7500\n",
      "Epoch 29/30\n",
      "151/151 [==============================] - 30s 199ms/step - loss: 0.6411 - accuracy: 0.8309 - val_loss: 0.9082 - val_accuracy: 0.7188\n",
      "Epoch 30/30\n",
      "151/151 [==============================] - 30s 199ms/step - loss: 0.6576 - accuracy: 0.8257 - val_loss: 0.9862 - val_accuracy: 0.7188\n",
      "INFO:tensorflow:Assets written to: ../resnet/resnet_30epochs_7513.5599999999995 images/assets\n",
      "Test acc for resnet: 0.703512\n",
      "Done!\n",
      "--------------------------------------------------\n",
      "\n",
      "Training opticnet for 0.09% of train size (aka 7513 images)...\n"
     ]
    },
    {
     "name": "stderr",
     "output_type": "stream",
     "text": [
      "<ipython-input-8-797fd00c81c1>:20: UserWarning: Matplotlib is currently using module://ipykernel.pylab.backend_inline, which is a non-GUI backend, so cannot show the figure.\n",
      "  self.fig.show()\n"
     ]
    },
    {
     "name": "stdout",
     "output_type": "stream",
     "text": [
      "Epoch 1/30\n",
      "  6/151 [>.............................] - ETA: 4:32 - loss: 26.8411 - accuracy: 0.3456WARNING:tensorflow:Callback method `on_train_batch_end` is slow compared to the batch time (batch time: 0.4700s vs `on_train_batch_end` time: 1.0765s). Check your callbacks.\n",
      "151/151 [==============================] - 196s 1s/step - loss: 6.5228 - accuracy: 0.3825 - val_loss: 2.9973 - val_accuracy: 0.2812\n"
     ]
    },
    {
     "name": "stderr",
     "output_type": "stream",
     "text": [
      "<ipython-input-8-797fd00c81c1>:48: UserWarning: Matplotlib is currently using module://ipykernel.pylab.backend_inline, which is a non-GUI backend, so cannot show the figure.\n",
      "  self.fig.show()\n"
     ]
    },
    {
     "name": "stdout",
     "output_type": "stream",
     "text": [
      "Epoch 2/30\n",
      "151/151 [==============================] - 178s 1s/step - loss: 0.8790 - accuracy: 0.6806 - val_loss: 1.8278 - val_accuracy: 0.2812\n",
      "Epoch 3/30\n",
      "151/151 [==============================] - 178s 1s/step - loss: 0.6799 - accuracy: 0.7462 - val_loss: 0.9180 - val_accuracy: 0.5625\n",
      "Epoch 4/30\n",
      "151/151 [==============================] - 178s 1s/step - loss: 0.5463 - accuracy: 0.8038 - val_loss: 1.1080 - val_accuracy: 0.5938\n",
      "Epoch 5/30\n",
      "151/151 [==============================] - 177s 1s/step - loss: 0.4804 - accuracy: 0.8347 - val_loss: 0.5760 - val_accuracy: 0.7500\n",
      "Epoch 6/30\n",
      "151/151 [==============================] - 177s 1s/step - loss: 0.3836 - accuracy: 0.8609 - val_loss: 0.4046 - val_accuracy: 0.8438\n",
      "Epoch 7/30\n",
      "151/151 [==============================] - 178s 1s/step - loss: 0.3228 - accuracy: 0.8854 - val_loss: 0.4175 - val_accuracy: 0.8750\n",
      "Epoch 8/30\n",
      "151/151 [==============================] - 178s 1s/step - loss: 0.2996 - accuracy: 0.8911 - val_loss: 0.2699 - val_accuracy: 0.9062\n",
      "Epoch 9/30\n",
      "151/151 [==============================] - 177s 1s/step - loss: 0.2043 - accuracy: 0.9256 - val_loss: 0.1891 - val_accuracy: 0.8750\n",
      "Epoch 10/30\n",
      "151/151 [==============================] - 178s 1s/step - loss: 0.1806 - accuracy: 0.9346 - val_loss: 0.1450 - val_accuracy: 0.9688\n",
      "Epoch 11/30\n",
      "151/151 [==============================] - 178s 1s/step - loss: 0.1434 - accuracy: 0.9547 - val_loss: 0.3352 - val_accuracy: 0.9062\n",
      "Epoch 12/30\n",
      "151/151 [==============================] - 178s 1s/step - loss: 0.1049 - accuracy: 0.9650 - val_loss: 0.5028 - val_accuracy: 0.8750\n",
      "Epoch 13/30\n",
      "151/151 [==============================] - 178s 1s/step - loss: 0.0814 - accuracy: 0.9748 - val_loss: 0.1967 - val_accuracy: 0.9062\n",
      "Epoch 14/30\n",
      "151/151 [==============================] - 178s 1s/step - loss: 0.0579 - accuracy: 0.9810 - val_loss: 0.1940 - val_accuracy: 0.9062\n",
      "Epoch 15/30\n",
      "151/151 [==============================] - 178s 1s/step - loss: 0.0428 - accuracy: 0.9860 - val_loss: 0.3706 - val_accuracy: 0.9375\n",
      "Epoch 16/30\n",
      "151/151 [==============================] - 177s 1s/step - loss: 0.0360 - accuracy: 0.9877 - val_loss: 0.7073 - val_accuracy: 0.9375\n",
      "Epoch 17/30\n",
      "151/151 [==============================] - 177s 1s/step - loss: 0.0265 - accuracy: 0.9903 - val_loss: 0.2005 - val_accuracy: 0.9688\n",
      "Epoch 18/30\n",
      "151/151 [==============================] - 178s 1s/step - loss: 0.0110 - accuracy: 0.9959 - val_loss: 0.1740 - val_accuracy: 0.9688\n",
      "Epoch 19/30\n",
      "151/151 [==============================] - 178s 1s/step - loss: 0.0176 - accuracy: 0.9958 - val_loss: 0.2892 - val_accuracy: 0.9375\n",
      "Epoch 20/30\n",
      "151/151 [==============================] - 178s 1s/step - loss: 0.0155 - accuracy: 0.9950 - val_loss: 0.5250 - val_accuracy: 0.9062\n",
      "Epoch 21/30\n",
      "151/151 [==============================] - 177s 1s/step - loss: 0.0093 - accuracy: 0.9969 - val_loss: 0.9946 - val_accuracy: 0.9375\n",
      "Epoch 22/30\n",
      "151/151 [==============================] - 177s 1s/step - loss: 0.0061 - accuracy: 0.9976 - val_loss: 0.4890 - val_accuracy: 0.9375\n",
      "Epoch 23/30\n",
      "151/151 [==============================] - 177s 1s/step - loss: 0.0091 - accuracy: 0.9967 - val_loss: 0.2429 - val_accuracy: 0.9062\n",
      "Epoch 24/30\n",
      "151/151 [==============================] - 177s 1s/step - loss: 0.0133 - accuracy: 0.9971 - val_loss: 0.5858 - val_accuracy: 0.9062\n",
      "Epoch 25/30\n",
      "151/151 [==============================] - 178s 1s/step - loss: 0.0030 - accuracy: 0.9990 - val_loss: 0.1008 - val_accuracy: 0.9688\n",
      "Epoch 26/30\n",
      "151/151 [==============================] - 178s 1s/step - loss: 0.0016 - accuracy: 0.9999 - val_loss: 0.5140 - val_accuracy: 0.9062\n",
      "Epoch 27/30\n",
      "151/151 [==============================] - 177s 1s/step - loss: 0.0051 - accuracy: 0.9987 - val_loss: 0.4862 - val_accuracy: 0.9062\n",
      "Epoch 28/30\n",
      "151/151 [==============================] - 178s 1s/step - loss: 0.0017 - accuracy: 0.9996 - val_loss: 0.1442 - val_accuracy: 0.9688\n",
      "Epoch 29/30\n",
      "151/151 [==============================] - 178s 1s/step - loss: 0.0014 - accuracy: 0.9996 - val_loss: 0.3655 - val_accuracy: 0.9375\n",
      "Epoch 30/30\n",
      "151/151 [==============================] - 178s 1s/step - loss: 0.0045 - accuracy: 0.9983 - val_loss: 0.4481 - val_accuracy: 0.9375\n",
      "INFO:tensorflow:Assets written to: ../opticnet/opticnet_30epochs_7513.5599999999995 images/assets\n",
      "Test acc for opticnet: 0.948347\n",
      "Done!\n",
      "--------------------------------------------------\n",
      "\n"
     ]
    },
    {
     "data": {
      "image/png": "[encoded data removed]",
      "text/plain": [
       "<Figure size 288x216 with 1 Axes>"
      ]
     },
     "metadata": {
      "needs_background": "light"
     },
     "output_type": "display_data"
    },
    {
     "data": {
      "image/png": "[encoded data removed]",
      "text/plain": [
       "<Figure size 288x216 with 1 Axes>"
      ]
     },
     "metadata": {
      "needs_background": "light"
     },
     "output_type": "display_data"
    },
    {
     "data": {
      "image/png": "[encoded data removed]",
      "text/plain": [
       "<Figure size 288x216 with 1 Axes>"
      ]
     },
     "metadata": {
      "needs_background": "light"
     },
     "output_type": "display_data"
    },
    {
     "data": {
      "image/png": "[encoded data removed]",
      "text/plain": [
       "<Figure size 288x216 with 1 Axes>"
      ]
     },
     "metadata": {
      "needs_background": "light"
     },
     "output_type": "display_data"
    },
    {
     "data": {
      "image/png": "[encoded data removed]",
      "text/plain": [
       "<Figure size 288x216 with 1 Axes>"
      ]
     },
     "metadata": {
      "needs_background": "light"
     },
     "output_type": "display_data"
    },
    {
     "data": {
      "image/png": "[encoded data removed]",
      "text/plain": [
       "<Figure size 288x216 with 1 Axes>"
      ]
     },
     "metadata": {
      "needs_background": "light"
     },
     "output_type": "display_data"
    },
    {
     "data": {
      "image/png": "[encoded data removed]",
      "text/plain": [
       "<Figure size 288x216 with 1 Axes>"
      ]
     },
     "metadata": {
      "needs_background": "light"
     },
     "output_type": "display_data"
    },
    {
     "data": {
      "image/png": "[encoded data removed]",
      "text/plain": [
       "<Figure size 288x216 with 1 Axes>"
      ]
     },
     "metadata": {
      "needs_background": "light"
     },
     "output_type": "display_data"
    },
    {
     "data": {
      "image/png": "[encoded data removed]",
      "text/plain": [
       "<Figure size 288x216 with 1 Axes>"
      ]
     },
     "metadata": {
      "needs_background": "light"
     },
     "output_type": "display_data"
    },
    {
     "data": {
      "image/png": "[encoded data removed]",
      "text/plain": [
       "<Figure size 288x216 with 1 Axes>"
      ]
     },
     "metadata": {
      "needs_background": "light"
     },
     "output_type": "display_data"
    },
    {
     "data": {
      "image/png": "[encoded data removed]",
      "text/plain": [
       "<Figure size 288x216 with 1 Axes>"
      ]
     },
     "metadata": {
      "needs_background": "light"
     },
     "output_type": "display_data"
    },
    {
     "data": {
      "image/png": "[encoded data removed]",
      "text/plain": [
       "<Figure size 288x216 with 1 Axes>"
      ]
     },
     "metadata": {
      "needs_background": "light"
     },
     "output_type": "display_data"
    },
    {
     "data": {
      "image/png": "[encoded data removed]",
      "text/plain": [
       "<Figure size 288x216 with 1 Axes>"
      ]
     },
     "metadata": {
      "needs_background": "light"
     },
     "output_type": "display_data"
    },
    {
     "data": {
      "image/png": "[encoded data removed]",
      "text/plain": [
       "<Figure size 288x216 with 1 Axes>"
      ]
     },
     "metadata": {
      "needs_background": "light"
     },
     "output_type": "display_data"
    },
    {
     "data": {
      "image/png": "[encoded data removed]",
      "text/plain": [
       "<Figure size 288x216 with 1 Axes>"
      ]
     },
     "metadata": {
      "needs_background": "light"
     },
     "output_type": "display_data"
    }
   ],
   "source": [
    "from sklearn.model_selection import train_test_split\n",
    "import datetime\n",
    "\n",
    "maxTrain = len(y_train)\n",
    "#for p in [0.1, 0.25, 0.4, 0.5, 0.6, 0.75, 0.9]:\n",
    "for p in [0.01, 0.025, 0.05, 0.075, 0.09]:\n",
    "    #X_trn, X_tst, y_trn, y_tst\n",
    "    X_t, _, y_t, _ = train_test_split(images, y_train, test_size=1-p, random_state=123)\n",
    "    print(f\"Labels fraction: {sum(y_t == 1) / sum(y_train == 1)}\")\n",
    "    for net in [\"xception\", \"resnet\", \"opticnet\"]:\n",
    "        print(f\"Training {net} for {p}% of train size (aka {len(X_t)} images)...\")\n",
    "        model, size = emptyModelGenerator(net, True) # new weights\n",
    "        X_trn = resizeIms(X_t, size)\n",
    "        X_val = resizeIms(x_val, size)\n",
    "        log_dir = f\"logs/{net}/fit/{p}trainSet_\" + datetime.datetime.now().strftime(\"%Y%m%d-%H%M%S\")\n",
    "        tensorboard_callback = tf.keras.callbacks.TensorBoard(log_dir=log_dir, histogram_freq=1)\n",
    "        optim = Adam(learning_rate=0.001)\n",
    "        model.compile(optimizer=optim, loss='categorical_crossentropy', metrics=['accuracy'])\n",
    "        hist = model.fit(X_trn, y_t, epochs=epochs, validation_data = (X_val, y_validation), batch_size=batch_size,\n",
    "                    shuffle=True, max_queue_size=20,\n",
    "                    use_multiprocessing=True, workers=5, \n",
    "                    callbacks=[CustomCallback(fraction=0.9, model=net), tensorboard_callback])\n",
    "        model.save(f\"../{net}/{net}_{epochs}epochs_{p*maxTrain} images\")\n",
    "        testPredict(model, size, name=net)\n",
    "        del model\n",
    "        del X_trn\n",
    "        del X_val\n",
    "        print(\"Done!\\n\" + '-'*50, end='\\n\\n')"
   ]
  }
 ],
 "metadata": {
  "kernelspec": {
   "display_name": "Python 3",
   "language": "python",
   "name": "python3"
  },
  "language_info": {
   "codemirror_mode": {
    "name": "ipython",
    "version": 3
   },
   "file_extension": ".py",
   "mimetype": "text/x-python",
   "name": "python",
   "nbconvert_exporter": "python",
   "pygments_lexer": "ipython3",
   "version": "3.8.5"
  }
 },
 "nbformat": 4,
 "nbformat_minor": 4
}
