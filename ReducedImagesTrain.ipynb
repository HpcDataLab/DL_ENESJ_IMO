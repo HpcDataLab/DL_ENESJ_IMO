{
 "cells": [
  {
   "cell_type": "code",
   "execution_count": 1,
   "metadata": {},
   "outputs": [],
   "source": [
    "import tensorflow as tf\n",
    "from tensorflow import keras\n",
    "from keras.layers import Dense, GlobalAveragePooling2D\n",
    "import os\n",
    "import cv2\n",
    "import pickle\n",
    "from tensorflow.keras.optimizers import SGD, Adam\n",
    "from tensorflow.keras.models import Model\n",
    "\n",
    "\n",
    "from imblearn.under_sampling import RandomUnderSampler\n",
    "from keras.utils.np_utils import to_categorical\n",
    "import seaborn as sns\n",
    "import matplotlib.pyplot as plt\n",
    "import numpy as np\n",
    "\n",
    "%load_ext tensorboard"
   ]
  },
  {
   "cell_type": "code",
   "execution_count": 2,
   "metadata": {},
   "outputs": [],
   "source": [
    "dataPath = \"../../data/OCT/OCT2017/\""
   ]
  },
  {
   "cell_type": "code",
   "execution_count": 3,
   "metadata": {},
   "outputs": [
    {
     "name": "stdout",
     "output_type": "stream",
     "text": [
      "Total Number of Classes Detected : 4\n"
     ]
    }
   ],
   "source": [
    "labels_available = os.listdir(os.path.join(dataPath, \"train\"))\n",
    "print(\"Total Number of Classes Detected :\",len(labels_available))\n",
    "\n",
    "labels_list = ['NORMAL',\"CNV\",\"DME\",\"DRUSEN\"]"
   ]
  },
  {
   "cell_type": "code",
   "execution_count": 4,
   "metadata": {},
   "outputs": [
    {
     "name": "stdout",
     "output_type": "stream",
     "text": [
      "NORMAL CNV DME DRUSEN "
     ]
    }
   ],
   "source": [
    "images=[]\n",
    "y_trn=[]\n",
    "for x in labels_list:\n",
    "    xPath = os.path.join(dataPath, \"train\", x)\n",
    "    myPicList = os.listdir(xPath)\n",
    "    for y in myPicList:\n",
    "        images.append(cv2.imread(os.path.join(xPath, y)))\n",
    "        y_trn.append(labels_list.index(x))\n",
    "    print(x ,end=\" \")\n",
    "\n",
    "y_train = to_categorical(y_trn,len(labels_list))"
   ]
  },
  {
   "cell_type": "code",
   "execution_count": 5,
   "metadata": {},
   "outputs": [
    {
     "name": "stdout",
     "output_type": "stream",
     "text": [
      "NORMAL CNV DME DRUSEN "
     ]
    }
   ],
   "source": [
    "x_val=[]\n",
    "y_val=[]\n",
    "for x in labels_list:\n",
    "    xPath = os.path.join(dataPath, \"val\", x)\n",
    "    myPicList = os.listdir(xPath)\n",
    "    for y in myPicList:\n",
    "        x_val.append(cv2.imread(os.path.join(xPath, y)))\n",
    "        y_val.append(labels_list.index(x))\n",
    "    print(x ,end=\" \")\n",
    "\n",
    "y_validation = to_categorical(y_val,len(labels_list))"
   ]
  },
  {
   "cell_type": "code",
   "execution_count": 6,
   "metadata": {},
   "outputs": [
    {
     "name": "stdout",
     "output_type": "stream",
     "text": [
      "NORMAL CNV DME DRUSEN "
     ]
    }
   ],
   "source": [
    "x_tst=[]\n",
    "y_tst=[]\n",
    "for x in labels_list:\n",
    "    xPath = os.path.join(dataPath, \"test\", x)\n",
    "    myPicList = os.listdir(xPath)\n",
    "    for y in myPicList:\n",
    "        x_tst.append(cv2.imread(os.path.join(xPath, y)))\n",
    "        y_tst.append(labels_list.index(x))\n",
    "    print(x ,end=\" \")"
   ]
  },
  {
   "cell_type": "code",
   "execution_count": 7,
   "metadata": {},
   "outputs": [],
   "source": [
    "def resizeIm(im, size):\n",
    "    if im.shape[2] == 1:\n",
    "        im = cv2.cvtColor(im,cv2.COLOR_GRAY2RGB)\n",
    "    return cv2.resize(im, size)\n",
    "\n",
    "def resizeIms(x, size):\n",
    "    return np.array(list(map(lambda im: resizeIm(im, size), x)))"
   ]
  },
  {
   "cell_type": "code",
   "execution_count": 8,
   "metadata": {},
   "outputs": [],
   "source": [
    "class CustomCallback(tf.keras.callbacks.Callback):\n",
    "    def __init__(self,fraction, model):\n",
    "        super(CustomCallback,self).__init__()\n",
    "        self.fraction = fraction\n",
    "        self.train_a = [];\n",
    "        self.val_a =[];\n",
    "        self.logPath = os.path.join(model, \"log.txt\")\n",
    "\n",
    "        if not os.path.isdir(model):\n",
    "            os.mkdir(model)\n",
    "\n",
    "        with open(self.logPath,'w') as f:\n",
    "            f.write('Starting of logging..\\n')\n",
    "\n",
    "        self.fig = plt.figure(figsize=(4,3))\n",
    "        self.ax = plt.subplot(1,1,1)\n",
    "        plt.ion()\n",
    "\n",
    "    def on_train_begin(self,logs=None):\n",
    "        self.fig.show()\n",
    "        self.fig.canvas.draw()\n",
    "\n",
    "    def on_train_end(self,logs=None):\n",
    "        with open(self.logPath,'a') as f:\n",
    "              f.write('End of logging..\\n')\n",
    "    \n",
    "    def on_epoch_begin(self,epoch,logs=None):\n",
    "        lr= tf.keras.backend.get_value(self.model.optimizer.lr)\n",
    "        lr *= self.fraction\n",
    "        tf.keras.backend.set_value(self.model.optimizer.lr,lr)\n",
    "        with open(self.logPath,'a') as f:\n",
    "            f.write('At epoch {:02d}, learning rate changed to {:.4f}\\n'.format(epoch,lr))\n",
    "    \n",
    "    def on_epoch_end(self,epoch,logs=None):\n",
    "        val_acc = logs.get('val_accuracy')\n",
    "        train_acc = logs.get('accuracy')\n",
    "        self.train_a.append(train_acc)\n",
    "        self.val_a.append(val_acc)\n",
    "        with open(self.logPath,'a') as f:\n",
    "            f.write('At epoch {:02d}, training accuracy: {:.3f}, validation accuracy: {:.3f}\\n'.format(epoch,train_acc,val_acc))\n",
    "        self.ax.clear()\n",
    "        self.ax.plot(range(1+epoch),self.train_a,label=\"Training\")\n",
    "        self.ax.plot(range(1+epoch),self.val_a,label=\"Validation\")\n",
    "        self.ax.set_xlabel('Epochs')\n",
    "        self.ax.set_ylabel('Accuracy')\n",
    "        self.ax.legend()\n",
    "        self.fig.canvas.draw()\n",
    "        self.fig.show()"
   ]
  },
  {
   "cell_type": "markdown",
   "metadata": {},
   "source": [
    "## Load models"
   ]
  },
  {
   "cell_type": "code",
   "execution_count": 9,
   "metadata": {},
   "outputs": [],
   "source": [
    "# xception base model\n",
    "from tensorflow.keras.applications.xception import Xception\n",
    "from tensorflow.keras.applications.xception import preprocess_input, decode_predictions\n",
    "xceptionNetModel = Xception(weights='imagenet')\n",
    "\n",
    "# opticnet base model\n",
    "opticNetModel = tf.keras.models.load_model('../Optic_net-4_classes-Kermany2018.hdf5')\n",
    "\n",
    "# resnet base model\n",
    "from tensorflow.keras.applications.resnet50 import ResNet50\n",
    "from tensorflow.keras.applications.resnet50 import preprocess_input, decode_predictions\n",
    "\n",
    "resNetModel = ResNet50(weights='imagenet')"
   ]
  },
  {
   "cell_type": "code",
   "execution_count": 13,
   "metadata": {},
   "outputs": [],
   "source": [
    "def emptyModelGenerator(model, newWeights=False):\n",
    "    model = model.lower()\n",
    "    if model == \"resnet\":\n",
    "        x = resNetModel.output\n",
    "        predictions = Dense(len(labels_list), activation='softmax')(x)\n",
    "        newModel = Model(inputs=resNetModel.input, outputs=predictions)\n",
    "        size = (224, 224)\n",
    "    elif model == \"xception\":\n",
    "        x = xceptionNetModel.output\n",
    "        predictions = Dense(len(labels_list), activation='softmax')(x)\n",
    "        newModel = Model(inputs=xceptionNetModel.input, outputs=predictions)\n",
    "        size = (299, 299)\n",
    "    elif model == \"opticnet\":\n",
    "        newModel = tf.keras.models.load_model('../Optic_net-4_classes-Kermany2018.hdf5')\n",
    "        size = (224, 224)\n",
    "    if newWeights:\n",
    "        newModel = tf.keras.models.clone_model(newModel)\n",
    "    return newModel, size\n",
    "\n",
    "\n",
    "def testPredict(model, size, name=None):\n",
    "    X_test = resizeIms(x_tst, size)\n",
    "    X_test = np.array(X_test)\n",
    "    Y_test = np.array(y_tst)\n",
    "    \n",
    "    prediction = model.predict(X_test)\n",
    "    preds = np.argmax(prediction, axis=1)\n",
    "    acc = sum(preds == Y_test) / len(Y_test)\n",
    "    print(f'Test acc for {name if name else \"model\"}: {acc:.6f}')\n",
    "    \n",
    "\n",
    "def computeConfussionMatrix(predictions, labels):\n",
    "    num_labels = len(labels_list)\n",
    "    cMatrix = np.zeros(shape=(num_labels, num_labels))\n",
    "    for i in len(predictions):\n",
    "        p = int(predictions[i])\n",
    "        t = int(predictions[i])\n",
    "        cMatrix[t, p] += 1\n",
    "    print(cMatrix)\n",
    "    ax = sns.heatmap(cMatrix, cmap=\"Blues\", annot=True, fmt=\"d\", xticklabels=labels_list, yticklabels=labels_list)\n",
    "    plt.xlabel(\"Predicted label\")\n",
    "    plt.ylabel(\"True label\")\n",
    "    plt.title(\"Confusion matrix\")\n",
    "    plt.show();\n",
    "    return cMatrix\n",
    "    \n"
   ]
  },
  {
   "cell_type": "code",
   "execution_count": 14,
   "metadata": {},
   "outputs": [],
   "source": [
    "optim = Adam(learning_rate=0.001)\n",
    "epochs = 30\n",
    "batch_size = 50"
   ]
  },
  {
   "cell_type": "code",
   "execution_count": 16,
   "metadata": {},
   "outputs": [
    {
     "name": "stdout",
     "output_type": "stream",
     "text": [
      "Labels fraction: [0.10115903 0.10044349 0.09834332 0.09668059]\n",
      "Training xception for 0.1% of train size (aka 8348 images)...\n"
     ]
    },
    {
     "name": "stderr",
     "output_type": "stream",
     "text": [
      "<ipython-input-8-797fd00c81c1>:20: UserWarning: Matplotlib is currently using module://ipykernel.pylab.backend_inline, which is a non-GUI backend, so cannot show the figure.\n",
      "  self.fig.show()\n"
     ]
    },
    {
     "name": "stdout",
     "output_type": "stream",
     "text": [
      "Epoch 1/30\n",
      "  6/167 [>.............................] - ETA: 3:25 - loss: 1.3827 - accuracy: 0.3316WARNING:tensorflow:Callback method `on_train_batch_begin` is slow compared to the batch time (batch time: 0.1578s vs `on_train_batch_begin` time: 0.1951s). Check your callbacks.\n",
      "WARNING:tensorflow:Callback method `on_train_batch_end` is slow compared to the batch time (batch time: 0.1578s vs `on_train_batch_end` time: 0.8284s). Check your callbacks.\n",
      "167/167 [==============================] - 138s 795ms/step - loss: 1.3058 - accuracy: 0.6015 - val_loss: 1.3936 - val_accuracy: 0.2500\n"
     ]
    },
    {
     "name": "stderr",
     "output_type": "stream",
     "text": [
      "<ipython-input-8-797fd00c81c1>:48: UserWarning: Matplotlib is currently using module://ipykernel.pylab.backend_inline, which is a non-GUI backend, so cannot show the figure.\n",
      "  self.fig.show()\n"
     ]
    },
    {
     "name": "stdout",
     "output_type": "stream",
     "text": [
      "Epoch 2/30\n",
      "167/167 [==============================] - 131s 783ms/step - loss: 1.1257 - accuracy: 0.7316 - val_loss: 1.4950 - val_accuracy: 0.2500\n",
      "Epoch 3/30\n",
      "167/167 [==============================] - 131s 784ms/step - loss: 1.0329 - accuracy: 0.7211 - val_loss: 1.2975 - val_accuracy: 0.5000\n",
      "Epoch 4/30\n",
      "167/167 [==============================] - 130s 780ms/step - loss: 0.9373 - accuracy: 0.7610 - val_loss: 1.5763 - val_accuracy: 0.2500\n",
      "Epoch 5/30\n",
      "167/167 [==============================] - 131s 783ms/step - loss: 0.8698 - accuracy: 0.7826 - val_loss: 1.3784 - val_accuracy: 0.4688\n",
      "Epoch 6/30\n",
      "167/167 [==============================] - 131s 782ms/step - loss: 0.7953 - accuracy: 0.8079 - val_loss: 1.0480 - val_accuracy: 0.6562\n",
      "Epoch 7/30\n",
      "167/167 [==============================] - 130s 780ms/step - loss: 0.7508 - accuracy: 0.8136 - val_loss: 1.1607 - val_accuracy: 0.6250\n",
      "Epoch 8/30\n",
      "167/167 [==============================] - 130s 781ms/step - loss: 0.7145 - accuracy: 0.8199 - val_loss: 0.8559 - val_accuracy: 0.7500\n",
      "Epoch 9/30\n",
      "167/167 [==============================] - 130s 778ms/step - loss: 0.6772 - accuracy: 0.8312 - val_loss: 1.3278 - val_accuracy: 0.5000\n",
      "Epoch 10/30\n",
      "167/167 [==============================] - 130s 780ms/step - loss: 0.6557 - accuracy: 0.8281 - val_loss: 0.9358 - val_accuracy: 0.7188\n",
      "Epoch 11/30\n",
      "167/167 [==============================] - 131s 787ms/step - loss: 0.6230 - accuracy: 0.8433 - val_loss: 0.9267 - val_accuracy: 0.6875\n",
      "Epoch 12/30\n",
      "167/167 [==============================] - 130s 779ms/step - loss: 0.5938 - accuracy: 0.8477 - val_loss: 0.9443 - val_accuracy: 0.7188\n",
      "Epoch 13/30\n",
      "167/167 [==============================] - 130s 778ms/step - loss: 0.5816 - accuracy: 0.8492 - val_loss: 0.8420 - val_accuracy: 0.7188\n",
      "Epoch 14/30\n",
      "167/167 [==============================] - 132s 788ms/step - loss: 0.5471 - accuracy: 0.8559 - val_loss: 0.7268 - val_accuracy: 0.7500\n",
      "Epoch 15/30\n",
      "167/167 [==============================] - 131s 783ms/step - loss: 0.5248 - accuracy: 0.8639 - val_loss: 0.6730 - val_accuracy: 0.7812\n",
      "Epoch 16/30\n",
      "167/167 [==============================] - 131s 784ms/step - loss: 0.5073 - accuracy: 0.8696 - val_loss: 0.8472 - val_accuracy: 0.7500\n",
      "Epoch 17/30\n",
      "167/167 [==============================] - 130s 781ms/step - loss: 0.4812 - accuracy: 0.8813 - val_loss: 0.7625 - val_accuracy: 0.7500\n",
      "Epoch 18/30\n",
      "167/167 [==============================] - 130s 777ms/step - loss: 0.4648 - accuracy: 0.8787 - val_loss: 0.8049 - val_accuracy: 0.7188\n",
      "Epoch 19/30\n",
      "167/167 [==============================] - 131s 784ms/step - loss: 0.4428 - accuracy: 0.9041 - val_loss: 0.8216 - val_accuracy: 0.7812\n",
      "Epoch 20/30\n",
      "167/167 [==============================] - 130s 781ms/step - loss: 0.4211 - accuracy: 0.9373 - val_loss: 0.5633 - val_accuracy: 0.9688\n",
      "Epoch 21/30\n",
      "167/167 [==============================] - 131s 786ms/step - loss: 0.4245 - accuracy: 0.9401 - val_loss: 0.5734 - val_accuracy: 0.9375\n",
      "Epoch 22/30\n",
      "167/167 [==============================] - 132s 789ms/step - loss: 0.4083 - accuracy: 0.9485 - val_loss: 0.5586 - val_accuracy: 0.9375\n",
      "Epoch 23/30\n",
      "167/167 [==============================] - 130s 781ms/step - loss: 0.3912 - accuracy: 0.9565 - val_loss: 0.5298 - val_accuracy: 0.9688\n",
      "Epoch 24/30\n",
      "167/167 [==============================] - 130s 781ms/step - loss: 0.3857 - accuracy: 0.9586 - val_loss: 0.5751 - val_accuracy: 0.9375\n",
      "Epoch 25/30\n",
      "167/167 [==============================] - 131s 783ms/step - loss: 0.3689 - accuracy: 0.9655 - val_loss: 0.5592 - val_accuracy: 0.9375\n",
      "Epoch 26/30\n",
      "167/167 [==============================] - 130s 781ms/step - loss: 0.3626 - accuracy: 0.9653 - val_loss: 0.5085 - val_accuracy: 0.9688\n",
      "Epoch 27/30\n",
      "167/167 [==============================] - 131s 784ms/step - loss: 0.3573 - accuracy: 0.9671 - val_loss: 0.5315 - val_accuracy: 0.9375\n",
      "Epoch 28/30\n",
      "167/167 [==============================] - 131s 785ms/step - loss: 0.3468 - accuracy: 0.9698 - val_loss: 0.4988 - val_accuracy: 0.9688\n",
      "Epoch 29/30\n",
      "167/167 [==============================] - 130s 777ms/step - loss: 0.3397 - accuracy: 0.9706 - val_loss: 0.4926 - val_accuracy: 0.9688\n",
      "Epoch 30/30\n",
      "167/167 [==============================] - 131s 782ms/step - loss: 0.3431 - accuracy: 0.9680 - val_loss: 0.4902 - val_accuracy: 0.9688\n",
      "INFO:tensorflow:Assets written to: ../xception/xception_30epochs_8348.4 images/assets\n",
      "Test acc for xception: 0.948347\n",
      "Done!\n",
      "--------------------------------------------------\n",
      "\n",
      "Training resnet for 0.1% of train size (aka 8348 images)...\n"
     ]
    },
    {
     "name": "stderr",
     "output_type": "stream",
     "text": [
      "<ipython-input-8-797fd00c81c1>:20: UserWarning: Matplotlib is currently using module://ipykernel.pylab.backend_inline, which is a non-GUI backend, so cannot show the figure.\n",
      "  self.fig.show()\n"
     ]
    },
    {
     "name": "stdout",
     "output_type": "stream",
     "text": [
      "Epoch 1/30\n",
      "  6/167 [>.............................] - ETA: 2:00 - loss: 1.3763 - accuracy: 0.3222WARNING:tensorflow:Callback method `on_train_batch_begin` is slow compared to the batch time (batch time: 0.1036s vs `on_train_batch_begin` time: 0.2028s). Check your callbacks.\n",
      "WARNING:tensorflow:Callback method `on_train_batch_end` is slow compared to the batch time (batch time: 0.1036s vs `on_train_batch_end` time: 0.3430s). Check your callbacks.\n",
      "167/167 [==============================] - 46s 228ms/step - loss: 1.3317 - accuracy: 0.4314 - val_loss: 1.4293 - val_accuracy: 0.2500\n"
     ]
    },
    {
     "name": "stderr",
     "output_type": "stream",
     "text": [
      "<ipython-input-8-797fd00c81c1>:48: UserWarning: Matplotlib is currently using module://ipykernel.pylab.backend_inline, which is a non-GUI backend, so cannot show the figure.\n",
      "  self.fig.show()\n"
     ]
    },
    {
     "name": "stdout",
     "output_type": "stream",
     "text": [
      "Epoch 2/30\n",
      "167/167 [==============================] - 33s 199ms/step - loss: 1.2555 - accuracy: 0.4511 - val_loss: 1.4772 - val_accuracy: 0.2500\n",
      "Epoch 3/30\n",
      "167/167 [==============================] - 33s 200ms/step - loss: 1.2313 - accuracy: 0.4519 - val_loss: 1.5096 - val_accuracy: 0.2500\n",
      "Epoch 4/30\n",
      "167/167 [==============================] - 33s 200ms/step - loss: 1.2294 - accuracy: 0.4504 - val_loss: 1.5296 - val_accuracy: 0.2500\n",
      "Epoch 5/30\n",
      "167/167 [==============================] - 33s 200ms/step - loss: 1.2248 - accuracy: 0.4480 - val_loss: 1.5420 - val_accuracy: 0.2500\n",
      "Epoch 6/30\n",
      "167/167 [==============================] - 33s 200ms/step - loss: 1.2235 - accuracy: 0.4504 - val_loss: 1.5504 - val_accuracy: 0.2500\n",
      "Epoch 7/30\n",
      "167/167 [==============================] - 33s 200ms/step - loss: 1.2313 - accuracy: 0.4399 - val_loss: 1.5551 - val_accuracy: 0.2500\n",
      "Epoch 8/30\n",
      "167/167 [==============================] - 33s 200ms/step - loss: 1.2248 - accuracy: 0.4448 - val_loss: 1.5590 - val_accuracy: 0.2500\n",
      "Epoch 9/30\n",
      "167/167 [==============================] - 33s 200ms/step - loss: 1.2258 - accuracy: 0.4468 - val_loss: 1.5613 - val_accuracy: 0.2500\n",
      "Epoch 10/30\n",
      "167/167 [==============================] - 33s 200ms/step - loss: 1.2219 - accuracy: 0.4481 - val_loss: 1.5619 - val_accuracy: 0.2500\n",
      "Epoch 11/30\n",
      "167/167 [==============================] - 33s 200ms/step - loss: 1.2300 - accuracy: 0.4395 - val_loss: 1.5630 - val_accuracy: 0.2500\n",
      "Epoch 12/30\n",
      "167/167 [==============================] - 33s 199ms/step - loss: 1.2341 - accuracy: 0.4366 - val_loss: 1.5643 - val_accuracy: 0.2500\n",
      "Epoch 13/30\n",
      "167/167 [==============================] - 33s 200ms/step - loss: 1.2243 - accuracy: 0.4426 - val_loss: 1.5649 - val_accuracy: 0.2500\n",
      "Epoch 14/30\n",
      "167/167 [==============================] - 33s 200ms/step - loss: 1.2120 - accuracy: 0.4534 - val_loss: 1.5645 - val_accuracy: 0.2500\n",
      "Epoch 15/30\n",
      "167/167 [==============================] - 33s 200ms/step - loss: 1.2198 - accuracy: 0.4462 - val_loss: 1.5646 - val_accuracy: 0.2500\n",
      "Epoch 16/30\n",
      "167/167 [==============================] - 33s 200ms/step - loss: 1.2207 - accuracy: 0.4515 - val_loss: 1.5649 - val_accuracy: 0.2500\n",
      "Epoch 17/30\n",
      "167/167 [==============================] - 33s 200ms/step - loss: 1.2271 - accuracy: 0.4462 - val_loss: 1.5652 - val_accuracy: 0.2500\n",
      "Epoch 18/30\n",
      "167/167 [==============================] - 33s 200ms/step - loss: 1.2168 - accuracy: 0.4569 - val_loss: 1.5654 - val_accuracy: 0.2500\n",
      "Epoch 19/30\n",
      "167/167 [==============================] - 33s 200ms/step - loss: 1.2308 - accuracy: 0.4433 - val_loss: 1.5655 - val_accuracy: 0.2500\n",
      "Epoch 20/30\n",
      "167/167 [==============================] - 33s 200ms/step - loss: 1.2260 - accuracy: 0.4439 - val_loss: 1.5655 - val_accuracy: 0.2500\n",
      "Epoch 21/30\n",
      "167/167 [==============================] - 33s 200ms/step - loss: 1.2246 - accuracy: 0.4456 - val_loss: 1.5653 - val_accuracy: 0.2500\n",
      "Epoch 22/30\n",
      "167/167 [==============================] - 33s 200ms/step - loss: 1.2196 - accuracy: 0.4446 - val_loss: 1.5657 - val_accuracy: 0.2500\n",
      "Epoch 23/30\n",
      "167/167 [==============================] - 33s 200ms/step - loss: 1.2255 - accuracy: 0.4446 - val_loss: 1.5655 - val_accuracy: 0.2500\n",
      "Epoch 24/30\n",
      "167/167 [==============================] - 33s 200ms/step - loss: 1.2243 - accuracy: 0.4444 - val_loss: 1.5654 - val_accuracy: 0.2500\n",
      "Epoch 25/30\n",
      "167/167 [==============================] - 33s 200ms/step - loss: 1.2268 - accuracy: 0.4494 - val_loss: 1.5655 - val_accuracy: 0.2500\n",
      "Epoch 26/30\n",
      "167/167 [==============================] - 33s 200ms/step - loss: 1.2227 - accuracy: 0.4566 - val_loss: 1.5656 - val_accuracy: 0.2500\n",
      "Epoch 27/30\n",
      "167/167 [==============================] - 33s 200ms/step - loss: 1.2238 - accuracy: 0.4513 - val_loss: 1.5656 - val_accuracy: 0.2500\n",
      "Epoch 28/30\n",
      "167/167 [==============================] - 33s 200ms/step - loss: 1.2270 - accuracy: 0.4405 - val_loss: 1.5657 - val_accuracy: 0.2500\n",
      "Epoch 29/30\n",
      "167/167 [==============================] - 33s 200ms/step - loss: 1.2316 - accuracy: 0.4447 - val_loss: 1.5656 - val_accuracy: 0.2500\n",
      "Epoch 30/30\n",
      "167/167 [==============================] - 33s 200ms/step - loss: 1.2267 - accuracy: 0.4403 - val_loss: 1.5656 - val_accuracy: 0.2500\n",
      "INFO:tensorflow:Assets written to: ../resnet/resnet_30epochs_8348.4 images/assets\n",
      "Test acc for resnet: 0.250000\n",
      "Done!\n",
      "--------------------------------------------------\n",
      "\n",
      "Training opticnet for 0.1% of train size (aka 8348 images)...\n"
     ]
    },
    {
     "name": "stderr",
     "output_type": "stream",
     "text": [
      "<ipython-input-8-797fd00c81c1>:20: UserWarning: Matplotlib is currently using module://ipykernel.pylab.backend_inline, which is a non-GUI backend, so cannot show the figure.\n",
      "  self.fig.show()\n"
     ]
    },
    {
     "name": "stdout",
     "output_type": "stream",
     "text": [
      "Epoch 1/30\n",
      "  6/167 [>.............................] - ETA: 4:57 - loss: 24.5228 - accuracy: 0.2273WARNING:tensorflow:Callback method `on_train_batch_end` is slow compared to the batch time (batch time: 0.4657s vs `on_train_batch_end` time: 1.0593s). Check your callbacks.\n",
      "167/167 [==============================] - 217s 1s/step - loss: 7.5634 - accuracy: 0.3663 - val_loss: 1.5677 - val_accuracy: 0.4062\n"
     ]
    },
    {
     "name": "stderr",
     "output_type": "stream",
     "text": [
      "<ipython-input-8-797fd00c81c1>:48: UserWarning: Matplotlib is currently using module://ipykernel.pylab.backend_inline, which is a non-GUI backend, so cannot show the figure.\n",
      "  self.fig.show()\n"
     ]
    },
    {
     "name": "stdout",
     "output_type": "stream",
     "text": [
      "Epoch 2/30\n",
      "167/167 [==============================] - 197s 1s/step - loss: 0.9020 - accuracy: 0.6882 - val_loss: 1.2139 - val_accuracy: 0.4062\n",
      "Epoch 3/30\n",
      "167/167 [==============================] - 198s 1s/step - loss: 0.6504 - accuracy: 0.7756 - val_loss: 0.8401 - val_accuracy: 0.6562\n",
      "Epoch 4/30\n",
      "167/167 [==============================] - 196s 1s/step - loss: 0.5107 - accuracy: 0.8213 - val_loss: 1.3011 - val_accuracy: 0.6250\n",
      "Epoch 5/30\n",
      "167/167 [==============================] - 196s 1s/step - loss: 0.4204 - accuracy: 0.8569 - val_loss: 0.5118 - val_accuracy: 0.8125\n",
      "Epoch 6/30\n",
      "167/167 [==============================] - 196s 1s/step - loss: 0.3732 - accuracy: 0.8703 - val_loss: 0.5874 - val_accuracy: 0.7812\n",
      "Epoch 7/30\n",
      "167/167 [==============================] - 196s 1s/step - loss: 0.3094 - accuracy: 0.8890 - val_loss: 0.3957 - val_accuracy: 0.8750\n",
      "Epoch 8/30\n",
      "167/167 [==============================] - 197s 1s/step - loss: 0.2507 - accuracy: 0.9109 - val_loss: 0.2662 - val_accuracy: 0.9375\n",
      "Epoch 9/30\n",
      "167/167 [==============================] - 196s 1s/step - loss: 0.2135 - accuracy: 0.9289 - val_loss: 1.2281 - val_accuracy: 0.7188\n",
      "Epoch 10/30\n",
      "167/167 [==============================] - 196s 1s/step - loss: 0.1533 - accuracy: 0.9477 - val_loss: 0.0910 - val_accuracy: 0.9688\n",
      "Epoch 11/30\n",
      "167/167 [==============================] - 195s 1s/step - loss: 0.1472 - accuracy: 0.9527 - val_loss: 1.3521 - val_accuracy: 0.7500\n",
      "Epoch 12/30\n",
      "167/167 [==============================] - 196s 1s/step - loss: 0.1228 - accuracy: 0.9579 - val_loss: 0.1274 - val_accuracy: 0.9375\n",
      "Epoch 13/30\n",
      "167/167 [==============================] - 196s 1s/step - loss: 0.0619 - accuracy: 0.9784 - val_loss: 0.2920 - val_accuracy: 0.8750\n",
      "Epoch 14/30\n",
      "167/167 [==============================] - 196s 1s/step - loss: 0.0660 - accuracy: 0.9774 - val_loss: 0.8118 - val_accuracy: 0.7812\n",
      "Epoch 15/30\n",
      "167/167 [==============================] - 196s 1s/step - loss: 0.0431 - accuracy: 0.9863 - val_loss: 0.4162 - val_accuracy: 0.9688\n",
      "Epoch 16/30\n",
      "167/167 [==============================] - 196s 1s/step - loss: 0.0380 - accuracy: 0.9873 - val_loss: 0.1987 - val_accuracy: 0.9375\n",
      "Epoch 17/30\n",
      "167/167 [==============================] - 196s 1s/step - loss: 0.0319 - accuracy: 0.9889 - val_loss: 0.1982 - val_accuracy: 0.9375\n",
      "Epoch 18/30\n",
      "167/167 [==============================] - 196s 1s/step - loss: 0.0207 - accuracy: 0.9933 - val_loss: 0.0499 - val_accuracy: 0.9688\n",
      "Epoch 19/30\n",
      "167/167 [==============================] - 197s 1s/step - loss: 0.0180 - accuracy: 0.9946 - val_loss: 0.0630 - val_accuracy: 0.9688\n",
      "Epoch 20/30\n",
      "167/167 [==============================] - 196s 1s/step - loss: 0.0146 - accuracy: 0.9954 - val_loss: 0.3739 - val_accuracy: 0.9688\n",
      "Epoch 21/30\n",
      "167/167 [==============================] - 196s 1s/step - loss: 0.0084 - accuracy: 0.9967 - val_loss: 0.0997 - val_accuracy: 0.9375\n",
      "Epoch 22/30\n",
      "167/167 [==============================] - 197s 1s/step - loss: 0.0059 - accuracy: 0.9982 - val_loss: 0.7625 - val_accuracy: 0.9062\n",
      "Epoch 23/30\n",
      "167/167 [==============================] - 196s 1s/step - loss: 0.0134 - accuracy: 0.9957 - val_loss: 0.2242 - val_accuracy: 0.9688\n",
      "Epoch 24/30\n",
      "167/167 [==============================] - 196s 1s/step - loss: 0.0042 - accuracy: 0.9990 - val_loss: 0.3202 - val_accuracy: 0.9688\n",
      "Epoch 25/30\n",
      "167/167 [==============================] - 197s 1s/step - loss: 0.0038 - accuracy: 0.9981 - val_loss: 0.2336 - val_accuracy: 0.9688\n",
      "Epoch 26/30\n",
      "167/167 [==============================] - 196s 1s/step - loss: 0.0017 - accuracy: 0.9997 - val_loss: 0.3461 - val_accuracy: 0.9688\n",
      "Epoch 27/30\n",
      "167/167 [==============================] - 197s 1s/step - loss: 8.5897e-04 - accuracy: 1.0000 - val_loss: 0.1854 - val_accuracy: 0.9688\n",
      "Epoch 28/30\n",
      "167/167 [==============================] - 196s 1s/step - loss: 0.0015 - accuracy: 0.9997 - val_loss: 0.1525 - val_accuracy: 0.9688\n",
      "Epoch 29/30\n",
      "167/167 [==============================] - 197s 1s/step - loss: 0.0022 - accuracy: 0.9995 - val_loss: 0.1498 - val_accuracy: 0.9688\n",
      "Epoch 30/30\n",
      "167/167 [==============================] - 196s 1s/step - loss: 0.0016 - accuracy: 0.9995 - val_loss: 0.2877 - val_accuracy: 0.9688\n",
      "INFO:tensorflow:Assets written to: ../opticnet/opticnet_30epochs_8348.4 images/assets\n",
      "Test acc for opticnet: 0.960744\n",
      "Done!\n",
      "--------------------------------------------------\n",
      "\n",
      "Labels fraction: [0.25069352 0.25362183 0.24735636 0.23572423]\n",
      "Training xception for 0.25% of train size (aka 20871 images)...\n"
     ]
    },
    {
     "name": "stderr",
     "output_type": "stream",
     "text": [
      "<ipython-input-8-797fd00c81c1>:20: UserWarning: Matplotlib is currently using module://ipykernel.pylab.backend_inline, which is a non-GUI backend, so cannot show the figure.\n",
      "  self.fig.show()\n"
     ]
    },
    {
     "name": "stdout",
     "output_type": "stream",
     "text": [
      "Epoch 1/30\n",
      "  6/418 [..............................] - ETA: 8:59 - loss: 1.3824 - accuracy: 0.3134WARNING:tensorflow:Callback method `on_train_batch_begin` is slow compared to the batch time (batch time: 0.1602s vs `on_train_batch_begin` time: 0.1956s). Check your callbacks.\n",
      "WARNING:tensorflow:Callback method `on_train_batch_end` is slow compared to the batch time (batch time: 0.1602s vs `on_train_batch_end` time: 0.8519s). Check your callbacks.\n",
      "418/418 [==============================] - 332s 781ms/step - loss: 1.2399 - accuracy: 0.6732 - val_loss: 1.3215 - val_accuracy: 0.5000\n"
     ]
    },
    {
     "name": "stderr",
     "output_type": "stream",
     "text": [
      "<ipython-input-8-797fd00c81c1>:48: UserWarning: Matplotlib is currently using module://ipykernel.pylab.backend_inline, which is a non-GUI backend, so cannot show the figure.\n",
      "  self.fig.show()\n"
     ]
    },
    {
     "name": "stdout",
     "output_type": "stream",
     "text": [
      "Epoch 2/30\n",
      "418/418 [==============================] - 322s 771ms/step - loss: 0.9766 - accuracy: 0.7257 - val_loss: 1.3588 - val_accuracy: 0.4688\n",
      "Epoch 3/30\n",
      "418/418 [==============================] - 323s 772ms/step - loss: 0.8393 - accuracy: 0.7625 - val_loss: 1.0311 - val_accuracy: 0.7188\n",
      "Epoch 4/30\n",
      "418/418 [==============================] - 322s 771ms/step - loss: 0.7133 - accuracy: 0.8060 - val_loss: 1.1681 - val_accuracy: 0.5625\n",
      "Epoch 5/30\n",
      "418/418 [==============================] - 322s 771ms/step - loss: 0.6205 - accuracy: 0.8319 - val_loss: 0.8567 - val_accuracy: 0.6562\n",
      "Epoch 6/30\n",
      "418/418 [==============================] - 322s 771ms/step - loss: 0.5263 - accuracy: 0.8550 - val_loss: 0.5990 - val_accuracy: 0.9375\n",
      "Epoch 7/30\n",
      "418/418 [==============================] - 322s 770ms/step - loss: 0.4506 - accuracy: 0.8961 - val_loss: 0.7102 - val_accuracy: 0.8750\n",
      "Epoch 8/30\n",
      "418/418 [==============================] - 322s 771ms/step - loss: 0.3923 - accuracy: 0.9120 - val_loss: 0.3325 - val_accuracy: 0.9688\n",
      "Epoch 9/30\n",
      "418/418 [==============================] - 322s 771ms/step - loss: 0.3298 - accuracy: 0.9319 - val_loss: 0.6672 - val_accuracy: 0.8438\n",
      "Epoch 10/30\n",
      "418/418 [==============================] - 323s 772ms/step - loss: 0.2948 - accuracy: 0.9409 - val_loss: 0.3770 - val_accuracy: 0.9375\n",
      "Epoch 11/30\n",
      "418/418 [==============================] - 322s 771ms/step - loss: 0.2620 - accuracy: 0.9475 - val_loss: 0.2404 - val_accuracy: 0.9688\n",
      "Epoch 12/30\n",
      "418/418 [==============================] - 323s 772ms/step - loss: 0.2329 - accuracy: 0.9558 - val_loss: 0.2189 - val_accuracy: 0.9688\n",
      "Epoch 13/30\n",
      "418/418 [==============================] - 323s 772ms/step - loss: 0.2096 - accuracy: 0.9596 - val_loss: 0.1624 - val_accuracy: 1.0000\n",
      "Epoch 14/30\n",
      "418/418 [==============================] - 323s 773ms/step - loss: 0.2048 - accuracy: 0.9607 - val_loss: 0.2194 - val_accuracy: 0.9688\n",
      "Epoch 15/30\n",
      "418/418 [==============================] - 323s 772ms/step - loss: 0.1832 - accuracy: 0.9664 - val_loss: 0.1856 - val_accuracy: 0.9688\n",
      "Epoch 16/30\n",
      "418/418 [==============================] - 323s 772ms/step - loss: 0.1602 - accuracy: 0.9721 - val_loss: 0.1919 - val_accuracy: 0.9688\n",
      "Epoch 17/30\n",
      "418/418 [==============================] - 323s 773ms/step - loss: 0.1504 - accuracy: 0.9738 - val_loss: 0.1210 - val_accuracy: 1.0000\n",
      "Epoch 18/30\n",
      "418/418 [==============================] - 323s 773ms/step - loss: 0.1400 - accuracy: 0.9761 - val_loss: 0.2187 - val_accuracy: 0.9688\n",
      "Epoch 19/30\n",
      "418/418 [==============================] - 323s 773ms/step - loss: 0.1252 - accuracy: 0.9809 - val_loss: 0.1593 - val_accuracy: 0.9688\n",
      "Epoch 20/30\n",
      "418/418 [==============================] - 323s 774ms/step - loss: 0.1231 - accuracy: 0.9806 - val_loss: 0.1023 - val_accuracy: 1.0000\n",
      "Epoch 21/30\n",
      "418/418 [==============================] - 322s 771ms/step - loss: 0.1138 - accuracy: 0.9823 - val_loss: 0.1116 - val_accuracy: 1.0000\n",
      "Epoch 22/30\n",
      "418/418 [==============================] - 323s 772ms/step - loss: 0.1074 - accuracy: 0.9842 - val_loss: 0.1202 - val_accuracy: 0.9688\n",
      "Epoch 23/30\n",
      "418/418 [==============================] - 323s 772ms/step - loss: 0.1037 - accuracy: 0.9848 - val_loss: 0.0978 - val_accuracy: 1.0000\n",
      "Epoch 24/30\n",
      "418/418 [==============================] - 323s 772ms/step - loss: 0.0933 - accuracy: 0.9871 - val_loss: 0.1008 - val_accuracy: 0.9688\n",
      "Epoch 25/30\n",
      "418/418 [==============================] - 322s 771ms/step - loss: 0.0918 - accuracy: 0.9877 - val_loss: 0.1093 - val_accuracy: 0.9688\n",
      "Epoch 26/30\n",
      "418/418 [==============================] - 322s 771ms/step - loss: 0.0886 - accuracy: 0.9890 - val_loss: 0.0843 - val_accuracy: 1.0000\n",
      "Epoch 27/30\n",
      "418/418 [==============================] - 322s 772ms/step - loss: 0.0897 - accuracy: 0.9869 - val_loss: 0.0764 - val_accuracy: 1.0000\n",
      "Epoch 28/30\n",
      "418/418 [==============================] - 323s 772ms/step - loss: 0.0867 - accuracy: 0.9878 - val_loss: 0.0913 - val_accuracy: 0.9688\n",
      "Epoch 29/30\n",
      "418/418 [==============================] - 323s 772ms/step - loss: 0.0870 - accuracy: 0.9879 - val_loss: 0.0727 - val_accuracy: 1.0000\n",
      "Epoch 30/30\n",
      "418/418 [==============================] - 322s 771ms/step - loss: 0.0756 - accuracy: 0.9910 - val_loss: 0.0848 - val_accuracy: 0.9688\n",
      "INFO:tensorflow:Assets written to: ../xception/xception_30epochs_20871.0 images/assets\n",
      "Test acc for xception: 0.982438\n",
      "Done!\n",
      "--------------------------------------------------\n",
      "\n",
      "Training resnet for 0.25% of train size (aka 20871 images)...\n"
     ]
    },
    {
     "name": "stderr",
     "output_type": "stream",
     "text": [
      "<ipython-input-8-797fd00c81c1>:20: UserWarning: Matplotlib is currently using module://ipykernel.pylab.backend_inline, which is a non-GUI backend, so cannot show the figure.\n",
      "  self.fig.show()\n"
     ]
    },
    {
     "name": "stdout",
     "output_type": "stream",
     "text": [
      "Epoch 1/30\n",
      "  6/418 [..............................] - ETA: 5:10 - loss: 1.3773 - accuracy: 0.2782WARNING:tensorflow:Callback method `on_train_batch_begin` is slow compared to the batch time (batch time: 0.1024s vs `on_train_batch_begin` time: 0.1895s). Check your callbacks.\n",
      "WARNING:tensorflow:Callback method `on_train_batch_end` is slow compared to the batch time (batch time: 0.1024s vs `on_train_batch_end` time: 0.3619s). Check your callbacks.\n",
      "418/418 [==============================] - 96s 211ms/step - loss: 1.2870 - accuracy: 0.4785 - val_loss: 1.3572 - val_accuracy: 0.5000\n"
     ]
    },
    {
     "name": "stderr",
     "output_type": "stream",
     "text": [
      "<ipython-input-8-797fd00c81c1>:48: UserWarning: Matplotlib is currently using module://ipykernel.pylab.backend_inline, which is a non-GUI backend, so cannot show the figure.\n",
      "  self.fig.show()\n"
     ]
    },
    {
     "name": "stdout",
     "output_type": "stream",
     "text": [
      "Epoch 2/30\n",
      "418/418 [==============================] - 84s 200ms/step - loss: 1.0239 - accuracy: 0.7144 - val_loss: 1.6686 - val_accuracy: 0.2500\n",
      "Epoch 3/30\n",
      "418/418 [==============================] - 84s 201ms/step - loss: 0.8898 - accuracy: 0.7240 - val_loss: 1.2899 - val_accuracy: 0.4375\n",
      "Epoch 4/30\n",
      "418/418 [==============================] - 84s 200ms/step - loss: 0.7923 - accuracy: 0.7525 - val_loss: 1.3384 - val_accuracy: 0.5938\n",
      "Epoch 5/30\n",
      "418/418 [==============================] - 84s 200ms/step - loss: 0.7321 - accuracy: 0.7747 - val_loss: 1.2502 - val_accuracy: 0.6562\n",
      "Epoch 6/30\n",
      "418/418 [==============================] - 84s 200ms/step - loss: 0.6689 - accuracy: 0.8013 - val_loss: 1.1700 - val_accuracy: 0.6562\n",
      "Epoch 7/30\n",
      "418/418 [==============================] - 84s 200ms/step - loss: 0.6204 - accuracy: 0.8130 - val_loss: 0.9975 - val_accuracy: 0.6875\n",
      "Epoch 8/30\n",
      "418/418 [==============================] - 84s 200ms/step - loss: 0.5864 - accuracy: 0.8237 - val_loss: 0.8376 - val_accuracy: 0.6875\n",
      "Epoch 9/30\n",
      "418/418 [==============================] - 84s 200ms/step - loss: 0.5471 - accuracy: 0.8352 - val_loss: 0.8071 - val_accuracy: 0.6875\n",
      "Epoch 10/30\n",
      "418/418 [==============================] - 84s 200ms/step - loss: 0.5031 - accuracy: 0.8433 - val_loss: 0.9485 - val_accuracy: 0.6562\n",
      "Epoch 11/30\n",
      "418/418 [==============================] - 84s 200ms/step - loss: 0.4762 - accuracy: 0.8532 - val_loss: 0.7667 - val_accuracy: 0.7188\n",
      "Epoch 12/30\n",
      "418/418 [==============================] - 84s 200ms/step - loss: 0.4606 - accuracy: 0.8569 - val_loss: 0.7396 - val_accuracy: 0.7500\n",
      "Epoch 13/30\n",
      "418/418 [==============================] - 84s 200ms/step - loss: 0.4326 - accuracy: 0.8574 - val_loss: 0.6899 - val_accuracy: 0.7500\n",
      "Epoch 14/30\n",
      "418/418 [==============================] - 84s 200ms/step - loss: 0.4112 - accuracy: 0.8673 - val_loss: 0.6098 - val_accuracy: 0.7188\n",
      "Epoch 15/30\n",
      "418/418 [==============================] - 84s 200ms/step - loss: 0.3952 - accuracy: 0.8699 - val_loss: 0.5136 - val_accuracy: 0.7500\n",
      "Epoch 16/30\n",
      "418/418 [==============================] - 84s 200ms/step - loss: 0.3820 - accuracy: 0.8706 - val_loss: 0.5978 - val_accuracy: 0.7500\n",
      "Epoch 17/30\n",
      "418/418 [==============================] - 84s 200ms/step - loss: 0.3701 - accuracy: 0.8725 - val_loss: 0.5457 - val_accuracy: 0.7500\n",
      "Epoch 18/30\n",
      "418/418 [==============================] - 84s 201ms/step - loss: 0.3615 - accuracy: 0.8759 - val_loss: 0.4951 - val_accuracy: 0.7500\n",
      "Epoch 19/30\n",
      "418/418 [==============================] - 84s 200ms/step - loss: 0.3501 - accuracy: 0.8797 - val_loss: 0.5224 - val_accuracy: 0.7500\n",
      "Epoch 20/30\n",
      "418/418 [==============================] - 84s 200ms/step - loss: 0.3336 - accuracy: 0.8830 - val_loss: 0.4806 - val_accuracy: 0.7500\n",
      "Epoch 21/30\n",
      "418/418 [==============================] - 84s 201ms/step - loss: 0.3310 - accuracy: 0.8782 - val_loss: 0.5107 - val_accuracy: 0.7500\n",
      "Epoch 22/30\n",
      "418/418 [==============================] - 84s 201ms/step - loss: 0.3174 - accuracy: 0.8861 - val_loss: 0.4651 - val_accuracy: 0.7500\n",
      "Epoch 23/30\n",
      "418/418 [==============================] - 84s 200ms/step - loss: 0.3147 - accuracy: 0.8825 - val_loss: 0.4691 - val_accuracy: 0.7500\n",
      "Epoch 24/30\n",
      "418/418 [==============================] - 84s 201ms/step - loss: 0.3011 - accuracy: 0.8894 - val_loss: 0.4611 - val_accuracy: 0.7500\n",
      "Epoch 25/30\n",
      "418/418 [==============================] - 84s 200ms/step - loss: 0.3030 - accuracy: 0.8874 - val_loss: 0.4585 - val_accuracy: 0.7500\n",
      "Epoch 26/30\n",
      "418/418 [==============================] - 84s 200ms/step - loss: 0.2879 - accuracy: 0.8929 - val_loss: 0.4473 - val_accuracy: 0.7500\n",
      "Epoch 27/30\n",
      "418/418 [==============================] - 84s 200ms/step - loss: 0.2872 - accuracy: 0.8896 - val_loss: 0.4528 - val_accuracy: 0.7500\n",
      "Epoch 28/30\n",
      "418/418 [==============================] - 84s 200ms/step - loss: 0.2844 - accuracy: 0.8894 - val_loss: 0.4623 - val_accuracy: 0.7500\n",
      "Epoch 29/30\n",
      "418/418 [==============================] - 84s 201ms/step - loss: 0.2789 - accuracy: 0.8891 - val_loss: 0.4424 - val_accuracy: 0.7500\n",
      "Epoch 30/30\n",
      "418/418 [==============================] - 84s 201ms/step - loss: 0.2717 - accuracy: 0.8943 - val_loss: 0.4388 - val_accuracy: 0.7500\n",
      "INFO:tensorflow:Assets written to: ../resnet/resnet_30epochs_20871.0 images/assets\n",
      "Test acc for resnet: 0.750000\n",
      "Done!\n",
      "--------------------------------------------------\n",
      "\n",
      "Training opticnet for 0.25% of train size (aka 20871 images)...\n"
     ]
    },
    {
     "name": "stderr",
     "output_type": "stream",
     "text": [
      "<ipython-input-8-797fd00c81c1>:20: UserWarning: Matplotlib is currently using module://ipykernel.pylab.backend_inline, which is a non-GUI backend, so cannot show the figure.\n",
      "  self.fig.show()\n"
     ]
    },
    {
     "name": "stdout",
     "output_type": "stream",
     "text": [
      "Epoch 1/30\n",
      "  6/418 [..............................] - ETA: 12:38 - loss: 24.8119 - accuracy: 0.2629WARNING:tensorflow:Callback method `on_train_batch_end` is slow compared to the batch time (batch time: 0.4664s vs `on_train_batch_end` time: 1.0505s). Check your callbacks.\n",
      "418/418 [==============================] - 509s 1s/step - loss: 3.5934 - accuracy: 0.5055 - val_loss: 1.6387 - val_accuracy: 0.5625\n"
     ]
    },
    {
     "name": "stderr",
     "output_type": "stream",
     "text": [
      "<ipython-input-8-797fd00c81c1>:48: UserWarning: Matplotlib is currently using module://ipykernel.pylab.backend_inline, which is a non-GUI backend, so cannot show the figure.\n",
      "  self.fig.show()\n"
     ]
    },
    {
     "name": "stdout",
     "output_type": "stream",
     "text": [
      "Epoch 2/30\n",
      "418/418 [==============================] - 491s 1s/step - loss: 0.5355 - accuracy: 0.8111 - val_loss: 0.4799 - val_accuracy: 0.8750\n",
      "Epoch 3/30\n",
      "418/418 [==============================] - 492s 1s/step - loss: 0.3091 - accuracy: 0.8923 - val_loss: 1.3760 - val_accuracy: 0.5625\n",
      "Epoch 4/30\n",
      "418/418 [==============================] - 491s 1s/step - loss: 0.2422 - accuracy: 0.9178 - val_loss: 1.6344 - val_accuracy: 0.2500\n",
      "Epoch 5/30\n",
      "418/418 [==============================] - 492s 1s/step - loss: 0.2197 - accuracy: 0.9262 - val_loss: 0.1359 - val_accuracy: 0.9375\n",
      "Epoch 6/30\n",
      "418/418 [==============================] - 491s 1s/step - loss: 0.1914 - accuracy: 0.9346 - val_loss: 0.0765 - val_accuracy: 0.9688\n",
      "Epoch 7/30\n",
      "418/418 [==============================] - 489s 1s/step - loss: 0.1775 - accuracy: 0.9428 - val_loss: 0.3350 - val_accuracy: 0.8438\n",
      "Epoch 8/30\n",
      "418/418 [==============================] - 493s 1s/step - loss: 0.1531 - accuracy: 0.9499 - val_loss: 0.2307 - val_accuracy: 0.9062\n",
      "Epoch 9/30\n",
      "418/418 [==============================] - 495s 1s/step - loss: 0.1231 - accuracy: 0.9593 - val_loss: 0.4170 - val_accuracy: 0.9375\n",
      "Epoch 10/30\n",
      "418/418 [==============================] - 493s 1s/step - loss: 0.1068 - accuracy: 0.9629 - val_loss: 0.7406 - val_accuracy: 0.8125\n",
      "Epoch 11/30\n",
      "418/418 [==============================] - 494s 1s/step - loss: 0.0919 - accuracy: 0.9698 - val_loss: 0.4569 - val_accuracy: 0.8750\n",
      "Epoch 12/30\n",
      "418/418 [==============================] - 494s 1s/step - loss: 0.0689 - accuracy: 0.9775 - val_loss: 0.1160 - val_accuracy: 0.9375\n",
      "Epoch 13/30\n",
      "418/418 [==============================] - 493s 1s/step - loss: 0.0581 - accuracy: 0.9801 - val_loss: 0.0889 - val_accuracy: 0.9688\n",
      "Epoch 14/30\n",
      "418/418 [==============================] - 494s 1s/step - loss: 0.0384 - accuracy: 0.9868 - val_loss: 0.0508 - val_accuracy: 0.9688\n",
      "Epoch 15/30\n",
      "418/418 [==============================] - 493s 1s/step - loss: 0.0345 - accuracy: 0.9883 - val_loss: 0.0354 - val_accuracy: 0.9688\n",
      "Epoch 16/30\n",
      "418/418 [==============================] - 492s 1s/step - loss: 0.0268 - accuracy: 0.9921 - val_loss: 0.1078 - val_accuracy: 0.9688\n",
      "Epoch 17/30\n",
      "418/418 [==============================] - 491s 1s/step - loss: 0.0233 - accuracy: 0.9923 - val_loss: 0.0496 - val_accuracy: 0.9688\n",
      "Epoch 18/30\n",
      "418/418 [==============================] - 492s 1s/step - loss: 0.0194 - accuracy: 0.9945 - val_loss: 0.1602 - val_accuracy: 0.9688\n",
      "Epoch 19/30\n",
      "418/418 [==============================] - 492s 1s/step - loss: 0.0109 - accuracy: 0.9970 - val_loss: 0.0577 - val_accuracy: 0.9688\n",
      "Epoch 20/30\n",
      "418/418 [==============================] - 492s 1s/step - loss: 0.0107 - accuracy: 0.9968 - val_loss: 0.3893 - val_accuracy: 0.9062\n",
      "Epoch 21/30\n",
      "418/418 [==============================] - 489s 1s/step - loss: 0.0125 - accuracy: 0.9965 - val_loss: 0.8763 - val_accuracy: 0.9062\n",
      "Epoch 22/30\n",
      "418/418 [==============================] - 491s 1s/step - loss: 0.0124 - accuracy: 0.9958 - val_loss: 0.3147 - val_accuracy: 0.9375\n",
      "Epoch 23/30\n",
      "418/418 [==============================] - 491s 1s/step - loss: 0.0057 - accuracy: 0.9983 - val_loss: 0.1027 - val_accuracy: 0.9688\n",
      "Epoch 24/30\n",
      "418/418 [==============================] - 492s 1s/step - loss: 0.0044 - accuracy: 0.9988 - val_loss: 0.6075 - val_accuracy: 0.9375\n",
      "Epoch 25/30\n",
      "418/418 [==============================] - 492s 1s/step - loss: 0.0045 - accuracy: 0.9986 - val_loss: 0.2656 - val_accuracy: 0.9375\n",
      "Epoch 26/30\n",
      "418/418 [==============================] - 490s 1s/step - loss: 0.0074 - accuracy: 0.9979 - val_loss: 0.3147 - val_accuracy: 0.9375\n",
      "Epoch 27/30\n",
      "418/418 [==============================] - 489s 1s/step - loss: 0.0031 - accuracy: 0.9991 - val_loss: 0.2504 - val_accuracy: 0.9688\n",
      "Epoch 28/30\n",
      "418/418 [==============================] - 493s 1s/step - loss: 0.0038 - accuracy: 0.9988 - val_loss: 0.3256 - val_accuracy: 0.9375\n",
      "Epoch 29/30\n",
      "418/418 [==============================] - 492s 1s/step - loss: 0.0021 - accuracy: 0.9993 - val_loss: 0.5219 - val_accuracy: 0.9062\n",
      "Epoch 30/30\n",
      "418/418 [==============================] - 490s 1s/step - loss: 0.0051 - accuracy: 0.9982 - val_loss: 0.2567 - val_accuracy: 0.9688\n",
      "INFO:tensorflow:Assets written to: ../opticnet/opticnet_30epochs_20871.0 images/assets\n",
      "Test acc for opticnet: 0.985537\n",
      "Done!\n",
      "--------------------------------------------------\n",
      "\n",
      "Labels fraction: [0.39840395 0.40263405 0.40033486 0.39298979]\n",
      "Training xception for 0.4% of train size (aka 33393 images)...\n"
     ]
    },
    {
     "name": "stderr",
     "output_type": "stream",
     "text": [
      "<ipython-input-8-797fd00c81c1>:20: UserWarning: Matplotlib is currently using module://ipykernel.pylab.backend_inline, which is a non-GUI backend, so cannot show the figure.\n",
      "  self.fig.show()\n"
     ]
    },
    {
     "name": "stdout",
     "output_type": "stream",
     "text": [
      "Epoch 1/30\n",
      "  6/668 [..............................] - ETA: 14:13 - loss: 1.3832 - accuracy: 0.3115WARNING:tensorflow:Callback method `on_train_batch_begin` is slow compared to the batch time (batch time: 0.1616s vs `on_train_batch_begin` time: 0.1948s). Check your callbacks.\n",
      "WARNING:tensorflow:Callback method `on_train_batch_end` is slow compared to the batch time (batch time: 0.1616s vs `on_train_batch_end` time: 0.8378s). Check your callbacks.\n",
      "668/668 [==============================] - 527s 782ms/step - loss: 1.1925 - accuracy: 0.6795 - val_loss: 1.1758 - val_accuracy: 0.5000\n"
     ]
    },
    {
     "name": "stderr",
     "output_type": "stream",
     "text": [
      "<ipython-input-8-797fd00c81c1>:48: UserWarning: Matplotlib is currently using module://ipykernel.pylab.backend_inline, which is a non-GUI backend, so cannot show the figure.\n",
      "  self.fig.show()\n"
     ]
    },
    {
     "name": "stdout",
     "output_type": "stream",
     "text": [
      "Epoch 2/30\n",
      "668/668 [==============================] - 518s 776ms/step - loss: 0.8286 - accuracy: 0.7686 - val_loss: 0.9590 - val_accuracy: 0.6875\n",
      "Epoch 3/30\n",
      "668/668 [==============================] - 519s 777ms/step - loss: 0.6537 - accuracy: 0.8282 - val_loss: 1.2281 - val_accuracy: 0.5312\n",
      "Epoch 4/30\n",
      "668/668 [==============================] - 519s 777ms/step - loss: 0.5453 - accuracy: 0.8412 - val_loss: 0.6176 - val_accuracy: 0.7500\n",
      "Epoch 5/30\n",
      "668/668 [==============================] - 519s 776ms/step - loss: 0.4765 - accuracy: 0.8505 - val_loss: 0.5151 - val_accuracy: 0.7500\n",
      "Epoch 6/30\n",
      "668/668 [==============================] - 518s 775ms/step - loss: 0.4174 - accuracy: 0.8608 - val_loss: 0.4952 - val_accuracy: 0.7500\n",
      "Epoch 7/30\n",
      "668/668 [==============================] - 518s 776ms/step - loss: 0.3408 - accuracy: 0.9296 - val_loss: 0.2771 - val_accuracy: 1.0000\n",
      "Epoch 8/30\n",
      "668/668 [==============================] - 519s 776ms/step - loss: 0.2767 - accuracy: 0.9443 - val_loss: 0.2596 - val_accuracy: 0.9688\n",
      "Epoch 9/30\n",
      "668/668 [==============================] - 518s 776ms/step - loss: 0.2268 - accuracy: 0.9551 - val_loss: 0.1739 - val_accuracy: 1.0000\n",
      "Epoch 10/30\n",
      "668/668 [==============================] - 519s 777ms/step - loss: 0.1984 - accuracy: 0.9587 - val_loss: 0.1348 - val_accuracy: 1.0000\n",
      "Epoch 11/30\n",
      "668/668 [==============================] - 519s 776ms/step - loss: 0.1744 - accuracy: 0.9631 - val_loss: 0.1050 - val_accuracy: 1.0000\n",
      "Epoch 12/30\n",
      "668/668 [==============================] - 520s 778ms/step - loss: 0.1515 - accuracy: 0.9693 - val_loss: 0.0888 - val_accuracy: 1.0000\n",
      "Epoch 13/30\n",
      "668/668 [==============================] - 518s 776ms/step - loss: 0.1308 - accuracy: 0.9732 - val_loss: 0.0783 - val_accuracy: 1.0000\n",
      "Epoch 14/30\n",
      "668/668 [==============================] - 519s 777ms/step - loss: 0.1194 - accuracy: 0.9759 - val_loss: 0.0688 - val_accuracy: 1.0000\n",
      "Epoch 15/30\n",
      "668/668 [==============================] - 518s 775ms/step - loss: 0.1031 - accuracy: 0.9799 - val_loss: 0.0813 - val_accuracy: 1.0000\n",
      "Epoch 16/30\n",
      "668/668 [==============================] - 519s 777ms/step - loss: 0.0912 - accuracy: 0.9825 - val_loss: 0.0556 - val_accuracy: 1.0000\n",
      "Epoch 17/30\n",
      "668/668 [==============================] - 519s 777ms/step - loss: 0.0854 - accuracy: 0.9837 - val_loss: 0.0492 - val_accuracy: 1.0000\n",
      "Epoch 18/30\n",
      "668/668 [==============================] - 518s 776ms/step - loss: 0.0814 - accuracy: 0.9854 - val_loss: 0.0448 - val_accuracy: 1.0000\n",
      "Epoch 19/30\n",
      "668/668 [==============================] - 520s 778ms/step - loss: 0.0716 - accuracy: 0.9877 - val_loss: 0.0413 - val_accuracy: 1.0000\n",
      "Epoch 20/30\n",
      "668/668 [==============================] - 519s 777ms/step - loss: 0.0657 - accuracy: 0.9888 - val_loss: 0.0385 - val_accuracy: 1.0000\n",
      "Epoch 21/30\n",
      "668/668 [==============================] - 518s 776ms/step - loss: 0.0661 - accuracy: 0.9890 - val_loss: 0.0364 - val_accuracy: 1.0000\n",
      "Epoch 22/30\n",
      "668/668 [==============================] - 519s 777ms/step - loss: 0.0627 - accuracy: 0.9895 - val_loss: 0.0342 - val_accuracy: 1.0000\n",
      "Epoch 23/30\n",
      "668/668 [==============================] - 519s 777ms/step - loss: 0.0564 - accuracy: 0.9913 - val_loss: 0.0325 - val_accuracy: 1.0000\n",
      "Epoch 24/30\n",
      "668/668 [==============================] - 518s 776ms/step - loss: 0.0541 - accuracy: 0.9918 - val_loss: 0.0311 - val_accuracy: 1.0000\n",
      "Epoch 25/30\n",
      "668/668 [==============================] - 519s 777ms/step - loss: 0.0501 - accuracy: 0.9924 - val_loss: 0.0297 - val_accuracy: 1.0000\n",
      "Epoch 26/30\n",
      "668/668 [==============================] - 519s 778ms/step - loss: 0.0420 - accuracy: 0.9944 - val_loss: 0.0287 - val_accuracy: 1.0000\n",
      "Epoch 27/30\n",
      "668/668 [==============================] - 519s 777ms/step - loss: 0.0471 - accuracy: 0.9932 - val_loss: 0.0276 - val_accuracy: 1.0000\n",
      "Epoch 28/30\n",
      "668/668 [==============================] - 520s 779ms/step - loss: 0.0501 - accuracy: 0.9921 - val_loss: 0.0268 - val_accuracy: 1.0000\n",
      "Epoch 29/30\n",
      "668/668 [==============================] - 519s 777ms/step - loss: 0.0457 - accuracy: 0.9936 - val_loss: 0.0261 - val_accuracy: 1.0000\n",
      "Epoch 30/30\n",
      "668/668 [==============================] - 518s 776ms/step - loss: 0.0435 - accuracy: 0.9940 - val_loss: 0.0255 - val_accuracy: 1.0000\n",
      "INFO:tensorflow:Assets written to: ../xception/xception_30epochs_33393.6 images/assets\n",
      "Test acc for xception: 0.989669\n",
      "Done!\n",
      "--------------------------------------------------\n",
      "\n",
      "Training resnet for 0.4% of train size (aka 33393 images)...\n"
     ]
    },
    {
     "name": "stderr",
     "output_type": "stream",
     "text": [
      "<ipython-input-8-797fd00c81c1>:20: UserWarning: Matplotlib is currently using module://ipykernel.pylab.backend_inline, which is a non-GUI backend, so cannot show the figure.\n",
      "  self.fig.show()\n"
     ]
    },
    {
     "name": "stdout",
     "output_type": "stream",
     "text": [
      "Epoch 1/30\n",
      "  6/668 [..............................] - ETA: 8:01 - loss: 1.3752 - accuracy: 0.3983WARNING:tensorflow:Callback method `on_train_batch_begin` is slow compared to the batch time (batch time: 0.1028s vs `on_train_batch_begin` time: 0.1797s). Check your callbacks.\n",
      "WARNING:tensorflow:Callback method `on_train_batch_end` is slow compared to the batch time (batch time: 0.1028s vs `on_train_batch_end` time: 0.3500s). Check your callbacks.\n",
      "668/668 [==============================] - 146s 207ms/step - loss: 1.2905 - accuracy: 0.4426 - val_loss: 1.5412 - val_accuracy: 0.2500\n"
     ]
    },
    {
     "name": "stderr",
     "output_type": "stream",
     "text": [
      "<ipython-input-8-797fd00c81c1>:48: UserWarning: Matplotlib is currently using module://ipykernel.pylab.backend_inline, which is a non-GUI backend, so cannot show the figure.\n",
      "  self.fig.show()\n"
     ]
    },
    {
     "name": "stdout",
     "output_type": "stream",
     "text": [
      "Epoch 2/30\n",
      "668/668 [==============================] - 134s 200ms/step - loss: 1.2284 - accuracy: 0.4503 - val_loss: 1.5605 - val_accuracy: 0.2500\n",
      "Epoch 3/30\n",
      "668/668 [==============================] - 134s 200ms/step - loss: 1.2243 - accuracy: 0.4509 - val_loss: 1.5576 - val_accuracy: 0.2500\n",
      "Epoch 4/30\n",
      "668/668 [==============================] - 134s 200ms/step - loss: 1.2283 - accuracy: 0.4455 - val_loss: 1.5577 - val_accuracy: 0.2500\n",
      "Epoch 5/30\n",
      "668/668 [==============================] - 134s 200ms/step - loss: 1.2273 - accuracy: 0.4494 - val_loss: 1.5594 - val_accuracy: 0.2500\n",
      "Epoch 6/30\n",
      "668/668 [==============================] - 134s 200ms/step - loss: 1.2319 - accuracy: 0.4447 - val_loss: 1.5642 - val_accuracy: 0.2500\n",
      "Epoch 7/30\n",
      "668/668 [==============================] - 134s 200ms/step - loss: 1.2267 - accuracy: 0.4504 - val_loss: 1.5604 - val_accuracy: 0.2500\n",
      "Epoch 8/30\n",
      "668/668 [==============================] - 134s 200ms/step - loss: 1.2316 - accuracy: 0.4454 - val_loss: 1.5620 - val_accuracy: 0.2500\n",
      "Epoch 9/30\n",
      "668/668 [==============================] - 134s 200ms/step - loss: 1.2260 - accuracy: 0.4503 - val_loss: 1.5628 - val_accuracy: 0.2500\n",
      "Epoch 10/30\n",
      "668/668 [==============================] - 133s 200ms/step - loss: 1.2270 - accuracy: 0.4509 - val_loss: 1.5617 - val_accuracy: 0.2500\n",
      "Epoch 11/30\n",
      "668/668 [==============================] - 134s 200ms/step - loss: 1.2212 - accuracy: 0.4547 - val_loss: 1.5591 - val_accuracy: 0.2500\n",
      "Epoch 12/30\n",
      "668/668 [==============================] - 134s 200ms/step - loss: 1.2240 - accuracy: 0.4535 - val_loss: 1.5593 - val_accuracy: 0.2500\n",
      "Epoch 13/30\n",
      "668/668 [==============================] - 134s 200ms/step - loss: 1.2245 - accuracy: 0.4489 - val_loss: 1.5594 - val_accuracy: 0.2500\n",
      "Epoch 14/30\n",
      "668/668 [==============================] - 134s 200ms/step - loss: 1.2261 - accuracy: 0.4458 - val_loss: 1.5600 - val_accuracy: 0.2500\n",
      "Epoch 15/30\n",
      "668/668 [==============================] - 133s 200ms/step - loss: 1.2235 - accuracy: 0.4492 - val_loss: 1.5602 - val_accuracy: 0.2500\n",
      "Epoch 16/30\n",
      "668/668 [==============================] - 134s 200ms/step - loss: 1.2236 - accuracy: 0.4485 - val_loss: 1.5603 - val_accuracy: 0.2500\n",
      "Epoch 17/30\n",
      "668/668 [==============================] - 134s 200ms/step - loss: 1.2234 - accuracy: 0.4507 - val_loss: 1.5602 - val_accuracy: 0.2500\n",
      "Epoch 18/30\n",
      "668/668 [==============================] - 134s 200ms/step - loss: 1.2198 - accuracy: 0.4571 - val_loss: 1.5597 - val_accuracy: 0.2500\n",
      "Epoch 19/30\n",
      "668/668 [==============================] - 134s 200ms/step - loss: 1.2241 - accuracy: 0.4500 - val_loss: 1.5603 - val_accuracy: 0.2500\n",
      "Epoch 20/30\n",
      "668/668 [==============================] - 134s 200ms/step - loss: 1.2213 - accuracy: 0.4537 - val_loss: 1.5602 - val_accuracy: 0.2500\n",
      "Epoch 21/30\n",
      "668/668 [==============================] - 134s 200ms/step - loss: 1.2294 - accuracy: 0.4458 - val_loss: 1.5606 - val_accuracy: 0.2500\n",
      "Epoch 22/30\n",
      "668/668 [==============================] - 134s 200ms/step - loss: 1.2295 - accuracy: 0.4475 - val_loss: 1.5607 - val_accuracy: 0.2500\n",
      "Epoch 23/30\n",
      "668/668 [==============================] - 134s 200ms/step - loss: 1.2264 - accuracy: 0.4512 - val_loss: 1.5609 - val_accuracy: 0.2500\n",
      "Epoch 24/30\n",
      "668/668 [==============================] - 134s 200ms/step - loss: 1.2286 - accuracy: 0.4463 - val_loss: 1.5611 - val_accuracy: 0.2500\n",
      "Epoch 25/30\n",
      "668/668 [==============================] - 134s 200ms/step - loss: 1.2291 - accuracy: 0.4464 - val_loss: 1.5609 - val_accuracy: 0.2500\n",
      "Epoch 26/30\n",
      "668/668 [==============================] - 134s 201ms/step - loss: 1.2285 - accuracy: 0.4467 - val_loss: 1.5611 - val_accuracy: 0.2500\n",
      "Epoch 27/30\n",
      "668/668 [==============================] - 134s 200ms/step - loss: 1.2231 - accuracy: 0.4477 - val_loss: 1.5610 - val_accuracy: 0.2500\n",
      "Epoch 28/30\n",
      "668/668 [==============================] - 134s 200ms/step - loss: 1.2308 - accuracy: 0.4445 - val_loss: 1.5609 - val_accuracy: 0.2500\n",
      "Epoch 29/30\n",
      "668/668 [==============================] - 134s 200ms/step - loss: 1.2299 - accuracy: 0.4482 - val_loss: 1.5611 - val_accuracy: 0.2500\n",
      "Epoch 30/30\n",
      "668/668 [==============================] - 134s 201ms/step - loss: 1.2298 - accuracy: 0.4482 - val_loss: 1.5610 - val_accuracy: 0.2500\n",
      "INFO:tensorflow:Assets written to: ../resnet/resnet_30epochs_33393.6 images/assets\n",
      "Test acc for resnet: 0.250000\n",
      "Done!\n",
      "--------------------------------------------------\n",
      "\n",
      "Training opticnet for 0.4% of train size (aka 33393 images)...\n"
     ]
    },
    {
     "name": "stderr",
     "output_type": "stream",
     "text": [
      "<ipython-input-8-797fd00c81c1>:20: UserWarning: Matplotlib is currently using module://ipykernel.pylab.backend_inline, which is a non-GUI backend, so cannot show the figure.\n",
      "  self.fig.show()\n"
     ]
    },
    {
     "name": "stdout",
     "output_type": "stream",
     "text": [
      "Epoch 1/30\n",
      "  6/668 [..............................] - ETA: 23:23 - loss: 31.3049 - accuracy: 0.2301WARNING:tensorflow:Callback method `on_train_batch_end` is slow compared to the batch time (batch time: 0.4707s vs `on_train_batch_end` time: 1.2826s). Check your callbacks.\n",
      "668/668 [==============================] - 807s 1s/step - loss: 2.9172 - accuracy: 0.5744 - val_loss: 0.9390 - val_accuracy: 0.6250\n"
     ]
    },
    {
     "name": "stderr",
     "output_type": "stream",
     "text": [
      "<ipython-input-8-797fd00c81c1>:48: UserWarning: Matplotlib is currently using module://ipykernel.pylab.backend_inline, which is a non-GUI backend, so cannot show the figure.\n",
      "  self.fig.show()\n"
     ]
    },
    {
     "name": "stdout",
     "output_type": "stream",
     "text": [
      "Epoch 2/30\n",
      "668/668 [==============================] - 785s 1s/step - loss: 0.4361 - accuracy: 0.8481 - val_loss: 0.9199 - val_accuracy: 0.5938\n",
      "Epoch 3/30\n",
      "668/668 [==============================] - 788s 1s/step - loss: 0.2659 - accuracy: 0.9125 - val_loss: 0.5032 - val_accuracy: 0.8438\n",
      "Epoch 4/30\n",
      "668/668 [==============================] - 785s 1s/step - loss: 0.2175 - accuracy: 0.9267 - val_loss: 0.2832 - val_accuracy: 0.8750\n",
      "Epoch 5/30\n",
      "668/668 [==============================] - 788s 1s/step - loss: 0.1864 - accuracy: 0.9366 - val_loss: 0.1249 - val_accuracy: 0.9062\n",
      "Epoch 6/30\n",
      "668/668 [==============================] - 785s 1s/step - loss: 0.1668 - accuracy: 0.9435 - val_loss: 0.1521 - val_accuracy: 0.9375\n",
      "Epoch 7/30\n",
      "668/668 [==============================] - 783s 1s/step - loss: 0.1417 - accuracy: 0.9535 - val_loss: 0.0448 - val_accuracy: 1.0000\n",
      "Epoch 8/30\n",
      "668/668 [==============================] - 785s 1s/step - loss: 0.1246 - accuracy: 0.9581 - val_loss: 0.2087 - val_accuracy: 0.9375\n",
      "Epoch 9/30\n",
      "668/668 [==============================] - 786s 1s/step - loss: 0.1038 - accuracy: 0.9633 - val_loss: 0.3869 - val_accuracy: 0.8750\n",
      "Epoch 10/30\n",
      "668/668 [==============================] - 785s 1s/step - loss: 0.0864 - accuracy: 0.9718 - val_loss: 0.0420 - val_accuracy: 1.0000\n",
      "Epoch 11/30\n",
      "668/668 [==============================] - 785s 1s/step - loss: 0.0692 - accuracy: 0.9761 - val_loss: 0.2941 - val_accuracy: 0.8750\n",
      "Epoch 12/30\n",
      "668/668 [==============================] - 786s 1s/step - loss: 0.0469 - accuracy: 0.9842 - val_loss: 0.0753 - val_accuracy: 0.9688\n",
      "Epoch 13/30\n",
      "668/668 [==============================] - 787s 1s/step - loss: 0.0396 - accuracy: 0.9868 - val_loss: 0.1325 - val_accuracy: 0.9688\n",
      "Epoch 14/30\n",
      "668/668 [==============================] - 783s 1s/step - loss: 0.0315 - accuracy: 0.9894 - val_loss: 0.7411 - val_accuracy: 0.8750\n",
      "Epoch 15/30\n",
      "668/668 [==============================] - 785s 1s/step - loss: 0.0214 - accuracy: 0.9929 - val_loss: 0.1457 - val_accuracy: 0.9688\n",
      "Epoch 16/30\n",
      "668/668 [==============================] - 785s 1s/step - loss: 0.0186 - accuracy: 0.9939 - val_loss: 0.8669 - val_accuracy: 0.8750\n",
      "Epoch 17/30\n",
      "668/668 [==============================] - 788s 1s/step - loss: 0.0160 - accuracy: 0.9949 - val_loss: 0.3227 - val_accuracy: 0.9688\n",
      "Epoch 18/30\n",
      "668/668 [==============================] - 785s 1s/step - loss: 0.0116 - accuracy: 0.9965 - val_loss: 0.2162 - val_accuracy: 0.9688\n",
      "Epoch 19/30\n",
      "668/668 [==============================] - 784s 1s/step - loss: 0.0092 - accuracy: 0.9973 - val_loss: 0.1178 - val_accuracy: 0.9688\n",
      "Epoch 20/30\n",
      "668/668 [==============================] - 786s 1s/step - loss: 0.0088 - accuracy: 0.9973 - val_loss: 0.1452 - val_accuracy: 0.9688\n",
      "Epoch 21/30\n",
      "668/668 [==============================] - 785s 1s/step - loss: 0.0084 - accuracy: 0.9973 - val_loss: 0.2352 - val_accuracy: 0.9688\n",
      "Epoch 22/30\n",
      "668/668 [==============================] - 787s 1s/step - loss: 0.0068 - accuracy: 0.9981 - val_loss: 0.3009 - val_accuracy: 0.9688\n",
      "Epoch 23/30\n",
      "668/668 [==============================] - 786s 1s/step - loss: 0.0062 - accuracy: 0.9980 - val_loss: 0.2440 - val_accuracy: 0.9688\n",
      "Epoch 24/30\n",
      "668/668 [==============================] - 787s 1s/step - loss: 0.0065 - accuracy: 0.9982 - val_loss: 0.1981 - val_accuracy: 0.9688\n",
      "Epoch 25/30\n",
      "668/668 [==============================] - 787s 1s/step - loss: 0.0048 - accuracy: 0.9984 - val_loss: 0.1173 - val_accuracy: 0.9688\n",
      "Epoch 26/30\n",
      "668/668 [==============================] - 788s 1s/step - loss: 0.0055 - accuracy: 0.9984 - val_loss: 0.2057 - val_accuracy: 0.9688\n",
      "Epoch 27/30\n",
      "668/668 [==============================] - 788s 1s/step - loss: 0.0035 - accuracy: 0.9988 - val_loss: 0.0333 - val_accuracy: 0.9688\n",
      "Epoch 28/30\n",
      "668/668 [==============================] - 790s 1s/step - loss: 0.0043 - accuracy: 0.9983 - val_loss: 0.1503 - val_accuracy: 0.9688\n",
      "Epoch 29/30\n",
      "668/668 [==============================] - 787s 1s/step - loss: 0.0029 - accuracy: 0.9987 - val_loss: 0.3851 - val_accuracy: 0.9688\n",
      "Epoch 30/30\n",
      "668/668 [==============================] - 788s 1s/step - loss: 0.0029 - accuracy: 0.9989 - val_loss: 0.2996 - val_accuracy: 0.9688\n",
      "INFO:tensorflow:Assets written to: ../opticnet/opticnet_30epochs_33393.6 images/assets\n",
      "Test acc for opticnet: 0.989669\n",
      "Done!\n",
      "--------------------------------------------------\n",
      "\n",
      "Labels fraction: [0.49747292 0.50272813 0.49973564 0.49628598]\n",
      "Training xception for 0.5% of train size (aka 41742 images)...\n"
     ]
    },
    {
     "name": "stderr",
     "output_type": "stream",
     "text": [
      "<ipython-input-8-797fd00c81c1>:20: UserWarning: Matplotlib is currently using module://ipykernel.pylab.backend_inline, which is a non-GUI backend, so cannot show the figure.\n",
      "  self.fig.show()\n"
     ]
    },
    {
     "name": "stdout",
     "output_type": "stream",
     "text": [
      "Epoch 1/30\n",
      "  6/835 [..............................] - ETA: 17:57 - loss: 1.3825 - accuracy: 0.4545WARNING:tensorflow:Callback method `on_train_batch_begin` is slow compared to the batch time (batch time: 0.1614s vs `on_train_batch_begin` time: 0.1935s). Check your callbacks.\n",
      "WARNING:tensorflow:Callback method `on_train_batch_end` is slow compared to the batch time (batch time: 0.1614s vs `on_train_batch_end` time: 0.8487s). Check your callbacks.\n",
      "835/835 [==============================] - 660s 784ms/step - loss: 1.1644 - accuracy: 0.6899 - val_loss: 1.1734 - val_accuracy: 0.5938\n"
     ]
    },
    {
     "name": "stderr",
     "output_type": "stream",
     "text": [
      "<ipython-input-8-797fd00c81c1>:48: UserWarning: Matplotlib is currently using module://ipykernel.pylab.backend_inline, which is a non-GUI backend, so cannot show the figure.\n",
      "  self.fig.show()\n"
     ]
    },
    {
     "name": "stdout",
     "output_type": "stream",
     "text": [
      "Epoch 2/30\n",
      "835/835 [==============================] - 650s 778ms/step - loss: 0.7749 - accuracy: 0.7911 - val_loss: 0.7151 - val_accuracy: 0.7500\n",
      "Epoch 3/30\n",
      "835/835 [==============================] - 650s 778ms/step - loss: 0.5835 - accuracy: 0.8319 - val_loss: 0.6397 - val_accuracy: 0.7500\n",
      "Epoch 4/30\n",
      "835/835 [==============================] - 652s 781ms/step - loss: 0.4635 - accuracy: 0.8504 - val_loss: 0.6035 - val_accuracy: 0.7188\n",
      "Epoch 5/30\n",
      "835/835 [==============================] - 651s 780ms/step - loss: 0.3710 - accuracy: 0.9082 - val_loss: 0.2088 - val_accuracy: 1.0000\n",
      "Epoch 6/30\n",
      "835/835 [==============================] - 652s 781ms/step - loss: 0.2708 - accuracy: 0.9402 - val_loss: 0.2040 - val_accuracy: 0.9375\n",
      "Epoch 7/30\n",
      "835/835 [==============================] - 652s 781ms/step - loss: 0.2139 - accuracy: 0.9514 - val_loss: 0.1100 - val_accuracy: 1.0000\n",
      "Epoch 8/30\n",
      "835/835 [==============================] - 652s 781ms/step - loss: 0.1898 - accuracy: 0.9555 - val_loss: 0.0934 - val_accuracy: 1.0000\n",
      "Epoch 9/30\n",
      "835/835 [==============================] - 652s 781ms/step - loss: 0.1630 - accuracy: 0.9608 - val_loss: 0.0667 - val_accuracy: 1.0000\n",
      "Epoch 10/30\n",
      "835/835 [==============================] - 653s 782ms/step - loss: 0.1430 - accuracy: 0.9661 - val_loss: 0.0644 - val_accuracy: 1.0000\n",
      "Epoch 11/30\n",
      "835/835 [==============================] - 653s 782ms/step - loss: 0.1243 - accuracy: 0.9693 - val_loss: 0.0808 - val_accuracy: 1.0000\n",
      "Epoch 12/30\n",
      "835/835 [==============================] - 654s 783ms/step - loss: 0.1085 - accuracy: 0.9742 - val_loss: 0.0427 - val_accuracy: 1.0000\n",
      "Epoch 13/30\n",
      "835/835 [==============================] - 653s 782ms/step - loss: 0.0892 - accuracy: 0.9805 - val_loss: 0.0355 - val_accuracy: 1.0000\n",
      "Epoch 14/30\n",
      "835/835 [==============================] - 655s 785ms/step - loss: 0.0824 - accuracy: 0.9819 - val_loss: 0.0324 - val_accuracy: 1.0000\n",
      "Epoch 15/30\n",
      "835/835 [==============================] - 653s 782ms/step - loss: 0.0732 - accuracy: 0.9834 - val_loss: 0.0319 - val_accuracy: 1.0000\n",
      "Epoch 16/30\n",
      "835/835 [==============================] - 655s 785ms/step - loss: 0.0633 - accuracy: 0.9871 - val_loss: 0.0254 - val_accuracy: 1.0000\n",
      "Epoch 17/30\n",
      "835/835 [==============================] - 655s 784ms/step - loss: 0.0543 - accuracy: 0.9897 - val_loss: 0.0227 - val_accuracy: 1.0000\n",
      "Epoch 18/30\n",
      "835/835 [==============================] - 655s 785ms/step - loss: 0.0487 - accuracy: 0.9908 - val_loss: 0.0214 - val_accuracy: 1.0000\n",
      "Epoch 19/30\n",
      "835/835 [==============================] - 655s 784ms/step - loss: 0.0453 - accuracy: 0.9921 - val_loss: 0.0203 - val_accuracy: 1.0000\n",
      "Epoch 20/30\n",
      "835/835 [==============================] - 655s 784ms/step - loss: 0.0432 - accuracy: 0.9925 - val_loss: 0.0184 - val_accuracy: 1.0000\n",
      "Epoch 21/30\n",
      "835/835 [==============================] - 655s 784ms/step - loss: 0.0392 - accuracy: 0.9934 - val_loss: 0.0190 - val_accuracy: 1.0000\n",
      "Epoch 22/30\n",
      "835/835 [==============================] - 654s 783ms/step - loss: 0.0369 - accuracy: 0.9935 - val_loss: 0.0260 - val_accuracy: 1.0000\n",
      "Epoch 23/30\n",
      "835/835 [==============================] - 655s 784ms/step - loss: 0.0362 - accuracy: 0.9942 - val_loss: 0.0809 - val_accuracy: 0.9688\n",
      "Epoch 24/30\n",
      "835/835 [==============================] - 654s 783ms/step - loss: 0.0330 - accuracy: 0.9946 - val_loss: 0.1893 - val_accuracy: 0.9688\n",
      "Epoch 25/30\n",
      "835/835 [==============================] - 654s 783ms/step - loss: 0.0310 - accuracy: 0.9951 - val_loss: 0.0429 - val_accuracy: 0.9688\n",
      "Epoch 26/30\n",
      "835/835 [==============================] - 654s 783ms/step - loss: 0.0288 - accuracy: 0.9955 - val_loss: 0.0447 - val_accuracy: 0.9688\n",
      "Epoch 27/30\n",
      "835/835 [==============================] - 653s 781ms/step - loss: 0.0293 - accuracy: 0.9953 - val_loss: 0.0248 - val_accuracy: 1.0000\n",
      "Epoch 28/30\n",
      "835/835 [==============================] - 653s 782ms/step - loss: 0.0294 - accuracy: 0.9955 - val_loss: 0.0726 - val_accuracy: 0.9688\n",
      "Epoch 29/30\n",
      "835/835 [==============================] - 654s 783ms/step - loss: 0.0262 - accuracy: 0.9962 - val_loss: 0.1462 - val_accuracy: 0.9688\n",
      "Epoch 30/30\n",
      "835/835 [==============================] - 653s 782ms/step - loss: 0.0259 - accuracy: 0.9959 - val_loss: 0.1262 - val_accuracy: 0.9688\n",
      "INFO:tensorflow:Assets written to: ../xception/xception_30epochs_41742.0 images/assets\n",
      "Test acc for xception: 0.992769\n",
      "Done!\n",
      "--------------------------------------------------\n",
      "\n",
      "Training resnet for 0.5% of train size (aka 41742 images)...\n"
     ]
    },
    {
     "name": "stderr",
     "output_type": "stream",
     "text": [
      "<ipython-input-8-797fd00c81c1>:20: UserWarning: Matplotlib is currently using module://ipykernel.pylab.backend_inline, which is a non-GUI backend, so cannot show the figure.\n",
      "  self.fig.show()\n"
     ]
    },
    {
     "name": "stdout",
     "output_type": "stream",
     "text": [
      "Epoch 1/30\n",
      "  6/835 [..............................] - ETA: 9:47 - loss: 1.3764 - accuracy: 0.3687 WARNING:tensorflow:Callback method `on_train_batch_begin` is slow compared to the batch time (batch time: 0.1026s vs `on_train_batch_begin` time: 0.1775s). Check your callbacks.\n",
      "WARNING:tensorflow:Callback method `on_train_batch_end` is slow compared to the batch time (batch time: 0.1026s vs `on_train_batch_end` time: 0.3376s). Check your callbacks.\n",
      "835/835 [==============================] - 178s 206ms/step - loss: 1.2853 - accuracy: 0.4401 - val_loss: 1.5586 - val_accuracy: 0.2500\n"
     ]
    },
    {
     "name": "stderr",
     "output_type": "stream",
     "text": [
      "<ipython-input-8-797fd00c81c1>:48: UserWarning: Matplotlib is currently using module://ipykernel.pylab.backend_inline, which is a non-GUI backend, so cannot show the figure.\n",
      "  self.fig.show()\n"
     ]
    },
    {
     "name": "stdout",
     "output_type": "stream",
     "text": [
      "Epoch 2/30\n",
      "835/835 [==============================] - 168s 202ms/step - loss: 1.2293 - accuracy: 0.4486 - val_loss: 1.5581 - val_accuracy: 0.2500\n",
      "Epoch 3/30\n",
      "835/835 [==============================] - 168s 201ms/step - loss: 1.2280 - accuracy: 0.4494 - val_loss: 1.5601 - val_accuracy: 0.2500\n",
      "Epoch 4/30\n",
      "835/835 [==============================] - 167s 201ms/step - loss: 1.2307 - accuracy: 0.4469 - val_loss: 1.5601 - val_accuracy: 0.2500\n",
      "Epoch 5/30\n",
      "835/835 [==============================] - 167s 201ms/step - loss: 1.2340 - accuracy: 0.4428 - val_loss: 1.5622 - val_accuracy: 0.2500\n",
      "Epoch 6/30\n",
      "835/835 [==============================] - 168s 201ms/step - loss: 1.2279 - accuracy: 0.4478 - val_loss: 1.5623 - val_accuracy: 0.2500\n",
      "Epoch 7/30\n",
      "835/835 [==============================] - 168s 201ms/step - loss: 1.2270 - accuracy: 0.4505 - val_loss: 1.5584 - val_accuracy: 0.2500\n",
      "Epoch 8/30\n",
      "835/835 [==============================] - 167s 200ms/step - loss: 1.2277 - accuracy: 0.4490 - val_loss: 1.5609 - val_accuracy: 0.2500\n",
      "Epoch 9/30\n",
      "835/835 [==============================] - 168s 201ms/step - loss: 1.2273 - accuracy: 0.4494 - val_loss: 1.5586 - val_accuracy: 0.2500\n",
      "Epoch 10/30\n",
      "835/835 [==============================] - 168s 201ms/step - loss: 1.2275 - accuracy: 0.4477 - val_loss: 1.5585 - val_accuracy: 0.2500\n",
      "Epoch 11/30\n",
      "835/835 [==============================] - 167s 200ms/step - loss: 1.2265 - accuracy: 0.4490 - val_loss: 1.5595 - val_accuracy: 0.2500\n",
      "Epoch 12/30\n",
      "835/835 [==============================] - 167s 200ms/step - loss: 1.2303 - accuracy: 0.4463 - val_loss: 1.5603 - val_accuracy: 0.2500\n",
      "Epoch 13/30\n",
      "835/835 [==============================] - 167s 200ms/step - loss: 1.2304 - accuracy: 0.4466 - val_loss: 1.5590 - val_accuracy: 0.2500\n",
      "Epoch 14/30\n",
      "835/835 [==============================] - 168s 201ms/step - loss: 1.2273 - accuracy: 0.4464 - val_loss: 1.5587 - val_accuracy: 0.2500\n",
      "Epoch 15/30\n",
      "835/835 [==============================] - 167s 200ms/step - loss: 1.2279 - accuracy: 0.4483 - val_loss: 1.5594 - val_accuracy: 0.2500\n",
      "Epoch 16/30\n",
      "835/835 [==============================] - 167s 200ms/step - loss: 1.2285 - accuracy: 0.4475 - val_loss: 1.5591 - val_accuracy: 0.2500\n",
      "Epoch 17/30\n",
      "835/835 [==============================] - 167s 200ms/step - loss: 1.2272 - accuracy: 0.4464 - val_loss: 1.5592 - val_accuracy: 0.2500\n",
      "Epoch 18/30\n",
      "835/835 [==============================] - 167s 200ms/step - loss: 1.2306 - accuracy: 0.4492 - val_loss: 1.5596 - val_accuracy: 0.2500\n",
      "Epoch 19/30\n",
      "835/835 [==============================] - 167s 200ms/step - loss: 1.2275 - accuracy: 0.4472 - val_loss: 1.5597 - val_accuracy: 0.2500\n",
      "Epoch 20/30\n",
      "835/835 [==============================] - 167s 200ms/step - loss: 1.2312 - accuracy: 0.4472 - val_loss: 1.5597 - val_accuracy: 0.2500\n",
      "Epoch 21/30\n",
      "835/835 [==============================] - 168s 201ms/step - loss: 1.2267 - accuracy: 0.4514 - val_loss: 1.5592 - val_accuracy: 0.2500\n",
      "Epoch 22/30\n",
      "835/835 [==============================] - 168s 201ms/step - loss: 1.2294 - accuracy: 0.4478 - val_loss: 1.5595 - val_accuracy: 0.2500\n",
      "Epoch 23/30\n",
      "835/835 [==============================] - 168s 201ms/step - loss: 1.2290 - accuracy: 0.4454 - val_loss: 1.5594 - val_accuracy: 0.2500\n",
      "Epoch 24/30\n",
      "835/835 [==============================] - 168s 201ms/step - loss: 1.2335 - accuracy: 0.4422 - val_loss: 1.5596 - val_accuracy: 0.2500\n",
      "Epoch 25/30\n",
      "835/835 [==============================] - 168s 201ms/step - loss: 1.2215 - accuracy: 0.4524 - val_loss: 1.5593 - val_accuracy: 0.2500\n",
      "Epoch 26/30\n",
      "835/835 [==============================] - 167s 201ms/step - loss: 1.2275 - accuracy: 0.4493 - val_loss: 1.5593 - val_accuracy: 0.2500\n",
      "Epoch 27/30\n",
      "835/835 [==============================] - 167s 200ms/step - loss: 1.2249 - accuracy: 0.4515 - val_loss: 1.5591 - val_accuracy: 0.2500\n",
      "Epoch 28/30\n",
      "835/835 [==============================] - 168s 201ms/step - loss: 1.2281 - accuracy: 0.4485 - val_loss: 1.5592 - val_accuracy: 0.2500\n",
      "Epoch 29/30\n",
      "835/835 [==============================] - 168s 201ms/step - loss: 1.2237 - accuracy: 0.4508 - val_loss: 1.5591 - val_accuracy: 0.2500\n",
      "Epoch 30/30\n",
      "835/835 [==============================] - 168s 201ms/step - loss: 1.2237 - accuracy: 0.4518 - val_loss: 1.5591 - val_accuracy: 0.2500\n",
      "INFO:tensorflow:Assets written to: ../resnet/resnet_30epochs_41742.0 images/assets\n",
      "Test acc for resnet: 0.250000\n",
      "Done!\n",
      "--------------------------------------------------\n",
      "\n",
      "Training opticnet for 0.5% of train size (aka 41742 images)...\n"
     ]
    },
    {
     "name": "stderr",
     "output_type": "stream",
     "text": [
      "<ipython-input-8-797fd00c81c1>:20: UserWarning: Matplotlib is currently using module://ipykernel.pylab.backend_inline, which is a non-GUI backend, so cannot show the figure.\n",
      "  self.fig.show()\n"
     ]
    },
    {
     "name": "stdout",
     "output_type": "stream",
     "text": [
      "Epoch 1/30\n",
      "  6/835 [..............................] - ETA: 25:43 - loss: 19.7259 - accuracy: 0.2923WARNING:tensorflow:Callback method `on_train_batch_end` is slow compared to the batch time (batch time: 0.4674s vs `on_train_batch_end` time: 1.0641s). Check your callbacks.\n",
      "835/835 [==============================] - 1006s 1s/step - loss: 3.1048 - accuracy: 0.5683 - val_loss: 1.0122 - val_accuracy: 0.6875\n"
     ]
    },
    {
     "name": "stderr",
     "output_type": "stream",
     "text": [
      "<ipython-input-8-797fd00c81c1>:48: UserWarning: Matplotlib is currently using module://ipykernel.pylab.backend_inline, which is a non-GUI backend, so cannot show the figure.\n",
      "  self.fig.show()\n"
     ]
    },
    {
     "name": "stdout",
     "output_type": "stream",
     "text": [
      "Epoch 2/30\n",
      "835/835 [==============================] - 984s 1s/step - loss: 0.3191 - accuracy: 0.8890 - val_loss: 1.3275 - val_accuracy: 0.7500\n",
      "Epoch 3/30\n",
      "835/835 [==============================] - 984s 1s/step - loss: 0.2332 - accuracy: 0.9236 - val_loss: 0.6221 - val_accuracy: 0.6875\n",
      "Epoch 4/30\n",
      "835/835 [==============================] - 987s 1s/step - loss: 0.2011 - accuracy: 0.9326 - val_loss: 0.2824 - val_accuracy: 0.8750\n",
      "Epoch 5/30\n",
      "835/835 [==============================] - 986s 1s/step - loss: 0.1806 - accuracy: 0.9393 - val_loss: 1.4678 - val_accuracy: 0.5000\n",
      "Epoch 6/30\n",
      "835/835 [==============================] - 984s 1s/step - loss: 0.1582 - accuracy: 0.9477 - val_loss: 0.6777 - val_accuracy: 0.8125\n",
      "Epoch 7/30\n",
      "835/835 [==============================] - 985s 1s/step - loss: 0.1386 - accuracy: 0.9536 - val_loss: 0.1201 - val_accuracy: 0.9375\n",
      "Epoch 8/30\n",
      "835/835 [==============================] - 980s 1s/step - loss: 0.1247 - accuracy: 0.9575 - val_loss: 0.2435 - val_accuracy: 0.9375\n",
      "Epoch 9/30\n",
      "835/835 [==============================] - 984s 1s/step - loss: 0.1137 - accuracy: 0.9608 - val_loss: 0.1104 - val_accuracy: 0.9688\n",
      "Epoch 10/30\n",
      "835/835 [==============================] - 981s 1s/step - loss: 0.0898 - accuracy: 0.9689 - val_loss: 0.0470 - val_accuracy: 1.0000\n",
      "Epoch 11/30\n",
      "835/835 [==============================] - 982s 1s/step - loss: 0.0708 - accuracy: 0.9767 - val_loss: 0.0357 - val_accuracy: 1.0000\n",
      "Epoch 12/30\n",
      "835/835 [==============================] - 980s 1s/step - loss: 0.0586 - accuracy: 0.9789 - val_loss: 0.0158 - val_accuracy: 1.0000\n",
      "Epoch 13/30\n",
      "835/835 [==============================] - 982s 1s/step - loss: 0.0489 - accuracy: 0.9838 - val_loss: 0.0031 - val_accuracy: 1.0000\n",
      "Epoch 14/30\n",
      "835/835 [==============================] - 983s 1s/step - loss: 0.0368 - accuracy: 0.9880 - val_loss: 0.1032 - val_accuracy: 0.9688\n",
      "Epoch 15/30\n",
      "835/835 [==============================] - 983s 1s/step - loss: 0.0297 - accuracy: 0.9905 - val_loss: 0.0260 - val_accuracy: 0.9688\n",
      "Epoch 16/30\n",
      "835/835 [==============================] - 983s 1s/step - loss: 0.0219 - accuracy: 0.9931 - val_loss: 0.0576 - val_accuracy: 0.9688\n",
      "Epoch 17/30\n",
      "835/835 [==============================] - 982s 1s/step - loss: 0.0215 - accuracy: 0.9940 - val_loss: 0.0404 - val_accuracy: 0.9688\n",
      "Epoch 18/30\n",
      "835/835 [==============================] - 984s 1s/step - loss: 0.0159 - accuracy: 0.9954 - val_loss: 0.2240 - val_accuracy: 0.9688\n",
      "Epoch 19/30\n",
      "835/835 [==============================] - 983s 1s/step - loss: 0.0133 - accuracy: 0.9961 - val_loss: 0.0958 - val_accuracy: 0.9688\n",
      "Epoch 20/30\n",
      "835/835 [==============================] - 984s 1s/step - loss: 0.0098 - accuracy: 0.9973 - val_loss: 0.0695 - val_accuracy: 0.9688\n",
      "Epoch 21/30\n",
      "835/835 [==============================] - 984s 1s/step - loss: 0.0107 - accuracy: 0.9964 - val_loss: 0.0621 - val_accuracy: 0.9688\n",
      "Epoch 22/30\n",
      "835/835 [==============================] - 984s 1s/step - loss: 0.0097 - accuracy: 0.9964 - val_loss: 0.0085 - val_accuracy: 1.0000\n",
      "Epoch 23/30\n",
      "835/835 [==============================] - 983s 1s/step - loss: 0.0078 - accuracy: 0.9976 - val_loss: 0.1243 - val_accuracy: 0.9688\n",
      "Epoch 24/30\n",
      "835/835 [==============================] - 981s 1s/step - loss: 0.0069 - accuracy: 0.9972 - val_loss: 0.0668 - val_accuracy: 0.9688\n",
      "Epoch 25/30\n",
      "835/835 [==============================] - 980s 1s/step - loss: 0.0055 - accuracy: 0.9980 - val_loss: 0.1114 - val_accuracy: 0.9688\n",
      "Epoch 26/30\n",
      "835/835 [==============================] - 983s 1s/step - loss: 0.0074 - accuracy: 0.9971 - val_loss: 0.0966 - val_accuracy: 0.9688\n",
      "Epoch 27/30\n",
      "835/835 [==============================] - 983s 1s/step - loss: 0.0049 - accuracy: 0.9981 - val_loss: 0.1781 - val_accuracy: 0.9688\n",
      "Epoch 28/30\n",
      "835/835 [==============================] - 981s 1s/step - loss: 0.0042 - accuracy: 0.9983 - val_loss: 0.0879 - val_accuracy: 0.9688\n",
      "Epoch 29/30\n",
      "835/835 [==============================] - 982s 1s/step - loss: 0.0055 - accuracy: 0.9976 - val_loss: 0.2921 - val_accuracy: 0.9688\n",
      "Epoch 30/30\n",
      "835/835 [==============================] - 984s 1s/step - loss: 0.0041 - accuracy: 0.9982 - val_loss: 0.2658 - val_accuracy: 0.9688\n",
      "INFO:tensorflow:Assets written to: ../opticnet/opticnet_30epochs_41742.0 images/assets\n",
      "Test acc for opticnet: 0.990702\n",
      "Done!\n",
      "--------------------------------------------------\n",
      "\n",
      "Labels fraction: [0.59893597 0.60188147 0.60107508 0.59366295]\n",
      "Training xception for 0.6% of train size (aka 50090 images)...\n"
     ]
    },
    {
     "name": "stderr",
     "output_type": "stream",
     "text": [
      "<ipython-input-8-797fd00c81c1>:20: UserWarning: Matplotlib is currently using module://ipykernel.pylab.backend_inline, which is a non-GUI backend, so cannot show the figure.\n",
      "  self.fig.show()\n"
     ]
    },
    {
     "name": "stdout",
     "output_type": "stream",
     "text": [
      "Epoch 1/30\n",
      "   6/1002 [..............................] - ETA: 21:51 - loss: 1.3837 - accuracy: 0.3098WARNING:tensorflow:Callback method `on_train_batch_begin` is slow compared to the batch time (batch time: 0.1603s vs `on_train_batch_begin` time: 0.1936s). Check your callbacks.\n",
      "WARNING:tensorflow:Callback method `on_train_batch_end` is slow compared to the batch time (batch time: 0.1603s vs `on_train_batch_end` time: 0.8564s). Check your callbacks.\n",
      "1002/1002 [==============================] - 789s 781ms/step - loss: 1.1432 - accuracy: 0.7007 - val_loss: 1.4959 - val_accuracy: 0.4062\n"
     ]
    },
    {
     "name": "stderr",
     "output_type": "stream",
     "text": [
      "<ipython-input-8-797fd00c81c1>:48: UserWarning: Matplotlib is currently using module://ipykernel.pylab.backend_inline, which is a non-GUI backend, so cannot show the figure.\n",
      "  self.fig.show()\n"
     ]
    },
    {
     "name": "stdout",
     "output_type": "stream",
     "text": [
      "Epoch 2/30\n",
      "1002/1002 [==============================] - 779s 777ms/step - loss: 0.6968 - accuracy: 0.8151 - val_loss: 0.5245 - val_accuracy: 0.9375\n",
      "Epoch 3/30\n",
      "1002/1002 [==============================] - 779s 777ms/step - loss: 0.4442 - accuracy: 0.8984 - val_loss: 0.4160 - val_accuracy: 0.9062\n",
      "Epoch 4/30\n",
      "1002/1002 [==============================] - 781s 779ms/step - loss: 0.2978 - accuracy: 0.9322 - val_loss: 0.1383 - val_accuracy: 1.0000\n",
      "Epoch 5/30\n",
      "1002/1002 [==============================] - 779s 778ms/step - loss: 0.2282 - accuracy: 0.9455 - val_loss: 0.1049 - val_accuracy: 1.0000\n",
      "Epoch 6/30\n",
      "1002/1002 [==============================] - 778s 777ms/step - loss: 0.1855 - accuracy: 0.9538 - val_loss: 0.1122 - val_accuracy: 0.9688\n",
      "Epoch 7/30\n",
      "1002/1002 [==============================] - 779s 777ms/step - loss: 0.1594 - accuracy: 0.9596 - val_loss: 0.0953 - val_accuracy: 0.9688\n",
      "Epoch 8/30\n",
      "1002/1002 [==============================] - 780s 778ms/step - loss: 0.1357 - accuracy: 0.9632 - val_loss: 0.1073 - val_accuracy: 0.9688\n",
      "Epoch 9/30\n",
      "1002/1002 [==============================] - 779s 777ms/step - loss: 0.1176 - accuracy: 0.9694 - val_loss: 0.0356 - val_accuracy: 1.0000\n",
      "Epoch 10/30\n",
      "1002/1002 [==============================] - 780s 778ms/step - loss: 0.0977 - accuracy: 0.9750 - val_loss: 0.0367 - val_accuracy: 1.0000\n",
      "Epoch 11/30\n",
      "1002/1002 [==============================] - 781s 780ms/step - loss: 0.0859 - accuracy: 0.9782 - val_loss: 0.0256 - val_accuracy: 1.0000\n",
      "Epoch 12/30\n",
      "1002/1002 [==============================] - 779s 777ms/step - loss: 0.0696 - accuracy: 0.9837 - val_loss: 0.0432 - val_accuracy: 1.0000\n",
      "Epoch 13/30\n",
      "1002/1002 [==============================] - 779s 778ms/step - loss: 0.0680 - accuracy: 0.9837 - val_loss: 0.0224 - val_accuracy: 1.0000\n",
      "Epoch 14/30\n",
      "1002/1002 [==============================] - 780s 779ms/step - loss: 0.0523 - accuracy: 0.9883 - val_loss: 0.0179 - val_accuracy: 1.0000\n",
      "Epoch 15/30\n",
      "1002/1002 [==============================] - 780s 778ms/step - loss: 0.0512 - accuracy: 0.9886 - val_loss: 0.0385 - val_accuracy: 0.9688\n",
      "Epoch 16/30\n",
      "1002/1002 [==============================] - 781s 779ms/step - loss: 0.0444 - accuracy: 0.9904 - val_loss: 0.1521 - val_accuracy: 0.9688\n",
      "Epoch 17/30\n",
      "1002/1002 [==============================] - 780s 778ms/step - loss: 0.0412 - accuracy: 0.9920 - val_loss: 0.0183 - val_accuracy: 1.0000\n",
      "Epoch 18/30\n",
      "1002/1002 [==============================] - 782s 780ms/step - loss: 0.0365 - accuracy: 0.9930 - val_loss: 0.1966 - val_accuracy: 0.9688\n",
      "Epoch 19/30\n",
      "1002/1002 [==============================] - 784s 782ms/step - loss: 0.0323 - accuracy: 0.9942 - val_loss: 0.1950 - val_accuracy: 0.9688\n",
      "Epoch 20/30\n",
      "1002/1002 [==============================] - 783s 782ms/step - loss: 0.0323 - accuracy: 0.9943 - val_loss: 0.1800 - val_accuracy: 0.9688\n",
      "Epoch 21/30\n",
      "1002/1002 [==============================] - 784s 782ms/step - loss: 0.0314 - accuracy: 0.9946 - val_loss: 0.0121 - val_accuracy: 1.0000\n",
      "Epoch 22/30\n",
      "1002/1002 [==============================] - 783s 782ms/step - loss: 0.0288 - accuracy: 0.9948 - val_loss: 0.1428 - val_accuracy: 0.9688\n",
      "Epoch 23/30\n",
      "1002/1002 [==============================] - 781s 780ms/step - loss: 0.0310 - accuracy: 0.9949 - val_loss: 0.1954 - val_accuracy: 0.9688\n",
      "Epoch 24/30\n",
      "1002/1002 [==============================] - 783s 781ms/step - loss: 0.0266 - accuracy: 0.9954 - val_loss: 0.1989 - val_accuracy: 0.9688\n",
      "Epoch 25/30\n",
      "1002/1002 [==============================] - 782s 780ms/step - loss: 0.0295 - accuracy: 0.9950 - val_loss: 0.2009 - val_accuracy: 0.9688\n",
      "Epoch 26/30\n",
      "1002/1002 [==============================] - 785s 784ms/step - loss: 0.0248 - accuracy: 0.9957 - val_loss: 0.1967 - val_accuracy: 0.9688\n",
      "Epoch 27/30\n",
      "1002/1002 [==============================] - 784s 783ms/step - loss: 0.0275 - accuracy: 0.9953 - val_loss: 0.1987 - val_accuracy: 0.9688\n",
      "Epoch 28/30\n",
      "1002/1002 [==============================] - 784s 782ms/step - loss: 0.0223 - accuracy: 0.9963 - val_loss: 0.1923 - val_accuracy: 0.9688\n",
      "Epoch 29/30\n",
      "1002/1002 [==============================] - 784s 782ms/step - loss: 0.0245 - accuracy: 0.9959 - val_loss: 0.1909 - val_accuracy: 0.9688\n",
      "Epoch 30/30\n",
      "1002/1002 [==============================] - 784s 782ms/step - loss: 0.0236 - accuracy: 0.9961 - val_loss: 0.1898 - val_accuracy: 0.9688\n",
      "INFO:tensorflow:Assets written to: ../xception/xception_30epochs_50090.4 images/assets\n",
      "Test acc for xception: 0.994835\n",
      "Done!\n",
      "--------------------------------------------------\n",
      "\n",
      "Training resnet for 0.6% of train size (aka 50090 images)...\n"
     ]
    },
    {
     "name": "stderr",
     "output_type": "stream",
     "text": [
      "<ipython-input-8-797fd00c81c1>:20: UserWarning: Matplotlib is currently using module://ipykernel.pylab.backend_inline, which is a non-GUI backend, so cannot show the figure.\n",
      "  self.fig.show()\n"
     ]
    },
    {
     "name": "stdout",
     "output_type": "stream",
     "text": [
      "Epoch 1/30\n",
      "   6/1002 [..............................] - ETA: 11:55 - loss: 1.3803 - accuracy: 0.2145WARNING:tensorflow:Callback method `on_train_batch_begin` is slow compared to the batch time (batch time: 0.1039s vs `on_train_batch_begin` time: 0.1846s). Check your callbacks.\n",
      "WARNING:tensorflow:Callback method `on_train_batch_end` is slow compared to the batch time (batch time: 0.1039s vs `on_train_batch_end` time: 0.3371s). Check your callbacks.\n",
      "1002/1002 [==============================] - 212s 205ms/step - loss: 1.2158 - accuracy: 0.5530 - val_loss: 1.3461 - val_accuracy: 0.5000\n"
     ]
    },
    {
     "name": "stderr",
     "output_type": "stream",
     "text": [
      "<ipython-input-8-797fd00c81c1>:48: UserWarning: Matplotlib is currently using module://ipykernel.pylab.backend_inline, which is a non-GUI backend, so cannot show the figure.\n",
      "  self.fig.show()\n"
     ]
    },
    {
     "name": "stdout",
     "output_type": "stream",
     "text": [
      "Epoch 2/30\n",
      "1002/1002 [==============================] - 201s 201ms/step - loss: 0.8700 - accuracy: 0.7178 - val_loss: 1.3575 - val_accuracy: 0.5312\n",
      "Epoch 3/30\n",
      "1002/1002 [==============================] - 201s 200ms/step - loss: 0.7522 - accuracy: 0.7450 - val_loss: 1.0379 - val_accuracy: 0.5000\n",
      "Epoch 4/30\n",
      "1002/1002 [==============================] - 201s 200ms/step - loss: 0.6558 - accuracy: 0.7843 - val_loss: 2.0883 - val_accuracy: 0.2812\n",
      "Epoch 5/30\n",
      "1002/1002 [==============================] - 201s 200ms/step - loss: 0.5826 - accuracy: 0.8063 - val_loss: 0.7955 - val_accuracy: 0.7500\n",
      "Epoch 6/30\n",
      "1002/1002 [==============================] - 201s 200ms/step - loss: 0.5300 - accuracy: 0.8216 - val_loss: 1.0979 - val_accuracy: 0.5938\n",
      "Epoch 7/30\n",
      "1002/1002 [==============================] - 201s 200ms/step - loss: 0.4668 - accuracy: 0.8599 - val_loss: 0.4441 - val_accuracy: 0.9062\n",
      "Epoch 8/30\n",
      "1002/1002 [==============================] - 201s 200ms/step - loss: 0.3852 - accuracy: 0.8917 - val_loss: 0.3208 - val_accuracy: 0.9688\n",
      "Epoch 9/30\n",
      "1002/1002 [==============================] - 201s 200ms/step - loss: 0.3280 - accuracy: 0.9103 - val_loss: 0.3076 - val_accuracy: 0.9062\n",
      "Epoch 10/30\n",
      "1002/1002 [==============================] - 201s 201ms/step - loss: 0.2898 - accuracy: 0.9200 - val_loss: 0.2342 - val_accuracy: 0.9688\n",
      "Epoch 11/30\n",
      "1002/1002 [==============================] - 201s 201ms/step - loss: 0.2632 - accuracy: 0.9265 - val_loss: 0.1652 - val_accuracy: 0.9688\n",
      "Epoch 12/30\n",
      "1002/1002 [==============================] - 201s 200ms/step - loss: 0.2297 - accuracy: 0.9370 - val_loss: 0.1343 - val_accuracy: 0.9688\n",
      "Epoch 13/30\n",
      "1002/1002 [==============================] - 201s 200ms/step - loss: 0.2145 - accuracy: 0.9398 - val_loss: 0.3640 - val_accuracy: 0.8750\n",
      "Epoch 14/30\n",
      "1002/1002 [==============================] - 201s 200ms/step - loss: 0.2001 - accuracy: 0.9445 - val_loss: 0.1004 - val_accuracy: 0.9688\n",
      "Epoch 15/30\n",
      "1002/1002 [==============================] - 201s 200ms/step - loss: 0.1794 - accuracy: 0.9507 - val_loss: 0.0870 - val_accuracy: 0.9688\n",
      "Epoch 16/30\n",
      "1002/1002 [==============================] - 201s 201ms/step - loss: 0.1720 - accuracy: 0.9526 - val_loss: 0.2209 - val_accuracy: 0.9375\n",
      "Epoch 17/30\n",
      "1002/1002 [==============================] - 201s 201ms/step - loss: 0.1615 - accuracy: 0.9566 - val_loss: 0.1700 - val_accuracy: 0.9375\n",
      "Epoch 18/30\n",
      "1002/1002 [==============================] - 201s 201ms/step - loss: 0.1511 - accuracy: 0.9577 - val_loss: 0.0497 - val_accuracy: 1.0000\n",
      "Epoch 19/30\n",
      "1002/1002 [==============================] - 201s 201ms/step - loss: 0.1384 - accuracy: 0.9631 - val_loss: 0.4417 - val_accuracy: 0.8125\n",
      "Epoch 20/30\n",
      "1002/1002 [==============================] - 201s 201ms/step - loss: 0.1371 - accuracy: 0.9639 - val_loss: 0.1390 - val_accuracy: 0.9688\n",
      "Epoch 21/30\n",
      "1002/1002 [==============================] - 201s 201ms/step - loss: 0.1333 - accuracy: 0.9645 - val_loss: 0.0555 - val_accuracy: 1.0000\n",
      "Epoch 22/30\n",
      "1002/1002 [==============================] - 201s 201ms/step - loss: 0.1227 - accuracy: 0.9678 - val_loss: 0.0575 - val_accuracy: 1.0000\n",
      "Epoch 23/30\n",
      "1002/1002 [==============================] - 201s 201ms/step - loss: 0.1170 - accuracy: 0.9708 - val_loss: 0.0468 - val_accuracy: 1.0000\n",
      "Epoch 24/30\n",
      "1002/1002 [==============================] - 201s 201ms/step - loss: 0.1127 - accuracy: 0.9711 - val_loss: 0.1605 - val_accuracy: 0.9375\n",
      "Epoch 25/30\n",
      "1002/1002 [==============================] - 201s 201ms/step - loss: 0.1070 - accuracy: 0.9730 - val_loss: 0.1499 - val_accuracy: 0.9688\n",
      "Epoch 26/30\n",
      "1002/1002 [==============================] - 201s 201ms/step - loss: 0.1070 - accuracy: 0.9735 - val_loss: 0.0663 - val_accuracy: 0.9688\n",
      "Epoch 27/30\n",
      "1002/1002 [==============================] - 201s 201ms/step - loss: 0.1050 - accuracy: 0.9740 - val_loss: 0.0729 - val_accuracy: 0.9688\n",
      "Epoch 28/30\n",
      "1002/1002 [==============================] - 201s 201ms/step - loss: 0.0988 - accuracy: 0.9757 - val_loss: 0.0678 - val_accuracy: 0.9688\n",
      "Epoch 29/30\n",
      "1002/1002 [==============================] - 201s 201ms/step - loss: 0.1007 - accuracy: 0.9752 - val_loss: 0.0382 - val_accuracy: 1.0000\n",
      "Epoch 30/30\n",
      "1002/1002 [==============================] - 201s 201ms/step - loss: 0.0905 - accuracy: 0.9777 - val_loss: 0.0552 - val_accuracy: 0.9688\n",
      "INFO:tensorflow:Assets written to: ../resnet/resnet_30epochs_50090.4 images/assets\n",
      "Test acc for resnet: 0.989669\n",
      "Done!\n",
      "--------------------------------------------------\n",
      "\n",
      "Training opticnet for 0.6% of train size (aka 50090 images)...\n"
     ]
    },
    {
     "name": "stderr",
     "output_type": "stream",
     "text": [
      "<ipython-input-8-797fd00c81c1>:20: UserWarning: Matplotlib is currently using module://ipykernel.pylab.backend_inline, which is a non-GUI backend, so cannot show the figure.\n",
      "  self.fig.show()\n"
     ]
    },
    {
     "name": "stdout",
     "output_type": "stream",
     "text": [
      "Epoch 1/30\n",
      "   6/1002 [..............................] - ETA: 30:30 - loss: 29.2002 - accuracy: 0.2148WARNING:tensorflow:Callback method `on_train_batch_end` is slow compared to the batch time (batch time: 0.4665s vs `on_train_batch_end` time: 1.0581s). Check your callbacks.\n",
      "1002/1002 [==============================] - 1208s 1s/step - loss: 2.1560 - accuracy: 0.6427 - val_loss: 0.5819 - val_accuracy: 0.8125\n"
     ]
    },
    {
     "name": "stderr",
     "output_type": "stream",
     "text": [
      "<ipython-input-8-797fd00c81c1>:48: UserWarning: Matplotlib is currently using module://ipykernel.pylab.backend_inline, which is a non-GUI backend, so cannot show the figure.\n",
      "  self.fig.show()\n"
     ]
    },
    {
     "name": "stdout",
     "output_type": "stream",
     "text": [
      "Epoch 2/30\n",
      "1002/1002 [==============================] - 1187s 1s/step - loss: 0.3059 - accuracy: 0.8975 - val_loss: 0.2991 - val_accuracy: 0.9062\n",
      "Epoch 3/30\n",
      "1002/1002 [==============================] - 1186s 1s/step - loss: 0.2212 - accuracy: 0.9265 - val_loss: 0.1361 - val_accuracy: 0.9688\n",
      "Epoch 4/30\n",
      "1002/1002 [==============================] - 1186s 1s/step - loss: 0.1883 - accuracy: 0.9364 - val_loss: 0.2730 - val_accuracy: 0.9062\n",
      "Epoch 5/30\n",
      "1002/1002 [==============================] - 1184s 1s/step - loss: 0.1707 - accuracy: 0.9437 - val_loss: 0.0284 - val_accuracy: 1.0000\n",
      "Epoch 6/30\n",
      "1002/1002 [==============================] - 1183s 1s/step - loss: 0.1480 - accuracy: 0.9507 - val_loss: 0.0788 - val_accuracy: 0.9688\n",
      "Epoch 7/30\n",
      "1002/1002 [==============================] - 1184s 1s/step - loss: 0.1288 - accuracy: 0.9553 - val_loss: 0.0768 - val_accuracy: 0.9688\n",
      "Epoch 8/30\n",
      "1002/1002 [==============================] - 1182s 1s/step - loss: 0.1146 - accuracy: 0.9612 - val_loss: 0.2378 - val_accuracy: 0.9375\n",
      "Epoch 9/30\n",
      "1002/1002 [==============================] - 1186s 1s/step - loss: 0.0953 - accuracy: 0.9683 - val_loss: 0.0499 - val_accuracy: 0.9688\n",
      "Epoch 10/30\n",
      "1002/1002 [==============================] - 1188s 1s/step - loss: 0.0748 - accuracy: 0.9740 - val_loss: 0.0421 - val_accuracy: 1.0000\n",
      "Epoch 11/30\n",
      "1002/1002 [==============================] - 1187s 1s/step - loss: 0.0622 - accuracy: 0.9793 - val_loss: 0.0274 - val_accuracy: 1.0000\n",
      "Epoch 12/30\n",
      "1002/1002 [==============================] - 1187s 1s/step - loss: 0.0470 - accuracy: 0.9847 - val_loss: 0.1036 - val_accuracy: 0.9688\n",
      "Epoch 13/30\n",
      "1002/1002 [==============================] - 1187s 1s/step - loss: 0.0386 - accuracy: 0.9871 - val_loss: 0.0061 - val_accuracy: 1.0000\n",
      "Epoch 14/30\n",
      "1002/1002 [==============================] - 1185s 1s/step - loss: 0.0265 - accuracy: 0.9916 - val_loss: 0.1107 - val_accuracy: 0.9688\n",
      "Epoch 15/30\n",
      "1002/1002 [==============================] - 1187s 1s/step - loss: 0.0243 - accuracy: 0.9934 - val_loss: 0.1032 - val_accuracy: 0.9688\n",
      "Epoch 16/30\n",
      "1002/1002 [==============================] - 1185s 1s/step - loss: 0.0183 - accuracy: 0.9946 - val_loss: 0.0418 - val_accuracy: 0.9688\n",
      "Epoch 17/30\n",
      "1002/1002 [==============================] - 1185s 1s/step - loss: 0.0154 - accuracy: 0.9953 - val_loss: 0.0551 - val_accuracy: 0.9688\n",
      "Epoch 18/30\n",
      "1002/1002 [==============================] - 1185s 1s/step - loss: 0.0182 - accuracy: 0.9945 - val_loss: 0.2677 - val_accuracy: 0.9688\n",
      "Epoch 19/30\n",
      "1002/1002 [==============================] - 1186s 1s/step - loss: 0.0124 - accuracy: 0.9961 - val_loss: 0.0452 - val_accuracy: 0.9688\n",
      "Epoch 20/30\n",
      "1002/1002 [==============================] - 1185s 1s/step - loss: 0.0125 - accuracy: 0.9956 - val_loss: 0.0844 - val_accuracy: 0.9688\n",
      "Epoch 21/30\n",
      "1002/1002 [==============================] - 1185s 1s/step - loss: 0.0085 - accuracy: 0.9973 - val_loss: 0.2710 - val_accuracy: 0.9688\n",
      "Epoch 22/30\n",
      "1002/1002 [==============================] - 1187s 1s/step - loss: 0.0081 - accuracy: 0.9977 - val_loss: 0.2166 - val_accuracy: 0.9688\n",
      "Epoch 23/30\n",
      "1002/1002 [==============================] - 1186s 1s/step - loss: 0.0087 - accuracy: 0.9971 - val_loss: 0.1224 - val_accuracy: 0.9688\n",
      "Epoch 24/30\n",
      "1002/1002 [==============================] - 1186s 1s/step - loss: 0.0068 - accuracy: 0.9976 - val_loss: 0.1679 - val_accuracy: 0.9688\n",
      "Epoch 25/30\n",
      "1002/1002 [==============================] - 1186s 1s/step - loss: 0.0057 - accuracy: 0.9979 - val_loss: 0.0854 - val_accuracy: 0.9688\n",
      "Epoch 26/30\n",
      "1002/1002 [==============================] - 1185s 1s/step - loss: 0.0066 - accuracy: 0.9975 - val_loss: 0.1093 - val_accuracy: 0.9688\n",
      "Epoch 27/30\n",
      "1002/1002 [==============================] - 1184s 1s/step - loss: 0.0053 - accuracy: 0.9981 - val_loss: 0.2306 - val_accuracy: 0.9688\n",
      "Epoch 28/30\n",
      "1002/1002 [==============================] - 1189s 1s/step - loss: 0.0052 - accuracy: 0.9979 - val_loss: 0.1661 - val_accuracy: 0.9688\n",
      "Epoch 29/30\n",
      "1002/1002 [==============================] - 1186s 1s/step - loss: 0.0056 - accuracy: 0.9975 - val_loss: 0.1621 - val_accuracy: 0.9688\n",
      "Epoch 30/30\n",
      "1002/1002 [==============================] - 1188s 1s/step - loss: 0.0051 - accuracy: 0.9975 - val_loss: 0.2066 - val_accuracy: 0.9688\n",
      "INFO:tensorflow:Assets written to: ../opticnet/opticnet_30epochs_50090.4 images/assets\n",
      "Test acc for opticnet: 0.989669\n",
      "Done!\n",
      "--------------------------------------------------\n",
      "\n",
      "Labels fraction: [0.74755843 0.75183443 0.74955939 0.75011606]\n",
      "Training xception for 0.75% of train size (aka 62613 images)...\n"
     ]
    },
    {
     "name": "stderr",
     "output_type": "stream",
     "text": [
      "<ipython-input-8-797fd00c81c1>:20: UserWarning: Matplotlib is currently using module://ipykernel.pylab.backend_inline, which is a non-GUI backend, so cannot show the figure.\n",
      "  self.fig.show()\n"
     ]
    },
    {
     "name": "stdout",
     "output_type": "stream",
     "text": [
      "Epoch 1/30\n",
      "   6/1253 [..............................] - ETA: 26:59 - loss: 1.3835 - accuracy: 0.4202WARNING:tensorflow:Callback method `on_train_batch_begin` is slow compared to the batch time (batch time: 0.1613s vs `on_train_batch_begin` time: 0.1626s). Check your callbacks.\n",
      "WARNING:tensorflow:Callback method `on_train_batch_end` is slow compared to the batch time (batch time: 0.1613s vs `on_train_batch_end` time: 0.8735s). Check your callbacks.\n",
      "1253/1253 [==============================] - 972s 772ms/step - loss: 1.1076 - accuracy: 0.7086 - val_loss: 0.9670 - val_accuracy: 0.6875\n"
     ]
    },
    {
     "name": "stderr",
     "output_type": "stream",
     "text": [
      "<ipython-input-8-797fd00c81c1>:48: UserWarning: Matplotlib is currently using module://ipykernel.pylab.backend_inline, which is a non-GUI backend, so cannot show the figure.\n",
      "  self.fig.show()\n"
     ]
    },
    {
     "name": "stdout",
     "output_type": "stream",
     "text": [
      "Epoch 2/30\n",
      "1253/1253 [==============================] - 967s 772ms/step - loss: 0.6684 - accuracy: 0.8051 - val_loss: 0.5565 - val_accuracy: 0.9062\n",
      "Epoch 3/30\n",
      "1253/1253 [==============================] - 966s 771ms/step - loss: 0.4402 - accuracy: 0.8900 - val_loss: 0.2917 - val_accuracy: 0.9688\n",
      "Epoch 4/30\n",
      "1253/1253 [==============================] - 968s 773ms/step - loss: 0.2919 - accuracy: 0.9268 - val_loss: 0.1516 - val_accuracy: 0.9375\n",
      "Epoch 5/30\n",
      "1253/1253 [==============================] - 967s 772ms/step - loss: 0.2207 - accuracy: 0.9446 - val_loss: 0.1240 - val_accuracy: 0.9688\n",
      "Epoch 6/30\n",
      "1253/1253 [==============================] - 966s 771ms/step - loss: 0.1790 - accuracy: 0.9534 - val_loss: 0.0697 - val_accuracy: 1.0000\n",
      "Epoch 7/30\n",
      "1253/1253 [==============================] - 968s 772ms/step - loss: 0.1521 - accuracy: 0.9584 - val_loss: 0.0692 - val_accuracy: 0.9688\n",
      "Epoch 8/30\n",
      "1253/1253 [==============================] - 967s 772ms/step - loss: 0.1299 - accuracy: 0.9651 - val_loss: 0.0482 - val_accuracy: 1.0000\n",
      "Epoch 9/30\n",
      "1253/1253 [==============================] - 966s 771ms/step - loss: 0.1086 - accuracy: 0.9714 - val_loss: 0.0325 - val_accuracy: 1.0000\n",
      "Epoch 10/30\n",
      "1253/1253 [==============================] - 965s 770ms/step - loss: 0.0956 - accuracy: 0.9743 - val_loss: 0.0263 - val_accuracy: 1.0000\n",
      "Epoch 11/30\n",
      "1253/1253 [==============================] - 966s 771ms/step - loss: 0.0813 - accuracy: 0.9786 - val_loss: 0.0273 - val_accuracy: 1.0000\n",
      "Epoch 12/30\n",
      "1253/1253 [==============================] - 966s 771ms/step - loss: 0.0654 - accuracy: 0.9840 - val_loss: 0.0313 - val_accuracy: 1.0000\n",
      "Epoch 13/30\n",
      "1253/1253 [==============================] - 968s 772ms/step - loss: 0.0605 - accuracy: 0.9857 - val_loss: 0.0317 - val_accuracy: 1.0000\n",
      "Epoch 14/30\n",
      "1253/1253 [==============================] - 966s 771ms/step - loss: 0.0517 - accuracy: 0.9886 - val_loss: 0.0236 - val_accuracy: 1.0000\n",
      "Epoch 15/30\n",
      "1253/1253 [==============================] - 967s 771ms/step - loss: 0.0441 - accuracy: 0.9899 - val_loss: 0.1069 - val_accuracy: 0.9688\n",
      "Epoch 16/30\n",
      "1253/1253 [==============================] - 966s 771ms/step - loss: 0.0407 - accuracy: 0.9912 - val_loss: 0.1014 - val_accuracy: 0.9688\n",
      "Epoch 17/30\n",
      "1253/1253 [==============================] - 966s 771ms/step - loss: 0.0336 - accuracy: 0.9933 - val_loss: 0.0376 - val_accuracy: 0.9688\n",
      "Epoch 18/30\n",
      "1253/1253 [==============================] - 964s 769ms/step - loss: 0.0353 - accuracy: 0.9922 - val_loss: 0.1423 - val_accuracy: 0.9688\n",
      "Epoch 19/30\n",
      "1253/1253 [==============================] - 964s 769ms/step - loss: 0.0312 - accuracy: 0.9935 - val_loss: 0.1233 - val_accuracy: 0.9688\n",
      "Epoch 20/30\n",
      "1253/1253 [==============================] - 961s 767ms/step - loss: 0.0289 - accuracy: 0.9940 - val_loss: 0.1442 - val_accuracy: 0.9688\n",
      "Epoch 21/30\n",
      "1253/1253 [==============================] - 963s 768ms/step - loss: 0.0251 - accuracy: 0.9947 - val_loss: 0.0562 - val_accuracy: 0.9688\n",
      "Epoch 22/30\n",
      "1253/1253 [==============================] - 964s 770ms/step - loss: 0.0266 - accuracy: 0.9949 - val_loss: 0.1563 - val_accuracy: 0.9688\n",
      "Epoch 23/30\n",
      "1253/1253 [==============================] - 966s 771ms/step - loss: 0.0246 - accuracy: 0.9950 - val_loss: 0.1388 - val_accuracy: 0.9688\n",
      "Epoch 24/30\n",
      "1253/1253 [==============================] - 963s 769ms/step - loss: 0.0236 - accuracy: 0.9953 - val_loss: 0.1030 - val_accuracy: 0.9688\n",
      "Epoch 25/30\n",
      "1253/1253 [==============================] - 964s 769ms/step - loss: 0.0219 - accuracy: 0.9957 - val_loss: 0.1092 - val_accuracy: 0.9688\n",
      "Epoch 26/30\n",
      "1253/1253 [==============================] - 962s 768ms/step - loss: 0.0197 - accuracy: 0.9960 - val_loss: 0.0697 - val_accuracy: 0.9688\n",
      "Epoch 27/30\n",
      "1253/1253 [==============================] - 964s 769ms/step - loss: 0.0186 - accuracy: 0.9963 - val_loss: 0.0990 - val_accuracy: 0.9688\n",
      "Epoch 28/30\n",
      "1253/1253 [==============================] - 964s 770ms/step - loss: 0.0199 - accuracy: 0.9957 - val_loss: 0.1182 - val_accuracy: 0.9688\n",
      "Epoch 29/30\n",
      "1253/1253 [==============================] - 965s 771ms/step - loss: 0.0181 - accuracy: 0.9963 - val_loss: 0.0983 - val_accuracy: 0.9688\n",
      "Epoch 30/30\n",
      "1253/1253 [==============================] - 964s 770ms/step - loss: 0.0198 - accuracy: 0.9958 - val_loss: 0.0809 - val_accuracy: 0.9688\n",
      "INFO:tensorflow:Assets written to: ../xception/xception_30epochs_62613.0 images/assets\n",
      "Test acc for xception: 0.998967\n",
      "Done!\n",
      "--------------------------------------------------\n",
      "\n",
      "Training resnet for 0.75% of train size (aka 62613 images)...\n"
     ]
    },
    {
     "name": "stderr",
     "output_type": "stream",
     "text": [
      "<ipython-input-8-797fd00c81c1>:20: UserWarning: Matplotlib is currently using module://ipykernel.pylab.backend_inline, which is a non-GUI backend, so cannot show the figure.\n",
      "  self.fig.show()\n"
     ]
    },
    {
     "name": "stdout",
     "output_type": "stream",
     "text": [
      "Epoch 1/30\n",
      "   6/1253 [..............................] - ETA: 15:06 - loss: 1.3792 - accuracy: 0.2756WARNING:tensorflow:Callback method `on_train_batch_begin` is slow compared to the batch time (batch time: 0.1027s vs `on_train_batch_begin` time: 0.1796s). Check your callbacks.\n",
      "WARNING:tensorflow:Callback method `on_train_batch_end` is slow compared to the batch time (batch time: 0.1027s vs `on_train_batch_end` time: 0.3503s). Check your callbacks.\n",
      "1253/1253 [==============================] - 260s 202ms/step - loss: 1.2701 - accuracy: 0.4418 - val_loss: 1.5566 - val_accuracy: 0.2500\n"
     ]
    },
    {
     "name": "stderr",
     "output_type": "stream",
     "text": [
      "<ipython-input-8-797fd00c81c1>:48: UserWarning: Matplotlib is currently using module://ipykernel.pylab.backend_inline, which is a non-GUI backend, so cannot show the figure.\n",
      "  self.fig.show()\n"
     ]
    },
    {
     "name": "stdout",
     "output_type": "stream",
     "text": [
      "Epoch 2/30\n",
      "1253/1253 [==============================] - 251s 200ms/step - loss: 1.2310 - accuracy: 0.4486 - val_loss: 1.5595 - val_accuracy: 0.2500\n",
      "Epoch 3/30\n",
      "1253/1253 [==============================] - 250s 200ms/step - loss: 1.2262 - accuracy: 0.4486 - val_loss: 1.5576 - val_accuracy: 0.2500\n",
      "Epoch 4/30\n",
      "1253/1253 [==============================] - 251s 200ms/step - loss: 1.2305 - accuracy: 0.4452 - val_loss: 1.5639 - val_accuracy: 0.2500\n",
      "Epoch 5/30\n",
      "1253/1253 [==============================] - 250s 200ms/step - loss: 1.2306 - accuracy: 0.4467 - val_loss: 1.5571 - val_accuracy: 0.2500\n",
      "Epoch 6/30\n",
      "1253/1253 [==============================] - 251s 200ms/step - loss: 1.2292 - accuracy: 0.4490 - val_loss: 1.5585 - val_accuracy: 0.2500\n",
      "Epoch 7/30\n",
      "1253/1253 [==============================] - 250s 200ms/step - loss: 1.2281 - accuracy: 0.4464 - val_loss: 1.5592 - val_accuracy: 0.2500\n",
      "Epoch 8/30\n",
      "1253/1253 [==============================] - 251s 200ms/step - loss: 1.2271 - accuracy: 0.4496 - val_loss: 1.5559 - val_accuracy: 0.2500\n",
      "Epoch 9/30\n",
      "1253/1253 [==============================] - 250s 200ms/step - loss: 1.2285 - accuracy: 0.4470 - val_loss: 1.5587 - val_accuracy: 0.2500\n",
      "Epoch 10/30\n",
      "1253/1253 [==============================] - 251s 200ms/step - loss: 1.2277 - accuracy: 0.4481 - val_loss: 1.5563 - val_accuracy: 0.2500\n",
      "Epoch 11/30\n",
      "1253/1253 [==============================] - 251s 200ms/step - loss: 1.2278 - accuracy: 0.4475 - val_loss: 1.5564 - val_accuracy: 0.2500\n",
      "Epoch 12/30\n",
      "1253/1253 [==============================] - 251s 200ms/step - loss: 1.2294 - accuracy: 0.4473 - val_loss: 1.5561 - val_accuracy: 0.2500\n",
      "Epoch 13/30\n",
      "1253/1253 [==============================] - 250s 200ms/step - loss: 1.2237 - accuracy: 0.4505 - val_loss: 1.5550 - val_accuracy: 0.2500\n",
      "Epoch 14/30\n",
      "1253/1253 [==============================] - 251s 200ms/step - loss: 1.2285 - accuracy: 0.4461 - val_loss: 1.5577 - val_accuracy: 0.2500\n",
      "Epoch 15/30\n",
      "1253/1253 [==============================] - 250s 200ms/step - loss: 1.2315 - accuracy: 0.4472 - val_loss: 1.5589 - val_accuracy: 0.2500\n",
      "Epoch 16/30\n",
      "1253/1253 [==============================] - 251s 200ms/step - loss: 1.2269 - accuracy: 0.4499 - val_loss: 1.5577 - val_accuracy: 0.2500\n",
      "Epoch 17/30\n",
      "1253/1253 [==============================] - 251s 200ms/step - loss: 1.2259 - accuracy: 0.4484 - val_loss: 1.5574 - val_accuracy: 0.2500\n",
      "Epoch 18/30\n",
      "1253/1253 [==============================] - 250s 200ms/step - loss: 1.2274 - accuracy: 0.4486 - val_loss: 1.5570 - val_accuracy: 0.2500\n",
      "Epoch 19/30\n",
      "1253/1253 [==============================] - 250s 200ms/step - loss: 1.2284 - accuracy: 0.4486 - val_loss: 1.5573 - val_accuracy: 0.2500\n",
      "Epoch 20/30\n",
      "1253/1253 [==============================] - 250s 200ms/step - loss: 1.2276 - accuracy: 0.4478 - val_loss: 1.5571 - val_accuracy: 0.2500\n",
      "Epoch 21/30\n",
      "1253/1253 [==============================] - 251s 200ms/step - loss: 1.2319 - accuracy: 0.4443 - val_loss: 1.5584 - val_accuracy: 0.2500\n",
      "Epoch 22/30\n",
      "1253/1253 [==============================] - 251s 200ms/step - loss: 1.2275 - accuracy: 0.4477 - val_loss: 1.5574 - val_accuracy: 0.2500\n",
      "Epoch 23/30\n",
      "1253/1253 [==============================] - 251s 200ms/step - loss: 1.2319 - accuracy: 0.4446 - val_loss: 1.5578 - val_accuracy: 0.2500\n",
      "Epoch 24/30\n",
      "1253/1253 [==============================] - 251s 200ms/step - loss: 1.2319 - accuracy: 0.4457 - val_loss: 1.5580 - val_accuracy: 0.2500\n",
      "Epoch 25/30\n",
      "1253/1253 [==============================] - 251s 200ms/step - loss: 1.2253 - accuracy: 0.4510 - val_loss: 1.5574 - val_accuracy: 0.2500\n",
      "Epoch 26/30\n",
      "1253/1253 [==============================] - 251s 200ms/step - loss: 1.2285 - accuracy: 0.4466 - val_loss: 1.5573 - val_accuracy: 0.2500\n",
      "Epoch 27/30\n",
      "1253/1253 [==============================] - 251s 200ms/step - loss: 1.2258 - accuracy: 0.4481 - val_loss: 1.5572 - val_accuracy: 0.2500\n",
      "Epoch 28/30\n",
      "1253/1253 [==============================] - 251s 200ms/step - loss: 1.2287 - accuracy: 0.4457 - val_loss: 1.5575 - val_accuracy: 0.2500\n",
      "Epoch 29/30\n",
      "1253/1253 [==============================] - 251s 200ms/step - loss: 1.2284 - accuracy: 0.4471 - val_loss: 1.5576 - val_accuracy: 0.2500\n",
      "Epoch 30/30\n",
      "1253/1253 [==============================] - 251s 200ms/step - loss: 1.2278 - accuracy: 0.4472 - val_loss: 1.5575 - val_accuracy: 0.2500\n",
      "INFO:tensorflow:Assets written to: ../resnet/resnet_30epochs_62613.0 images/assets\n",
      "Test acc for resnet: 0.250000\n",
      "Done!\n",
      "--------------------------------------------------\n",
      "\n",
      "Training opticnet for 0.75% of train size (aka 62613 images)...\n"
     ]
    },
    {
     "name": "stderr",
     "output_type": "stream",
     "text": [
      "<ipython-input-8-797fd00c81c1>:20: UserWarning: Matplotlib is currently using module://ipykernel.pylab.backend_inline, which is a non-GUI backend, so cannot show the figure.\n",
      "  self.fig.show()\n"
     ]
    },
    {
     "name": "stdout",
     "output_type": "stream",
     "text": [
      "Epoch 1/30\n",
      "   6/1253 [..............................] - ETA: 38:48 - loss: 18.3971 - accuracy: 0.2928WARNING:tensorflow:Callback method `on_train_batch_end` is slow compared to the batch time (batch time: 0.4665s vs `on_train_batch_end` time: 1.0826s). Check your callbacks.\n",
      "1253/1253 [==============================] - 1499s 1s/step - loss: 2.1986 - accuracy: 0.6070 - val_loss: 0.8954 - val_accuracy: 0.6562\n"
     ]
    },
    {
     "name": "stderr",
     "output_type": "stream",
     "text": [
      "<ipython-input-8-797fd00c81c1>:48: UserWarning: Matplotlib is currently using module://ipykernel.pylab.backend_inline, which is a non-GUI backend, so cannot show the figure.\n",
      "  self.fig.show()\n"
     ]
    },
    {
     "name": "stdout",
     "output_type": "stream",
     "text": [
      "Epoch 2/30\n",
      "1253/1253 [==============================] - 1480s 1s/step - loss: 0.2830 - accuracy: 0.9036 - val_loss: 0.7178 - val_accuracy: 0.7812\n",
      "Epoch 3/30\n",
      "1253/1253 [==============================] - 1476s 1s/step - loss: 0.2101 - accuracy: 0.9313 - val_loss: 0.4051 - val_accuracy: 0.8750\n",
      "Epoch 4/30\n",
      "1253/1253 [==============================] - 1478s 1s/step - loss: 0.1896 - accuracy: 0.9366 - val_loss: 0.4948 - val_accuracy: 0.7812\n",
      "Epoch 5/30\n",
      "1253/1253 [==============================] - 1480s 1s/step - loss: 0.1638 - accuracy: 0.9447 - val_loss: 0.1298 - val_accuracy: 0.9688\n",
      "Epoch 6/30\n",
      "1253/1253 [==============================] - 1476s 1s/step - loss: 0.1384 - accuracy: 0.9527 - val_loss: 0.1737 - val_accuracy: 0.9062\n",
      "Epoch 7/30\n",
      "1253/1253 [==============================] - 1485s 1s/step - loss: 0.1306 - accuracy: 0.9556 - val_loss: 0.0413 - val_accuracy: 1.0000\n",
      "Epoch 8/30\n",
      "1253/1253 [==============================] - 1481s 1s/step - loss: 0.1073 - accuracy: 0.9640 - val_loss: 0.0175 - val_accuracy: 1.0000\n",
      "Epoch 9/30\n",
      "1253/1253 [==============================] - 1484s 1s/step - loss: 0.0944 - accuracy: 0.9677 - val_loss: 0.0694 - val_accuracy: 0.9688\n",
      "Epoch 10/30\n",
      "1253/1253 [==============================] - 1486s 1s/step - loss: 0.0710 - accuracy: 0.9760 - val_loss: 0.1717 - val_accuracy: 0.9688\n",
      "Epoch 11/30\n",
      "1253/1253 [==============================] - 1484s 1s/step - loss: 0.0623 - accuracy: 0.9792 - val_loss: 0.0271 - val_accuracy: 1.0000\n",
      "Epoch 12/30\n",
      "1253/1253 [==============================] - 1483s 1s/step - loss: 0.0485 - accuracy: 0.9833 - val_loss: 0.0171 - val_accuracy: 1.0000\n",
      "Epoch 13/30\n",
      "1253/1253 [==============================] - 1484s 1s/step - loss: 0.0387 - accuracy: 0.9870 - val_loss: 0.1678 - val_accuracy: 0.9688\n",
      "Epoch 14/30\n",
      "1253/1253 [==============================] - 1483s 1s/step - loss: 0.0282 - accuracy: 0.9906 - val_loss: 0.2024 - val_accuracy: 0.9688\n",
      "Epoch 15/30\n",
      "1253/1253 [==============================] - 1483s 1s/step - loss: 0.0230 - accuracy: 0.9933 - val_loss: 0.0127 - val_accuracy: 1.0000\n",
      "Epoch 16/30\n",
      "1253/1253 [==============================] - 1484s 1s/step - loss: 0.0201 - accuracy: 0.9933 - val_loss: 0.2004 - val_accuracy: 0.9688\n",
      "Epoch 17/30\n",
      "1253/1253 [==============================] - 1483s 1s/step - loss: 0.0181 - accuracy: 0.9942 - val_loss: 0.0508 - val_accuracy: 0.9688\n",
      "Epoch 18/30\n",
      "1253/1253 [==============================] - 1482s 1s/step - loss: 0.0149 - accuracy: 0.9952 - val_loss: 0.2084 - val_accuracy: 0.9688\n",
      "Epoch 19/30\n",
      "1253/1253 [==============================] - 1457s 1s/step - loss: 0.0144 - accuracy: 0.9957 - val_loss: 0.1476 - val_accuracy: 0.9688\n",
      "Epoch 20/30\n",
      "1253/1253 [==============================] - 1458s 1s/step - loss: 0.0115 - accuracy: 0.9965 - val_loss: 0.0245 - val_accuracy: 0.9688\n",
      "Epoch 21/30\n",
      "1253/1253 [==============================] - 1478s 1s/step - loss: 0.0099 - accuracy: 0.9967 - val_loss: 0.1149 - val_accuracy: 0.9688\n",
      "Epoch 22/30\n",
      "1253/1253 [==============================] - 1484s 1s/step - loss: 0.0107 - accuracy: 0.9962 - val_loss: 0.1389 - val_accuracy: 0.9688\n",
      "Epoch 23/30\n",
      "1253/1253 [==============================] - 1483s 1s/step - loss: 0.0090 - accuracy: 0.9966 - val_loss: 0.1339 - val_accuracy: 0.9688\n",
      "Epoch 24/30\n",
      "1253/1253 [==============================] - 1480s 1s/step - loss: 0.0080 - accuracy: 0.9969 - val_loss: 0.0660 - val_accuracy: 0.9688\n",
      "Epoch 25/30\n",
      "1253/1253 [==============================] - 1483s 1s/step - loss: 0.0081 - accuracy: 0.9967 - val_loss: 0.2082 - val_accuracy: 0.9688\n",
      "Epoch 26/30\n",
      "1253/1253 [==============================] - 1482s 1s/step - loss: 0.0070 - accuracy: 0.9971 - val_loss: 0.1468 - val_accuracy: 0.9688\n",
      "Epoch 27/30\n",
      "1253/1253 [==============================] - 1474s 1s/step - loss: 0.0064 - accuracy: 0.9972 - val_loss: 0.1510 - val_accuracy: 0.9688\n",
      "Epoch 28/30\n",
      "1253/1253 [==============================] - 1478s 1s/step - loss: 0.0062 - accuracy: 0.9971 - val_loss: 0.1576 - val_accuracy: 0.9688\n",
      "Epoch 29/30\n",
      "1253/1253 [==============================] - 1473s 1s/step - loss: 0.0055 - accuracy: 0.9975 - val_loss: 0.1336 - val_accuracy: 0.9688\n",
      "Epoch 30/30\n",
      "1253/1253 [==============================] - 1475s 1s/step - loss: 0.0060 - accuracy: 0.9971 - val_loss: 0.1276 - val_accuracy: 0.9688\n",
      "INFO:tensorflow:Assets written to: ../opticnet/opticnet_30epochs_62613.0 images/assets\n",
      "Test acc for opticnet: 0.994835\n",
      "Done!\n",
      "--------------------------------------------------\n",
      "\n",
      "Labels fraction: [0.899981   0.90095417 0.89672189 0.9001857 ]\n",
      "Training xception for 0.9% of train size (aka 75135 images)...\n"
     ]
    },
    {
     "name": "stderr",
     "output_type": "stream",
     "text": [
      "<ipython-input-8-797fd00c81c1>:20: UserWarning: Matplotlib is currently using module://ipykernel.pylab.backend_inline, which is a non-GUI backend, so cannot show the figure.\n",
      "  self.fig.show()\n"
     ]
    },
    {
     "name": "stdout",
     "output_type": "stream",
     "text": [
      "Epoch 1/30\n",
      "   6/1503 [..............................] - ETA: 31:57 - loss: 1.3813 - accuracy: 0.4287WARNING:tensorflow:Callback method `on_train_batch_begin` is slow compared to the batch time (batch time: 0.1602s vs `on_train_batch_begin` time: 0.1889s). Check your callbacks.\n",
      "WARNING:tensorflow:Callback method `on_train_batch_end` is slow compared to the batch time (batch time: 0.1602s vs `on_train_batch_end` time: 0.8340s). Check your callbacks.\n",
      "1503/1503 [==============================] - 1170s 775ms/step - loss: 1.0617 - accuracy: 0.7272 - val_loss: 0.9942 - val_accuracy: 0.6562\n"
     ]
    },
    {
     "name": "stderr",
     "output_type": "stream",
     "text": [
      "<ipython-input-8-797fd00c81c1>:48: UserWarning: Matplotlib is currently using module://ipykernel.pylab.backend_inline, which is a non-GUI backend, so cannot show the figure.\n",
      "  self.fig.show()\n"
     ]
    },
    {
     "name": "stdout",
     "output_type": "stream",
     "text": [
      "Epoch 2/30\n",
      "1503/1503 [==============================] - 1162s 773ms/step - loss: 0.5807 - accuracy: 0.8437 - val_loss: 0.3374 - val_accuracy: 0.9375\n",
      "Epoch 3/30\n",
      "1503/1503 [==============================] - 1162s 773ms/step - loss: 0.3278 - accuracy: 0.9182 - val_loss: 0.4560 - val_accuracy: 0.8750\n",
      "Epoch 4/30\n",
      "1503/1503 [==============================] - 1164s 774ms/step - loss: 0.2439 - accuracy: 0.9363 - val_loss: 0.0891 - val_accuracy: 1.0000\n",
      "Epoch 5/30\n",
      "1503/1503 [==============================] - 1161s 772ms/step - loss: 0.1867 - accuracy: 0.9491 - val_loss: 0.0619 - val_accuracy: 1.0000\n",
      "Epoch 6/30\n",
      "1503/1503 [==============================] - 1163s 774ms/step - loss: 0.1556 - accuracy: 0.9570 - val_loss: 0.0453 - val_accuracy: 1.0000\n",
      "Epoch 7/30\n",
      "1503/1503 [==============================] - 1162s 773ms/step - loss: 0.1352 - accuracy: 0.9620 - val_loss: 0.0378 - val_accuracy: 1.0000\n",
      "Epoch 8/30\n",
      "1503/1503 [==============================] - 1162s 773ms/step - loss: 0.1135 - accuracy: 0.9680 - val_loss: 0.0319 - val_accuracy: 1.0000\n",
      "Epoch 9/30\n",
      "1503/1503 [==============================] - 1163s 774ms/step - loss: 0.0966 - accuracy: 0.9731 - val_loss: 0.0265 - val_accuracy: 1.0000\n",
      "Epoch 10/30\n",
      "1503/1503 [==============================] - 1164s 774ms/step - loss: 0.0832 - accuracy: 0.9774 - val_loss: 0.0567 - val_accuracy: 0.9688\n",
      "Epoch 11/30\n",
      "1503/1503 [==============================] - 1161s 773ms/step - loss: 0.0740 - accuracy: 0.9805 - val_loss: 0.0305 - val_accuracy: 1.0000\n",
      "Epoch 12/30\n",
      "1503/1503 [==============================] - 1162s 773ms/step - loss: 0.0601 - accuracy: 0.9843 - val_loss: 0.0217 - val_accuracy: 1.0000\n",
      "Epoch 13/30\n",
      "1503/1503 [==============================] - 1161s 773ms/step - loss: 0.0524 - accuracy: 0.9869 - val_loss: 0.0397 - val_accuracy: 0.9688\n",
      "Epoch 14/30\n",
      "1503/1503 [==============================] - 1161s 773ms/step - loss: 0.0467 - accuracy: 0.9884 - val_loss: 0.0547 - val_accuracy: 0.9688\n",
      "Epoch 15/30\n",
      "1503/1503 [==============================] - 1162s 773ms/step - loss: 0.0415 - accuracy: 0.9902 - val_loss: 0.1444 - val_accuracy: 0.9688\n",
      "Epoch 16/30\n",
      "1503/1503 [==============================] - 1162s 773ms/step - loss: 0.0375 - accuracy: 0.9916 - val_loss: 0.0141 - val_accuracy: 1.0000\n",
      "Epoch 17/30\n",
      "1503/1503 [==============================] - 1162s 773ms/step - loss: 0.0324 - accuracy: 0.9929 - val_loss: 0.0090 - val_accuracy: 1.0000\n",
      "Epoch 18/30\n",
      "1503/1503 [==============================] - 1161s 772ms/step - loss: 0.0312 - accuracy: 0.9929 - val_loss: 0.0176 - val_accuracy: 1.0000\n",
      "Epoch 19/30\n",
      "1503/1503 [==============================] - 1163s 773ms/step - loss: 0.0285 - accuracy: 0.9940 - val_loss: 0.0270 - val_accuracy: 1.0000\n",
      "Epoch 20/30\n",
      "1503/1503 [==============================] - 1161s 773ms/step - loss: 0.0280 - accuracy: 0.9941 - val_loss: 0.0958 - val_accuracy: 0.9688\n",
      "Epoch 21/30\n",
      "1503/1503 [==============================] - 1163s 774ms/step - loss: 0.0257 - accuracy: 0.9946 - val_loss: 0.0243 - val_accuracy: 1.0000\n",
      "Epoch 22/30\n",
      "1503/1503 [==============================] - 1161s 773ms/step - loss: 0.0246 - accuracy: 0.9953 - val_loss: 0.0718 - val_accuracy: 0.9688\n",
      "Epoch 23/30\n",
      "1503/1503 [==============================] - 1162s 773ms/step - loss: 0.0242 - accuracy: 0.9946 - val_loss: 0.0156 - val_accuracy: 1.0000\n",
      "Epoch 24/30\n",
      "1503/1503 [==============================] - 1161s 772ms/step - loss: 0.0225 - accuracy: 0.9951 - val_loss: 0.0126 - val_accuracy: 1.0000\n",
      "Epoch 25/30\n",
      "1503/1503 [==============================] - 1160s 772ms/step - loss: 0.0241 - accuracy: 0.9947 - val_loss: 0.0184 - val_accuracy: 1.0000\n",
      "Epoch 26/30\n",
      "1503/1503 [==============================] - 1160s 772ms/step - loss: 0.0204 - accuracy: 0.9954 - val_loss: 0.0180 - val_accuracy: 1.0000\n",
      "Epoch 27/30\n",
      "1503/1503 [==============================] - 1160s 772ms/step - loss: 0.0202 - accuracy: 0.9955 - val_loss: 0.0380 - val_accuracy: 0.9688\n",
      "Epoch 28/30\n",
      "1503/1503 [==============================] - 1160s 772ms/step - loss: 0.0191 - accuracy: 0.9957 - val_loss: 0.0324 - val_accuracy: 0.9688\n",
      "Epoch 29/30\n",
      "1503/1503 [==============================] - 1160s 772ms/step - loss: 0.0191 - accuracy: 0.9954 - val_loss: 0.0261 - val_accuracy: 1.0000\n",
      "Epoch 30/30\n",
      "1503/1503 [==============================] - 1159s 771ms/step - loss: 0.0176 - accuracy: 0.9959 - val_loss: 0.0381 - val_accuracy: 0.9688\n",
      "INFO:tensorflow:Assets written to: ../xception/xception_30epochs_75135.6 images/assets\n",
      "Test acc for xception: 0.995868\n",
      "Done!\n",
      "--------------------------------------------------\n",
      "\n",
      "Training resnet for 0.9% of train size (aka 75135 images)...\n"
     ]
    },
    {
     "name": "stderr",
     "output_type": "stream",
     "text": [
      "<ipython-input-8-797fd00c81c1>:20: UserWarning: Matplotlib is currently using module://ipykernel.pylab.backend_inline, which is a non-GUI backend, so cannot show the figure.\n",
      "  self.fig.show()\n"
     ]
    },
    {
     "name": "stdout",
     "output_type": "stream",
     "text": [
      "Epoch 1/30\n",
      "   6/1503 [..............................] - ETA: 18:14 - loss: 1.3767 - accuracy: 0.2918WARNING:tensorflow:Callback method `on_train_batch_begin` is slow compared to the batch time (batch time: 0.1042s vs `on_train_batch_begin` time: 0.1713s). Check your callbacks.\n",
      "WARNING:tensorflow:Callback method `on_train_batch_end` is slow compared to the batch time (batch time: 0.1042s vs `on_train_batch_end` time: 0.3587s). Check your callbacks.\n",
      "1503/1503 [==============================] - 313s 203ms/step - loss: 1.1208 - accuracy: 0.6601 - val_loss: 1.5482 - val_accuracy: 0.3438\n"
     ]
    },
    {
     "name": "stderr",
     "output_type": "stream",
     "text": [
      "<ipython-input-8-797fd00c81c1>:48: UserWarning: Matplotlib is currently using module://ipykernel.pylab.backend_inline, which is a non-GUI backend, so cannot show the figure.\n",
      "  self.fig.show()\n"
     ]
    },
    {
     "name": "stdout",
     "output_type": "stream",
     "text": [
      "Epoch 2/30\n",
      "1503/1503 [==============================] - 301s 200ms/step - loss: 0.8130 - accuracy: 0.7167 - val_loss: 0.8285 - val_accuracy: 0.6875\n",
      "Epoch 3/30\n",
      "1503/1503 [==============================] - 301s 200ms/step - loss: 0.6903 - accuracy: 0.7675 - val_loss: 1.0166 - val_accuracy: 0.5938\n",
      "Epoch 4/30\n",
      "1503/1503 [==============================] - 301s 200ms/step - loss: 0.5785 - accuracy: 0.8082 - val_loss: 1.0446 - val_accuracy: 0.5938\n",
      "Epoch 5/30\n",
      "1503/1503 [==============================] - 301s 200ms/step - loss: 0.4608 - accuracy: 0.8603 - val_loss: 0.7551 - val_accuracy: 0.7500\n",
      "Epoch 6/30\n",
      "1503/1503 [==============================] - 301s 200ms/step - loss: 0.3391 - accuracy: 0.9033 - val_loss: 0.1387 - val_accuracy: 1.0000\n",
      "Epoch 7/30\n",
      "1503/1503 [==============================] - 301s 200ms/step - loss: 0.2669 - accuracy: 0.9273 - val_loss: 0.0892 - val_accuracy: 1.0000\n",
      "Epoch 8/30\n",
      "1503/1503 [==============================] - 301s 200ms/step - loss: 0.2222 - accuracy: 0.9366 - val_loss: 0.1699 - val_accuracy: 0.9688\n",
      "Epoch 9/30\n",
      "1503/1503 [==============================] - 301s 200ms/step - loss: 0.1938 - accuracy: 0.9448 - val_loss: 0.1496 - val_accuracy: 0.9688\n",
      "Epoch 10/30\n",
      "1503/1503 [==============================] - 301s 200ms/step - loss: 0.1798 - accuracy: 0.9471 - val_loss: 0.1826 - val_accuracy: 0.9688\n",
      "Epoch 11/30\n",
      "1503/1503 [==============================] - 301s 200ms/step - loss: 0.1595 - accuracy: 0.9529 - val_loss: 0.0566 - val_accuracy: 1.0000\n",
      "Epoch 12/30\n",
      "1503/1503 [==============================] - 301s 200ms/step - loss: 0.1439 - accuracy: 0.9589 - val_loss: 0.0646 - val_accuracy: 0.9688\n",
      "Epoch 13/30\n",
      "1503/1503 [==============================] - 301s 200ms/step - loss: 0.1290 - accuracy: 0.9623 - val_loss: 0.0616 - val_accuracy: 0.9688\n",
      "Epoch 14/30\n",
      "1503/1503 [==============================] - 301s 200ms/step - loss: 0.1233 - accuracy: 0.9639 - val_loss: 0.0460 - val_accuracy: 1.0000\n",
      "Epoch 15/30\n",
      "1503/1503 [==============================] - 301s 200ms/step - loss: 0.1102 - accuracy: 0.9674 - val_loss: 0.0283 - val_accuracy: 1.0000\n",
      "Epoch 16/30\n",
      "1503/1503 [==============================] - 301s 200ms/step - loss: 0.1039 - accuracy: 0.9709 - val_loss: 0.0664 - val_accuracy: 0.9688\n",
      "Epoch 17/30\n",
      "1503/1503 [==============================] - 301s 200ms/step - loss: 0.0975 - accuracy: 0.9727 - val_loss: 0.0246 - val_accuracy: 1.0000\n",
      "Epoch 18/30\n",
      "1503/1503 [==============================] - 301s 200ms/step - loss: 0.0883 - accuracy: 0.9742 - val_loss: 0.0239 - val_accuracy: 1.0000\n",
      "Epoch 19/30\n",
      "1503/1503 [==============================] - 301s 200ms/step - loss: 0.0853 - accuracy: 0.9764 - val_loss: 0.0325 - val_accuracy: 1.0000\n",
      "Epoch 20/30\n",
      "1503/1503 [==============================] - 301s 201ms/step - loss: 0.0774 - accuracy: 0.9790 - val_loss: 0.0579 - val_accuracy: 0.9688\n",
      "Epoch 21/30\n",
      "1503/1503 [==============================] - 301s 200ms/step - loss: 0.0740 - accuracy: 0.9796 - val_loss: 0.0374 - val_accuracy: 1.0000\n",
      "Epoch 22/30\n",
      "1503/1503 [==============================] - 301s 200ms/step - loss: 0.0659 - accuracy: 0.9833 - val_loss: 0.0288 - val_accuracy: 1.0000\n",
      "Epoch 23/30\n",
      "1503/1503 [==============================] - 301s 201ms/step - loss: 0.0608 - accuracy: 0.9837 - val_loss: 0.0567 - val_accuracy: 0.9688\n",
      "Epoch 24/30\n",
      "1503/1503 [==============================] - 301s 200ms/step - loss: 0.0588 - accuracy: 0.9846 - val_loss: 0.0497 - val_accuracy: 0.9688\n",
      "Epoch 25/30\n",
      "1503/1503 [==============================] - 301s 200ms/step - loss: 0.0531 - accuracy: 0.9866 - val_loss: 0.0508 - val_accuracy: 0.9688\n",
      "Epoch 26/30\n",
      "1503/1503 [==============================] - 301s 200ms/step - loss: 0.0528 - accuracy: 0.9872 - val_loss: 0.0174 - val_accuracy: 1.0000\n",
      "Epoch 27/30\n",
      "1503/1503 [==============================] - 301s 200ms/step - loss: 0.0485 - accuracy: 0.9887 - val_loss: 0.0346 - val_accuracy: 0.9688\n",
      "Epoch 28/30\n",
      "1503/1503 [==============================] - 301s 200ms/step - loss: 0.0483 - accuracy: 0.9884 - val_loss: 0.0285 - val_accuracy: 1.0000\n",
      "Epoch 29/30\n",
      "1503/1503 [==============================] - 301s 200ms/step - loss: 0.0448 - accuracy: 0.9897 - val_loss: 0.0135 - val_accuracy: 1.0000\n",
      "Epoch 30/30\n",
      "1503/1503 [==============================] - 301s 200ms/step - loss: 0.0423 - accuracy: 0.9897 - val_loss: 0.0311 - val_accuracy: 1.0000\n",
      "INFO:tensorflow:Assets written to: ../resnet/resnet_30epochs_75135.6 images/assets\n",
      "Test acc for resnet: 0.996901\n",
      "Done!\n",
      "--------------------------------------------------\n",
      "\n",
      "Training opticnet for 0.9% of train size (aka 75135 images)...\n"
     ]
    },
    {
     "name": "stderr",
     "output_type": "stream",
     "text": [
      "<ipython-input-8-797fd00c81c1>:15: RuntimeWarning: More than 20 figures have been opened. Figures created through the pyplot interface (`matplotlib.pyplot.figure`) are retained until explicitly closed and may consume too much memory. (To control this warning, see the rcParam `figure.max_open_warning`).\n",
      "  self.fig = plt.figure(figsize=(4,3))\n",
      "<ipython-input-8-797fd00c81c1>:20: UserWarning: Matplotlib is currently using module://ipykernel.pylab.backend_inline, which is a non-GUI backend, so cannot show the figure.\n",
      "  self.fig.show()\n"
     ]
    },
    {
     "name": "stdout",
     "output_type": "stream",
     "text": [
      "Epoch 1/30\n",
      "   6/1503 [..............................] - ETA: 45:58 - loss: 29.2433 - accuracy: 0.2724WARNING:tensorflow:Callback method `on_train_batch_end` is slow compared to the batch time (batch time: 0.4682s vs `on_train_batch_end` time: 1.0572s). Check your callbacks.\n",
      "1503/1503 [==============================] - 1795s 1s/step - loss: 1.9556 - accuracy: 0.6501 - val_loss: 0.3071 - val_accuracy: 0.9062\n"
     ]
    },
    {
     "name": "stderr",
     "output_type": "stream",
     "text": [
      "<ipython-input-8-797fd00c81c1>:48: UserWarning: Matplotlib is currently using module://ipykernel.pylab.backend_inline, which is a non-GUI backend, so cannot show the figure.\n",
      "  self.fig.show()\n"
     ]
    },
    {
     "name": "stdout",
     "output_type": "stream",
     "text": [
      "Epoch 2/30\n",
      "1503/1503 [==============================] - 1783s 1s/step - loss: 0.2678 - accuracy: 0.9112 - val_loss: 0.3129 - val_accuracy: 0.8438\n",
      "Epoch 3/30\n",
      "1503/1503 [==============================] - 1783s 1s/step - loss: 0.2049 - accuracy: 0.9318 - val_loss: 0.0276 - val_accuracy: 1.0000\n",
      "Epoch 4/30\n",
      "1503/1503 [==============================] - 1783s 1s/step - loss: 0.1709 - accuracy: 0.9431 - val_loss: 0.2035 - val_accuracy: 0.8750\n",
      "Epoch 5/30\n",
      "1503/1503 [==============================] - 1783s 1s/step - loss: 0.1504 - accuracy: 0.9486 - val_loss: 0.0338 - val_accuracy: 1.0000\n",
      "Epoch 6/30\n",
      "1503/1503 [==============================] - 1783s 1s/step - loss: 0.1313 - accuracy: 0.9543 - val_loss: 0.0834 - val_accuracy: 0.9375\n",
      "Epoch 7/30\n",
      "1503/1503 [==============================] - 1783s 1s/step - loss: 0.1175 - accuracy: 0.9593 - val_loss: 0.0654 - val_accuracy: 1.0000\n",
      "Epoch 8/30\n",
      "1503/1503 [==============================] - 1783s 1s/step - loss: 0.0975 - accuracy: 0.9661 - val_loss: 0.0210 - val_accuracy: 1.0000\n",
      "Epoch 9/30\n",
      "1503/1503 [==============================] - 1782s 1s/step - loss: 0.0833 - accuracy: 0.9723 - val_loss: 0.0091 - val_accuracy: 1.0000\n",
      "Epoch 10/30\n",
      "1503/1503 [==============================] - 1782s 1s/step - loss: 0.0697 - accuracy: 0.9759 - val_loss: 0.0105 - val_accuracy: 1.0000\n",
      "Epoch 11/30\n",
      "1503/1503 [==============================] - 1782s 1s/step - loss: 0.0592 - accuracy: 0.9797 - val_loss: 0.0067 - val_accuracy: 1.0000\n",
      "Epoch 12/30\n",
      "1503/1503 [==============================] - 1781s 1s/step - loss: 0.0421 - accuracy: 0.9854 - val_loss: 0.0633 - val_accuracy: 0.9688\n",
      "Epoch 13/30\n",
      "1503/1503 [==============================] - 1782s 1s/step - loss: 0.0337 - accuracy: 0.9885 - val_loss: 0.0993 - val_accuracy: 0.9688\n",
      "Epoch 14/30\n",
      "1503/1503 [==============================] - 1781s 1s/step - loss: 0.0274 - accuracy: 0.9909 - val_loss: 0.0076 - val_accuracy: 1.0000\n",
      "Epoch 15/30\n",
      "1503/1503 [==============================] - 1781s 1s/step - loss: 0.0224 - accuracy: 0.9927 - val_loss: 0.0224 - val_accuracy: 1.0000\n",
      "Epoch 16/30\n",
      "1503/1503 [==============================] - 1781s 1s/step - loss: 0.0187 - accuracy: 0.9938 - val_loss: 0.0615 - val_accuracy: 0.9688\n",
      "Epoch 17/30\n",
      "1503/1503 [==============================] - 1781s 1s/step - loss: 0.0170 - accuracy: 0.9947 - val_loss: 0.0057 - val_accuracy: 1.0000\n",
      "Epoch 18/30\n",
      "1503/1503 [==============================] - 1781s 1s/step - loss: 0.0154 - accuracy: 0.9954 - val_loss: 0.0159 - val_accuracy: 1.0000\n",
      "Epoch 19/30\n",
      "1503/1503 [==============================] - 1780s 1s/step - loss: 0.0147 - accuracy: 0.9950 - val_loss: 0.0256 - val_accuracy: 0.9688\n",
      "Epoch 20/30\n",
      "1503/1503 [==============================] - 1780s 1s/step - loss: 0.0113 - accuracy: 0.9961 - val_loss: 0.0078 - val_accuracy: 1.0000\n",
      "Epoch 21/30\n",
      "1503/1503 [==============================] - 1781s 1s/step - loss: 0.0105 - accuracy: 0.9962 - val_loss: 0.0280 - val_accuracy: 0.9688\n",
      "Epoch 22/30\n",
      "1503/1503 [==============================] - 1781s 1s/step - loss: 0.0104 - accuracy: 0.9961 - val_loss: 0.0206 - val_accuracy: 1.0000\n",
      "Epoch 23/30\n",
      "1503/1503 [==============================] - 1780s 1s/step - loss: 0.0095 - accuracy: 0.9962 - val_loss: 0.0062 - val_accuracy: 1.0000\n",
      "Epoch 24/30\n",
      "1503/1503 [==============================] - 1781s 1s/step - loss: 0.0080 - accuracy: 0.9967 - val_loss: 0.0035 - val_accuracy: 1.0000\n",
      "Epoch 25/30\n",
      "1503/1503 [==============================] - 1780s 1s/step - loss: 0.0078 - accuracy: 0.9966 - val_loss: 0.0265 - val_accuracy: 0.9688\n",
      "Epoch 26/30\n",
      "1503/1503 [==============================] - 1781s 1s/step - loss: 0.0071 - accuracy: 0.9970 - val_loss: 0.0174 - val_accuracy: 1.0000\n",
      "Epoch 27/30\n",
      "1503/1503 [==============================] - 1780s 1s/step - loss: 0.0070 - accuracy: 0.9966 - val_loss: 0.0212 - val_accuracy: 1.0000\n",
      "Epoch 28/30\n",
      "1503/1503 [==============================] - 1780s 1s/step - loss: 0.0058 - accuracy: 0.9970 - val_loss: 0.0356 - val_accuracy: 0.9688\n",
      "Epoch 29/30\n",
      "1503/1503 [==============================] - 1780s 1s/step - loss: 0.0055 - accuracy: 0.9968 - val_loss: 0.0158 - val_accuracy: 1.0000\n",
      "Epoch 30/30\n",
      "1503/1503 [==============================] - 1780s 1s/step - loss: 0.0057 - accuracy: 0.9966 - val_loss: 0.0105 - val_accuracy: 1.0000\n",
      "INFO:tensorflow:Assets written to: ../opticnet/opticnet_30epochs_75135.6 images/assets\n",
      "Test acc for opticnet: 0.996901\n",
      "Done!\n",
      "--------------------------------------------------\n",
      "\n"
     ]
    },
    {
     "data": {
      "image/png": "[encoded data removed]",
      "text/plain": [
       "<Figure size 288x216 with 1 Axes>"
      ]
     },
     "metadata": {
      "needs_background": "light"
     },
     "output_type": "display_data"
    },
    {
     "data": {
      "image/png": "[encoded data removed]",
      "text/plain": [
       "<Figure size 288x216 with 1 Axes>"
      ]
     },
     "metadata": {
      "needs_background": "light"
     },
     "output_type": "display_data"
    },
    {
     "data": {
      "image/png": "[encoded data removed]",
      "text/plain": [
       "<Figure size 288x216 with 1 Axes>"
      ]
     },
     "metadata": {
      "needs_background": "light"
     },
     "output_type": "display_data"
    },
    {
     "data": {
      "image/png": "[encoded data removed]",
      "text/plain": [
       "<Figure size 288x216 with 1 Axes>"
      ]
     },
     "metadata": {
      "needs_background": "light"
     },
     "output_type": "display_data"
    },
    {
     "data": {
      "image/png": "[encoded data removed]",
      "text/plain": [
       "<Figure size 288x216 with 1 Axes>"
      ]
     },
     "metadata": {
      "needs_background": "light"
     },
     "output_type": "display_data"
    },
    {
     "data": {
      "image/png": "[encoded data removed]",
      "text/plain": [
       "<Figure size 288x216 with 1 Axes>"
      ]
     },
     "metadata": {
      "needs_background": "light"
     },
     "output_type": "display_data"
    },
    {
     "data": {
      "image/png": "[encoded data removed]",
      "text/plain": [
       "<Figure size 288x216 with 1 Axes>"
      ]
     },
     "metadata": {
      "needs_background": "light"
     },
     "output_type": "display_data"
    },
    {
     "data": {
      "image/png": "[encoded data removed]",
      "text/plain": [
       "<Figure size 288x216 with 1 Axes>"
      ]
     },
     "metadata": {
      "needs_background": "light"
     },
     "output_type": "display_data"
    },
    {
     "data": {
      "image/png": "[encoded data removed]",
      "text/plain": [
       "<Figure size 288x216 with 1 Axes>"
      ]
     },
     "metadata": {
      "needs_background": "light"
     },
     "output_type": "display_data"
    },
    {
     "data": {
      "image/png": "[encoded data removed]",
      "text/plain": [
       "<Figure size 288x216 with 1 Axes>"
      ]
     },
     "metadata": {
      "needs_background": "light"
     },
     "output_type": "display_data"
    },
    {
     "data": {
      "image/png": "[encoded data removed]",
      "text/plain": [
       "<Figure size 288x216 with 1 Axes>"
      ]
     },
     "metadata": {
      "needs_background": "light"
     },
     "output_type": "display_data"
    },
    {
     "data": {
      "image/png": "[encoded data removed]",
      "text/plain": [
       "<Figure size 288x216 with 1 Axes>"
      ]
     },
     "metadata": {
      "needs_background": "light"
     },
     "output_type": "display_data"
    },
    {
     "data": {
      "image/png": "[encoded data removed]",
      "text/plain": [
       "<Figure size 288x216 with 1 Axes>"
      ]
     },
     "metadata": {
      "needs_background": "light"
     },
     "output_type": "display_data"
    },
    {
     "data": {
      "image/png": "[encoded data removed]",
      "text/plain": [
       "<Figure size 288x216 with 1 Axes>"
      ]
     },
     "metadata": {
      "needs_background": "light"
     },
     "output_type": "display_data"
    },
    {
     "data": {
      "image/png": "[encoded data removed]",
      "text/plain": [
       "<Figure size 288x216 with 1 Axes>"
      ]
     },
     "metadata": {
      "needs_background": "light"
     },
     "output_type": "display_data"
    },
    {
     "data": {
      "image/png": "[encoded data removed]",
      "text/plain": [
       "<Figure size 288x216 with 1 Axes>"
      ]
     },
     "metadata": {
      "needs_background": "light"
     },
     "output_type": "display_data"
    },
    {
     "data": {
      "image/png": "[encoded data removed]",
      "text/plain": [
       "<Figure size 288x216 with 1 Axes>"
      ]
     },
     "metadata": {
      "needs_background": "light"
     },
     "output_type": "display_data"
    },
    {
     "data": {
      "image/png": "[encoded data removed]",
      "text/plain": [
       "<Figure size 288x216 with 1 Axes>"
      ]
     },
     "metadata": {
      "needs_background": "light"
     },
     "output_type": "display_data"
    },
    {
     "data": {
      "image/png": "[encoded data removed]",
      "text/plain": [
       "<Figure size 288x216 with 1 Axes>"
      ]
     },
     "metadata": {
      "needs_background": "light"
     },
     "output_type": "display_data"
    },
    {
     "data": {
      "image/png": "[encoded data removed]",
      "text/plain": [
       "<Figure size 288x216 with 1 Axes>"
      ]
     },
     "metadata": {
      "needs_background": "light"
     },
     "output_type": "display_data"
    },
    {
     "data": {
      "image/png": "[encoded data removed]",
      "text/plain": [
       "<Figure size 288x216 with 1 Axes>"
      ]
     },
     "metadata": {
      "needs_background": "light"
     },
     "output_type": "display_data"
    }
   ],
   "source": [
    "from sklearn.model_selection import train_test_split\n",
    "import datetime\n",
    "\n",
    "maxTrain = len(y_train)\n",
    "#for p in [0.01, 0.025, 0.05, 0.075, 0.09]:\n",
    "for p in [0.1, 0.25, 0.4, 0.5, 0.6, 0.75, 0.9]:\n",
    "    #X_trn, X_tst, y_trn, y_tst\n",
    "    X_t, _, y_t, _ = train_test_split(images, y_train, test_size=1-p, random_state=123)\n",
    "    print(f\"Labels fraction: {sum(y_t == 1) / sum(y_train == 1)}\")\n",
    "    for net in [\"xception\", \"resnet\", \"opticnet\"]:\n",
    "        print(f\"Training {net} for {p}% of train size (aka {len(X_t)} images)...\")\n",
    "        model, size = emptyModelGenerator(net, True) # new weights\n",
    "        X_trn = resizeIms(X_t, size)\n",
    "        X_val = resizeIms(x_val, size)\n",
    "        log_dir = f\"logs/{net}/fit/{p}trainSet_\" + datetime.datetime.now().strftime(\"%Y%m%d-%H%M%S\")\n",
    "        tensorboard_callback = tf.keras.callbacks.TensorBoard(log_dir=log_dir, histogram_freq=1)\n",
    "        optim = Adam(learning_rate=0.001)\n",
    "        model.compile(optimizer=optim, loss='categorical_crossentropy', metrics=['accuracy'])\n",
    "        hist = model.fit(X_trn, y_t, epochs=epochs, validation_data = (X_val, y_validation), batch_size=batch_size,\n",
    "                    shuffle=True, max_queue_size=20,\n",
    "                    use_multiprocessing=True, workers=5, \n",
    "                    callbacks=[CustomCallback(fraction=0.9, model=net), tensorboard_callback])\n",
    "        model.save(f\"../{net}/{net}_{epochs}epochs_{p*maxTrain} images\")\n",
    "        testPredict(model, size, name=net)\n",
    "        del model\n",
    "        del X_trn\n",
    "        del X_val\n",
    "        print(\"Done!\\n\" + '-'*50, end='\\n\\n')"
   ]
  }
 ],
 "metadata": {
  "kernelspec": {
   "display_name": "Python 3",
   "language": "python",
   "name": "python3"
  },
  "language_info": {
   "codemirror_mode": {
    "name": "ipython",
    "version": 3
   },
   "file_extension": ".py",
   "mimetype": "text/x-python",
   "name": "python",
   "nbconvert_exporter": "python",
   "pygments_lexer": "ipython3",
   "version": "3.8.5"
  }
 },
 "nbformat": 4,
 "nbformat_minor": 4
}
