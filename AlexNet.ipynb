{
 "cells": [
  {
   "cell_type": "markdown",
   "id": "15dcfda4",
   "metadata": {},
   "source": [
    "# AlexNet implementation (with PyTorch)\n",
    "Model from: https://pytorch.org/hub/pytorch_vision_alexnet/\n",
    "\n",
    "Training loop from: https://kushaj.medium.com/training-alexnet-with-tips-and-checks-on-how-to-train-cnns-practical-cnns-in-pytorch-1-61daa679c74a"
   ]
  },
  {
   "cell_type": "markdown",
   "id": "da2e53bd",
   "metadata": {},
   "source": [
    "## Import required modules"
   ]
  },
  {
   "cell_type": "code",
   "execution_count": 1,
   "id": "25939272",
   "metadata": {},
   "outputs": [],
   "source": [
    "import torch\n",
    "from torch import nn, optim\n",
    "from copy import deepcopy\n",
    "from PIL import Image\n",
    "from torchvision import transforms\n",
    "import time\n",
    "\n",
    "device = torch.device('cuda' if torch.cuda.is_available() else 'cpu')"
   ]
  },
  {
   "cell_type": "markdown",
   "id": "8cdfe337",
   "metadata": {},
   "source": [
    "## Get model"
   ]
  },
  {
   "cell_type": "markdown",
   "id": "ffe49a12",
   "metadata": {},
   "source": [
    "### Get pretrained model from source"
   ]
  },
  {
   "cell_type": "code",
   "execution_count": 2,
   "id": "e451b6ec",
   "metadata": {},
   "outputs": [
    {
     "name": "stderr",
     "output_type": "stream",
     "text": [
      "Using cache found in /home/wrosales/.cache/torch/hub/pytorch_vision_v0.9.0\n"
     ]
    },
    {
     "data": {
      "text/plain": [
       "AlexNet(\n",
       "  (features): Sequential(\n",
       "    (0): Conv2d(3, 64, kernel_size=(11, 11), stride=(4, 4), padding=(2, 2))\n",
       "    (1): ReLU(inplace=True)\n",
       "    (2): MaxPool2d(kernel_size=3, stride=2, padding=0, dilation=1, ceil_mode=False)\n",
       "    (3): Conv2d(64, 192, kernel_size=(5, 5), stride=(1, 1), padding=(2, 2))\n",
       "    (4): ReLU(inplace=True)\n",
       "    (5): MaxPool2d(kernel_size=3, stride=2, padding=0, dilation=1, ceil_mode=False)\n",
       "    (6): Conv2d(192, 384, kernel_size=(3, 3), stride=(1, 1), padding=(1, 1))\n",
       "    (7): ReLU(inplace=True)\n",
       "    (8): Conv2d(384, 256, kernel_size=(3, 3), stride=(1, 1), padding=(1, 1))\n",
       "    (9): ReLU(inplace=True)\n",
       "    (10): Conv2d(256, 256, kernel_size=(3, 3), stride=(1, 1), padding=(1, 1))\n",
       "    (11): ReLU(inplace=True)\n",
       "    (12): MaxPool2d(kernel_size=3, stride=2, padding=0, dilation=1, ceil_mode=False)\n",
       "  )\n",
       "  (avgpool): AdaptiveAvgPool2d(output_size=(6, 6))\n",
       "  (classifier): Sequential(\n",
       "    (0): Dropout(p=0.5, inplace=False)\n",
       "    (1): Linear(in_features=9216, out_features=4096, bias=True)\n",
       "    (2): ReLU(inplace=True)\n",
       "    (3): Dropout(p=0.5, inplace=False)\n",
       "    (4): Linear(in_features=4096, out_features=4096, bias=True)\n",
       "    (5): ReLU(inplace=True)\n",
       "    (6): Linear(in_features=4096, out_features=1000, bias=True)\n",
       "  )\n",
       ")"
      ]
     },
     "execution_count": 2,
     "metadata": {},
     "output_type": "execute_result"
    }
   ],
   "source": [
    "alexnet = torch.hub.load('pytorch/vision:v0.9.0', 'alexnet', pretrained=True)\n",
    "alexnet.eval()"
   ]
  },
  {
   "cell_type": "markdown",
   "id": "1031d94a",
   "metadata": {},
   "source": [
    "## Data transformation"
   ]
  },
  {
   "cell_type": "markdown",
   "id": "33d04866",
   "metadata": {},
   "source": [
    "Set number of classifications labels"
   ]
  },
  {
   "cell_type": "code",
   "execution_count": 3,
   "id": "c67f2d10",
   "metadata": {},
   "outputs": [],
   "source": [
    "num_labels = 4 # CNV, DME, DRUSEN, NORMAL\n",
    "labels_list = [\"CNV\", \"DME\", \"DRUSEN\", \"NORMAL\"]"
   ]
  },
  {
   "cell_type": "markdown",
   "id": "f85d80fd",
   "metadata": {},
   "source": [
    "#### Create train and test sets"
   ]
  },
  {
   "cell_type": "code",
   "execution_count": 4,
   "id": "d4b78fc8",
   "metadata": {},
   "outputs": [],
   "source": [
    "from torchvision.utils import make_grid\n",
    "from torchvision.datasets import ImageFolder\n",
    "import torchvision.transforms as transforms\n",
    "\n",
    "data_dir = '/volume/OCT/OCT2017/'\n",
    "sets = [\"train\", \"val\", \"test\"]\n",
    "\n",
    "size = 224 # given by alexnet\n",
    "batch_size = 32 # prefered by alexnet\n",
    "\n",
    "# num_workers = 8 # only if multi-processing is needed\n",
    "\n",
    "data_transforms = {\n",
    "    set_type: transforms.Compose([\n",
    "        transforms.Resize((size, size)),\n",
    "        transforms.RandomHorizontalFlip(),\n",
    "        transforms.ToTensor(),\n",
    "        transforms.Normalize(mean=[0.485, 0.456, 0.406], std=[0.229, 0.224, 0.225]),\n",
    "    ]) for set_type in sets\n",
    "}\n",
    "\n",
    "image_datasets = {\n",
    "    set_type : ImageFolder(data_dir + set_type, transform=data_transforms[set_type])\n",
    "    for set_type in sets\n",
    "}\n",
    "\n",
    "data_loader = {\n",
    "    x: torch.utils.data.DataLoader(image_datasets[x],\n",
    "                                   batch_size=batch_size,\n",
    "                                   shuffle=True,\n",
    "                                   pin_memory=True) for x in sets\n",
    "}"
   ]
  },
  {
   "cell_type": "markdown",
   "id": "d9262d95",
   "metadata": {},
   "source": [
    "Sets shape"
   ]
  },
  {
   "cell_type": "code",
   "execution_count": 5,
   "id": "5d0adbb3",
   "metadata": {},
   "outputs": [
    {
     "name": "stdout",
     "output_type": "stream",
     "text": [
      "Set: train. Images: 83484\n",
      "Set: val. Images: 32\n",
      "Set: test. Images: 968\n"
     ]
    }
   ],
   "source": [
    "for set_type in sets:\n",
    "    print(f\"Set: {set_type}. Images: {len(data_loader[set_type].dataset.imgs)}\")"
   ]
  },
  {
   "cell_type": "markdown",
   "id": "26ab29cd",
   "metadata": {},
   "source": [
    "Check labels and images"
   ]
  },
  {
   "cell_type": "code",
   "execution_count": 6,
   "id": "55fcdeeb",
   "metadata": {},
   "outputs": [
    {
     "data": {
      "image/png": "[encoded data removed]",
      "text/plain": [
       "<Figure size 432x288 with 1 Axes>"
      ]
     },
     "metadata": {
      "needs_background": "light"
     },
     "output_type": "display_data"
    }
   ],
   "source": [
    "import numpy as np\n",
    "import matplotlib.pyplot as plt\n",
    "# Our images are normalized so denormalize then and convert them to numpy\n",
    "def imshow(img, title=None):\n",
    "    img = img.numpy().transpose((1, 2, 0))\n",
    "    mean = np.array([0.485, 0.456, 0.406])\n",
    "    std = np.array([0.229, 0.224, 0.225])\n",
    "    img = std*img + mean\n",
    "    img = np.clip(img, 0, 1)\n",
    "    plt.imshow(img)\n",
    "    if title is not None:\n",
    "        plt.title(title)\n",
    "    plt.pause(0.001)\n",
    "    \n",
    "\n",
    "images, labels = next(iter(data_loader['val']))\n",
    "grid_img = make_grid(images[:4], nrow=4)\n",
    "imshow(grid_img, title = [labels_list[x] for x in labels[:4]])"
   ]
  },
  {
   "cell_type": "markdown",
   "id": "62d9d73f",
   "metadata": {},
   "source": [
    "## LIMO model"
   ]
  },
  {
   "cell_type": "markdown",
   "id": "9b89186c",
   "metadata": {},
   "source": [
    "### Modify architecture"
   ]
  },
  {
   "cell_type": "code",
   "execution_count": 7,
   "id": "86047d5c",
   "metadata": {},
   "outputs": [],
   "source": [
    "def newAlexNet(num_labels):\n",
    "    newAlexnet = deepcopy(alexnet)\n",
    "    lastLayer = newAlexnet.classifier[-1] # get usual last layer\n",
    "    newAlexnet.classifier[-1] = nn.Linear(lastLayer.in_features, num_labels) # modify last layer number of outputs (labels to be classified)\n",
    "    return newAlexnet\n",
    "\n",
    "limoAlexnet = newAlexNet(num_labels)"
   ]
  },
  {
   "cell_type": "markdown",
   "id": "a90ad22e",
   "metadata": {},
   "source": [
    "####  Testing model and training loop over validation set only"
   ]
  },
  {
   "cell_type": "code",
   "execution_count": 8,
   "id": "8b3991d9",
   "metadata": {},
   "outputs": [],
   "source": [
    "inputs, labels = next(iter(data_loader['val']))\n",
    "inputs = inputs.to(device)\n",
    "labels = labels.to(device)\n",
    "valNet = newAlexNet(num_labels)\n",
    "criterion_check1 = nn.CrossEntropyLoss()\n",
    "optimizer_check1 = optim.SGD(valNet.parameters(), lr=0.001, momentum=0.9)"
   ]
  },
  {
   "cell_type": "code",
   "execution_count": 9,
   "id": "34e923f1",
   "metadata": {},
   "outputs": [
    {
     "name": "stdout",
     "output_type": "stream",
     "text": [
      "Epoch 1: Loss = 1.5086668729782104 Accuracy = 0.28125\n",
      "Epoch 11: Loss = 0.39557400345802307 Accuracy = 0.96875\n",
      "Epoch 21: Loss = 0.07941702753305435 Accuracy = 0.96875\n",
      "Epoch 31: Loss = 0.009939725510776043 Accuracy = 1.0\n",
      "Epoch 40: Loss = 0.005524064879864454 Accuracy = 1.0\n"
     ]
    }
   ],
   "source": [
    "valNet.train()\n",
    "epochs = 40\n",
    "for epoch in range(epochs):\n",
    "    optimizer_check1.zero_grad()\n",
    "    outputs = valNet(inputs)\n",
    "    loss = criterion_check1(outputs, labels)\n",
    "    _, preds = torch.max(outputs, 1)\n",
    "    loss.backward()\n",
    "    optimizer_check1.step()\n",
    "    \n",
    "    if epoch%10 == 0 or epoch == epochs-1:\n",
    "        print('Epoch {}: Loss = {} Accuracy = {}'.format(epoch+1, loss.item(), torch.sum(preds == labels) / len(labels)))"
   ]
  }
 ],
 "metadata": {
  "kernelspec": {
   "display_name": "Python 3",
   "language": "python",
   "name": "python3"
  },
  "language_info": {
   "codemirror_mode": {
    "name": "ipython",
    "version": 3
   },
   "file_extension": ".py",
   "mimetype": "text/x-python",
   "name": "python",
   "nbconvert_exporter": "python",
   "pygments_lexer": "ipython3",
   "version": "3.8.5"
  }
 },
 "nbformat": 4,
 "nbformat_minor": 5
}
