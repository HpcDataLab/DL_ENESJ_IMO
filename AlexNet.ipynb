{
 "cells": [
  {
   "cell_type": "markdown",
   "id": "15dcfda4",
   "metadata": {},
   "source": [
    "# AlexNet implementation (with PyTorch)\n",
    "Model from: https://pytorch.org/hub/pytorch_vision_alexnet/\n",
    "\n",
    "Training loop from: https://kushaj.medium.com/training-alexnet-with-tips-and-checks-on-how-to-train-cnns-practical-cnns-in-pytorch-1-61daa679c74a"
   ]
  },
  {
   "cell_type": "markdown",
   "id": "da2e53bd",
   "metadata": {},
   "source": [
    "## Import required modules"
   ]
  },
  {
   "cell_type": "code",
   "execution_count": 1,
   "id": "25939272",
   "metadata": {},
   "outputs": [],
   "source": [
    "import torch\n",
    "from torch import nn, optim\n",
    "from copy import deepcopy\n",
    "from PIL import Image\n",
    "from torchvision import transforms\n",
    "import time\n",
    "\n",
    "device = torch.device('cuda' if torch.cuda.is_available() else 'cpu')"
   ]
  },
  {
   "cell_type": "code",
   "execution_count": 2,
   "id": "e467ecf1",
   "metadata": {},
   "outputs": [],
   "source": [
    "import random\n",
    "random.seed(1234) # reproducibility seed"
   ]
  },
  {
   "cell_type": "markdown",
   "id": "8cdfe337",
   "metadata": {},
   "source": [
    "## Get model"
   ]
  },
  {
   "cell_type": "markdown",
   "id": "ffe49a12",
   "metadata": {},
   "source": [
    "### Get pretrained model from source"
   ]
  },
  {
   "cell_type": "code",
   "execution_count": 3,
   "id": "e451b6ec",
   "metadata": {},
   "outputs": [
    {
     "name": "stderr",
     "output_type": "stream",
     "text": [
      "Using cache found in /home/wrosales/.cache/torch/hub/pytorch_vision_v0.9.0\n"
     ]
    },
    {
     "data": {
      "text/plain": [
       "AlexNet(\n",
       "  (features): Sequential(\n",
       "    (0): Conv2d(3, 64, kernel_size=(11, 11), stride=(4, 4), padding=(2, 2))\n",
       "    (1): ReLU(inplace=True)\n",
       "    (2): MaxPool2d(kernel_size=3, stride=2, padding=0, dilation=1, ceil_mode=False)\n",
       "    (3): Conv2d(64, 192, kernel_size=(5, 5), stride=(1, 1), padding=(2, 2))\n",
       "    (4): ReLU(inplace=True)\n",
       "    (5): MaxPool2d(kernel_size=3, stride=2, padding=0, dilation=1, ceil_mode=False)\n",
       "    (6): Conv2d(192, 384, kernel_size=(3, 3), stride=(1, 1), padding=(1, 1))\n",
       "    (7): ReLU(inplace=True)\n",
       "    (8): Conv2d(384, 256, kernel_size=(3, 3), stride=(1, 1), padding=(1, 1))\n",
       "    (9): ReLU(inplace=True)\n",
       "    (10): Conv2d(256, 256, kernel_size=(3, 3), stride=(1, 1), padding=(1, 1))\n",
       "    (11): ReLU(inplace=True)\n",
       "    (12): MaxPool2d(kernel_size=3, stride=2, padding=0, dilation=1, ceil_mode=False)\n",
       "  )\n",
       "  (avgpool): AdaptiveAvgPool2d(output_size=(6, 6))\n",
       "  (classifier): Sequential(\n",
       "    (0): Dropout(p=0.5, inplace=False)\n",
       "    (1): Linear(in_features=9216, out_features=4096, bias=True)\n",
       "    (2): ReLU(inplace=True)\n",
       "    (3): Dropout(p=0.5, inplace=False)\n",
       "    (4): Linear(in_features=4096, out_features=4096, bias=True)\n",
       "    (5): ReLU(inplace=True)\n",
       "    (6): Linear(in_features=4096, out_features=1000, bias=True)\n",
       "  )\n",
       ")"
      ]
     },
     "execution_count": 3,
     "metadata": {},
     "output_type": "execute_result"
    }
   ],
   "source": [
    "alexnet = torch.hub.load('pytorch/vision:v0.9.0', 'alexnet', pretrained=True)\n",
    "alexnet.eval()"
   ]
  },
  {
   "cell_type": "markdown",
   "id": "1031d94a",
   "metadata": {},
   "source": [
    "## Data transformation"
   ]
  },
  {
   "cell_type": "markdown",
   "id": "33d04866",
   "metadata": {},
   "source": [
    "Set number of classifications labels"
   ]
  },
  {
   "cell_type": "code",
   "execution_count": 4,
   "id": "c67f2d10",
   "metadata": {},
   "outputs": [],
   "source": [
    "num_labels = 4 # CNV, DME, DRUSEN, NORMAL\n",
    "labels_list = [\"CNV\", \"DME\", \"DRUSEN\", \"NORMAL\"]"
   ]
  },
  {
   "cell_type": "markdown",
   "id": "f85d80fd",
   "metadata": {},
   "source": [
    "#### Create train and test sets"
   ]
  },
  {
   "cell_type": "code",
   "execution_count": 5,
   "id": "d4b78fc8",
   "metadata": {},
   "outputs": [],
   "source": [
    "from torchvision.utils import make_grid\n",
    "from torchvision.datasets import ImageFolder\n",
    "import torchvision.transforms as transforms\n",
    "\n",
    "data_dir = '/volume/OCT/OCT2017/'\n",
    "sets = [\"train\", \"val\", \"test\"]\n",
    "\n",
    "size = 224 # given by alexnet\n",
    "batch_size = 32 # prefered by alexnet\n",
    "\n",
    "# num_workers = 8 # only if multi-processing is needed\n",
    "\n",
    "data_transforms = {\n",
    "    set_type: transforms.Compose([\n",
    "        transforms.Resize((size, size)),\n",
    "        transforms.RandomHorizontalFlip(),\n",
    "        transforms.ToTensor(),\n",
    "        transforms.Normalize(mean=[0.485, 0.456, 0.406], std=[0.229, 0.224, 0.225]),\n",
    "    ]) for set_type in sets\n",
    "}\n",
    "\n",
    "image_datasets = {\n",
    "    set_type : ImageFolder(data_dir + set_type, transform=data_transforms[set_type])\n",
    "    for set_type in sets\n",
    "}\n",
    "\n",
    "data_loader = {\n",
    "    x: torch.utils.data.DataLoader(image_datasets[x],\n",
    "                                   batch_size=batch_size,\n",
    "                                   shuffle=True,\n",
    "                                   pin_memory=True) for x in sets\n",
    "}"
   ]
  },
  {
   "cell_type": "markdown",
   "id": "d9262d95",
   "metadata": {},
   "source": [
    "Sets shape"
   ]
  },
  {
   "cell_type": "code",
   "execution_count": 6,
   "id": "5d0adbb3",
   "metadata": {},
   "outputs": [
    {
     "name": "stdout",
     "output_type": "stream",
     "text": [
      "Set: train. Images: 83484\n",
      "Set: val. Images: 32\n",
      "Set: test. Images: 968\n"
     ]
    }
   ],
   "source": [
    "for set_type in sets:\n",
    "    print(f\"Set: {set_type}. Images: {len(data_loader[set_type].dataset.imgs)}\")"
   ]
  },
  {
   "cell_type": "markdown",
   "id": "26ab29cd",
   "metadata": {},
   "source": [
    "Check labels and images"
   ]
  },
  {
   "cell_type": "code",
   "execution_count": 7,
   "id": "55fcdeeb",
   "metadata": {},
   "outputs": [
    {
     "data": {
      "image/png": "[encoded data removed]",
      "text/plain": [
       "<Figure size 432x288 with 1 Axes>"
      ]
     },
     "metadata": {
      "needs_background": "light"
     },
     "output_type": "display_data"
    }
   ],
   "source": [
    "import numpy as np\n",
    "import matplotlib.pyplot as plt\n",
    "# Our images are normalized so denormalize then and convert them to numpy\n",
    "def imshow(img, title=None):\n",
    "    img = img.numpy().transpose((1, 2, 0))\n",
    "    mean = np.array([0.485, 0.456, 0.406])\n",
    "    std = np.array([0.229, 0.224, 0.225])\n",
    "    img = std*img + mean\n",
    "    img = np.clip(img, 0, 1)\n",
    "    plt.imshow(img)\n",
    "    if title is not None:\n",
    "        plt.title(title)\n",
    "    plt.pause(0.001)\n",
    "    \n",
    "\n",
    "images, labels = next(iter(data_loader['val']))\n",
    "grid_img = make_grid(images[:4], nrow=4)\n",
    "imshow(grid_img, title = [labels_list[x] for x in labels[:4]])"
   ]
  },
  {
   "cell_type": "markdown",
   "id": "62d9d73f",
   "metadata": {},
   "source": [
    "## LIMO model"
   ]
  },
  {
   "cell_type": "markdown",
   "id": "9b89186c",
   "metadata": {},
   "source": [
    "### Modify architecture"
   ]
  },
  {
   "cell_type": "code",
   "execution_count": 8,
   "id": "86047d5c",
   "metadata": {},
   "outputs": [],
   "source": [
    "def newAlexNet(num_labels):\n",
    "    newAlexnet = deepcopy(alexnet)\n",
    "    lastLayer = newAlexnet.classifier[-1] # get usual last layer\n",
    "    newAlexnet.classifier[-1] = nn.Linear(lastLayer.in_features, num_labels) # modify last layer number of outputs (labels to be classified)\n",
    "    return newAlexnet\n",
    "\n",
    "limoAlexnet = newAlexNet(num_labels)"
   ]
  },
  {
   "cell_type": "markdown",
   "id": "6bf0aa43",
   "metadata": {},
   "source": [
    "### Set hiperparameters"
   ]
  },
  {
   "cell_type": "code",
   "execution_count": 9,
   "id": "4ed59422",
   "metadata": {},
   "outputs": [],
   "source": [
    "learning_rate = 0.001\n",
    "momentum = 0.9\n",
    "epochs = 10"
   ]
  },
  {
   "cell_type": "markdown",
   "id": "6eb57524",
   "metadata": {},
   "source": [
    "### Loss function, optimizer and scheduler"
   ]
  },
  {
   "cell_type": "code",
   "execution_count": 10,
   "id": "78d626d5",
   "metadata": {},
   "outputs": [],
   "source": [
    "loss_fn = nn.CrossEntropyLoss()\n",
    "optimizer = optim.SGD(limoAlexnet.parameters(), lr=learning_rate, momentum=momentum)\n",
    "scheduler = optim.lr_scheduler.ReduceLROnPlateau(optimizer, 'min', verbose=True)"
   ]
  },
  {
   "cell_type": "markdown",
   "id": "0b42d0e3",
   "metadata": {},
   "source": [
    "### Train loop"
   ]
  },
  {
   "cell_type": "code",
   "execution_count": 11,
   "id": "763db441",
   "metadata": {},
   "outputs": [],
   "source": [
    "def train(model, data_loader, criterion, optimizer, scheduler = None, num_epochs=100, seed=None):\n",
    "    since = time.time()\n",
    "    if seed:\n",
    "        random .seed(seed)\n",
    "    \n",
    "    train_batch_loss = []\n",
    "    train_epoch_loss = []\n",
    "    val_epoch_loss = []\n",
    "    \n",
    "    model.to(device)\n",
    "    \n",
    "    for epoch in range(num_epochs):\n",
    "        print('Epoch {}/{}'.format(epoch+1, num_epochs))\n",
    "        print('-'*15)\n",
    "        \n",
    "        # You perform validation test after every epoch\n",
    "        for phase in [\"train\", \"val\"]:\n",
    "            if phase == 'train':\n",
    "                model.train()\n",
    "            else:\n",
    "                model.eval()\n",
    "                \n",
    "            running_loss = 0; running_corrects = 0;\n",
    "            \n",
    "            num_batches = int(len(data_loader[phase].dataset) / batch_size)\n",
    "            \n",
    "            for idx, (inputs, labels) in enumerate(data_loader[phase]):\n",
    "                inputs = inputs.to(device)\n",
    "                labels = labels.to(device)\n",
    "                \n",
    "                # zero accumulated gradients\n",
    "                optimizer.zero_grad()\n",
    "                \n",
    "                # During train phase we want to remember history for grads\n",
    "                # and during val we do not want history of grads\n",
    "                with torch.set_grad_enabled(phase == 'train'):\n",
    "                    outputs = model(inputs)\n",
    "                    loss = criterion(outputs, labels)\n",
    "                    \n",
    "                    _, preds = torch.max(outputs, 1)\n",
    "                    \n",
    "                    if idx%200 == 0 or idx == num_batches - 1:\n",
    "                        train_batch_loss.append(loss.item())\n",
    "                        print('Epoch {}: {}/{} steps in progress'.format(epoch+1, idx+1, num_batches))\n",
    "                        \n",
    "                    if phase == 'train':\n",
    "                        loss.backward()\n",
    "                        optimizer.step()\n",
    "                        \n",
    "                running_loss += loss.item() * inputs.size(0)\n",
    "                running_corrects += torch.sum(preds == labels.data)\n",
    "                \n",
    "            epoch_loss = running_loss / len(data_loader[phase].dataset)\n",
    "            epoch_acc = running_corrects.double() / len(data_loader[phase].dataset)\n",
    "            \n",
    "            print('{} Loss: {:.4f} Acc: {:.4f}'.format(phase, epoch_loss, epoch_acc))\n",
    "            \n",
    "            if phase == 'val':\n",
    "                val_epoch_loss.append((epoch_loss, epoch_acc))\n",
    "                if scheduler:\n",
    "                    scheduler.step(loss.item())\n",
    "            else:\n",
    "                train_epoch_loss.append((epoch_loss, epoch_acc))\n",
    "                \n",
    "        print()\n",
    "        \n",
    "    time_elapsed = time.time() - since\n",
    "    print('Training complete in {:.0f}m {:.0f}s'.format(time_elapsed // 60, time_elapsed % 60))\n",
    "    \n",
    "    return model"
   ]
  },
  {
   "cell_type": "markdown",
   "id": "f18cca80",
   "metadata": {},
   "source": [
    "Set test data as train set"
   ]
  },
  {
   "cell_type": "code",
   "execution_count": 12,
   "id": "eaf17308",
   "metadata": {},
   "outputs": [
    {
     "name": "stdout",
     "output_type": "stream",
     "text": [
      "Epoch 1/10\n",
      "---------------\n",
      "Epoch 1: 1/30 steps in progress\n",
      "Epoch 1: 30/30 steps in progress\n",
      "train Loss: 0.8763 Acc: 0.6074\n",
      "Epoch 1: 1/1 steps in progress\n",
      "val Loss: 0.4863 Acc: 0.8125\n",
      "\n",
      "Epoch 2/10\n",
      "---------------\n",
      "Epoch 2: 1/30 steps in progress\n",
      "Epoch 2: 30/30 steps in progress\n",
      "train Loss: 0.3347 Acc: 0.8740\n",
      "Epoch 2: 1/1 steps in progress\n",
      "val Loss: 0.1731 Acc: 0.9688\n",
      "\n",
      "Epoch 3/10\n",
      "---------------\n",
      "Epoch 3: 1/30 steps in progress\n",
      "Epoch 3: 30/30 steps in progress\n",
      "train Loss: 0.1562 Acc: 0.9390\n",
      "Epoch 3: 1/1 steps in progress\n",
      "val Loss: 0.2627 Acc: 0.9062\n",
      "\n",
      "Epoch 4/10\n",
      "---------------\n",
      "Epoch 4: 1/30 steps in progress\n",
      "Epoch 4: 30/30 steps in progress\n",
      "train Loss: 0.0958 Acc: 0.9669\n",
      "Epoch 4: 1/1 steps in progress\n",
      "val Loss: 0.3562 Acc: 0.9375\n",
      "\n",
      "Epoch 5/10\n",
      "---------------\n",
      "Epoch 5: 1/30 steps in progress\n",
      "Epoch 5: 30/30 steps in progress\n",
      "train Loss: 0.0776 Acc: 0.9783\n",
      "Epoch 5: 1/1 steps in progress\n",
      "val Loss: 0.3276 Acc: 0.9375\n",
      "\n",
      "Epoch 6/10\n",
      "---------------\n",
      "Epoch 6: 1/30 steps in progress\n",
      "Epoch 6: 30/30 steps in progress\n",
      "train Loss: 0.0487 Acc: 0.9855\n",
      "Epoch 6: 1/1 steps in progress\n",
      "val Loss: 0.1004 Acc: 0.9688\n",
      "\n",
      "Epoch 7/10\n",
      "---------------\n",
      "Epoch 7: 1/30 steps in progress\n",
      "Epoch 7: 30/30 steps in progress\n",
      "train Loss: 0.0671 Acc: 0.9773\n",
      "Epoch 7: 1/1 steps in progress\n",
      "val Loss: 0.2464 Acc: 0.9375\n",
      "\n",
      "Epoch 8/10\n",
      "---------------\n",
      "Epoch 8: 1/30 steps in progress\n",
      "Epoch 8: 30/30 steps in progress\n",
      "train Loss: 0.0451 Acc: 0.9824\n",
      "Epoch 8: 1/1 steps in progress\n",
      "val Loss: 0.1045 Acc: 0.9375\n",
      "\n",
      "Epoch 9/10\n",
      "---------------\n",
      "Epoch 9: 1/30 steps in progress\n",
      "Epoch 9: 30/30 steps in progress\n",
      "train Loss: 0.0472 Acc: 0.9804\n",
      "Epoch 9: 1/1 steps in progress\n",
      "val Loss: 0.1584 Acc: 0.9688\n",
      "\n",
      "Epoch 10/10\n",
      "---------------\n",
      "Epoch 10: 1/30 steps in progress\n",
      "Epoch 10: 30/30 steps in progress\n",
      "train Loss: 0.0189 Acc: 0.9948\n",
      "Epoch 10: 1/1 steps in progress\n",
      "val Loss: 0.2505 Acc: 0.9688\n",
      "\n",
      "Training complete in 3m 44s\n"
     ]
    }
   ],
   "source": [
    "testNet = newAlexNet(num_labels)\n",
    "optimizer = optim.SGD(testNet.parameters(), lr=learning_rate, momentum=momentum)\n",
    "scheduler = optim.lr_scheduler.ReduceLROnPlateau(optimizer, 'min', verbose=True)\n",
    "\n",
    "\n",
    "data_loader[\"train\"] = data_loader[\"test\"]\n",
    "data_loader[\"train\"].dataset\n",
    "trainedTestModel = train(testNet, data_loader, loss_fn, optimizer, scheduler, epochs, seed=123)"
   ]
  }
 ],
 "metadata": {
  "kernelspec": {
   "display_name": "Python 3",
   "language": "python",
   "name": "python3"
  },
  "language_info": {
   "codemirror_mode": {
    "name": "ipython",
    "version": 3
   },
   "file_extension": ".py",
   "mimetype": "text/x-python",
   "name": "python",
   "nbconvert_exporter": "python",
   "pygments_lexer": "ipython3",
   "version": "3.8.5"
  }
 },
 "nbformat": 4,
 "nbformat_minor": 5
}
