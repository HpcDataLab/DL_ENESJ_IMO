{
 "cells": [
  {
   "cell_type": "markdown",
   "metadata": {},
   "source": [
    "# AlexNet implementation (with PyTorch)\n",
    "Model from: https://pytorch.org/hub/pytorch_vision_alexnet/\n",
    "\n",
    "Training loop from: https://kushaj.medium.com/training-alexnet-with-tips-and-checks-on-how-to-train-cnns-practical-cnns-in-pytorch-1-61daa679c74a"
   ]
  },
  {
   "cell_type": "markdown",
   "metadata": {},
   "source": [
    "## Import required modules"
   ]
  },
  {
   "cell_type": "code",
   "execution_count": 26,
   "metadata": {},
   "outputs": [
    {
     "name": "stdout",
     "output_type": "stream",
     "text": [
      "cpu\n"
     ]
    }
   ],
   "source": [
    "import torch\n",
    "from torch import nn, optim\n",
    "from copy import deepcopy\n",
    "from PIL import Image\n",
    "from torchvision import transforms\n",
    "import time\n",
    "import os\n",
    "\n",
    "device = torch.device('cuda' if torch.cuda.is_available() else 'cpu')\n",
    "print(device)\n",
    "netsPath = '../nets/'"
   ]
  },
  {
   "cell_type": "code",
   "execution_count": 2,
   "metadata": {},
   "outputs": [],
   "source": [
    "import random\n",
    "random.seed(1234) # reproducibility seed"
   ]
  },
  {
   "cell_type": "markdown",
   "metadata": {},
   "source": [
    "## Get model"
   ]
  },
  {
   "cell_type": "markdown",
   "metadata": {},
   "source": [
    "### Get pretrained model from source"
   ]
  },
  {
   "cell_type": "code",
   "execution_count": 30,
   "metadata": {},
   "outputs": [
    {
     "data": {
      "text/plain": [
       "AlexNet(\n",
       "  (features): Sequential(\n",
       "    (0): Conv2d(3, 64, kernel_size=(11, 11), stride=(4, 4), padding=(2, 2))\n",
       "    (1): ReLU(inplace=True)\n",
       "    (2): MaxPool2d(kernel_size=3, stride=2, padding=0, dilation=1, ceil_mode=False)\n",
       "    (3): Conv2d(64, 192, kernel_size=(5, 5), stride=(1, 1), padding=(2, 2))\n",
       "    (4): ReLU(inplace=True)\n",
       "    (5): MaxPool2d(kernel_size=3, stride=2, padding=0, dilation=1, ceil_mode=False)\n",
       "    (6): Conv2d(192, 384, kernel_size=(3, 3), stride=(1, 1), padding=(1, 1))\n",
       "    (7): ReLU(inplace=True)\n",
       "    (8): Conv2d(384, 256, kernel_size=(3, 3), stride=(1, 1), padding=(1, 1))\n",
       "    (9): ReLU(inplace=True)\n",
       "    (10): Conv2d(256, 256, kernel_size=(3, 3), stride=(1, 1), padding=(1, 1))\n",
       "    (11): ReLU(inplace=True)\n",
       "    (12): MaxPool2d(kernel_size=3, stride=2, padding=0, dilation=1, ceil_mode=False)\n",
       "  )\n",
       "  (avgpool): AdaptiveAvgPool2d(output_size=(6, 6))\n",
       "  (classifier): Sequential(\n",
       "    (0): Dropout(p=0.5, inplace=False)\n",
       "    (1): Linear(in_features=9216, out_features=4096, bias=True)\n",
       "    (2): ReLU(inplace=True)\n",
       "    (3): Dropout(p=0.5, inplace=False)\n",
       "    (4): Linear(in_features=4096, out_features=4096, bias=True)\n",
       "    (5): ReLU(inplace=True)\n",
       "    (6): Linear(in_features=4096, out_features=1000, bias=True)\n",
       "  )\n",
       ")"
      ]
     },
     "execution_count": 30,
     "metadata": {},
     "output_type": "execute_result"
    }
   ],
   "source": [
    "alexnet = torch.load(netsPath + \"Alexnet_preTrained.pth\")\n",
    "alexnet.eval()"
   ]
  },
  {
   "cell_type": "markdown",
   "metadata": {},
   "source": [
    "## Data transformation"
   ]
  },
  {
   "cell_type": "markdown",
   "metadata": {},
   "source": [
    "Set number of classifications labels"
   ]
  },
  {
   "cell_type": "code",
   "execution_count": 4,
   "metadata": {},
   "outputs": [],
   "source": [
    "num_labels = 4 # CNV, DME, DRUSEN, NORMAL\n",
    "labels_list = [\"CNV\", \"DME\", \"DRUSEN\", \"NORMAL\"]"
   ]
  },
  {
   "cell_type": "markdown",
   "metadata": {},
   "source": [
    "#### Create train and test sets"
   ]
  },
  {
   "cell_type": "code",
   "execution_count": 5,
   "metadata": {},
   "outputs": [],
   "source": [
    "from torchvision.utils import make_grid\n",
    "from torchvision.datasets import ImageFolder\n",
    "import torchvision.transforms as transforms\n",
    "\n",
    "data_dir = '../../data/OCT/OCT2017/'\n",
    "sets = [\"train\", \"val\", \"test\"]\n",
    "\n",
    "size = 224 # given by alexnet\n",
    "batch_size = 32 # prefered by alexnet\n",
    "\n",
    "# num_workers = 8 # only if multi-processing is needed\n",
    "\n",
    "data_transforms = {\n",
    "    set_type: transforms.Compose([\n",
    "        transforms.Resize((size, size)),\n",
    "        transforms.RandomHorizontalFlip(),\n",
    "        transforms.ToTensor(),\n",
    "        transforms.Normalize(mean=[0.485, 0.456, 0.406], std=[0.229, 0.224, 0.225]),\n",
    "    ]) for set_type in sets\n",
    "}\n",
    "\n",
    "image_datasets = {\n",
    "    set_type : ImageFolder(data_dir + set_type, transform=data_transforms[set_type])\n",
    "    for set_type in sets\n",
    "}\n",
    "\n",
    "data_loader = {\n",
    "    x: torch.utils.data.DataLoader(image_datasets[x],\n",
    "                                   batch_size=batch_size,\n",
    "                                   shuffle=True,\n",
    "                                   pin_memory=True) for x in sets\n",
    "}"
   ]
  },
  {
   "cell_type": "markdown",
   "metadata": {},
   "source": [
    "Sets shape"
   ]
  },
  {
   "cell_type": "code",
   "execution_count": 6,
   "metadata": {},
   "outputs": [
    {
     "name": "stdout",
     "output_type": "stream",
     "text": [
      "Set: train. Images: 83484\n",
      "Set: val. Images: 32\n",
      "Set: test. Images: 968\n"
     ]
    }
   ],
   "source": [
    "for set_type in sets:\n",
    "    print(f\"Set: {set_type}. Images: {len(data_loader[set_type].dataset.imgs)}\")"
   ]
  },
  {
   "cell_type": "markdown",
   "metadata": {},
   "source": [
    "Check labels and images"
   ]
  },
  {
   "cell_type": "code",
   "execution_count": 7,
   "metadata": {},
   "outputs": [
    {
     "data": {
      "image/png": "[encoded data removed]",
      "text/plain": [
       "<Figure size 432x288 with 1 Axes>"
      ]
     },
     "metadata": {
      "needs_background": "light"
     },
     "output_type": "display_data"
    }
   ],
   "source": [
    "import numpy as np\n",
    "import matplotlib.pyplot as plt\n",
    "# Our images are normalized so denormalize then and convert them to numpy\n",
    "def imshow(img, title=None):\n",
    "    img = img.numpy().transpose((1, 2, 0))\n",
    "    mean = np.array([0.485, 0.456, 0.406])\n",
    "    std = np.array([0.229, 0.224, 0.225])\n",
    "    img = std*img + mean\n",
    "    img = np.clip(img, 0, 1)\n",
    "    plt.imshow(img)\n",
    "    if title is not None:\n",
    "        plt.title(title)\n",
    "    plt.pause(0.001)\n",
    "    \n",
    "\n",
    "images, labels = next(iter(data_loader['val']))\n",
    "grid_img = make_grid(images[:4], nrow=4)\n",
    "imshow(grid_img, title = [labels_list[x] for x in labels[:4]])"
   ]
  },
  {
   "cell_type": "markdown",
   "metadata": {},
   "source": [
    "## LIMO model"
   ]
  },
  {
   "cell_type": "markdown",
   "metadata": {},
   "source": [
    "### Modify architecture"
   ]
  },
  {
   "cell_type": "code",
   "execution_count": 8,
   "metadata": {},
   "outputs": [],
   "source": [
    "def newAlexNet(num_labels):\n",
    "    newAlexnet = deepcopy(alexnet)\n",
    "    lastLayer = newAlexnet.classifier[-1] # get usual last layer\n",
    "    newAlexnet.classifier[-1] = nn.Linear(lastLayer.in_features, num_labels) # modify last layer number of outputs (labels to be classified)\n",
    "    return newAlexnet\n",
    "\n",
    "limoAlexnet = newAlexNet(num_labels)"
   ]
  },
  {
   "cell_type": "markdown",
   "metadata": {},
   "source": [
    "### Set hiperparameters"
   ]
  },
  {
   "cell_type": "code",
   "execution_count": 9,
   "metadata": {},
   "outputs": [],
   "source": [
    "learning_rate = 0.001\n",
    "momentum = 0.9\n",
    "epochs = 10"
   ]
  },
  {
   "cell_type": "markdown",
   "metadata": {},
   "source": [
    "### Loss function, optimizer and scheduler"
   ]
  },
  {
   "cell_type": "code",
   "execution_count": 10,
   "metadata": {},
   "outputs": [],
   "source": [
    "loss_fn = nn.CrossEntropyLoss()\n",
    "optimizer = optim.SGD(limoAlexnet.parameters(), lr=learning_rate, momentum=momentum)\n",
    "scheduler = optim.lr_scheduler.ReduceLROnPlateau(optimizer, 'min', verbose=True)"
   ]
  },
  {
   "cell_type": "markdown",
   "metadata": {},
   "source": [
    "### Train loop"
   ]
  },
  {
   "cell_type": "code",
   "execution_count": 11,
   "metadata": {},
   "outputs": [],
   "source": [
    "def train(model, data_loader, criterion, optimizer, scheduler = None, num_epochs=100, seed=None):\n",
    "    since = time.time()\n",
    "    if seed:\n",
    "        random.seed(seed)\n",
    "    \n",
    "    train_batch_loss = []\n",
    "    train_epoch_loss = []\n",
    "    val_epoch_loss = []\n",
    "    \n",
    "    model.to(device)\n",
    "    \n",
    "    for epoch in range(num_epochs):\n",
    "        print('Epoch {}/{}'.format(epoch+1, num_epochs))\n",
    "        print('-'*15)\n",
    "        \n",
    "        # You perform validation test after every epoch\n",
    "        for phase in [\"train\", \"val\"]:\n",
    "            if phase == 'train':\n",
    "                model.train()\n",
    "            else:\n",
    "                model.eval()\n",
    "                \n",
    "            running_loss = 0; running_corrects = 0;\n",
    "            \n",
    "            num_batches = int(len(data_loader[phase].dataset) / batch_size)\n",
    "            \n",
    "            for idx, (inputs, labels) in enumerate(data_loader[phase]):\n",
    "                inputs = inputs.to(device)\n",
    "                labels = labels.to(device)\n",
    "                \n",
    "                # zero accumulated gradients\n",
    "                optimizer.zero_grad()\n",
    "                \n",
    "                # During train phase we want to remember history for grads\n",
    "                # and during val we do not want history of grads\n",
    "                with torch.set_grad_enabled(phase == 'train'):\n",
    "                    outputs = model(inputs)\n",
    "                    loss = criterion(outputs, labels)\n",
    "                    \n",
    "                    _, preds = torch.max(outputs, 1)\n",
    "                    \n",
    "                    if idx%200 == 0 or idx == num_batches - 1:\n",
    "                        train_batch_loss.append(loss.item())\n",
    "                        print('Epoch {}: {}/{} steps in progress'.format(epoch+1, idx+1, num_batches))\n",
    "                        \n",
    "                    if phase == 'train':\n",
    "                        loss.backward()\n",
    "                        optimizer.step()\n",
    "                        \n",
    "                running_loss += loss.item() * inputs.size(0)\n",
    "                running_corrects += torch.sum(preds == labels.data)\n",
    "                \n",
    "            epoch_loss = running_loss / len(data_loader[phase].dataset)\n",
    "            epoch_acc = running_corrects.double() / len(data_loader[phase].dataset)\n",
    "            \n",
    "            print('{} Loss: {:.4f} Acc: {:.4f}'.format(phase, epoch_loss, epoch_acc))\n",
    "            \n",
    "            if phase == 'val':\n",
    "                val_epoch_loss.append((epoch_loss, epoch_acc))\n",
    "                if scheduler:\n",
    "                    scheduler.step(loss.item())\n",
    "            else:\n",
    "                train_epoch_loss.append((epoch_loss, epoch_acc))\n",
    "                \n",
    "        print()\n",
    "        \n",
    "    time_elapsed = time.time() - since\n",
    "    print('Training complete in {:.0f}m {:.0f}s'.format(time_elapsed // 60, time_elapsed % 60))\n",
    "    \n",
    "    return model"
   ]
  },
  {
   "cell_type": "markdown",
   "metadata": {},
   "source": [
    "### Train model with train set"
   ]
  },
  {
   "cell_type": "code",
   "execution_count": 12,
   "metadata": {},
   "outputs": [
    {
     "name": "stdout",
     "output_type": "stream",
     "text": [
      "Epoch 1/10\n",
      "---------------\n",
      "Epoch 1: 1/2608 steps in progress\n",
      "Epoch 1: 201/2608 steps in progress\n",
      "Epoch 1: 401/2608 steps in progress\n",
      "Epoch 1: 601/2608 steps in progress\n",
      "Epoch 1: 801/2608 steps in progress\n",
      "Epoch 1: 1001/2608 steps in progress\n",
      "Epoch 1: 1201/2608 steps in progress\n",
      "Epoch 1: 1401/2608 steps in progress\n",
      "Epoch 1: 1601/2608 steps in progress\n",
      "Epoch 1: 1801/2608 steps in progress\n",
      "Epoch 1: 2001/2608 steps in progress\n",
      "Epoch 1: 2201/2608 steps in progress\n",
      "Epoch 1: 2401/2608 steps in progress\n",
      "Epoch 1: 2601/2608 steps in progress\n",
      "Epoch 1: 2608/2608 steps in progress\n",
      "train Loss: 0.2710 Acc: 0.9059\n",
      "Epoch 1: 1/1 steps in progress\n",
      "val Loss: 0.0419 Acc: 1.0000\n",
      "\n",
      "Epoch 2/10\n",
      "---------------\n",
      "Epoch 2: 1/2608 steps in progress\n",
      "Epoch 2: 201/2608 steps in progress\n",
      "Epoch 2: 401/2608 steps in progress\n",
      "Epoch 2: 601/2608 steps in progress\n",
      "Epoch 2: 801/2608 steps in progress\n",
      "Epoch 2: 1001/2608 steps in progress\n",
      "Epoch 2: 1201/2608 steps in progress\n",
      "Epoch 2: 1401/2608 steps in progress\n",
      "Epoch 2: 1601/2608 steps in progress\n",
      "Epoch 2: 1801/2608 steps in progress\n",
      "Epoch 2: 2001/2608 steps in progress\n",
      "Epoch 2: 2201/2608 steps in progress\n",
      "Epoch 2: 2401/2608 steps in progress\n",
      "Epoch 2: 2601/2608 steps in progress\n",
      "Epoch 2: 2608/2608 steps in progress\n",
      "train Loss: 0.1800 Acc: 0.9393\n",
      "Epoch 2: 1/1 steps in progress\n",
      "val Loss: 0.0232 Acc: 1.0000\n",
      "\n",
      "Epoch 3/10\n",
      "---------------\n",
      "Epoch 3: 1/2608 steps in progress\n",
      "Epoch 3: 201/2608 steps in progress\n",
      "Epoch 3: 401/2608 steps in progress\n",
      "Epoch 3: 601/2608 steps in progress\n",
      "Epoch 3: 801/2608 steps in progress\n",
      "Epoch 3: 1001/2608 steps in progress\n",
      "Epoch 3: 1201/2608 steps in progress\n",
      "Epoch 3: 1401/2608 steps in progress\n",
      "Epoch 3: 1601/2608 steps in progress\n",
      "Epoch 3: 1801/2608 steps in progress\n",
      "Epoch 3: 2001/2608 steps in progress\n",
      "Epoch 3: 2201/2608 steps in progress\n",
      "Epoch 3: 2401/2608 steps in progress\n",
      "Epoch 3: 2601/2608 steps in progress\n",
      "Epoch 3: 2608/2608 steps in progress\n",
      "train Loss: 0.1570 Acc: 0.9467\n",
      "Epoch 3: 1/1 steps in progress\n",
      "val Loss: 0.0155 Acc: 1.0000\n",
      "\n",
      "Epoch 4/10\n",
      "---------------\n",
      "Epoch 4: 1/2608 steps in progress\n",
      "Epoch 4: 201/2608 steps in progress\n",
      "Epoch 4: 401/2608 steps in progress\n",
      "Epoch 4: 601/2608 steps in progress\n",
      "Epoch 4: 801/2608 steps in progress\n",
      "Epoch 4: 1001/2608 steps in progress\n",
      "Epoch 4: 1201/2608 steps in progress\n",
      "Epoch 4: 1401/2608 steps in progress\n",
      "Epoch 4: 1601/2608 steps in progress\n",
      "Epoch 4: 1801/2608 steps in progress\n",
      "Epoch 4: 2001/2608 steps in progress\n",
      "Epoch 4: 2201/2608 steps in progress\n",
      "Epoch 4: 2401/2608 steps in progress\n",
      "Epoch 4: 2601/2608 steps in progress\n",
      "Epoch 4: 2608/2608 steps in progress\n",
      "train Loss: 0.1392 Acc: 0.9525\n",
      "Epoch 4: 1/1 steps in progress\n",
      "val Loss: 0.0319 Acc: 1.0000\n",
      "\n",
      "Epoch 5/10\n",
      "---------------\n",
      "Epoch 5: 1/2608 steps in progress\n",
      "Epoch 5: 201/2608 steps in progress\n",
      "Epoch 5: 401/2608 steps in progress\n",
      "Epoch 5: 601/2608 steps in progress\n",
      "Epoch 5: 801/2608 steps in progress\n",
      "Epoch 5: 1001/2608 steps in progress\n",
      "Epoch 5: 1201/2608 steps in progress\n",
      "Epoch 5: 1401/2608 steps in progress\n",
      "Epoch 5: 1601/2608 steps in progress\n",
      "Epoch 5: 1801/2608 steps in progress\n",
      "Epoch 5: 2001/2608 steps in progress\n",
      "Epoch 5: 2201/2608 steps in progress\n",
      "Epoch 5: 2401/2608 steps in progress\n",
      "Epoch 5: 2601/2608 steps in progress\n",
      "Epoch 5: 2608/2608 steps in progress\n",
      "train Loss: 0.1288 Acc: 0.9561\n",
      "Epoch 5: 1/1 steps in progress\n",
      "val Loss: 0.0321 Acc: 1.0000\n",
      "\n",
      "Epoch 6/10\n",
      "---------------\n",
      "Epoch 6: 1/2608 steps in progress\n",
      "Epoch 6: 201/2608 steps in progress\n",
      "Epoch 6: 401/2608 steps in progress\n",
      "Epoch 6: 601/2608 steps in progress\n",
      "Epoch 6: 801/2608 steps in progress\n",
      "Epoch 6: 1001/2608 steps in progress\n",
      "Epoch 6: 1201/2608 steps in progress\n",
      "Epoch 6: 1401/2608 steps in progress\n",
      "Epoch 6: 1601/2608 steps in progress\n",
      "Epoch 6: 1801/2608 steps in progress\n",
      "Epoch 6: 2001/2608 steps in progress\n",
      "Epoch 6: 2201/2608 steps in progress\n",
      "Epoch 6: 2401/2608 steps in progress\n",
      "Epoch 6: 2601/2608 steps in progress\n",
      "Epoch 6: 2608/2608 steps in progress\n",
      "train Loss: 0.1199 Acc: 0.9593\n",
      "Epoch 6: 1/1 steps in progress\n",
      "val Loss: 0.0257 Acc: 1.0000\n",
      "\n",
      "Epoch 7/10\n",
      "---------------\n",
      "Epoch 7: 1/2608 steps in progress\n",
      "Epoch 7: 201/2608 steps in progress\n",
      "Epoch 7: 401/2608 steps in progress\n",
      "Epoch 7: 601/2608 steps in progress\n",
      "Epoch 7: 801/2608 steps in progress\n",
      "Epoch 7: 1001/2608 steps in progress\n",
      "Epoch 7: 1201/2608 steps in progress\n",
      "Epoch 7: 1401/2608 steps in progress\n",
      "Epoch 7: 1601/2608 steps in progress\n",
      "Epoch 7: 1801/2608 steps in progress\n",
      "Epoch 7: 2001/2608 steps in progress\n",
      "Epoch 7: 2201/2608 steps in progress\n",
      "Epoch 7: 2401/2608 steps in progress\n",
      "Epoch 7: 2601/2608 steps in progress\n",
      "Epoch 7: 2608/2608 steps in progress\n",
      "train Loss: 0.1099 Acc: 0.9624\n",
      "Epoch 7: 1/1 steps in progress\n",
      "val Loss: 0.0305 Acc: 1.0000\n",
      "\n",
      "Epoch 8/10\n",
      "---------------\n",
      "Epoch 8: 1/2608 steps in progress\n",
      "Epoch 8: 201/2608 steps in progress\n",
      "Epoch 8: 401/2608 steps in progress\n",
      "Epoch 8: 601/2608 steps in progress\n",
      "Epoch 8: 801/2608 steps in progress\n",
      "Epoch 8: 1001/2608 steps in progress\n",
      "Epoch 8: 1201/2608 steps in progress\n",
      "Epoch 8: 1401/2608 steps in progress\n",
      "Epoch 8: 1601/2608 steps in progress\n",
      "Epoch 8: 1801/2608 steps in progress\n",
      "Epoch 8: 2001/2608 steps in progress\n",
      "Epoch 8: 2201/2608 steps in progress\n",
      "Epoch 8: 2401/2608 steps in progress\n",
      "Epoch 8: 2601/2608 steps in progress\n",
      "Epoch 8: 2608/2608 steps in progress\n",
      "train Loss: 0.1046 Acc: 0.9637\n",
      "Epoch 8: 1/1 steps in progress\n",
      "val Loss: 0.0481 Acc: 1.0000\n",
      "\n",
      "Epoch 9/10\n",
      "---------------\n",
      "Epoch 9: 1/2608 steps in progress\n",
      "Epoch 9: 201/2608 steps in progress\n",
      "Epoch 9: 401/2608 steps in progress\n",
      "Epoch 9: 601/2608 steps in progress\n",
      "Epoch 9: 801/2608 steps in progress\n",
      "Epoch 9: 1001/2608 steps in progress\n",
      "Epoch 9: 1201/2608 steps in progress\n",
      "Epoch 9: 1401/2608 steps in progress\n",
      "Epoch 9: 1601/2608 steps in progress\n",
      "Epoch 9: 1801/2608 steps in progress\n",
      "Epoch 9: 2001/2608 steps in progress\n",
      "Epoch 9: 2201/2608 steps in progress\n",
      "Epoch 9: 2401/2608 steps in progress\n",
      "Epoch 9: 2601/2608 steps in progress\n",
      "Epoch 9: 2608/2608 steps in progress\n",
      "train Loss: 0.0969 Acc: 0.9670\n",
      "Epoch 9: 1/1 steps in progress\n",
      "val Loss: 0.0699 Acc: 0.9375\n",
      "\n",
      "Epoch 10/10\n",
      "---------------\n",
      "Epoch 10: 1/2608 steps in progress\n",
      "Epoch 10: 201/2608 steps in progress\n",
      "Epoch 10: 401/2608 steps in progress\n",
      "Epoch 10: 601/2608 steps in progress\n",
      "Epoch 10: 801/2608 steps in progress\n",
      "Epoch 10: 1001/2608 steps in progress\n",
      "Epoch 10: 1201/2608 steps in progress\n",
      "Epoch 10: 1401/2608 steps in progress\n",
      "Epoch 10: 1601/2608 steps in progress\n",
      "Epoch 10: 1801/2608 steps in progress\n",
      "Epoch 10: 2001/2608 steps in progress\n",
      "Epoch 10: 2201/2608 steps in progress\n",
      "Epoch 10: 2401/2608 steps in progress\n",
      "Epoch 10: 2601/2608 steps in progress\n",
      "Epoch 10: 2608/2608 steps in progress\n",
      "train Loss: 0.0899 Acc: 0.9680\n",
      "Epoch 10: 1/1 steps in progress\n",
      "val Loss: 0.0198 Acc: 1.0000\n",
      "\n",
      "Training complete in 320m 34s\n"
     ]
    }
   ],
   "source": [
    "trainedLimoModel = train(limoAlexnet, data_loader, loss_fn, optimizer, scheduler, epochs, seed=123)"
   ]
  },
  {
   "cell_type": "markdown",
   "metadata": {},
   "source": [
    "Evaluate model over test set"
   ]
  },
  {
   "cell_type": "code",
   "execution_count": 15,
   "metadata": {},
   "outputs": [
    {
     "name": "stdout",
     "output_type": "stream",
     "text": [
      "Test set accuracy: 0.9917355371900827\n"
     ]
    }
   ],
   "source": [
    "trainedLimoModel.eval() # set model to be evaluated (ignore grads)\n",
    "confMatrix = np.zeros((num_labels, num_labels), dtype=int)\n",
    "trainedLimoModel.eval()\n",
    "for batchNum, (inputs, labels) in enumerate(data_loader[\"test\"]):\n",
    "    outputs = trainedLimoModel(inputs)\n",
    "    _, preds = torch.max(outputs, 1)\n",
    "    for i, pred in enumerate(preds):\n",
    "        confMatrix[pred, labels[i]] += 1\n",
    "        \n",
    "testAcc = confMatrix.trace() / confMatrix.sum()\n",
    "print(f'Test set accuracy: {testAcc}')"
   ]
  },
  {
   "cell_type": "markdown",
   "metadata": {},
   "source": [
    "Confusion matrix"
   ]
  },
  {
   "cell_type": "code",
   "execution_count": 17,
   "metadata": {},
   "outputs": [
    {
     "data": {
      "image/png": "[encoded data removed]",
      "text/plain": [
       "<Figure size 432x288 with 2 Axes>"
      ]
     },
     "metadata": {
      "needs_background": "light"
     },
     "output_type": "display_data"
    }
   ],
   "source": [
    "import seaborn as sns\n",
    "x_axis_labels = labels_list # labels for x-axis\n",
    "y_axis_labels = labels_list # labels for y-axis\n",
    "ax = sns.heatmap(confMatrix, cmap=\"Blues\", annot=True, fmt=\"d\", xticklabels=x_axis_labels, yticklabels=y_axis_labels)\n",
    "plt.xlabel(\"Predicted label\")\n",
    "plt.ylabel(\"True label\")\n",
    "plt.title(\"Confusion matrix\");"
   ]
  },
  {
   "cell_type": "code",
   "execution_count": 20,
   "metadata": {},
   "outputs": [
    {
     "name": "stdout",
     "output_type": "stream",
     "text": [
      "Acc by label: {'CNV': 1.0, 'DME': 0.9958677685950413, 'DRUSEN': 0.9752066115702479, 'NORMAL': 0.9958677685950413}\n"
     ]
    }
   ],
   "source": [
    "accLabel = {labels_list[lab]: confMatrix[lab, lab] / sum(confMatrix[:, lab]) for lab in range(num_labels)}\n",
    "print(f\"Acc by label: {accLabel}\")"
   ]
  },
  {
   "cell_type": "markdown",
   "metadata": {},
   "source": [
    "Save model into files (saved models listed in file)"
   ]
  },
  {
   "cell_type": "code",
   "execution_count": 21,
   "metadata": {},
   "outputs": [],
   "source": [
    "netVer = len(os.listdir(path))\n",
    "netType = \"alexnet\"\n",
    "netID = \"_\".join([netType, str(netVer)])\n",
    "torch.save(trainedLimoModel, netsPath + netID + \".pth\")"
   ]
  },
  {
   "cell_type": "markdown",
   "metadata": {},
   "source": [
    "Load saved model"
   ]
  },
  {
   "cell_type": "code",
   "execution_count": 22,
   "metadata": {},
   "outputs": [
    {
     "data": {
      "text/plain": [
       "AlexNet(\n",
       "  (features): Sequential(\n",
       "    (0): Conv2d(3, 64, kernel_size=(11, 11), stride=(4, 4), padding=(2, 2))\n",
       "    (1): ReLU(inplace=True)\n",
       "    (2): MaxPool2d(kernel_size=3, stride=2, padding=0, dilation=1, ceil_mode=False)\n",
       "    (3): Conv2d(64, 192, kernel_size=(5, 5), stride=(1, 1), padding=(2, 2))\n",
       "    (4): ReLU(inplace=True)\n",
       "    (5): MaxPool2d(kernel_size=3, stride=2, padding=0, dilation=1, ceil_mode=False)\n",
       "    (6): Conv2d(192, 384, kernel_size=(3, 3), stride=(1, 1), padding=(1, 1))\n",
       "    (7): ReLU(inplace=True)\n",
       "    (8): Conv2d(384, 256, kernel_size=(3, 3), stride=(1, 1), padding=(1, 1))\n",
       "    (9): ReLU(inplace=True)\n",
       "    (10): Conv2d(256, 256, kernel_size=(3, 3), stride=(1, 1), padding=(1, 1))\n",
       "    (11): ReLU(inplace=True)\n",
       "    (12): MaxPool2d(kernel_size=3, stride=2, padding=0, dilation=1, ceil_mode=False)\n",
       "  )\n",
       "  (avgpool): AdaptiveAvgPool2d(output_size=(6, 6))\n",
       "  (classifier): Sequential(\n",
       "    (0): Dropout(p=0.5, inplace=False)\n",
       "    (1): Linear(in_features=9216, out_features=4096, bias=True)\n",
       "    (2): ReLU(inplace=True)\n",
       "    (3): Dropout(p=0.5, inplace=False)\n",
       "    (4): Linear(in_features=4096, out_features=4096, bias=True)\n",
       "    (5): ReLU(inplace=True)\n",
       "    (6): Linear(in_features=4096, out_features=4, bias=True)\n",
       "  )\n",
       ")"
      ]
     },
     "execution_count": 22,
     "metadata": {},
     "output_type": "execute_result"
    }
   ],
   "source": [
    "model = torch.load(path + netID + \".pth\")\n",
    "model.eval()"
   ]
  }
 ],
 "metadata": {
  "kernelspec": {
   "display_name": "Python 3",
   "language": "python",
   "name": "python3"
  },
  "language_info": {
   "codemirror_mode": {
    "name": "ipython",
    "version": 3
   },
   "file_extension": ".py",
   "mimetype": "text/x-python",
   "name": "python",
   "nbconvert_exporter": "python",
   "pygments_lexer": "ipython3",
   "version": "3.8.5"
  }
 },
 "nbformat": 4,
 "nbformat_minor": 5
}
